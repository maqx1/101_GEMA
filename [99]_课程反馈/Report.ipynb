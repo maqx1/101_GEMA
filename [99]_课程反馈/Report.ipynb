{
 "cells": [
  {
   "cell_type": "markdown",
   "metadata": {},
   "source": [
    "# 25春_《高数期末卷》_《章节测验卷》对比"
   ]
  },
  {
   "cell_type": "markdown",
   "metadata": {},
   "source": [
    "本次期末卷难度为课本习题层次，对应于章节测验中相对基础的题目。但同学期末成绩与章节测验相比，有一些差异。举以下三例："
   ]
  },
  {
   "cell_type": "markdown",
   "metadata": {},
   "source": [
    "## 题目一"
   ]
  },
  {
   "cell_type": "markdown",
   "metadata": {},
   "source": [
    "**【高数期末卷】** 第10题：计算曲面$z=x^2+y^2$被上半球面$x^2+y^2+z^2=2$截下的有限部分的面积。"
   ]
  },
  {
   "cell_type": "markdown",
   "metadata": {},
   "source": [
    "【章节测验四】第12题（2）：求空间中由半球面$z=\\sqrt{3a^2-x^2-y^2}$及旋转抛物面$x^2+y^2=2az(a>0)$围成的立体表面积。"
   ]
  },
  {
   "cell_type": "markdown",
   "metadata": {},
   "source": [
    "<img src=\"./W01.png\" width=200 height=200>\n",
    "<img src=\"./M01.png\" width=200 height=200>"
   ]
  },
  {
   "cell_type": "markdown",
   "metadata": {},
   "source": [
    "## 题目二"
   ]
  },
  {
   "cell_type": "markdown",
   "metadata": {},
   "source": [
    "**【高数期末卷】** 第9题：计算$$I=\\iint_\\Sigma 2xy\\mathrm{d}y\\mathrm{d}z+yz\\sin x\\mathrm{d}z\\mathrm{d}x+y\\cos z\\mathrm{d}x\\mathrm{d}y$$ 其中$\\Sigma$ 由曲面$x^2+z^2=1,y=0,x+y=1$ 围成，外侧为正向。"
   ]
  },
  {
   "cell_type": "markdown",
   "metadata": {},
   "source": [
    "【章节测验五】第9题（2）计算$$I=\\iint(x-y)\\mathrm{d}x\\mathrm{d}y+(y-z)x\\mathrm{d}y\\mathrm{d}z$$其中$S$为柱面$x^2+y^2=1$及平面$z=0,z=3$ 围成，外侧为正向"
   ]
  },
  {
   "cell_type": "markdown",
   "metadata": {},
   "source": [
    "<img src=\"./W02.png\" width=200 height=200>\n",
    "<img src=\"./M02.png\" width=200 height=200>"
   ]
  },
  {
   "cell_type": "markdown",
   "metadata": {},
   "source": [
    "## 题目三"
   ]
  },
  {
   "cell_type": "markdown",
   "metadata": {},
   "source": [
    "**【高数期末卷】** 第8题：计算$$I=\\int_\\Sigma z^2x\\mathrm{d}y\\mathrm{d}z+x^2y\\mathrm{d}z\\mathrm{d}x+y^2\\mathrm{d}x\\mathrm{d}y$$,其中$\\Sigma$是上半球面$z=\\sqrt{R^2-x^2-y^2},R>0$上侧为正。"
   ]
  },
  {
   "cell_type": "markdown",
   "metadata": {},
   "source": [
    "【章节测验五】第9题（2）计算\n",
    "$$\\iint_Sx^2\\mathrm{d}y\\mathrm{d}z+y^2\\mathrm{d}z\\mathrm{d}x+z^2\\mathrm{d}x\\mathrm{d}y$$其中$S$ 为上半球面$x^2+y^2+z^2=R^2$, $z\\geq0$，取下侧为正向。"
   ]
  },
  {
   "cell_type": "markdown",
   "metadata": {},
   "source": [
    "<img src=\"./W03.png\" width=200 height=200>\n",
    "<img src=\"./M03.png\" width=200 height=200>"
   ]
  },
  {
   "cell_type": "markdown",
   "metadata": {},
   "source": [
    "## 结课调查"
   ]
  },
  {
   "cell_type": "markdown",
   "metadata": {},
   "source": [
    "<img src=\"./qrcode.jpg\" width=200 height=200>"
   ]
  },
  {
   "cell_type": "code",
   "execution_count": null,
   "metadata": {},
   "outputs": [],
   "source": []
  }
 ],
 "metadata": {
  "kernelspec": {
   "display_name": "Python 3 (ipykernel)",
   "language": "python",
   "name": "python3"
  },
  "language_info": {
   "codemirror_mode": {
    "name": "ipython",
    "version": 3
   },
   "file_extension": ".py",
   "mimetype": "text/x-python",
   "name": "python",
   "nbconvert_exporter": "python",
   "pygments_lexer": "ipython3",
   "version": "3.12.7"
  }
 },
 "nbformat": 4,
 "nbformat_minor": 4
}

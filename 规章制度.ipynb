{
 "cells": [
  {
   "cell_type": "markdown",
   "id": "731f1e66-92da-489d-95ae-f86fe1313073",
   "metadata": {},
   "source": [
    "## 《上海科技大学课程考核及成绩管理办法》"
   ]
  },
  {
   "cell_type": "markdown",
   "id": "a36ffedd-4871-4141-9a32-d26cacf8e6c3",
   "metadata": {},
   "source": [
    "**第八条**\n",
    "\n",
    "一学期缺课三分之一以上者不能参加该门课程的考核，该门课程的成绩以“F”或“NP”计。\n"
   ]
  },
  {
   "cell_type": "markdown",
   "id": "1199593f-105a-4d62-a4ab-24b0f67cd271",
   "metadata": {},
   "source": [
    "**第九条**\n",
    "\n",
    "采用提交作业等方式进行考核的课程，任课教师应明确作业的提交方式和提交的具体时间。学生未在规定时间内提交作业的，按未参加课程考核处理。"
   ]
  },
  {
   "cell_type": "markdown",
   "id": "ead564a5-f3f4-4a74-8efa-37dc29aa3ba8",
   "metadata": {},
   "source": [
    "## 《上海科技大学学生违纪处分管理规定》"
   ]
  },
  {
   "cell_type": "markdown",
   "id": "32e1b891-0854-419b-9037-c9f265eed449",
   "metadata": {},
   "source": [
    "**第十一条**  \n",
    "\n",
    "学生一学期累积旷课或旷工\n",
    "\n",
    "- 10-19学时以上者，给予警告处分。\n",
    "\n",
    "- 20-29学时，给予严重警告处分。\n",
    "\n",
    "- 30-39学时，给予记过处分。\n",
    "\n",
    "- 40学时（含）以上，给予留校察看处分。"
   ]
  },
  {
   "cell_type": "code",
   "execution_count": null,
   "id": "30fb535d-2a6a-48bf-9aa0-28e2ba346377",
   "metadata": {},
   "outputs": [],
   "source": []
  }
 ],
 "metadata": {
  "kernelspec": {
   "display_name": "Python 3 (ipykernel)",
   "language": "python",
   "name": "python3"
  },
  "language_info": {
   "codemirror_mode": {
    "name": "ipython",
    "version": 3
   },
   "file_extension": ".py",
   "mimetype": "text/x-python",
   "name": "python",
   "nbconvert_exporter": "python",
   "pygments_lexer": "ipython3",
   "version": "3.12.7"
  }
 },
 "nbformat": 4,
 "nbformat_minor": 5
}

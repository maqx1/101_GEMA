{
 "cells": [
  {
   "cell_type": "markdown",
   "id": "1f6cbf28-54f8-4882-8371-4c86ab2f23a3",
   "metadata": {},
   "source": [
    "# **内容梳理** "
   ]
  },
  {
   "cell_type": "markdown",
   "id": "49cf7f9d-1f59-44df-880a-c7c6752b5447",
   "metadata": {},
   "source": [
    "## 中小学课本\n",
    "\n",
    "https://jc.pep.com.cn/"
   ]
  },
  {
   "cell_type": "markdown",
   "id": "97305c79-7e05-41b8-b151-42b57e34cce7",
   "metadata": {},
   "source": [
    "### [100] 第一章：《函数》"
   ]
  },
  {
   "cell_type": "markdown",
   "id": "533daed5-113c-4183-841e-15683ba2432f",
   "metadata": {},
   "source": [
    "1. 实数集：逻辑符号、区间和邻域、不等式。难点：**命题的否定形式展开**，**数学归纳法**\n",
    "2. 函数：分段函数的反函数，双曲三角函数，极坐标，函数图像。难点：**分段函数的复合与反函数**\n",
    "3. 部分同学没有学习过 “**反三角函数**”、“**曲线的极坐标方程**”。这些在本课程中反复使用，需要**熟练掌握**。\n",
    "4. 用**参数方程表示曲线、曲面**是重点，是后续课程中反复需要使用的基本工具。"
   ]
  },
  {
   "cell_type": "markdown",
   "id": "c59eddc9-81c9-4053-a40f-5a5c3f7ffe66",
   "metadata": {
    "jp-MarkdownHeadingCollapsed": true
   },
   "source": [
    "### [101] <font color=red>自测是否掌握函数：</font>\n"
   ]
  },
  {
   "cell_type": "markdown",
   "id": "3ac432b7-720b-4646-bb37-42a9e44035f8",
   "metadata": {},
   "source": [
    "作图\n",
    "- $\\sin(\\mathrm{arcsin}(x))$ \n",
    "- $\\mathrm{arcsin}(\\cos x)$ \n",
    "- $\\mathrm{arctan}(\\tan x)$\n",
    "\n",
    "参数方程 I\n",
    "- 半径为$1$ 的圆，在半径为$3$的圆内无滑动地滚动，求圆上一点的轨迹。\n",
    "- $y= \\sin x$ 绕 $x$ 轴旋转一周的曲面。\n",
    "\n",
    "参数方程 II\n",
    "\n",
    "- 验证：杯中的焦散曲线是心脏线 https://www.bilibili.com/opus/625678229960026058\n",
    "- 验证：墙角滑落的梯子，包络线是星形线 https://www.zhihu.com/question/366844622\n",
    "- （下学期学习多元微分学后，我们就可以通过求偏导建立微分方程，算出包络线方程）"
   ]
  },
  {
   "cell_type": "markdown",
   "id": "0495d904-808f-4294-9e1d-8e22bb40b622",
   "metadata": {},
   "source": [
    "# **课本导读**"
   ]
  },
  {
   "cell_type": "markdown",
   "id": "507b38d9-055c-4058-a16a-84d2b0939df8",
   "metadata": {},
   "source": [
    "## **1. 实数集**"
   ]
  },
  {
   "cell_type": "markdown",
   "id": "e08ecc94-385d-4ff0-9e8d-acc0f7511d9e",
   "metadata": {},
   "source": [
    "#### 1. 集合"
   ]
  },
  {
   "cell_type": "markdown",
   "id": "3f4531b6-574a-4189-bc24-e652d8bf4612",
   "metadata": {},
   "source": [
    "1. 集合的表示：**枚举法**与**属性法**\n",
    "2. 如何验证一个集合是另一个集合的子集？如何验证两个集合相等？\n",
    "3. 自然数、正整数、整数。 "
   ]
  },
  {
   "cell_type": "markdown",
   "id": "84b77852-1507-4f34-9e2e-f0c93f4f36f6",
   "metadata": {},
   "source": [
    "**书后习题**: **[F01],[F02],[F03]**"
   ]
  },
  {
   "cell_type": "markdown",
   "id": "6defd78e-4529-4d85-b186-562e7757656a",
   "metadata": {},
   "source": [
    "#### 2. 逻辑符号"
   ]
  },
  {
   "cell_type": "markdown",
   "id": "f9d70938-3b74-49b9-9253-629b05795fa5",
   "metadata": {},
   "source": [
    "1. “存在” $\\exists$\n",
    "2. “对任意给定的” $\\forall$\n",
    "3. 用 $\\exists,\\forall$ 来**书写命题**\n",
    "4. 命题 <font color=red>**否定形式**</font> 的展开"
   ]
  },
  {
   "cell_type": "markdown",
   "id": "1a3e1434-cdbf-4ecd-929e-00096d2947c5",
   "metadata": {},
   "source": [
    "#### 3. 有理数集与实数集 "
   ]
  },
  {
   "cell_type": "markdown",
   "id": "d959fa49-4c4d-4490-93b0-6b16c62ddbaa",
   "metadata": {},
   "source": [
    "1. 有理数集$$\\mathbb{Q}=\\left\\{\\frac{p}{q}\\Big|p\\in\\mathbb{Z},q\\in\\mathbb{N}_+,(p,q)=1\\right\\}$$"
   ]
  },
  {
   "cell_type": "markdown",
   "id": "990f32d4-74f5-4d1b-ab6a-587ff281fd87",
   "metadata": {},
   "source": [
    "2. 实数集：本门课程中，我们把“实数”等同于以下两种对象\n",
    "    1. 对应数轴上的点，记为$\\mathbb{R}$，可以尺规作图给出加减乘除\n",
    "    2. 规范无尽小数的集合，即把$...a999...$用$...(a+1)000...$替代。\n",
    "    -  前一种易于运算，但较难精确使用\n",
    "    -  后一种很精确，很难定义加减乘除。我们学过的加减乘除都是从最后一位开始的，但无尽小数没有最后一位，如果只考虑前100项，之后的进位会不会产生“多米诺骨牌效应”？$$0.12122122212222...\\times 0.23233233323333...$$\n",
    "    3. 实数比较大小：**字典序**，思考：我们知道 $9>8$, 因此 $3.9>3.8$,但 $11>8$ 是否有$3.11>3.8$？"
   ]
  },
  {
   "cell_type": "markdown",
   "id": "f4dee92c-27c8-458c-8c65-986dbcd06dae",
   "metadata": {},
   "source": [
    "3. 有理数的稠密性\n",
    "    1. 任何两个实数，若$a<b$, 则一定存在有理数$c$, 使得 $a<c<b$. **证明**：写出对应的规范无尽小数展开，找第一位不同$...ax...$,$...by...$，用$ax+1$代替$ax$即可\n",
    "    2. 思考（**难**）：如果$a<b$, 是否一定存在有理数$c$, 使得 $a<c^3<b$? 同学可能认为$\\sqrt[3]{a}<c<\\sqrt[3]{b}$ 即可，但问题是，按照我们上述两种定义，怎么尺规作图/计算$\\sqrt[3]{a},\\sqrt[3]{b}$? 事实上，直尺和圆规无法进行开立方操作。你能把事情说清楚吗（而不是循环论证）？"
   ]
  },
  {
   "cell_type": "markdown",
   "id": "f0847113-4cc8-4be9-a618-c808ad70b098",
   "metadata": {
    "jp-MarkdownHeadingCollapsed": true
   },
   "source": [
    "#### 4. 区间和邻域 "
   ]
  },
  {
   "cell_type": "markdown",
   "id": "36269251-eb8c-444d-925b-18388bcffa37",
   "metadata": {},
   "source": [
    "#### 5. 不等式"
   ]
  },
  {
   "cell_type": "markdown",
   "id": "0a8cc80b-7bda-4bc7-96bd-f570f1094705",
   "metadata": {},
   "source": [
    "1. 算术-几何平均  **书后习题**: **[F06]**\n",
    "2. 伯努利不等式 $$(1+x)^n\\geq 1+nx\\ (x\\geq0,n\\geq0)$$证明：二项式展开$(1+x)^n=1+{n\\choose 1}x+{n\\choose 2}x^2+\\cdots\\geq 1+nx$\n",
    "2. 加强的伯努利不等式\n",
    "$$(1+x)^n\\geq 1+nx\\ (x\\geq-1,n\\geq0)$$\n",
    "证明：二项式展开有正有负不好处理，希望手头有一个恒正的量，我们记$a=1+x$,\n",
    "    1. 若$a\\geq1$，则已经证明\n",
    "    2. 若$0<a<1$, 不等式等价于$a^n\\geq 1+n(a-1)$ 移项相除 $\\frac{a^n-1}{a-1}=a^{n-1}+\\cdots+1\\geq 1+\\cdots+1=n$\n",
    "    3. 如何理解这个不等式？**作图**"
   ]
  },
  {
   "cell_type": "markdown",
   "id": "4c21765c-14ab-4fed-b870-8f96d61428ed",
   "metadata": {},
   "source": [
    "4. 三角形不等式：$$|x+y|\\leq |x|+|y|$$ $$||x|-|y||\\leq|x+y|$$"
   ]
  },
  {
   "cell_type": "markdown",
   "id": "73ff6dd7-0f6b-4a68-bb03-1def7ee60113",
   "metadata": {},
   "source": [
    "#### 6. 数集的界"
   ]
  },
  {
   "cell_type": "markdown",
   "id": "7cf244ed-02c6-4231-9ec1-e178b9c4702b",
   "metadata": {},
   "source": [
    "设$E\\subset \\mathbb{R}$是实数集合的子集，则\n",
    "1. 称实数$M$是$E$的上界：$$\\forall x\\in E, x\\leq M$$\n",
    "2. 称数集$E$有上界:$$\\exists M\\in \\mathbb{R},\\forall x\\in E,x\\leq M$$\n",
    "3. 称$a$是$M$的上确界（最紧上界），若\n",
    "    1. $a$是上界：$$\\forall x\\in E,x\\leq a$$\n",
    "    2. 比$a$小的都不是上界 $$\\forall b<a,\\exists x\\in E, x>b$$\n",
    "\n",
    "<font color=red>**请完全展开以下命题的否定形式**</font>\n",
    "\n",
    "4. $M$ 不是数集$E$的上界。\n",
    "5. 数集 $E$ 没有上界。\n",
    "6. $M$ 不是数集$E$的上确界。\n"
   ]
  },
  {
   "cell_type": "markdown",
   "id": "904a7321-1a5b-4317-be46-39089910f789",
   "metadata": {},
   "source": [
    "**书后习题**: **[F04]**"
   ]
  },
  {
   "cell_type": "markdown",
   "id": "dc536eb8-4c06-46de-85f9-7f11014e423f",
   "metadata": {},
   "source": [
    "#### 7. 确界存在定理\n",
    "\n",
    "1. **定理**: 在实数范围内，非空数集，若有上界，则存在上确界。\n",
    "\n",
    "2. **命题**: 在有理数范围内，非空数集，若有上界，未必存在上确界$$E=\\{x\\in\\mathbb{Q}|x^2<2\\}$$\n",
    "\n",
    "我们看到，有理数集有很多空隙，而实数集是“铁板一块，针插不入，水泼不进”，是**完备**的。"
   ]
  },
  {
   "cell_type": "markdown",
   "id": "0d05f924",
   "metadata": {},
   "source": [
    "## **2. 函数**"
   ]
  },
  {
   "cell_type": "markdown",
   "id": "317e085e-6013-4c89-8487-5f24d1bac2cc",
   "metadata": {},
   "source": [
    "#### 1. 基本概念 "
   ]
  },
  {
   "cell_type": "markdown",
   "id": "f755293e-812b-4e46-b9e0-ce602cc69684",
   "metadata": {},
   "source": [
    "非空实数集$A$ 到$\\mathbb{R}$的映射$f\\colon A\\to\\mathbb{R}$，称为函数。\n",
    "1. 其中$A$ 称为$f$的定义域，记为$D(f)$\n",
    "2. 数集$\\{f(a)|a\\in A\\}$称为$f$的值域，记为$R(f)$。\n",
    "3. 因此给出函数，严格地说：需要给出两个要素 $(A,f)$, 定义域，元素到实数的对应法则。因此，定义域不同，即便表达式相同，函数也不同。 **书后习题**: **[F07]**\n",
    "4. 但有时函数可以只有法则写出，例如$f(x)=\\frac{1}{1-x}$, $g(x)=\\sqrt{1-x^2}$, 他们的定义域理解为``使表达式有意义的所有可能数构成的集合''。称为函数的<font color=red>**自然定义域**</font>。 **书后习题**: **[F08][F09]**"
   ]
  },
  {
   "cell_type": "markdown",
   "id": "28c64790-a3b4-41ed-9905-08edff6e8aae",
   "metadata": {},
   "source": [
    "#### 2. 函数的复合"
   ]
  },
  {
   "cell_type": "markdown",
   "id": "8d13a872-4edf-4bc2-9c5f-a079c98457eb",
   "metadata": {},
   "source": [
    "1. 设有函数$f\\colon A\\to \\mathbb{R}, g\\colon B\\to\\mathbb{R}$, \n",
    "    1. 若$R(f)\\cap D(g)\\neq\\emptyset$, 定义其复合函数为$$g\\circ f\\colon C\\to\\mathbb{R}$$\n",
    "    2. 其定义域 $C=\\{x\\in A|\\exists b\\in D(g), f(a)=g(b)\\}$, 对应法则为 $a\\mapsto g(f(a))$\n",
    "    3. 我们用 $\\to$ 表示映射法则，它的左边是定义域，右边是$\\mathbb{R}$。我们用$\\mapsto $表示具体映射，左边是一个一般的元素，右边是映射后的元素。"
   ]
  },
  {
   "cell_type": "markdown",
   "id": "e5a45ee5-438d-4de3-b1b6-dbb61bd65d5a",
   "metadata": {},
   "source": [
    "2. 分段函数的复合，需要仔细处理每一段的定义域、值域。**[例1.11]**  **书后习题**: **[F10][F15]**"
   ]
  },
  {
   "cell_type": "markdown",
   "id": "ed216545-8270-481e-a060-c569d5df4bed",
   "metadata": {},
   "source": [
    "#### 3. 单射、满射、双射 "
   ]
  },
  {
   "cell_type": "markdown",
   "id": "08e62b8d-c845-4b1e-9ebd-2b647663efdb",
   "metadata": {},
   "source": [
    "1. 单射、满射、双射的定义：对于集合$X,Y$间的映射\n",
    "   1. $\\forall x_1,x_2\\in X, (f(x_1)=f(x_2)\\Rightarrow x_1=x_2)$\n",
    "   2. $\\forall y\\in Y, \\exists x\\in X, f(x)=y$\n",
    "   3. 双射：单射且满射\n",
    "3. 不是单射、不是满射、不是双射**如何验证**？"
   ]
  },
  {
   "cell_type": "markdown",
   "id": "9f238847-9786-44da-96c5-cb6e31edbe74",
   "metadata": {},
   "source": [
    "#### 4. 反函数"
   ]
  },
  {
   "cell_type": "markdown",
   "id": "d6ba12fc-ddc2-404e-a155-57694f6a33b8",
   "metadata": {},
   "source": [
    "若函数 $f\\colon A\\to \\mathbb{R}$，是一个单射，则对于任意$b\\in f(A)$, 存在唯一的$a\\in A$ 使得 $f(a)=b$, 我们定义函数$$f^{-1}\\colon f(A)\\to \\mathbb{R},\\ f(a)\\mapsto a$$为函数$f$的反函数。\n",
    "1. 函数 $f$ 存在反函数，等价于 $f$ 作为集合映射是单射。\n",
    "2. $f^{-1}$和$f$的定义域、值域互换。"
   ]
  },
  {
   "cell_type": "markdown",
   "id": "f770752e-8ee9-4874-843a-decc8a1c4a18",
   "metadata": {},
   "source": [
    "**例题 1.13** 分段函数的反函数。解题方法：（1）分段写出定义域、值域，（2）分段交换定义域、值域、反解表达式。"
   ]
  },
  {
   "cell_type": "markdown",
   "id": "df15a31e-804d-4ef5-bfaa-50a04435af06",
   "metadata": {},
   "source": [
    "#### 5. 函数的简单性质\n",
    "1. 奇偶性: 即验证$f(x)+f(-x)=0$\n",
    "2. 单调性： **书后习题**: **[F18]**，画出图像？依定义验证？\n",
    "3. 有界性：如何验证函数有界、无界？\n",
    "4. 周期性\n",
    " **书后习题**: <font color=red>**[F16][F11][F12][F13]**</font>，注意函数有些形式上有相当迷惑性，需要展开关系验证！"
   ]
  },
  {
   "cell_type": "markdown",
   "id": "56d2ff41-9910-49ea-8149-06586e520163",
   "metadata": {},
   "source": [
    " **书后习题**: **[F14]** 解函数方程"
   ]
  },
  {
   "cell_type": "markdown",
   "id": "314005e9-afc2-4b7e-92ec-55a30685af85",
   "metadata": {},
   "source": [
    "#### 6. 初等函数 "
   ]
  },
  {
   "cell_type": "markdown",
   "id": "915deb90-7478-43ec-a735-77d2b641e167",
   "metadata": {},
   "source": [
    "1. 常数函数\n",
    "2. 幂函数：正数的开方通过上确界定义$a^{1/n}=\\mathrm{sup}\\{x^n<a|x\\in\\mathbb{Q}\\}$\n",
    "3. 指数函数（$e^x$我们还没有严格地定义，此处认为$e$是一个像$\\pi$一样确定的实数，幂次$a^b$就是取逼近$a,b$的有理数，幂次开方的极限值。）\n",
    "4. 对数函数 $e^x$的反函数，换底公式\n",
    "5. 三角函数 $\\sin x,\\cos x$，定义较繁琐，也可以用上极限定义，这门课不要求，重点是明确函数形状、周期性、对称性。\n",
    "6. 反三角函数（**重点**）"
   ]
  },
  {
   "cell_type": "markdown",
   "id": "c2b92c31-826d-48b4-b42b-0085af46992f",
   "metadata": {},
   "source": [
    "#### 7. 双曲三角函数、反双曲三角函数"
   ]
  },
  {
   "cell_type": "markdown",
   "id": "6cc59ec0-1a98-469d-bc7a-62216847b794",
   "metadata": {},
   "source": [
    "1. $\\sinh(x)=\\frac{e^x-e^{-x}}{2}$\n",
    "2. $\\cosh(x)=\\frac{e^x+e^{-x}}{2}$\n",
    "3. $\\tanh(x)=\\frac{e^x-e^{-x}}{e^x+e^{-x}}$\n",
    "4. $\\mathrm{arsh}(x)=\\ln(x+\\sqrt{x^2+1})$\n",
    "5. $\\mathrm{arch}(x)=\\ln(x+\\sqrt{x^2-1}),\\ x\\geq 1$\n",
    "6. $\\mathrm{arth}(x)=\\frac{1}{2}\\ln\\frac{1+x}{1-x},\\ x\\in(-1,1)$"
   ]
  },
  {
   "cell_type": "markdown",
   "id": "aaa2cca3-e718-492f-89db-28c13bec3d3a",
   "metadata": {},
   "source": [
    "#### 8. 隐函数，参数方程"
   ]
  },
  {
   "cell_type": "markdown",
   "id": "87001510-2795-4d55-87a1-8963f5f769a4",
   "metadata": {},
   "source": [
    "1. 一般$2$个变量由一个关系约定，但是未必能用初等函数写出，这样的函数关系称为隐函数。通过变化范围确定定义域、值域。\n",
    "$$2y+\\cos y=2x+\\sin x$$$$x=y^5+5y-1$$\n",
    " **书后习题**: **[F22]**"
   ]
  },
  {
   "cell_type": "markdown",
   "id": "efc65168-b9f1-4e17-9460-4f11101ca695",
   "metadata": {},
   "source": [
    "2. 参数方程：有时$x,y$都是第三个变量的函数，他们通过第三个变量联系，如空间质点的轨迹，$x=f(t),y=g(t)$，称$(x,y)$满足参数方程。\n",
    " **书后习题**: **[F23]**"
   ]
  },
  {
   "cell_type": "markdown",
   "id": "7b04d25f-3de1-4b73-9f7c-ceaa9bbc05b2",
   "metadata": {},
   "source": [
    "**例**: 笛卡尔叶形线 (Cartesian Folium) $x^3+y^3=3xy$ "
   ]
  },
  {
   "cell_type": "markdown",
   "id": "e0cc12e9-2934-4a39-b2c2-fd329fd63c7a",
   "metadata": {},
   "source": [
    "3. 极坐标：我们用函数描述物理世界，有时直角坐标不方便，我们采用极坐标 $x=r\\cos\\theta,y=r\\sin\\theta$, 它和参数方程的区别是，$x,y$由两个变量联系起来。\n",
    "\n",
    "    **书后习题**: **[F24][F25]**"
   ]
  },
  {
   "cell_type": "markdown",
   "id": "3cab458b-f8d4-4220-806d-d94b541347af",
   "metadata": {},
   "source": [
    "**例**: 双扭线（Lemniscate）, 到$(-1,0),(1,0)$距离乘积为$1$的曲线。（应用：双扭线流量计）"
   ]
  },
  {
   "cell_type": "markdown",
   "id": "aee1088b-c541-4719-97e8-9bf814d51590",
   "metadata": {},
   "source": [
    "https://mathcurve.com/courbes2d.gb/lemniscate/lemniscate.shtml"
   ]
  },
  {
   "cell_type": "markdown",
   "id": "2e97ff89-f9b9-46f0-9012-c4fe268ad053",
   "metadata": {},
   "source": [
    "**例**：圆的渐开线，极坐标+参数方程 （应用：设计齿轮）"
   ]
  },
  {
   "cell_type": "markdown",
   "id": "5ddd0e37-d786-4e2b-9ef1-4a3b2e882f10",
   "metadata": {},
   "source": [
    "https://zhuanlan.zhihu.com/p/14497368496"
   ]
  },
  {
   "cell_type": "markdown",
   "id": "eca5d4c8",
   "metadata": {},
   "source": [
    "# **例题精讲**"
   ]
  },
  {
   "cell_type": "markdown",
   "id": "bf2af2d5-2c74-4123-a5a9-b9dad559896c",
   "metadata": {},
   "source": [
    "#### 1. [例题 1.15，1.20]  "
   ]
  },
  {
   "cell_type": "markdown",
   "id": "ee116546-da23-4dab-8496-3e6e117eafe8",
   "metadata": {},
   "source": [
    "求 $\\arcsin(\\sin\\frac{3\\pi}{5})$ 的值。"
   ]
  },
  {
   "cell_type": "markdown",
   "id": "4ecaf062-af18-4940-9d55-78e60356a20b",
   "metadata": {},
   "source": [
    "分析：初看似乎$\\arcsin$ 和 $\\sin$ 约掉，但是$3\\pi/5>\\pi/2$，不在$\\arcsin$的值域中。问题出在哪？"
   ]
  },
  {
   "cell_type": "markdown",
   "id": "c59f2c01-6dd6-4dc0-878e-a7c732afd140",
   "metadata": {},
   "source": [
    " "
   ]
  },
  {
   "cell_type": "markdown",
   "id": "e874178a-9600-4adf-a4fc-3e818692be05",
   "metadata": {},
   "source": [
    "#### 2. 习题5"
   ]
  },
  {
   "cell_type": "markdown",
   "id": "9e14cdf5-336e-4c79-ada2-f639f8efea5d",
   "metadata": {},
   "source": [
    "用数学归纳法证明 $$|\\sin nx|\\leq n|\\sin x|$$"
   ]
  },
  {
   "cell_type": "markdown",
   "id": "9869218a-3bd7-473a-a04f-df17b7cb5d77",
   "metadata": {},
   "source": [
    "1. 首先对要证明的命题标号，明确标号范围 $$P(n)\\colon \\left(|\\sin nx|\\leq n|\\sin x|,\\ \\forall x\\right),\\ n=0,1,2,3,4...$$"
   ]
  },
  {
   "cell_type": "markdown",
   "id": "24e8eb97-3d8f-45fd-934c-446bf38883d6",
   "metadata": {},
   "source": [
    "2. 验证基础情况 $n=0,n=1$"
   ]
  },
  {
   "cell_type": "markdown",
   "id": "39e5c27d-2e5b-4b8b-8c6d-89c98573a378",
   "metadata": {},
   "source": [
    "3. 开始归纳$$|\\sin(n+1)x|=|\\sin nx\\cos x+\\sin x\\cos nx|\\leq |\\sin nx||\\cos x|+|\\sin x||\\cos nx|\\leq |\\sin nx|+|\\sin x|$$"
   ]
  },
  {
   "cell_type": "markdown",
   "id": "9abd6920-0cea-4f75-9e8b-6e2cea6b68b6",
   "metadata": {},
   "source": [
    "4. 使用归纳假设$$\\leq n|\\sin x|+|\\sin x|\\leq (n+1)|\\sin x|$$"
   ]
  },
  {
   "cell_type": "markdown",
   "id": "7180cb73-111b-4216-a1d2-a27336e805a7",
   "metadata": {},
   "source": [
    "5. 给出结论：对命题族$\\{P(n)\\}_{n\\geq0}$使用数学归纳法，验证$n=0,1$以及$P(n)\\Rightarrow P(n+1)$，因此命题对所有$n\\in\\mathbb{N}$ 都成立。"
   ]
  },
  {
   "cell_type": "markdown",
   "id": "e777a84f-fb93-4a29-bbcc-fd7218f86fde",
   "metadata": {},
   "source": [
    " **书后习题**: **[F05]**"
   ]
  },
  {
   "cell_type": "code",
   "execution_count": null,
   "id": "aae3b5d9-3f19-4305-8559-f560b320e0aa",
   "metadata": {},
   "outputs": [],
   "source": []
  }
 ],
 "metadata": {
  "kernelspec": {
   "display_name": "Python 3 (ipykernel)",
   "language": "python",
   "name": "python3"
  },
  "language_info": {
   "codemirror_mode": {
    "name": "ipython",
    "version": 3
   },
   "file_extension": ".py",
   "mimetype": "text/x-python",
   "name": "python",
   "nbconvert_exporter": "python",
   "pygments_lexer": "ipython3",
   "version": "3.12.7"
  }
 },
 "nbformat": 4,
 "nbformat_minor": 5
}

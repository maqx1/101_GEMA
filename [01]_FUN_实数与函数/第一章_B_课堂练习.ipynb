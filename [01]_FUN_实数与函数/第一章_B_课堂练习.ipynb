{
 "cells": [
  {
   "cell_type": "markdown",
   "id": "59bce6a1-eccc-4a86-8ca6-930d9d9fac5c",
   "metadata": {},
   "source": [
    "## 09月00日_课堂练习"
   ]
  },
  {
   "cell_type": "markdown",
   "id": "b8a96653-ad67-4541-a081-89ce7f221b1a",
   "metadata": {},
   "source": [
    "### 1. 比较数的大小，以及为什么？"
   ]
  },
  {
   "cell_type": "markdown",
   "id": "57070941-6f5e-4724-93ac-562e0beea2f1",
   "metadata": {},
   "source": [
    "1. $\\sqrt{8}-\\sqrt{6}$ 与 $\\frac{1}{6.}$\n",
    "2. $\\sqrt{8}-\\sqrt[3]{6}$ 与 $1.01$"
   ]
  },
  {
   "cell_type": "markdown",
   "id": "bf435924-0228-422f-ad58-867a3a93b381",
   "metadata": {},
   "source": [
    "### 2. 比较数的大小，以及为什么？"
   ]
  },
  {
   "cell_type": "markdown",
   "id": "d3d39bd6-56a4-427e-b3a4-304487bbe85c",
   "metadata": {},
   "source": [
    "$$13.80,\\ 13.11$$"
   ]
  },
  {
   "cell_type": "markdown",
   "id": "6d2be84d-cfe0-42a7-b9fa-f3e1aa8d3f88",
   "metadata": {},
   "source": [
    "### 3. 做出函数图像"
   ]
  },
  {
   "cell_type": "markdown",
   "id": "1d963372-f345-4aa7-b821-bfa4f5e4ba2a",
   "metadata": {},
   "source": [
    "$$f(x)=\\sin 100x +\\sin 101x$$"
   ]
  },
  {
   "cell_type": "markdown",
   "id": "68cdc839-e84a-45bc-9bec-544f95f37e76",
   "metadata": {},
   "source": [
    "$$f(x)=\\sin 100x+\\cos 101 x $$"
   ]
  },
  {
   "cell_type": "markdown",
   "id": "b3e0f6bd-4938-4226-8e99-477f218d9628",
   "metadata": {},
   "source": [
    "### 4. 许多公示都有 $\\pi$ 和 $e$, 为什么？"
   ]
  },
  {
   "cell_type": "markdown",
   "id": "1c4c893c-09d4-40d5-97b9-cb64daba902a",
   "metadata": {},
   "source": [
    "$e$ 代表增长或衰落，$\\pi$ 代表周而复始的循环。 "
   ]
  },
  {
   "cell_type": "markdown",
   "id": "44ccd38f-25aa-4e21-b0a2-ba9a622362d6",
   "metadata": {},
   "source": [
    "费曼说过，每当他在公式中看到 $\\pi$, 他就会去寻找那个圆/球/洞。"
   ]
  },
  {
   "cell_type": "markdown",
   "id": "8bc1b231-9712-483e-9650-2039d45ca58f",
   "metadata": {},
   "source": [
    "球的体积$\\frac{4}{3}\\pi R^3$, 球的面积$r\\pi R^2$，环的体积 $2\\pi^2 R a^2$ 环的面积 $4\\pi^2Ra$"
   ]
  },
  {
   "cell_type": "markdown",
   "id": "051b679a-c619-456e-be95-2f96e1d7cd3a",
   "metadata": {},
   "source": [
    "据《说岳》记载，在朱仙境战役中，金兀术骑马绕战场转了一圈。"
   ]
  },
  {
   "cell_type": "code",
   "execution_count": null,
   "id": "74228b47-8215-4a16-beca-8097358d05f2",
   "metadata": {},
   "outputs": [],
   "source": []
  }
 ],
 "metadata": {
  "kernelspec": {
   "display_name": "Python 3 (ipykernel)",
   "language": "python",
   "name": "python3"
  },
  "language_info": {
   "codemirror_mode": {
    "name": "ipython",
    "version": 3
   },
   "file_extension": ".py",
   "mimetype": "text/x-python",
   "name": "python",
   "nbconvert_exporter": "python",
   "pygments_lexer": "ipython3",
   "version": "3.12.7"
  }
 },
 "nbformat": 4,
 "nbformat_minor": 5
}

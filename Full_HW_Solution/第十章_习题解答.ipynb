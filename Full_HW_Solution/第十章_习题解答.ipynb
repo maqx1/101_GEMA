{
 "cells": [
  {
   "cell_type": "markdown",
   "id": "12206cac-dc20-4f6a-9bec-c625129d4779",
   "metadata": {},
   "source": [
    "略"
   ]
  },
  {
   "cell_type": "markdown",
   "id": "f5832108-64d7-4f70-9e04-523f4b26aea2",
   "metadata": {},
   "source": [
    "# 第十章：曲线积分与曲面积分"
   ]
  },
  {
   "cell_type": "code",
   "execution_count": null,
   "id": "25b1c741-d136-4a2c-805a-209b1b579dc0",
   "metadata": {},
   "outputs": [],
   "source": []
  }
 ],
 "metadata": {
  "kernelspec": {
   "display_name": "Python 3 (ipykernel)",
   "language": "python",
   "name": "python3"
  },
  "language_info": {
   "codemirror_mode": {
    "name": "ipython",
    "version": 3
   },
   "file_extension": ".py",
   "mimetype": "text/x-python",
   "name": "python",
   "nbconvert_exporter": "python",
   "pygments_lexer": "ipython3",
   "version": "3.12.8"
  }
 },
 "nbformat": 4,
 "nbformat_minor": 5
}

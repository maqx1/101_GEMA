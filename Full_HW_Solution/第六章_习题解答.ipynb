{
 "cells": [
  {
   "cell_type": "markdown",
   "id": "12206cac-dc20-4f6a-9bec-c625129d4779",
   "metadata": {},
   "source": [
    "略"
   ]
  },
  {
   "cell_type": "markdown",
   "id": "a25970ae-8adb-4343-b4d7-9b6c5ed53b7f",
   "metadata": {},
   "source": [
    "# 第六章 习题解答"
   ]
  },
  {
   "cell_type": "markdown",
   "id": "dcb1bbc2-2373-4d32-bb4f-d5c21a2ee42a",
   "metadata": {},
   "source": [
    "#### A2300. 假设空气阻力与物体速度平方成正比，且当 $t\\to+\\infty$ 时，速度以$75$m/s为极限，求自由落体的运动规律。\n",
    "\n",
    "`[郑易衡 zhengyh2024@shanghaitech.edu.cn]提问`：答案中的 $\\ln(\\cosh(-))$ 是怎么得来的？"
   ]
  },
  {
   "cell_type": "markdown",
   "id": "ca5044b2-847f-4e41-95ea-086108d3dc83",
   "metadata": {},
   "source": [
    "不妨设物体位移为$x$, 时间为$t$, 则物体满足运动方程 $$\\frac{\\mathrm{d}^2x}{\\mathrm{d}t^2}=g-a\\left(\\frac{\\mathrm{d}x}{\\mathrm{d}t}\\right)^2$$ \n",
    "\n",
    "1. 这是一个非线性二阶微分方程，我们换元降阶：$\\frac{\\mathrm{d}x}{\\mathrm{d}t}=p(t)$，则$\\frac{\\mathrm{d}p}{\\mathrm{d}t}=g-ap^2$,$\\frac{\\mathrm{d}p}{g-ap^2}=\\mathrm{d}t$, 部分分式分解得$\\frac{\\sqrt{g}-\\sqrt{a}p+\\sqrt{g}+\\sqrt{a}p}{(\\sqrt{g}-\\sqrt{a}p)(\\sqrt{g}+\\sqrt{a}p)}\\frac{1}{2\\sqrt{g}}\\mathrm{d}p=\\mathrm{d}t$\n",
    "$$\\frac{\\mathrm{d}p}{\\sqrt{g}-\\sqrt{a}p}+\\frac{\\mathrm{d}p}{\\sqrt{g}+\\sqrt{a}p}=2\\sqrt{g}\\mathrm{d}t$$\n",
    "$$-\\ln|\\sqrt{g}-\\sqrt{a}p|+\\ln|\\sqrt{g}+\\sqrt{a}p|=2\\sqrt{ag}t+C$$\n",
    "由于$t=0$时$p=0$，代入得$C=0$\n",
    "$$\\frac{\\sqrt{g}+\\sqrt{a}p}{\\sqrt{g}-\\sqrt{a}p}=e^{2\\sqrt{ag}t}$$ $$p=\\sqrt{\\frac{{g}}{a}}\\frac{e^{2\\sqrt{ag}t}-1}{e^{2\\sqrt{ag}t}+1}=\\sqrt{\\frac{{g}}{a}}\\tanh(\\sqrt{ag}t)$$\n"
   ]
  },
  {
   "cell_type": "markdown",
   "id": "679341e6-c4ef-430a-807e-0e0233bfb576",
   "metadata": {},
   "source": [
    "注意，我们使用双曲三角函数 $$\\tanh x=\\frac{\\sinh x}{\\cosh x}=\\frac{(e^x-e^{-x})/2}{(e^x+e^{-x})/2}=\\frac{e^{2x}-1}{e^{2x}+1}$$"
   ]
  },
  {
   "cell_type": "markdown",
   "id": "4871e7c7-7fce-4341-846e-60177cb8f953",
   "metadata": {},
   "source": [
    "则 $$\\frac{\\mathrm{d}x}{\\mathrm{d}t}=\\sqrt{g/a}\\tanh(\\sqrt{ag}t)$$"
   ]
  },
  {
   "cell_type": "markdown",
   "id": "ae2004d7-f837-429e-97b6-e6799a42f715",
   "metadata": {},
   "source": [
    "令$\\sqrt{ag}t=u$，则 $a\\mathrm{d}x=\\tanh u\\mathrm{d}u$, $ax+C=\\int\\frac{\\sinh u}{\\cosh u}=\\int\\frac{\\mathrm{d}\\sinh u}{\\cosh u}=\\ln\\cosh u$, $x=\\frac{1}{a}\\ln\\cosh \\sqrt{ag}t$"
   ]
  },
  {
   "cell_type": "markdown",
   "id": "e3f4db6e-8f0b-4efd-bcb3-9547df4b6def",
   "metadata": {},
   "source": [
    "2. 最后我们需要确定$a$, 由于$x'=\\sqrt{g/a}\\tanh (\\sqrt{ag}t)$, 而$\\lim_{s\\to\\infty}\\tanh s=1$, 因此$g/a=75^2$, $a=\\frac{g}{75^2}$, 最终答案为$\\frac{75^2}{g}\\ln(\\cosh\\frac{gt}{75})$。这里不需要绝对值，因为$\\cosh$恒为正数。"
   ]
  },
  {
   "cell_type": "code",
   "execution_count": null,
   "id": "ce0e9779-83e0-4627-bd42-4867dff5a175",
   "metadata": {},
   "outputs": [],
   "source": []
  }
 ],
 "metadata": {
  "kernelspec": {
   "display_name": "Python 3 (ipykernel)",
   "language": "python",
   "name": "python3"
  },
  "language_info": {
   "codemirror_mode": {
    "name": "ipython",
    "version": 3
   },
   "file_extension": ".py",
   "mimetype": "text/x-python",
   "name": "python",
   "nbconvert_exporter": "python",
   "pygments_lexer": "ipython3",
   "version": "3.12.8"
  }
 },
 "nbformat": 4,
 "nbformat_minor": 5
}

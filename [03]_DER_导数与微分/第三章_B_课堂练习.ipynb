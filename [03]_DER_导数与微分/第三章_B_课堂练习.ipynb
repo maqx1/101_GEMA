{
 "cells": [
  {
   "cell_type": "markdown",
   "id": "59bce6a1-eccc-4a86-8ca6-930d9d9fac5c",
   "metadata": {},
   "source": [
    "## 03月11日_课堂练习"
   ]
  },
  {
   "cell_type": "markdown",
   "id": "b8a96653-ad67-4541-a081-89ce7f221b1a",
   "metadata": {},
   "source": [
    "### 1. 自测：向量的点乘与叉乘"
   ]
  },
  {
   "cell_type": "markdown",
   "id": "2d68762d-53f7-4dac-a8cb-49d8ff94849e",
   "metadata": {},
   "source": [
    "1. 已知向量满足$|\\mathbf{a}|=11,|\\mathbf{b}|=23,|\\mathbf{a-b}|=30$, 求$|\\mathbf{a+b}|$"
   ]
  },
  {
   "cell_type": "markdown",
   "id": "3750c28c-72b8-4b17-a2b3-45c767e8cb2d",
   "metadata": {},
   "source": [
    "2. 已知空间三点$A(1,0,2), B(4,-1,0),C(2,2,1)$，求三角形$ABC$的面积。"
   ]
  },
  {
   "cell_type": "markdown",
   "id": "9c3d30f4-45ef-4a56-85e0-611ea7f2a7f9",
   "metadata": {},
   "source": [
    "3. 向量$\\mathbf{a}=(2,3,-1),$ $\\mathbf{b}=(1,-1,3),$ $\\mathbf{c}=(1,9,-11),$是否共面？"
   ]
  },
  {
   "cell_type": "markdown",
   "id": "58f66cf9-5449-4dda-915f-11b1f01696ae",
   "metadata": {},
   "source": [
    "4. 已知空间四点$A(2,1,-1),B(3,0,1),C(2,-1,3),D$为顶点的四面体体积为$5$,且$D$在$y$轴上，求$D$的坐标。"
   ]
  },
  {
   "cell_type": "markdown",
   "id": "26070227-99bc-4fe6-9273-b8673b2a3a27",
   "metadata": {},
   "source": [
    "### 2. 例题回顾"
   ]
  },
  {
   "cell_type": "markdown",
   "id": "cc810471-d1fb-41a5-b596-71dc8d946853",
   "metadata": {},
   "source": [
    "1. **[例7.4]** 设 $\\overrightarrow{OA}=(-2,-1,2),\\overrightarrow{OB}=(7,-4,-4)$, 向量 $\\mathbf{c}$ 与$\\overrightarrow{OA},\\overrightarrow{OB}$的角平分线平行，且$|\\mathbf{c}|=6\\sqrt{6}$, 求向量$\\mathbf{c}$."
   ]
  },
  {
   "cell_type": "markdown",
   "id": "e5109398-2740-451c-86a0-50005de7baa8",
   "metadata": {},
   "source": [
    "2. **[例 7.7]** 设空间三点$A(1,-1,1),B(-1,-5,3),C(3,1,1)$, 由点$C$向$AB$作垂线，求垂足$D$的坐标。（课本上给了定比分点法，有其他办法吗）"
   ]
  },
  {
   "cell_type": "markdown",
   "id": "a17778e2-6387-4846-8b09-3c1c452c3763",
   "metadata": {},
   "source": [
    "3. **[例 7.10]** 已知向量$\\mathbf{a}=(2,1,-1),\\mathbf{b}=(1,1,-1)$, 求$\\mathbf{b}$在$\\mathbf{a}$上的投影、投影向量。（<font color=red>重点</font>：记号$(\\mathbf{b})_{\\mathbf{a}}$, $\\mathbf{a}^0$, $\\mathrm{proj}_{\\mathbf{b}}\\mathbf{a}$都是什么含义？）"
   ]
  },
  {
   "cell_type": "markdown",
   "id": "cc27887a-07d3-43e9-8727-488be3133015",
   "metadata": {},
   "source": [
    "4. **[例 7.11]** 求同时垂直于$\\mathbf{a}=(2,1,-1),\\mathbf{b}=(1,0,-1)$的单位向量。(叉乘可得一个，但共有<font color=red>两个</font>！)"
   ]
  },
  {
   "cell_type": "markdown",
   "id": "e11cfd69-68de-4eb7-9e52-8840a94d57b7",
   "metadata": {},
   "source": [
    "### 3. 平面和直线"
   ]
  },
  {
   "cell_type": "markdown",
   "id": "64d90d6d-efbd-41ca-9d43-6dcf86529508",
   "metadata": {},
   "source": [
    "1. **[例 7.20]** 求过点$P(3,-1,5)$且与平面$\\pi_1\\colon 2x-y-5z-1$ 和$\\pi_2\\colon x-4z-3=0$ 均平行的直线的方程。（与平面的方向关系，转化到<font color=red>法向量</font>） "
   ]
  },
  {
   "cell_type": "markdown",
   "id": "b8c9fc3f-130c-4d39-b8a7-7d9495d5d5c2",
   "metadata": {},
   "source": [
    "2. **[例 7.21]** 将直线的一般式方程$L=\\left\\{\\begin{aligned}2x-3y+z-5&=0\\\\3x+y-2x-2&=0 \\end{aligned}\\right.$ 化为标准式方程、参数式方程。(重点：<font color=red>什么是</font>“标准式”，“参数式”, 一定要退回解三元一次方程组吗，还是可以用叉乘简化计算？)"
   ]
  },
  {
   "cell_type": "markdown",
   "id": "013abb5d-8ccf-45d2-99be-5a57f18c508b",
   "metadata": {},
   "source": [
    "3. **[例 7.22]** 求过平面$2x-y-2z+1=0$ 和$z+y+4z-2=0$的交线的平面，使其在$y,z$轴有相同的截距。（重点：<font color=red>平面束</font>方法，要不要先算出交线方程？）"
   ]
  },
  {
   "cell_type": "markdown",
   "id": "36bb95fe-8a18-4e22-b8c5-f08d263104ab",
   "metadata": {},
   "source": [
    "4. **思考**：为了使用平面束工具，需要知道直线的一般式方程。那么，从标准式出发，<font color=red>如何</font>获得一般式方程？ （提示：答案不唯一，令等式$=t$,消$t$，交叉相乘等等）"
   ]
  },
  {
   "cell_type": "markdown",
   "id": "7c581db4-448e-4c8a-81f8-f44ad709f267",
   "metadata": {},
   "source": [
    "5. **[例 7.23]** 求两平行平面$\\pi_1:4x-3y+12z-11=0,\\pi_2\\colon 4x-3y+12z+15=0$之间的距离。（思考：一定要写出$\\pi_1$上某点的具体坐标吗？）"
   ]
  },
  {
   "cell_type": "markdown",
   "id": "d4240bad-aa3e-4412-a1c9-3d5b597bb921",
   "metadata": {},
   "source": [
    "6. **[例 7.24]** 求过直线$L=\\left\\{\\begin{aligned}x+2z+1&=0\\\\x-y-z+1&=0\\end{aligned}\\right.$且与平面$x+y+2z-4=0$成$\\pi/3$夹角的平面。(重点：<font color=red>平面束</font>方法，有<font color=red>**两个**</font>)\n"
   ]
  },
  {
   "cell_type": "markdown",
   "id": "935c3ab5-9cbb-464a-8c0f-aa66b2d159fe",
   "metadata": {},
   "source": [
    "7. **[例 7.26]** 直线$l$过点$P(1,2,-2)$ 且与直线$l_1:\\frac{x+1}{2}=\\frac{y-3}{-1}=\\frac{z}{1}$ 垂直相交，求直线$l$的方程。（有其他办法吗？课本上为何这样做？）"
   ]
  },
  {
   "cell_type": "markdown",
   "id": "eb002a14-ac7b-4069-8f3e-e38992665d2f",
   "metadata": {},
   "source": [
    "8. **<font color=red>思考</font>**： 直线$l$过点$P(1,2,-2)$ 且与直线$l_1:\\frac{x+1}{2}=\\frac{y-3}{-1}=\\frac{z}{1}$ 距离为$1$, 夹角$\\pi/3$，求直线$l$的方程。(<font color=red>首先，这样的直线有几条0，1，2，3，4? 其次，你打算怎么表示这种直线？</font>)"
   ]
  },
  {
   "cell_type": "markdown",
   "id": "8651f1f5-ad60-4ed2-9d12-1bcc9d46e5af",
   "metadata": {},
   "source": [
    "9. **[例 7.27]** 已知直线$l\\colon\\frac{x-2}{1}=\\frac{y-4}{2}=\\frac{z-3}{1}$，平面$\\pi\\colon 2x+y-z-2=0$，求$l$在平面$\\pi$上的投影直线。（<font color=red>平面束</font>方法）"
   ]
  },
  {
   "cell_type": "markdown",
   "id": "26793885-bb1f-4b4d-87dc-047650febf06",
   "metadata": {},
   "source": [
    "10. **[例 7.28]** 求点$P(2,-1,3)$到直线$l=\\frac{x-2}{3}=\\frac{y+1}{4}=\\frac{z}{5}$的距离。（思考：如果直线用一般式给出，怎么求？）"
   ]
  },
  {
   "cell_type": "markdown",
   "id": "777fdffd-4466-481b-bc79-e1c56d966096",
   "metadata": {},
   "source": [
    "## 03月13日_课堂练习"
   ]
  },
  {
   "cell_type": "markdown",
   "id": "c9442764-3626-4bc3-9100-dde4376deae1",
   "metadata": {},
   "source": [
    "### 1. 选择题"
   ]
  },
  {
   "cell_type": "markdown",
   "id": "7711249f-dcbb-446e-91f6-c0364ce0718f",
   "metadata": {},
   "source": [
    "#### 1. 已知 $(\\mathbf{a}\\times\\mathbf{b})\\cdot\\mathbf{c}=2$ 则\n",
    "$$[(\\mathbf{a}+\\mathbf{b})\\times(\\mathbf{b}+\\mathbf{c})]\\cdot(\\mathbf{c}+\\mathbf{a})=$$\n",
    "\n",
    "- (A) $$1$$\n",
    "- (B) $$-2$$\n",
    "- (C) $$-4$$\n",
    "- (D) $$4$$"
   ]
  },
  {
   "cell_type": "markdown",
   "id": "f6e5e4c0-a2f5-4ab1-877c-916ea32af13e",
   "metadata": {},
   "source": [
    "####  2. 已知$\\mathbf{a,b}$都是非零向量且非正交，若$|\\mathbf{a}|=1,|\\mathbf{b}|=2$, 且$\\mathbf{a-b},\\mathbf{a-2b}$正交，则$\\mathbf{a}$在$\\mathbf{b}$方向的投影长度$\\mathbf{a}_{\\mathbf{b}}$为\n",
    "- (A) $$2/3$$\n",
    "- (B) $$5/6$$\n",
    "- (C) $$3/2$$\n",
    "- (D) $$6/5$$"
   ]
  },
  {
   "cell_type": "markdown",
   "id": "79e9affa-d722-41a5-bedf-b2346f4b1bcb",
   "metadata": {},
   "source": [
    "#### 3. 平面 $2x+2y-z=1$ 与直线 $\\frac{x-2}{1}=\\frac{y-1}{2}=\\frac{z-2}{-2}$的夹角是\n",
    "\n",
    "- (A) $$\\arcsin\\frac{8}{9}$$\n",
    "- (B) $$\\arccos\\frac{8}{9}$$\n",
    "- (C) $$\\arcsin\\frac{4}{9}$$\n",
    "- (D) $$\\arccos\\frac{4}{9}$$"
   ]
  },
  {
   "cell_type": "markdown",
   "id": "4f642909-b293-4a3a-9f9e-3bebcf561bc7",
   "metadata": {},
   "source": [
    "#### 4. 点$(1,0,1)$到直线$\\left\\{\\begin{aligned}x-y=0\\\\ 3x-z=0\n",
    "\\end{aligned}\\right.$ 的距离$d=$\n",
    "\n",
    "- (A) $$\\frac{\\sqrt{66}}{11}$$\n",
    "- (B) $$\\frac{6}{11}$$\n",
    "- (C) $$\\frac{6\\sqrt{11}}{11}$$\n",
    "- (D) $$\\sqrt{6}$$"
   ]
  },
  {
   "cell_type": "markdown",
   "id": "ac4163b3-15ae-46ac-b0cd-ecb7ef4a4a8c",
   "metadata": {},
   "source": [
    "#### 5. 已知两条直线$$l_1:\\frac{x-1}{1}=\\frac{y-2}{0}=\\frac{z-3}{-1},$$$$l_2:\\frac{x+2}{2}=\\frac{y-1}{1}=\\frac{z}{1},$$则过$l_1$且平行于$l_2$的平面$\\pi$的法向量$\\mathbf{n}=$\n",
    "\n",
    "- (A) $$(-1,3,1)$$\n",
    "- (B) $$\\mathbf{i}-3\\mathbf{j}+\\mathbf{k}$$\n",
    "- (C) $$(-1,3,-1)$$\n",
    "- (D) $$\\mathbf{i}-3\\mathbf{j}-\\mathbf{k}$$"
   ]
  },
  {
   "cell_type": "markdown",
   "id": "24023cfe-3d2f-485b-a419-749640826729",
   "metadata": {},
   "source": [
    "#### 6. 以下四个方程中，表示旋转双叶双曲面的是\n",
    "\n",
    "- (A)$$4z=x^2+y^2$$\n",
    "- (B)$$x^2+y^2=4z^2+1$$\n",
    "- (C)$$x^2+y^2=4z^2-1$$\n",
    "- (D)$$x^2+y^2=4z^2$$"
   ]
  },
  {
   "cell_type": "markdown",
   "id": "e674a08f-0159-414c-a983-aa48aef72149",
   "metadata": {},
   "source": [
    "#### 7. 下列直线中，包含在平面 $x+y+z-3=0$ 中的是\n",
    "\n",
    "- (A)$$\\frac{x-1}{1}=\\frac{y+2}{-5}=\\frac{z-4}{4}$$\n",
    "- (B)$$\\frac{x+1}{1}=\\frac{y-1}{2}=\\frac{z+4}{4}$$\n",
    "- (C)$$\\frac{x-1}{1}=\\frac{y-1}{2}=\\frac{z-4}{4}$$\n",
    "- (D)$$\\frac{x-1}{1}=\\frac{y-1}{-1}=\\frac{z+4}{4}$$"
   ]
  },
  {
   "cell_type": "markdown",
   "id": "439efc55-2142-4b7a-b9b4-3b910c5ae285",
   "metadata": {},
   "source": [
    "#### 8. 点$(1,0,0)$关于平面$x+2y-z-7=0$对称点为\n",
    "\n",
    "- (A) $$(2,2,-1)$$\n",
    "- (B) $$(-1,6,-2)$$\n",
    "- (C) $$(-1,4,-6)$$\n",
    "- (D) $$(3,4,-2)$$"
   ]
  },
  {
   "cell_type": "markdown",
   "id": "8e9b1b40-ab3b-4e4c-8e18-4a7159286958",
   "metadata": {},
   "source": [
    "### 2. 填空题 "
   ]
  },
  {
   "cell_type": "markdown",
   "id": "8ffc9bbd-9c50-45fa-9dde-c851b3d4a680",
   "metadata": {},
   "source": [
    "#### 1. 若向量 $\\mathbf{x}$ 与$\\mathbf{a}=2\\mathbf{i}-\\mathbf{j}+2\\mathbf{k}$ 共线且满足$\\mathbf{a}\\cdot\\mathbf{x}=-18$, 则$\\mathbf{x}=\\underline{\\hspace{2cm}}$"
   ]
  },
  {
   "cell_type": "markdown",
   "id": "c5388192-b8ac-47e1-9ce8-f24612da3b5e",
   "metadata": {},
   "source": [
    "#### 2. 若直线$$\\frac{x-1}{1}=\\frac{y+1}{2}=\\frac{z-1}{\\lambda}$$与直线$$\\frac{x+1}{1}=\\frac{y-1}{1}=\\frac{z}{1}$$ 相交，则$\\lambda=\\underline{\\hspace{2cm}}$"
   ]
  },
  {
   "cell_type": "markdown",
   "id": "ebb51d74-5e3c-4361-a207-ed763c6b4201",
   "metadata": {},
   "source": [
    "#### 3. 一平面通过$y$ 轴，且点$(4,4,-2)$到该平面的距离等于$(4,4,-2)$到$z=0$的距离，则该平面方程为:$\\underline{\\hspace{2cm}}$"
   ]
  },
  {
   "cell_type": "markdown",
   "id": "2f396066-dedf-47e0-82a5-97f1cc1de9fe",
   "metadata": {},
   "source": [
    "#### 4. 直线$$l_1:\\frac{x-1}{-1}=\\frac{y}{-4}=\\frac{z+3}{1}$$ 和$$l_2:\\frac{x}{2}=\\frac{y+2}{-2}=\\frac{z}{-1}$$的夹角为$\\underline{\\hspace{2cm}}.$"
   ]
  },
  {
   "cell_type": "markdown",
   "id": "a8c8dcb5-981e-4bc9-abc4-b5be3f79263e",
   "metadata": {},
   "source": [
    "#### 5. 曲线 $\\left\\{\\begin{aligned}\n",
    "(x+2)^2-z^2=4\\\\\n",
    "(x-2)^2+y^2=4\n",
    "\\end{aligned}\\right.$ 在$yOz$坐标平面上的<font color=red>投影曲线</font>为$=\\underline{\\hspace{2cm}}.$"
   ]
  },
  {
   "cell_type": "markdown",
   "id": "c9489987-7f9d-451a-9433-8fa8dda1da7f",
   "metadata": {},
   "source": [
    "### 3. 计算题 "
   ]
  },
  {
   "cell_type": "markdown",
   "id": "57681bb2-6cc1-43fe-8039-70bed22a7d8b",
   "metadata": {},
   "source": [
    "#### 1. 已知平面$\\pi$ 过直线$$l_1:\\left\\{\\begin{aligned}x-y-2z+1&=0\\\\\n",
    "2y-2z+1&=0 \\end{aligned}\\right.$$且$\\pi$与直线$$\\frac{x}{-1}=\\frac{y+1}{1}=\\frac{z-2}{-1}$$ 的夹角为$\\arcsin\\frac{\\sqrt{6}}{3}$, 求平面$\\pi$的方程。"
   ]
  },
  {
   "cell_type": "markdown",
   "id": "522b8ab8-4664-4b8e-b7a3-0539846e83be",
   "metadata": {},
   "source": [
    "#### 2. 直线$$l_1:\\frac{x-4}{1}=\\frac{y-3}{-2}=\\frac{z-8}{1}$$上有一动点$P$, 直线 $$l_2:\\frac{x+1}{7}=\\frac{y+1}{-6}=\\frac{z+1}{6}$$ 上有两个动点$A,B$，且他们的距离为$|AB|=5$, 求三角形$APB$面积的最小值。"
   ]
  },
  {
   "cell_type": "markdown",
   "id": "4c9a78ea-4fb8-4d2b-987d-d55eecf3a399",
   "metadata": {},
   "source": [
    "#### 3. 设直线$\\frac{x}{0}=\\frac{y}{1}=\\frac{z}{1}$。动点$P(x,y,z)$到$l$的距离为$3$。（1）求动点轨迹方程，（2）若$P$在$xOy$平面上，且直线$OP$与$\\sqrt{3}x+\\sqrt{3}y+\\sqrt{2}z=\\sqrt{6}$夹角为$\\pi/3$, 求$P$的坐标。"
   ]
  },
  {
   "cell_type": "markdown",
   "id": "3bf6f0d6-3ffe-4ebc-8936-142132c3354b",
   "metadata": {},
   "source": [
    "#### 4. 已知直线 $l_1:\\left\\{\\begin{aligned}x+y&=0\\\\z+1&=0 \\end{aligned}\\right.$和 $l_2:\\left\\{\\begin{aligned}x-y&=0\\\\z-1&=0 \\end{aligned}\\right.$ （1）证明：$l_1,l_2$为异面直线，（2）求$l_1,l_2$的公垂线方程。"
   ]
  },
  {
   "cell_type": "markdown",
   "id": "a2965947-2871-44ee-a4d0-86fb77a89c27",
   "metadata": {},
   "source": [
    "#### 5. 求直线$$l_1:\\left\\{\\begin{aligned}x+2y-3z=2\\\\\n",
    "2x-y+z=3 \\end{aligned}\\right.$$在平面$z=1$上的投影直线$l$, 且求点$M_0(1,2,1)$到直线$l$的距离。"
   ]
  },
  {
   "cell_type": "markdown",
   "id": "17d41516-5139-4261-aae2-6548137f0adf",
   "metadata": {},
   "source": [
    "#### 6. 设$l_1:\\frac{x}{4}=\\frac{y}{1}=\\frac{z}{1}$, $l_2:\\left\\{\\begin{aligned}z-5x&=-6\\\\z-4y&=3\\end{aligned}\\right.$, $l_3:\\left\\{\\begin{aligned}y-2x&=3\\\\z-3y&=5\\end{aligned}\\right.，$求平行于直线$l_1$而分别于直线$l_2,l_3$相交的直线方程。"
   ]
  },
  {
   "cell_type": "markdown",
   "id": "7220934c-221d-424d-bf77-8f6af78d0709",
   "metadata": {},
   "source": [
    "<font color=red>注意</font>：这些题目，给足够长的时间，谁都能算出来，练习的目的是，找到快速、不容易出错的方法，自信地算出来。"
   ]
  }
 ],
 "metadata": {
  "kernelspec": {
   "display_name": "Python 3 (ipykernel)",
   "language": "python",
   "name": "python3"
  },
  "language_info": {
   "codemirror_mode": {
    "name": "ipython",
    "version": 3
   },
   "file_extension": ".py",
   "mimetype": "text/x-python",
   "name": "python",
   "nbconvert_exporter": "python",
   "pygments_lexer": "ipython3",
   "version": "3.12.7"
  }
 },
 "nbformat": 4,
 "nbformat_minor": 5
}

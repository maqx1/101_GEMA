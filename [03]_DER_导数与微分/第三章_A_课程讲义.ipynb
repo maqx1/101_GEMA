{
 "cells": [
  {
   "cell_type": "markdown",
   "id": "1f6cbf28-54f8-4882-8371-4c86ab2f23a3",
   "metadata": {},
   "source": [
    "# **内容梳理** "
   ]
  },
  {
   "cell_type": "markdown",
   "id": "97305c79-7e05-41b8-b151-42b57e34cce7",
   "metadata": {},
   "source": [
    "### [300] 第三章：《导数与微分》"
   ]
  },
  {
   "cell_type": "markdown",
   "id": "533daed5-113c-4183-841e-15683ba2432f",
   "metadata": {},
   "source": [
    "1. 导数的概念：差商的极限。\n",
    "2. 微分：与线性函数的差是距离的无穷小量。\n",
    "3. 导数与微分的运算法则：线性+莱布尼茨法则+链导法则。\n",
    "4. 隐函数与参数方程求导法：对他们满足的关系求导，再回代。\n",
    "5. 导数概念在实际问题中的应用。\n",
    "6. 高阶导数：莱布尼茨公式、递推法。"
   ]
  },
  {
   "cell_type": "markdown",
   "id": "c59eddc9-81c9-4053-a40f-5a5c3f7ffe66",
   "metadata": {
    "jp-MarkdownHeadingCollapsed": true
   },
   "source": [
    "### [301] <font color=red>自测是否掌握导数与微分：</font>\n"
   ]
  },
  {
   "cell_type": "markdown",
   "id": "0495d904-808f-4294-9e1d-8e22bb40b622",
   "metadata": {},
   "source": [
    "# **课本导读**"
   ]
  },
  {
   "cell_type": "markdown",
   "id": "507b38d9-055c-4058-a16a-84d2b0939df8",
   "metadata": {},
   "source": [
    "## **1. 导数的概念**"
   ]
  },
  {
   "cell_type": "markdown",
   "id": "c275ee54-e2f9-4e5d-b3cc-1eb5daaff2e9",
   "metadata": {},
   "source": [
    "## **2. 微分**"
   ]
  },
  {
   "cell_type": "markdown",
   "id": "75655b89-3167-4775-9f2c-81b9bf490e28",
   "metadata": {},
   "source": [
    "## **3. 导数与微分的运算法则**"
   ]
  },
  {
   "cell_type": "markdown",
   "id": "0d05f924",
   "metadata": {},
   "source": [
    "## **4. 隐函数与参数方程求导法**"
   ]
  },
  {
   "cell_type": "markdown",
   "id": "6c5a5622-3e6a-45b1-a6da-680ba4d9e3cd",
   "metadata": {},
   "source": [
    "## **5. 导数概念在实际问题中的应用**  "
   ]
  },
  {
   "cell_type": "markdown",
   "id": "a6838b0e-78b1-44bc-800a-c2d3b76320b7",
   "metadata": {},
   "source": [
    "## **6. 高阶导数** "
   ]
  },
  {
   "cell_type": "markdown",
   "id": "eca5d4c8",
   "metadata": {},
   "source": [
    "# **例题精讲**"
   ]
  },
  {
   "cell_type": "code",
   "execution_count": null,
   "id": "4f80c8ac-90a9-48fa-ad78-a191755981f8",
   "metadata": {},
   "outputs": [],
   "source": []
  }
 ],
 "metadata": {
  "kernelspec": {
   "display_name": "Python 3 (ipykernel)",
   "language": "python",
   "name": "python3"
  },
  "language_info": {
   "codemirror_mode": {
    "name": "ipython",
    "version": 3
   },
   "file_extension": ".py",
   "mimetype": "text/x-python",
   "name": "python",
   "nbconvert_exporter": "python",
   "pygments_lexer": "ipython3",
   "version": "3.12.8"
  }
 },
 "nbformat": 4,
 "nbformat_minor": 5
}

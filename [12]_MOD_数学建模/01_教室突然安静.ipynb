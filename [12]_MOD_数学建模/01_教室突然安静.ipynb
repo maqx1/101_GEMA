{
 "cells": [
  {
   "cell_type": "markdown",
   "id": "3a5b3d1b-6354-427e-bc7c-f31db92b1bc7",
   "metadata": {},
   "source": [
    "## 1. 问题描述 "
   ]
  },
  {
   "cell_type": "markdown",
   "id": "89f9a2ad-b3b7-4c37-aa33-5ad9d1f1a4a9",
   "metadata": {},
   "source": [
    "## 2. 数学建模"
   ]
  },
  {
   "cell_type": "markdown",
   "id": "1b356dee-b8a1-4eb2-bc8e-de9a151d25cf",
   "metadata": {},
   "source": [
    "考虑 $6\\times 6$ 人的教室，每位同学坐标为 $(i,j)$, 其中 $1\\leq i,j\\leq 6$。我们记 $t$ 时刻 $(i,j)$ 位置的同学发出的音量为 $a_{i,j}(t)$, 它们是时间 $t$ 的函数。"
   ]
  },
  {
   "cell_type": "markdown",
   "id": "578860f6-b83f-4119-80dc-0655bfe681c2",
   "metadata": {},
   "source": [
    "位置 $(i,j)$ 的同学在 $(t+1)$ 时刻发出的音量取决于两个因素\n",
    "\n",
    "1. 环境音量 $b_{i,j}(t)$：若环境音量大，则同学声音大；若环境音量小，则同学声音小。\n",
    "2. 随机波动：每位同学发出的声音受到随机因素波动。\n",
    " "
   ]
  },
  {
   "cell_type": "markdown",
   "id": "4141ecd1-5860-478d-a73c-b2bf3c23a54e",
   "metadata": {},
   "source": [
    "对$(i,j)$位置的同学\n",
    "1. 其环境音量我们使用邻近同学音量的平均值计算 $$b_{i,j}(t)=\\frac{\\sum_{-1\\leq m,n\\leq 1}a_{i+m,j+n}(t)}{9}$$\n",
    "2. 随机因素，即对每个 $(i,j)$ 我们生成一个无限长的随机序列 $c_{i,j}(t)$，取值于$(0.05,1.05)$ 之间。\n",
    "3. 其综合影响为 $$a_{i,j}(t+1)=b_{i,j}(t)\\cdot c_{i,j}(t)$$"
   ]
  },
  {
   "cell_type": "markdown",
   "id": "d3e8c60f-23ad-41a9-9498-47d55174fc54",
   "metadata": {},
   "source": [
    "我们将绘制教室总音量随时间的演化图$$S(t)=\\sum_{1\\leq i,j\\leq 6} a_{i,j}(t)$$"
   ]
  },
  {
   "cell_type": "code",
   "execution_count": 5,
   "id": "a681bd02-2b6c-4d91-a79b-ff09d5e8e329",
   "metadata": {},
   "outputs": [],
   "source": [
    "import numpy as np\n",
    "import pandas as pd\n",
    "import random\n",
    "import matplotlib.pyplot as plt"
   ]
  },
  {
   "cell_type": "code",
   "execution_count": null,
   "id": "4713de9a-194c-4777-a3c8-ff7f4d26e391",
   "metadata": {},
   "outputs": [],
   "source": [
    "for i in "
   ]
  }
 ],
 "metadata": {
  "kernelspec": {
   "display_name": "Python 3 (ipykernel)",
   "language": "python",
   "name": "python3"
  },
  "language_info": {
   "codemirror_mode": {
    "name": "ipython",
    "version": 3
   },
   "file_extension": ".py",
   "mimetype": "text/x-python",
   "name": "python",
   "nbconvert_exporter": "python",
   "pygments_lexer": "ipython3",
   "version": "3.12.7"
  }
 },
 "nbformat": 4,
 "nbformat_minor": 5
}

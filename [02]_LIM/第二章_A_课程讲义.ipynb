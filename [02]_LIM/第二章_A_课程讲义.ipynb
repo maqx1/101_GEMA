{
 "cells": [
  {
   "cell_type": "markdown",
   "id": "1f6cbf28-54f8-4882-8371-4c86ab2f23a3",
   "metadata": {},
   "source": [
    "# **内容梳理** "
   ]
  },
  {
   "cell_type": "markdown",
   "id": "97305c79-7e05-41b8-b151-42b57e34cce7",
   "metadata": {},
   "source": [
    "### [200] 第二章：《极限与连续》"
   ]
  },
  {
   "cell_type": "markdown",
   "id": "533daed5-113c-4183-841e-15683ba2432f",
   "metadata": {},
   "source": [
    "1. 数列的极限：$\\epsilon-N$ 语言，$G-N$ 语言。\n",
    "2. 数列极限的性质与运算法则：线性性、有界性、唯一性、稳定性、保序性。\n",
    "3. 数列极限存在的判别法：夹逼定理、单调有限收敛定理。\n",
    "4. 函数的极限：去心邻域，$\\epsilon-\\delta$语言，$M-\\delta$语言。\n",
    "5. 函数的连续性：极限=值。\n",
    "6. 闭区间上连续函数的性质：闭区间映为闭区间（你能展开这个叙述吗？）。\n"
   ]
  },
  {
   "cell_type": "markdown",
   "id": "c59eddc9-81c9-4053-a40f-5a5c3f7ffe66",
   "metadata": {
    "jp-MarkdownHeadingCollapsed": true
   },
   "source": [
    "### [201] <font color=red>自测是否掌握数列极限与函数的连续性：</font>\n"
   ]
  },
  {
   "cell_type": "markdown",
   "id": "0495d904-808f-4294-9e1d-8e22bb40b622",
   "metadata": {},
   "source": [
    "# **课本导读**"
   ]
  },
  {
   "cell_type": "markdown",
   "id": "507b38d9-055c-4058-a16a-84d2b0939df8",
   "metadata": {},
   "source": [
    "## **1. 数列的极限**"
   ]
  },
  {
   "cell_type": "markdown",
   "id": "c275ee54-e2f9-4e5d-b3cc-1eb5daaff2e9",
   "metadata": {},
   "source": [
    "## **2. 数列极限的性质和运算法则**"
   ]
  },
  {
   "cell_type": "markdown",
   "id": "aa849e78",
   "metadata": {},
   "source": [
    "## **3. 数量极限存在的判别法**"
   ]
  },
  {
   "cell_type": "markdown",
   "id": "0d05f924",
   "metadata": {},
   "source": [
    "## **4. 函数的极限**"
   ]
  },
  {
   "cell_type": "markdown",
   "id": "e6962b56-a607-4fae-bbe6-f52d7f03d7e8",
   "metadata": {},
   "source": [
    "## **5. 函数的连续性** "
   ]
  },
  {
   "cell_type": "markdown",
   "id": "7d7d07cb-c9d5-43b6-af24-f1febd4dfd41",
   "metadata": {},
   "source": [
    "## **6. 闭区间上连续函数的性质** "
   ]
  },
  {
   "cell_type": "markdown",
   "id": "eca5d4c8",
   "metadata": {},
   "source": [
    "# **例题精讲**"
   ]
  },
  {
   "cell_type": "code",
   "execution_count": null,
   "id": "4f80c8ac-90a9-48fa-ad78-a191755981f8",
   "metadata": {},
   "outputs": [],
   "source": []
  }
 ],
 "metadata": {
  "kernelspec": {
   "display_name": "Python 3 (ipykernel)",
   "language": "python",
   "name": "python3"
  },
  "language_info": {
   "codemirror_mode": {
    "name": "ipython",
    "version": 3
   },
   "file_extension": ".py",
   "mimetype": "text/x-python",
   "name": "python",
   "nbconvert_exporter": "python",
   "pygments_lexer": "ipython3",
   "version": "3.12.8"
  }
 },
 "nbformat": 4,
 "nbformat_minor": 5
}

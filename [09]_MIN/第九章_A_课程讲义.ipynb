{
 "cells": [
  {
   "cell_type": "markdown",
   "id": "1f6cbf28-54f8-4882-8371-4c86ab2f23a3",
   "metadata": {},
   "source": [
    "# **内容梳理** "
   ]
  },
  {
   "cell_type": "markdown",
   "id": "97305c79-7e05-41b8-b151-42b57e34cce7",
   "metadata": {},
   "source": [
    "### [900] 第九章：《重积分》"
   ]
  },
  {
   "cell_type": "markdown",
   "id": "948c0c8b-7b53-4555-bdfc-bd252b7048c4",
   "metadata": {},
   "source": [
    "1. 重积分的概念和性质：分块，求和，取极限。积分中值定理。\n",
    "2. 二重积分的计算：直角坐标、极坐标、变量代换（雅可比行列式）。\n",
    "3. 三重积分的计算：直角、柱、球坐标、变量代换（雅可比行列式）。\n",
    "4. 重积分的应用：曲面面积。"
   ]
  },
  {
   "cell_type": "markdown",
   "id": "c59eddc9-81c9-4053-a40f-5a5c3f7ffe66",
   "metadata": {
    "jp-MarkdownHeadingCollapsed": true
   },
   "source": [
    "### [901] <font color=red>自测是否掌握重积分：</font>\n",
    "\n",
    "往届高数学生自制视频：https://www.bilibili.com/video/BV1uzFjeHECd?p=2&spm_id_from=333.788.videopod.episodes"
   ]
  },
  {
   "cell_type": "markdown",
   "id": "0495d904-808f-4294-9e1d-8e22bb40b622",
   "metadata": {},
   "source": [
    "# **课本导读**"
   ]
  },
  {
   "cell_type": "markdown",
   "id": "507b38d9-055c-4058-a16a-84d2b0939df8",
   "metadata": {},
   "source": [
    "## **1. 重积分的概念和性质**"
   ]
  },
  {
   "cell_type": "markdown",
   "id": "c275ee54-e2f9-4e5d-b3cc-1eb5daaff2e9",
   "metadata": {},
   "source": [
    "## **2. 二重积分的计算**"
   ]
  },
  {
   "cell_type": "markdown",
   "id": "75655b89-3167-4775-9f2c-81b9bf490e28",
   "metadata": {},
   "source": [
    "## **3. 三重积分的计算**"
   ]
  },
  {
   "cell_type": "markdown",
   "id": "aa849e78",
   "metadata": {},
   "source": [
    "## **4. 重积分的应用**"
   ]
  },
  {
   "cell_type": "markdown",
   "id": "eca5d4c8",
   "metadata": {},
   "source": [
    "# **例题精讲**"
   ]
  },
  {
   "cell_type": "code",
   "execution_count": null,
   "id": "4f80c8ac-90a9-48fa-ad78-a191755981f8",
   "metadata": {},
   "outputs": [],
   "source": []
  },
  {
   "cell_type": "code",
   "execution_count": null,
   "id": "1204dda7-5662-4d59-8144-eb00406a43a4",
   "metadata": {},
   "outputs": [],
   "source": []
  }
 ],
 "metadata": {
  "kernelspec": {
   "display_name": "Python 3 (ipykernel)",
   "language": "python",
   "name": "python3"
  },
  "language_info": {
   "codemirror_mode": {
    "name": "ipython",
    "version": 3
   },
   "file_extension": ".py",
   "mimetype": "text/x-python",
   "name": "python",
   "nbconvert_exporter": "python",
   "pygments_lexer": "ipython3",
   "version": "3.12.8"
  }
 },
 "nbformat": 4,
 "nbformat_minor": 5
}

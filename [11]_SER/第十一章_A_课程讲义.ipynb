{
 "cells": [
  {
   "cell_type": "markdown",
   "id": "1f6cbf28-54f8-4882-8371-4c86ab2f23a3",
   "metadata": {},
   "source": [
    "# **内容梳理** "
   ]
  },
  {
   "cell_type": "markdown",
   "id": "97305c79-7e05-41b8-b151-42b57e34cce7",
   "metadata": {},
   "source": [
    "### [b00] 第十一章：《级数》"
   ]
  },
  {
   "cell_type": "markdown",
   "id": "533daed5-113c-4183-841e-15683ba2432f",
   "metadata": {},
   "source": [
    "1. 数项级数概念与基本性质：通过“部分和”与数列联系。\n",
    "2. 正项级数及其敛散性判别法：比较判别、比值判别、根值判别、积分判别。\n",
    "3. 任意项级数散敛性判别法：莱布尼茨交错判别法。（阿贝尔、迪利克雷判别法）。\n",
    "4. 函数项级数及其散敛性：逐项求导与积分。\n",
    "5. 幂级数：泰勒展开，逐项求导、积分的具体应用。\n",
    "6. 傅里叶级数：定义、收敛条件：Dirichlet定理，与内积的联系。\n"
   ]
  },
  {
   "cell_type": "markdown",
   "id": "c59eddc9-81c9-4053-a40f-5a5c3f7ffe66",
   "metadata": {
    "jp-MarkdownHeadingCollapsed": true
   },
   "source": [
    "### [b01] <font color=red>自测是否掌握级数：</font>"
   ]
  },
  {
   "cell_type": "markdown",
   "id": "0495d904-808f-4294-9e1d-8e22bb40b622",
   "metadata": {},
   "source": [
    "# **课本导读**"
   ]
  },
  {
   "cell_type": "markdown",
   "id": "507b38d9-055c-4058-a16a-84d2b0939df8",
   "metadata": {},
   "source": [
    "## **1. 数项级数的概念和基本性质**"
   ]
  },
  {
   "cell_type": "markdown",
   "id": "c275ee54-e2f9-4e5d-b3cc-1eb5daaff2e9",
   "metadata": {},
   "source": [
    "## **2. 正项级数及其敛散性判别法**"
   ]
  },
  {
   "cell_type": "markdown",
   "id": "75655b89-3167-4775-9f2c-81b9bf490e28",
   "metadata": {},
   "source": [
    "## **3. 任意项级数敛散性的判别法**"
   ]
  },
  {
   "cell_type": "markdown",
   "id": "aa849e78",
   "metadata": {},
   "source": [
    "## **4. 函数项级数及其敛散性**"
   ]
  },
  {
   "cell_type": "markdown",
   "id": "0d05f924",
   "metadata": {},
   "source": [
    "## **5. 幂级数**"
   ]
  },
  {
   "cell_type": "markdown",
   "id": "e9294002-4d62-4172-88d7-af6ed53e7e79",
   "metadata": {},
   "source": [
    "## **6. 傅里叶级数**"
   ]
  },
  {
   "cell_type": "markdown",
   "id": "eca5d4c8",
   "metadata": {},
   "source": [
    "# **例题精讲**"
   ]
  },
  {
   "cell_type": "code",
   "execution_count": null,
   "id": "4f80c8ac-90a9-48fa-ad78-a191755981f8",
   "metadata": {},
   "outputs": [],
   "source": []
  }
 ],
 "metadata": {
  "kernelspec": {
   "display_name": "Python 3 (ipykernel)",
   "language": "python",
   "name": "python3"
  },
  "language_info": {
   "codemirror_mode": {
    "name": "ipython",
    "version": 3
   },
   "file_extension": ".py",
   "mimetype": "text/x-python",
   "name": "python",
   "nbconvert_exporter": "python",
   "pygments_lexer": "ipython3",
   "version": "3.12.8"
  }
 },
 "nbformat": 4,
 "nbformat_minor": 5
}

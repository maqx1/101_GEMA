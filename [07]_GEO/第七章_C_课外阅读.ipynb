{
 "cells": [
  {
   "cell_type": "markdown",
   "id": "3d34b27c-f85c-460d-828b-4e095a6e3772",
   "metadata": {},
   "source": [
    "## 1. 初次见面：双重外积公式\n",
    "\n",
    "$$(\\mathbf{a}\\times\\mathbf{b})\\times\\mathbf{c}=(\\mathbf{a},\\mathbf{c})\\mathbf{b}-(\\mathbf{b},\\mathbf{c})\\mathbf{a}$$"
   ]
  },
  {
   "cell_type": "markdown",
   "id": "46c12f5c-cda2-45f5-8289-448db598261a",
   "metadata": {},
   "source": [
    "1. $(\\mathbf{a}\\times\\mathbf{b})\\times\\mathbf{c}$ 一定与 $\\mathbf{a}\\times \\mathbf{b}$ 垂直，因此可表示为 $\\mathbf{a},\\mathbf{b}$ 的线性组合。"
   ]
  },
  {
   "cell_type": "markdown",
   "id": "e6294142-4260-4f46-a9df-5a482b5b288f",
   "metadata": {},
   "source": [
    "2. 因此不妨设 $(\\mathbf{a}\\times\\mathbf{b})\\times\\mathbf{c}=x\\mathbf{a}+y\\mathbf{b}$"
   ]
  },
  {
   "cell_type": "markdown",
   "id": "71bd3f2d-d7db-4742-ad5f-51e0363d2975",
   "metadata": {},
   "source": [
    "3. 两边同时与 $\\mathbf{c}$ 点乘，得知 $x(\\mathbf{a},\\mathbf{c})+y(\\mathbf{b},\\mathbf{c})=0$, 因此 $$\\frac{x}{y}=-\\frac{(\\mathbf{b},\\mathbf{c})}{(\\mathbf{a},\\mathbf{c})}.$$"
   ]
  },
  {
   "cell_type": "markdown",
   "id": "a0361c3d-d0fe-496a-bf98-c6ecd9912869",
   "metadata": {},
   "source": [
    "4. 因此 $(\\mathbf{a}\\times\\mathbf{b})\\times\\mathbf{c}=k((\\mathbf{a},\\mathbf{c})\\mathbf{b}-(\\mathbf{b},\\mathbf{c})\\mathbf{a})$"
   ]
  },
  {
   "cell_type": "markdown",
   "id": "54020a7c-21f5-4616-88f3-4f6f8a370395",
   "metadata": {},
   "source": [
    "5. 思考：如何进一步得到上述 $k=1$ ？"
   ]
  },
  {
   "cell_type": "markdown",
   "id": "734e64d4-c299-4538-8338-8c694599a180",
   "metadata": {},
   "source": [
    "## 2. 柯西-比涅恒等式\n",
    "$$(\\mathbf{a}\\times\\mathbf{b})\\cdot(\\mathbf{c}\\times\\mathbf{d})=(\\mathbf{a},\\mathbf{c})(\\mathbf{b},\\mathbf{d})-(\\mathbf{a},\\mathbf{d})(\\mathbf{b},\\mathbf{c})$$"
   ]
  },
  {
   "cell_type": "markdown",
   "id": "03f82550-50da-44ab-afdf-7d96d78d2032",
   "metadata": {},
   "source": [
    "1. 根据混合积性质，有 $$(\\mathbf{a}\\times\\mathbf{b})\\cdot{\\color{red}(\\mathbf{c}\\times\\mathbf{d})}=({\\color{red}(\\mathbf{c}\\times\\mathbf{d})\\color{red}}\\times\\mathbf{a})\\cdot\\mathbf{b}$$"
   ]
  },
  {
   "cell_type": "markdown",
   "id": "1a3d6441-13f2-479c-9db7-4d38f52fe2ae",
   "metadata": {},
   "source": [
    "2. 代入双重外积公式，你得到什么？"
   ]
  },
  {
   "cell_type": "markdown",
   "id": "acc7c41d-1fa7-4788-b4b3-35aced7af8a1",
   "metadata": {},
   "source": [
    "## 3. 拉格朗日恒等式"
   ]
  },
  {
   "cell_type": "markdown",
   "id": "7bfdbeed-4c1a-4fba-976c-4728b8e91e14",
   "metadata": {},
   "source": [
    "$$|\\mathbf{a}\\times\\mathbf{b}|^2=|\\mathbf{a}|^2|\\mathbf{b}|^2-(\\mathbf{a},\\mathbf{b})^2$$"
   ]
  },
  {
   "cell_type": "markdown",
   "id": "0d08346c-539f-4941-8792-905a0704bf1a",
   "metadata": {},
   "source": [
    "1. 思考：除了课本上的展开计算，能不能通过上述恒等式更简洁地推导？"
   ]
  },
  {
   "cell_type": "markdown",
   "id": "9fd6e053-50f9-4943-a9af-2c628b1a53fd",
   "metadata": {},
   "source": [
    "## 4. 雅可比恒等式\n",
    "$$(\\mathbf{a}\\times\\mathbf{b})\\times\\mathbf{c}+(\\mathbf{b}\\times\\mathbf{c})\\times\\mathbf{a}+(\\mathbf{c}\\times\\mathbf{a})\\times\\mathbf{b}=0$$"
   ]
  },
  {
   "cell_type": "markdown",
   "id": "1a72803a-d5a1-4fcf-8cd6-d55a4dd8bd8a",
   "metadata": {},
   "source": [
    "1. 思考：如何证明？"
   ]
  },
  {
   "cell_type": "markdown",
   "id": "e698cfc5-f96b-4bf7-9fab-d20017f6a7c4",
   "metadata": {},
   "source": [
    "## 5. 矢量四重积 "
   ]
  },
  {
   "cell_type": "markdown",
   "id": "75f542de-ef9b-463e-9027-29a5412e6edd",
   "metadata": {},
   "source": [
    "$$(\\mathbf{a}\\times\\mathbf{b})\\times(\\mathbf{c}\\times\\mathbf{d})=(\\mathbf{a},\\mathbf{b},\\mathbf{d})\\mathbf{c}-(\\mathbf{a},\\mathbf{b},\\mathbf{c})\\mathbf{d}$$\n",
    "$$(\\mathbf{a}\\times\\mathbf{b})\\times(\\mathbf{c}\\times\\mathbf{d})=(\\mathbf{a},\\mathbf{c},\\mathbf{d})\\mathbf{b}-(\\mathbf{b},\\mathbf{c},\\mathbf{d})\\mathbf{a}$$"
   ]
  },
  {
   "cell_type": "markdown",
   "id": "f77b46ff-4bcf-4551-ab13-a486f3b74a36",
   "metadata": {},
   "source": [
    "1. 思考：如何证明？"
   ]
  },
  {
   "cell_type": "markdown",
   "id": "02e9e976-2804-4b44-a97a-472d65362bfa",
   "metadata": {},
   "source": [
    "2. 比较等式右端，得到 $$\\mathbf{d}=\\frac{(\\mathbf{d,b,c})}{(\\mathbf{a,b,c})}\\mathbf{a}+\\frac{(\\mathbf{d,c,a})}{(\\mathbf{a,b,c})}\\mathbf{b}+\\frac{(\\mathbf{d,a,b})}{(\\mathbf{a,b,c})}\\mathbf{c}$$\n",
    "   这个等式有什么含义？与Cramer法则有何联系？"
   ]
  },
  {
   "cell_type": "markdown",
   "id": "25c3b3ce-7937-4502-b5a2-a602423a9283",
   "metadata": {},
   "source": [
    "## 7. 微分算子 nabla"
   ]
  },
  {
   "cell_type": "markdown",
   "id": "a1b9518b-5c5b-430d-bbc2-68b5bb145fab",
   "metadata": {},
   "source": [
    "1. 我们定义作用于函数的 $\\nabla$ 算符，它把一个 $\\mathbb{R}^3$ 上的函数变成 $\\mathbb{R}^3$ 上的向量值函数\n",
    "$$\\nabla=\\mathbf{i}\\partial_1+\\mathbf{j}\\partial_2+\\mathbf{k}\\partial_3$$\n",
    "注意，这里我们把算符写在$\\mathbf{i,j,k}$右边，而把函数写在左边。"
   ]
  },
  {
   "cell_type": "markdown",
   "id": "6dcf1243-d043-4a39-b9ce-6d5c54c78407",
   "metadata": {},
   "source": [
    "2. 我们定义作用于向量值函数的算符 $\\nabla\\cdot$，它把 $\\mathbb{R}^3$ 上的向量值函数变为 $\\mathbb{R}^3$ 上的函数\n",
    "   $$\\nabla\\cdot \\mathbf{f}=(\\mathbf{i}\\partial_1+\\mathbf{j}\\partial_2+\\mathbf{k}\\partial_3)\\cdot(f_1\\mathbf{i}+f_2\\mathbf{j}+f_3\\mathbf{k})=\\partial_1f_1+\\partial_2f_2+\\partial_3f_3$$"
   ]
  },
  {
   "cell_type": "markdown",
   "id": "50fc1041-00b6-4da7-88d1-7eb2db1266f7",
   "metadata": {},
   "source": [
    "3. 我们定义作用于向量值函数的算符 $\\nabla\\times$，它把 $\\mathbb{R}^3$ 上的向量值函数变为 $\\mathbb{R}^3$ 上的向量值函数\n",
    "   $$\\nabla\\times \\mathbf{f}=(\\mathbf{i}\\partial_1+\\mathbf{j}\\partial_2+\\mathbf{k}\\partial_3)\\times(f_1\\mathbf{i}+f_2\\mathbf{j}+f_3\\mathbf{k})=(\\partial_2f_3-\\partial_3f_2)\\mathbf{i}+(\\partial_3f_1-\\partial_1f_3)\\mathbf{j}+(\\partial_1f_2-\\partial_2f_1)\\mathbf{k}$$"
   ]
  },
  {
   "cell_type": "markdown",
   "id": "3d280e60-6d41-450c-a4e0-8bba1107c520",
   "metadata": {},
   "source": [
    "4. 我们给上述算符以名字 $\\mathrm{grad}=\\nabla$, $\\mathrm{div}=\\nabla\\cdot$, $\\mathrm{rot}=\\nabla\\times$, 思考：它们作用于什么，得到什么？"
   ]
  },
  {
   "cell_type": "markdown",
   "id": "a3ee7880-81b4-46df-a2b1-c3ef4b751786",
   "metadata": {},
   "source": [
    "## 8. 我们验证以下定理：\n",
    "   "
   ]
  },
  {
   "cell_type": "markdown",
   "id": "a2bc0563-f111-4a20-b658-4d5d7dbf818c",
   "metadata": {},
   "source": [
    "#### 1. $\\nabla\\times\\nabla \\phi=0$ (梯度场无旋）"
   ]
  },
  {
   "cell_type": "markdown",
   "id": "229c7a67-8dee-41bc-a03a-e676de606be0",
   "metadata": {},
   "source": [
    "首先，如何理解这个式子？我们能不能理解为 $(\\nabla\\times\\nabla)=0?$ 目前看，好像不行，因为我们根本就没定义过算符的叉乘。我们只定义作用域向量值函数的记号 $\\nabla\\times$。我们不妨记$\\nabla\\phi=(f_1,f_2,f_3)$, 则$\\nabla\\times\\mathbf{f}=(\\partial_2f_3-\\partial_3f_2,\\cdots)$, 注意$f_3=\\partial_3\\phi,f_2=\\partial_2\\phi$, 偏导交换我们知道确实结果$\\partial_2f_3-\\partial_3f_2=\\partial_2\\partial_3\\phi-\\partial_3\\partial_2\\phi=0$. \n",
    "\n",
    "**思考**：有没有一种方法定义算符的叉乘，让$(\\nabla\\times\\nabla)$ 有意义？"
   ]
  },
  {
   "cell_type": "markdown",
   "id": "ae504482-d2cd-48b6-b849-b4519cf36593",
   "metadata": {},
   "source": [
    "事实上，我们总可以把算符分解为坐标部分和算子部分的点乘，坐标部分是常值函数，微分算子不影响，即$$\\partial (cf)=c\\partial(f),$$ 因此算子可以和坐标分量交换，但取微分和乘函数无法交换！\n",
    "$$(xf)'\\neq x(f')$$"
   ]
  },
  {
   "cell_type": "markdown",
   "id": "c859b68f-d0d1-4329-b998-2b6a8775e662",
   "metadata": {},
   "source": [
    "#### 2. $\\nabla\\cdot\\nabla\\times\\mathbf{f}=0$ （旋度场无源）"
   ]
  },
  {
   "cell_type": "markdown",
   "id": "2d57ccee-5099-400c-ae36-9d6897755047",
   "metadata": {},
   "source": [
    "同上直接验证即可。"
   ]
  },
  {
   "cell_type": "markdown",
   "id": "31ea296f-5082-4934-a9fd-21e3ce105f69",
   "metadata": {},
   "source": [
    "**思考**：是否成立 $\\nabla\\cdot\\mathbf{f}\\times\\nabla=0?$"
   ]
  },
  {
   "cell_type": "markdown",
   "id": "371d4fdc-62bb-4643-a59e-4cab3c0c3daf",
   "metadata": {},
   "source": [
    "我们计算$$\\mathbf{f}\\times\\nabla=(f_2\\partial_3-f_3\\partial_2,f_3\\partial_1-f_1\\partial_3,f_1\\partial_2-f_2\\partial_1)$$\n",
    "$$\\nabla\\cdot(\\mathbf{f}\\times\\nabla)=\\partial_1(f_2\\partial_3-f_3\\partial_2)+\\partial_2(f_3\\partial_1-f_1\\partial_3)+\\partial_3(f_1\\partial_2-f_2\\partial_1)$$\n",
    "$$=\n",
    "\\partial_1f_2\\partial_3+f_2\\partial_1\\partial_3\n",
    "-\\partial_1f_3\\partial_2-f_3\\partial_1\\partial_2\n",
    "+\\partial_2f_3\\partial_1+f_3\\partial_2\\partial_1\n",
    "-\\partial_2f_1\\partial_3-f_1\\partial_2\\partial_3\n",
    "+\\partial_3f_1\\partial_2+f_1\\partial_3\\partial_2\n",
    "-\\partial_3f_2\\partial_1-f_2\\partial_3\\partial_1\n",
    "$$\n",
    "$$\n",
    "=\n",
    "(\\partial_1f_2-\\partial_2f_1)\\partial_3\n",
    "+(\\partial_2f_3-\\partial_3f_2)\\partial_1\n",
    "+(\\partial_3f_1-\\partial_1f_3)\\partial_2\n",
    "$$\n",
    "例如$f_1=y,f_2=f_3=0$，上式化简为\n",
    "$\n",
    "\\partial_3\\neq0\n",
    "$\n"
   ]
  },
  {
   "cell_type": "markdown",
   "id": "6c4d3463-b515-48d4-adae-2168d71c5dee",
   "metadata": {},
   "source": [
    "#### 3. <font color=red>没有洞</font>的区域上，$\\nabla\\times \\mathbf{f}=0\\Rightarrow \\mathbf{f}=\\nabla\\phi$, 无旋场为梯"
   ]
  },
  {
   "cell_type": "markdown",
   "id": "e171c419-a058-4a05-bd96-b9f9678ae51c",
   "metadata": {},
   "source": [
    "思考：有洞的区域上，能找到一个反例吗？"
   ]
  },
  {
   "cell_type": "markdown",
   "id": "5b396345-79b5-46d2-a6ac-bbda9baacf7e",
   "metadata": {},
   "source": [
    "#### 4. <font color=red>没有洞</font>的区域上， $\\nabla\\cdot \\mathbf{f}=0\\Rightarrow \\mathbf{f}=\\nabla\\times\\mathbf{A}$, 无源场为旋"
   ]
  },
  {
   "cell_type": "markdown",
   "id": "32aed1df-5ea5-4906-acd7-aa63852e6059",
   "metadata": {},
   "source": [
    "思考；一维的情况，上述定理在说什么？"
   ]
  },
  {
   "cell_type": "markdown",
   "id": "7dd8be9e-7de6-4260-8295-5862d7873939",
   "metadata": {},
   "source": [
    "## 9. nabla 的莱布尼茨公式"
   ]
  },
  {
   "cell_type": "markdown",
   "id": "a113ad3f-2e91-498a-8fde-e6d024420c88",
   "metadata": {},
   "source": [
    "#### 1. $\\nabla(fg)=f\\nabla g+g\\nabla f$ "
   ]
  },
  {
   "cell_type": "markdown",
   "id": "73535e28-14f4-4100-98bb-b053a257c560",
   "metadata": {},
   "source": [
    "#### 2. $\\nabla\\cdot(\\phi\\mathbf{f})=(\\nabla\\phi)\\cdot \\mathbf{f}+\\phi\\nabla\\cdot\\mathbf{f}$ "
   ]
  },
  {
   "cell_type": "markdown",
   "id": "f1b97053-2389-4cea-8471-95df27874ef4",
   "metadata": {},
   "source": [
    "#### 3. $\\nabla\\times(\\phi\\mathbf{f})=(\\nabla\\phi)\\times \\mathbf{f}+\\phi\\nabla\\times\\mathbf{f}$ "
   ]
  },
  {
   "cell_type": "markdown",
   "id": "a13c85e1",
   "metadata": {},
   "source": [
    "思考：为什么微分算子满足莱布尼茨法则？提示：微分算子的各个分量都是过差商的极限定义的。"
   ]
  },
  {
   "cell_type": "markdown",
   "id": "8026b4fa-250e-46bb-a975-cf6c3bb186f9",
   "metadata": {},
   "source": [
    "#### 4. $\\nabla\\cdot(\\mathbf{f\\times g})=(\\nabla\\times \\mathbf{f})\\cdot \\mathbf{g}-\\mathbf{f}\\cdot(\\nabla\\times\\mathbf{g})$  "
   ]
  },
  {
   "cell_type": "markdown",
   "id": "a9c15362-246d-49e1-9c50-3035910254e3",
   "metadata": {},
   "source": [
    "注意这个式子和前面的<font color=blue>莱布尼茨法则</font>不一样，\n",
    "- 多了一个负号。\n",
    "- div 分配后变成了 rot。"
   ]
  },
  {
   "cell_type": "markdown",
   "id": "58736533-ae82-4751-8303-f4c246a8f959",
   "metadata": {},
   "source": [
    "这里其实使用了混合积的性质\n",
    "- 根据莱布尼茨在双线性型上的作用，把一个视为常数，计算另一个的导数，写为 $$\\nabla\\cdot (\\mathbf{f}\\times \\mathbf{g}_c)+\\nabla\\cdot (\\mathbf{f}_c\\times \\mathbf{g})$$\n",
    "- 使用混合积的性质，把叉乘算子挪到需要的位置 $$(\\nabla\\times \\mathbf{f})\\cdot \\mathbf{g}_c-\\nabla\\cdot (\\mathbf{g}\\times \\mathbf{f}_c)=\n",
    "(\\nabla\\times \\mathbf{f})\\cdot \\mathbf{g}_c-(\\nabla\\times\\mathbf{g})\\cdot\\mathbf{f}_c$$"
   ]
  },
  {
   "cell_type": "markdown",
   "id": "b7286285-e0bc-45a2-a93c-7c5878b8c676",
   "metadata": {},
   "source": [
    "####  5. $\\nabla\\times(\\mathbf{f\\times g})=(\\mathbf{g}\\cdot\\nabla)\\mathbf{f}+(\\nabla\\cdot\\mathbf{g})\\mathbf{f}-(\\mathbf{f}\\cdot\\nabla)\\mathbf{g}-(\\nabla\\cdot\\mathbf{f})\\mathbf{g}$"
   ]
  },
  {
   "cell_type": "markdown",
   "id": "54883de1-ead1-4882-8c3a-244448ae67dd",
   "metadata": {},
   "source": [
    "注意这个式子和前面的<font color=blue>莱布尼茨法则</font>不一样，\n",
    "- 多了两个负号，多了一项。\n",
    "- rot 分配后变成了 div。\n",
    "- 但是请注意，$(\\mathbf{g}\\cdot\\nabla)\\mathbf{f}$ 与 $(\\nabla\\cdot\\mathbf{g})\\mathbf{f}$含义不同。这说明点乘对算符和向量不是对称的！\n",
    "- 且慢，$\\mathbf{g}\\cdot\\nabla$是什么？我们好像没有定义过！"
   ]
  },
  {
   "cell_type": "markdown",
   "id": "3dcbf982-a78a-4134-9479-10dd6d19a589",
   "metadata": {},
   "source": [
    "按照我们之前的记号\n",
    "$$(\\nabla\\cdot \\mathbf{g})=\\partial_1g_1+\\partial_2g_2+\\partial_3g_3$$\n",
    "$$(\\mathbf{g}\\cdot\\nabla)=g_1\\partial_1+g_2\\partial_2+g_3\\partial_3$$\n",
    "第二个式子的意思是，对每个分量做微分操作。"
   ]
  },
  {
   "cell_type": "markdown",
   "id": "da3d9b9e-3300-4820-8a9f-985068d32192",
   "metadata": {},
   "source": [
    "- 我们根据莱布尼茨在双线性型上的作用，把一个视为常数，计算另一个的导数，写为：\n",
    "$$\\nabla\\times(f\\times g_c)+\\nabla\\times(f_c\\times g)$$\n",
    "- 根据双重外积公式展开?\n",
    "这个时候我们遇到困难了，预期得到向量，为何得到了算符？因为算符和点乘并不交换，所以我们之前的双重外积公式需要仔细检查顺序！"
   ]
  },
  {
   "cell_type": "markdown",
   "id": "21e919ff-cbd8-48d1-b243-d108384423c9",
   "metadata": {},
   "source": [
    "## 10. 重访：双重外积公式"
   ]
  },
  {
   "cell_type": "markdown",
   "id": "f22e540d-4c57-4090-b0e9-033bcb30ff67",
   "metadata": {},
   "source": [
    "好，我们现在考虑双重外积公式$$\\mathbf{a}\\times(\\mathbf{b}\\times\\mathbf{c})$$但此处$\\mathbf{a},\\mathbf{b}$可能为算符，因此需要注意顺序！"
   ]
  },
  {
   "cell_type": "markdown",
   "id": "b0c9b68f-05aa-40a5-b8c1-7fd2acc2ca02",
   "metadata": {},
   "source": [
    "- 我们设 $$\\mathbf{a}=a_1\\mathbf{i}+a_2\\mathbf{j}+a_3\\mathbf{k}$$\n",
    "$$\\mathbf{b}=b_1\\mathbf{i}+b_2\\mathbf{j}+b_3\\mathbf{k}$$\n",
    "$$\\mathbf{c}=c_1\\mathbf{i}+c_2\\mathbf{j}+c_3\\mathbf{k}$$\n",
    "- 其中若$\\mathbf{a},\\mathbf{b},\\mathbf{c}$ 均为函数，或均为算符，任意换顺序没有问题。\n",
    "- 其中若$\\mathbf{a},\\mathbf{b}$ 为算符，$\\mathbf{c}$ 为函数，前者换顺序没有问题。\n",
    "- 其中若$\\mathbf{a}$为算符，$\\mathbf{b,c}$ 为函数，后者换顺序没有问题。"
   ]
  },
  {
   "cell_type": "markdown",
   "id": "74c82262-cf15-47a1-92fe-55b02fd4303e",
   "metadata": {},
   "source": [
    "我们计算$$\\mathbf{a}\\times(\\mathbf{b}\\times\\mathbf{c})$$\n",
    "$$=\\mathbf{a}\\times(b_2c_3-b_3c_2,b_3c_1-b_1c_3,b_1c_2-b_2c_1)$$\n",
    "$$=(a_2b_1c_2-a_2b_2c_1-a_3b_3c_1+a_3b_1c_3, a_3b_2c_3-a_3b_3c_2-a_1b_1c_2+a_1b_2c_1, a_1b_3c_1-a_1b_1c_3-a_2b_2c_3+a_2b_3c_2)$$\n",
    "$$=(a_2b_1c_2+a_1b_1c_1+a_3b_1c_3, a_3b_2c_3+a_2b_2c_2+a_1b_2c_1, a_1b_3c_1+a_3b_3c_3+a_2b_3c_2)-(\\mathbf{a}\\cdot\\mathbf{b})\\mathbf{c}$$\n",
    "$$={\\color{blue}(\\mathbf{a}|\\mathbf{b}|\\mathbf{c})}-(\\mathbf{a}\\cdot\\mathbf{b})\\mathbf{c}$$\n",
    "- 如果$\\mathbf{a,b}$同型，则为 $\\mathbf{b}(\\mathbf{a,c})-(\\mathbf{a,b})\\mathbf{c}$\n",
    "- 如果$\\mathbf{b,c}$同型，则为 $(\\mathbf{a,c})\\mathbf{b}-(\\mathbf{a,b})\\mathbf{c}$"
   ]
  },
  {
   "cell_type": "markdown",
   "id": "19b8a732-b068-42dc-949c-f0de808cc0e7",
   "metadata": {},
   "source": [
    "好，我们回到先前的公式$$\\nabla\\times(f\\times g_c)+\\nabla\\times(f_c\\times g)$$"
   ]
  },
  {
   "cell_type": "markdown",
   "id": "3c3f60fb-f6bb-42f5-8a96-c36b4c7d26dd",
   "metadata": {},
   "source": [
    "- 化简得到$$(\\nabla\\cdot \\mathbf{g}_c)\\mathbf{f}-(\\nabla\\cdot\\mathbf{f})\\mathbf{g}_c+(\\nabla\\cdot \\mathbf{g})\\mathbf{f}_c-(\\nabla\\cdot\\mathbf{f}_c)\\mathbf{g}$$\n",
    "- 整理得到 $$(\\mathbf{g}\\cdot \\nabla)\\mathbf{f}-(\\nabla\\cdot\\mathbf{f})\\mathbf{g}+(\\nabla\\cdot \\mathbf{g})\\mathbf{f}-(\\mathbf{f}\\cdot\\nabla)\\mathbf{g}$$\n",
    "- 为什么要整理？要怎么整理？注意到这里$g_c$，让$g$临时对$\\nabla$为常数，是一个中间结果，需要调整次序让$\\nabla$不作用在上面，才能作为最终结果给出。如果不整理，则$g$非常值函数时 $g(\\nabla f)\\neq \\nabla (gf)$。"
   ]
  },
  {
   "cell_type": "markdown",
   "id": "bd5e78fc-d56a-4d3b-928b-54a4c9c1f435",
   "metadata": {},
   "source": [
    "我们看到，双重外积公式，最通用的形式是如下的$${\\color{blue}\\mathbf{a}\\times(\\mathbf{b}\\times\\mathbf{c})=(\\mathbf{a}|\\mathbf{b}|\\mathbf{c})-(\\mathbf{a},\\mathbf{b})\\mathbf{c}}$$"
   ]
  },
  {
   "cell_type": "markdown",
   "id": "8aff9496-cf02-4a84-a1aa-cababd5fb60c",
   "metadata": {},
   "source": [
    "#### 6. $\\nabla\\times(\\nabla\\times\\mathbf{f})+(\\nabla\\cdot\\nabla)\\mathbf{f}=\\nabla(\\nabla\\cdot\\mathbf{f})$"
   ]
  },
  {
   "cell_type": "markdown",
   "id": "ea2cdf3b-d11f-465d-a1c4-45b30c67cf2f",
   "metadata": {},
   "source": [
    "好，根数上述公式，我们推导$$\\nabla\\times(\\nabla\\times\\mathbf{f})=\\nabla(\\nabla\\cdot\\mathbf{f})-(\\nabla\\cdot\\nabla)\\mathbf{f}$$\n",
    "\n",
    "Perfect!"
   ]
  },
  {
   "cell_type": "markdown",
   "id": "7fb062b8-33d6-42c6-8b10-21fff63c78b6",
   "metadata": {},
   "source": [
    "#### 7. $\\nabla(\\mathbf{f}\\cdot \\mathbf{g})=\\mathbf{f}\\times(\\nabla\\times\\mathbf{g})+(\\mathbf{f}\\cdot\\nabla)\\mathbf{g}+\\mathbf{g}\\times(\\nabla\\times\\mathbf{f})+(\\mathbf{g}\\cdot\\nabla)\\mathbf{f}$ "
   ]
  },
  {
   "cell_type": "markdown",
   "id": "fcab6a67-7608-4f94-bccc-7acb8fec73a5",
   "metadata": {},
   "source": [
    "等式右边我们不能用双重外积公式推导了，因为$\\nabla$在中间。\n",
    "- 我们还是使用之前的公式, 右边代入公式 $$\\mathbf{f}\\times(\\nabla\\times\\mathbf{g})=(\\mathbf{f}|\\nabla|\\mathbf{g})-(\\mathbf{f}\\cdot\\nabla)\\mathbf{g}$$ $$\\mathbf{g}\\times(\\nabla\\times\\mathbf{f})=(\\mathbf{g}|\\nabla|\\mathbf{f})-(\\mathbf{g}\\cdot\\nabla)\\mathbf{f}$$\n",
    "- 只需证明（直接验证$\\sum \\partial_i(f_ig_i)=\\sum(\\partial_if_i)g_i+\\sum f_i(\\partial_ig_i)$即可） $$\\nabla(\\mathbf{f}\\cdot\\mathbf{g})=(\\mathbf{f}|\\nabla|\\mathbf{g})+(\\mathbf{g}|\\nabla|\\mathbf{f})$$"
   ]
  },
  {
   "cell_type": "markdown",
   "id": "d66b500f-d604-4208-b39d-dfb3180fccd5",
   "metadata": {},
   "source": [
    "#### 9. 以上是算子的一阶导，对于算子二阶导，我们有\n",
    "   \n",
    "   $$\\nabla\\cdot(\\nabla\\times \\mathbf{a})=0$$\n",
    "   $$\\nabla\\times(\\nabla a)=0$$\n",
    "   但请注意第二个算式一般不成立：$$\\nabla\\times(\\nabla \\mathbf{a})=\\nabla\\times(\\partial_1a_1,\\partial_2a_2,\\partial_3a_3)$$\n",
    "   $$=(\\partial_{23}a_3-\\partial_{32}a_2,...)\\neq\\mathbf{0}$$\n",
    "   <font color=red> https://zhuanlan.zhihu.com/p/52834609</font>"
   ]
  },
  {
   "cell_type": "code",
   "execution_count": null,
   "id": "bd42fe9b-13e8-4501-8b73-a68747643eab",
   "metadata": {},
   "outputs": [],
   "source": []
  }
 ],
 "metadata": {
  "kernelspec": {
   "display_name": "Python 3 (ipykernel)",
   "language": "python",
   "name": "python3"
  },
  "language_info": {
   "codemirror_mode": {
    "name": "ipython",
    "version": 3
   },
   "file_extension": ".py",
   "mimetype": "text/x-python",
   "name": "python",
   "nbconvert_exporter": "python",
   "pygments_lexer": "ipython3",
   "version": "3.12.7"
  }
 },
 "nbformat": 4,
 "nbformat_minor": 5
}

{
 "cells": [
  {
   "cell_type": "markdown",
   "metadata": {},
   "source": [
    "# 25春_《高数期末卷》_《章节测验卷》对比"
   ]
  },
  {
   "cell_type": "markdown",
   "metadata": {},
   "source": [
    "本次期末卷难度为课本习题层次，对应于章节测验中相对基础的题目。但同学期末成绩与章节测验相比，有一些差异。举以下三例："
   ]
  },
  {
   "cell_type": "markdown",
   "metadata": {},
   "source": [
    "## 题目一"
   ]
  },
  {
   "cell_type": "markdown",
   "metadata": {},
   "source": [
    "**【高数期末卷】** 第10题：计算曲面$z=x^2+y^2$被上半球面$x^2+y^2+z^2=2$截下的有限部分的面积。"
   ]
  },
  {
   "cell_type": "markdown",
   "metadata": {},
   "source": [
    "【章节测验四】第12题（2）：求空间中由半球面$z=\\sqrt{3a^2-x^2-y^2}$及旋转抛物面$x^2+y^2=2az(a>0)$围成的立体表面积。"
   ]
  },
  {
   "cell_type": "markdown",
   "metadata": {},
   "source": [
    "<img src=\"./figs/W01.png\" width=200 height=200>\n",
    "<img src=\"./figs/M01.png\" width=200 height=200>"
   ]
  },
  {
   "cell_type": "markdown",
   "metadata": {},
   "source": [
    "## 题目二"
   ]
  },
  {
   "cell_type": "markdown",
   "metadata": {},
   "source": [
    "**【高数期末卷】** 第9题：计算$$I=\\iint_\\Sigma 2xy\\mathrm{d}y\\mathrm{d}z+yz\\sin x\\mathrm{d}z\\mathrm{d}x+y\\cos z\\mathrm{d}x\\mathrm{d}y$$ 其中$\\Sigma$ 由曲面$x^2+z^2=1,y=0,x+y=1$ 围成，外侧为正向。"
   ]
  },
  {
   "cell_type": "markdown",
   "metadata": {},
   "source": [
    "【章节测验五】第9题（2）计算$$I=\\iint(x-y)\\mathrm{d}x\\mathrm{d}y+(y-z)x\\mathrm{d}y\\mathrm{d}z$$其中$S$为柱面$x^2+y^2=1$及平面$z=0,z=3$ 围成，外侧为正向"
   ]
  },
  {
   "cell_type": "markdown",
   "metadata": {},
   "source": [
    "<img src=\"./figs/W02.png\" width=200 height=200>\n",
    "<img src=\"./figs/M02.png\" width=200 height=200>"
   ]
  },
  {
   "cell_type": "markdown",
   "metadata": {},
   "source": [
    "## 题目三"
   ]
  },
  {
   "cell_type": "markdown",
   "metadata": {},
   "source": [
    "**【高数期末卷】** 第8题：计算$$I=\\int_\\Sigma z^2x\\mathrm{d}y\\mathrm{d}z+x^2y\\mathrm{d}z\\mathrm{d}x+y^2z\\mathrm{d}x\\mathrm{d}y$$,其中$\\Sigma$是上半球面$z=\\sqrt{R^2-x^2-y^2},R>0$上侧为正。"
   ]
  },
  {
   "cell_type": "markdown",
   "metadata": {},
   "source": [
    "【章节测验五】第9题（2）计算\n",
    "$$\\iint_Sx^2\\mathrm{d}y\\mathrm{d}z+y^2\\mathrm{d}z\\mathrm{d}x+z^2\\mathrm{d}x\\mathrm{d}y$$其中$S$ 为上半球面$x^2+y^2+z^2=R^2$, $z\\geq0$，取下侧为正向。"
   ]
  },
  {
   "cell_type": "markdown",
   "metadata": {},
   "source": [
    "<img src=\"./figs/W03.png\" width=200 height=200>\n",
    "<img src=\"./figs/M03.png\" width=200 height=200>"
   ]
  },
  {
   "cell_type": "markdown",
   "metadata": {},
   "source": [
    "这些差异产生的可能原因有：\n",
    "- 考试紧张（紧张是人之常情，平时多交作业、多练，才能熟能生巧消除紧张。很少有人1+2考场紧张算错，紧张更多还是不熟。）\n",
    "  \n",
    "- 知识遗忘（课堂中已为同学们梳理了典型例题，并邮件发给同学们，考前6月3，6月5日公告邮件，又提醒了同学们复习《章节测验》内容）\n",
    "\n",
    "- 章节测验没有按任课教师的建议完成（ “先自己做、再同学讨论、最后上交后由助教校正” ），如果不独立思考，过度依赖同学，印象不深，考试还是无法答出。"
   ]
  },
  {
   "cell_type": "markdown",
   "metadata": {},
   "source": [
    "## 作业\n",
    "\n",
    "很多同学由于作业不计分，看一眼有思路了就不交作业，最后临考试才发现自己不知道算什么，或是一算就忘公式（例如 $\\ln x$ 怎么积分，如果写过作业发现忘了，就会查查，就有印象），不会用作业题中的小技巧，只能死算，越算越繁，不知道算的对不对，纠结要不要算下去，耗尽考试时间。\n",
    "\n",
    "也有很多同学因为章节测验计分，为了快速拿到分，忽略了章节测验 “查缺补漏” 的目的，尽快应付完成。但是同学可能忽视了：每次章节测验只占总评的4%（共5次，合成平时成绩20%），但是期末占总评的（50%）。章节测验没有检测出的错误，埋伏在期末考场造成了 12.5倍 的损失。\n",
    "\n",
    "也有上学期成绩不错的同学，这学期过于自信，不再提交不计分的作业，只在考试前一周拼命刷题，但是人类的学习能力是有限的，最终考试成绩还是不尽如人意。"
   ]
  },
  {
   "cell_type": "markdown",
   "metadata": {},
   "source": [
    "## 自学\n",
    "\n",
    "大学的本质是让同学们学会学习，但是目前的情况是，许多同学对自己的能力缺乏认知。有的同学认为自己可以看网课短期速通，看一些“专升本”的课程（如宋浩老师的课程），感觉良好自我麻痹，直到 “经历考试的毒打”。\n",
    "\n",
    "有的同学认为自己可以睡过早八的课，拖动进度条看课程录播，马马虎虎学会。可是没有意识到，课堂跟着老师一起学习，和自己拖动进度条看录播是不一样的，人的大脑通过生长突触建立神经元的链接，拖动进度条无法让神经元也跟着一起生长，造成的结果就是考完才发现 “原来这个课上讲过”，听了好像没听一样。"
   ]
  },
  {
   "cell_type": "markdown",
   "metadata": {},
   "source": [
    "## 笃实\n",
    "\n",
    "本次我们班期末考的第1名，属于一位一直交作业、参加习题课的同学。这位同学高数 II 期中位于班级 20，高数 I 期中位于班级40名，高数 I 期末总评仅 C+。\n",
    "\n",
    "这位同学没有 “躺平”，一直踏实地跟进着课程进度，按时上课。虽然我班作业不计入评分，但他每周自觉完成作业，订正后提交给助教进一步校正，有问题会在课后提问，答疑时间找皇甫老师交流。\n",
    "\n",
    "他踏实认真的学习态度，以及整个学程的成绩变化，印证了陈浩老师的话：“高数是一门典型的付出多少努力就收获多少成绩的课。” 即使基础一般，也是完全可以学好的。\n",
    "\n",
    "希望这位同学的学习经历，能对同学们将来的学习、生活有所启发。\n",
    "\n",
    "祝各位未来的学习顺利，在上科大学有所成！\n",
    "\n"
   ]
  },
  {
   "cell_type": "code",
   "execution_count": null,
   "metadata": {},
   "outputs": [],
   "source": []
  },
  {
   "cell_type": "code",
   "execution_count": null,
   "metadata": {},
   "outputs": [],
   "source": []
  }
 ],
 "metadata": {
  "kernelspec": {
   "display_name": "Python 3 (ipykernel)",
   "language": "python",
   "name": "python3"
  },
  "language_info": {
   "codemirror_mode": {
    "name": "ipython",
    "version": 3
   },
   "file_extension": ".py",
   "mimetype": "text/x-python",
   "name": "python",
   "nbconvert_exporter": "python",
   "pygments_lexer": "ipython3",
   "version": "3.12.7"
  }
 },
 "nbformat": 4,
 "nbformat_minor": 4
}

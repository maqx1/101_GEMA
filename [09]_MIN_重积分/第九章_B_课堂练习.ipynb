{
 "cells": [
  {
   "cell_type": "markdown",
   "id": "901ec5ad-521e-4e29-b7d2-fdcdfcf4bae4",
   "metadata": {},
   "source": [
    "## 1. 交换积分次序"
   ]
  },
  {
   "cell_type": "markdown",
   "id": "050002ae-612d-4a9d-85ef-437df32038dc",
   "metadata": {},
   "source": [
    "$$\\int_0^1\\mathrm{d}x\\int_{x^2}^1\\frac{xy}{\\sqrt{1+y^3}}\\mathrm{d}y$$"
   ]
  },
  {
   "cell_type": "markdown",
   "id": "5a19820c-be48-417d-a5e0-996770e5c511",
   "metadata": {},
   "source": [
    "## 2. 函数、区域的联合对称"
   ]
  },
  {
   "cell_type": "markdown",
   "id": "bb1efeb9-7116-4f96-8b0f-b226a04f07de",
   "metadata": {},
   "source": [
    "$$\\iint_D\\left(\\frac{x^2+1}{x^2+y^2+2}+x-y\\right)\\mathrm{d}x\\mathrm{d}y$$\n",
    "\n",
    "$$D=\\{(x,y)|0\\leq x\\leq1,0\\leq y\\leq 1\\}$$"
   ]
  },
  {
   "cell_type": "markdown",
   "id": "c4ac1f47-ddec-412a-bb47-e1a112b46ae2",
   "metadata": {},
   "source": [
    "## 3. 积分换元 "
   ]
  },
  {
   "cell_type": "markdown",
   "id": "dfc631cd-5ff6-4277-86a4-1542e0760a94",
   "metadata": {},
   "source": [
    "$$\\iint_De^{\\frac{y-x}{y+x}}\\mathrm{d}x\\mathrm{d}y$$\n",
    "\n",
    "$$D=\\{x\\geq 0,y\\geq0,x+y\\leq 2\\}$$"
   ]
  },
  {
   "cell_type": "markdown",
   "id": "231c2a31-52b7-4604-b134-a77565a20741",
   "metadata": {},
   "source": [
    "$$\\iint_D\\cos\\frac{y-x}{y+x}\\mathrm{d}x\\mathrm{d}y=\\frac{3}{2}\\sin 1$$\n",
    "$$D=\\textrm{梯形}[(1,0),(2,0),(0,2),(0,1)]$$"
   ]
  },
  {
   "cell_type": "markdown",
   "id": "36287906-80bf-4e4b-b55d-83d43a655e32",
   "metadata": {},
   "source": [
    "## 4. 使用极坐标"
   ]
  },
  {
   "cell_type": "markdown",
   "id": "6f9a9af8-52f3-4fd8-a397-ec868e7fc93a",
   "metadata": {},
   "source": [
    "$$\\iint_Dxy^2\\mathrm{d}\\sigma$$ $$D=\\{x^2+y^2\\leq 1,x\\geq0,y\\geq0\\}$$"
   ]
  },
  {
   "cell_type": "markdown",
   "id": "6e1c14ba-8f53-42a2-a27b-f5278385e81a",
   "metadata": {},
   "source": [
    "## 5. 利用对称性\n"
   ]
  },
  {
   "cell_type": "markdown",
   "id": "5b472aba-27bc-4520-a104-571b391fc552",
   "metadata": {},
   "source": [
    "$$\\iint_D\\frac{x+y}{\\sqrt{x^2+y^2}}\\mathrm{d}x\\mathrm{d}y$$\n",
    "$$D=\\{(x,y)|(x^2+y^2)^3\\leq y^4,\\ |x|<y\\}$$"
   ]
  },
  {
   "cell_type": "markdown",
   "id": "554e0a83-f752-4314-b62a-694dba1a8086",
   "metadata": {},
   "source": [
    "## 6. 广义极坐标 "
   ]
  },
  {
   "cell_type": "markdown",
   "id": "70c29897-14c3-46fb-911e-7f27d3c09592",
   "metadata": {},
   "source": [
    "$$\\iint_D\\cos\\left(\\frac{\\pi}{2}\\sqrt{\\frac{x^2}{a^2}+\\frac{y^2}{b^2}}\\right)\\mathrm{d}x\\mathrm{d}y$$\n",
    "$$D=\\{b^2x^2+a^2y^2\\leq a^2b^2\\}$$"
   ]
  },
  {
   "cell_type": "markdown",
   "id": "8e407ef1-1f72-42cf-99a3-5d76ab440505",
   "metadata": {},
   "source": [
    "## 7. 曲面围成体积"
   ]
  },
  {
   "cell_type": "markdown",
   "id": "42649331-6767-4e62-b35f-f3eb7bea61ae",
   "metadata": {},
   "source": [
    "$$x^2+y^2+z^2=4a^2,\\ x^2+y^2=2ax,\\ \\text{(柱内)}$$"
   ]
  },
  {
   "cell_type": "markdown",
   "id": "514896ec-e86f-47e0-8a22-94a211ece299",
   "metadata": {},
   "source": [
    "## 8. 积分不等式"
   ]
  },
  {
   "cell_type": "markdown",
   "id": "9e0f5424-7bd7-4d5c-ac8c-f4adb6790348",
   "metadata": {},
   "source": [
    "$f,g\\in C[0,1]$ 且单调增加，证明："
   ]
  },
  {
   "cell_type": "markdown",
   "id": "b82ee397-0b6b-41a0-ab28-911f0f058377",
   "metadata": {},
   "source": [
    "$$\\left(\\int_0^1f(x)\\mathrm{d}x\\right)\\left(\\int_0^1g(x)\\mathrm{d}x\\right)\\leq\\int_0^1f(x)g(x)\\mathrm{d}x$$"
   ]
  },
  {
   "cell_type": "code",
   "execution_count": null,
   "id": "4180aedd-7f61-486f-902f-fa59dc447445",
   "metadata": {},
   "outputs": [],
   "source": []
  }
 ],
 "metadata": {
  "kernelspec": {
   "display_name": "Python 3 (ipykernel)",
   "language": "python",
   "name": "python3"
  },
  "language_info": {
   "codemirror_mode": {
    "name": "ipython",
    "version": 3
   },
   "file_extension": ".py",
   "mimetype": "text/x-python",
   "name": "python",
   "nbconvert_exporter": "python",
   "pygments_lexer": "ipython3",
   "version": "3.12.7"
  }
 },
 "nbformat": 4,
 "nbformat_minor": 5
}

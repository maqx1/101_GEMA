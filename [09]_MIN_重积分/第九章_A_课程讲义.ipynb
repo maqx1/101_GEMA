{
 "cells": [
  {
   "cell_type": "markdown",
   "id": "1f6cbf28-54f8-4882-8371-4c86ab2f23a3",
   "metadata": {},
   "source": [
    "# **内容梳理** "
   ]
  },
  {
   "cell_type": "markdown",
   "id": "97305c79-7e05-41b8-b151-42b57e34cce7",
   "metadata": {},
   "source": [
    "### [900] 第九章：《重积分》"
   ]
  },
  {
   "cell_type": "markdown",
   "id": "948c0c8b-7b53-4555-bdfc-bd252b7048c4",
   "metadata": {},
   "source": [
    "1. 重积分的概念和性质：分块，求和，取极限。积分中值定理。\n",
    "2. 二重积分的计算：直角坐标、极坐标、变量代换（雅可比行列式）。\n",
    "3. 三重积分的计算：直角、柱、球坐标、变量代换（雅可比行列式）。\n",
    "4. 重积分的应用：曲面面积。"
   ]
  },
  {
   "cell_type": "markdown",
   "id": "c59eddc9-81c9-4053-a40f-5a5c3f7ffe66",
   "metadata": {
    "jp-MarkdownHeadingCollapsed": true
   },
   "source": [
    "### [901] <font color=red>自测是否掌握重积分：</font>\n",
    "\n",
    "往届高数学生自制视频：https://www.bilibili.com/video/BV1uzFjeHECd?p=2&spm_id_from=333.788.videopod.episodes"
   ]
  },
  {
   "cell_type": "markdown",
   "id": "0495d904-808f-4294-9e1d-8e22bb40b622",
   "metadata": {},
   "source": [
    "# **课本导读**"
   ]
  },
  {
   "cell_type": "markdown",
   "id": "507b38d9-055c-4058-a16a-84d2b0939df8",
   "metadata": {},
   "source": [
    "## **1. 重积分的概念和性质**"
   ]
  },
  {
   "cell_type": "markdown",
   "id": "cc99ad8a-5252-4be2-bfe4-895f9c298552",
   "metadata": {},
   "source": [
    "1. **思想**：分划、求和、取极限\n",
    "3. **术语**：积分区域、被积函数、面积(体积)微元，黎曼和，划分$$\\iint_Df(x,y)\\mathrm{d}\\sigma=\\lim_{|P|\\to 0}\\sum_{i=1}^n f(a_i,b_i)\\mathrm{d}\\sigma$$\n",
    "**书后习题** [D01],[D02] \n",
    "\n",
    "4. **可积**：极限存在的充分条件：有界+分块连续。\n",
    "5. **性质**：\n",
    "- 1. 线性性、区域可加性\n",
    "- 2. 保序性、积分中值定理 <font color=red>重点必会</font>"
   ]
  },
  {
   "cell_type": "markdown",
   "id": "9a1ad4c1-978c-4c50-9ada-786c085776b3",
   "metadata": {},
   "source": [
    "**积分中值定理**：若$f(x,y)\\in C(D)$, $g(x,y)\\in C(D)$ 且 $g(x,y)$ 不变号，则存在$(a,b)\\in D$ 使得$$\\iint_Df(x,y)g(x,y)\\mathrm{d}\\sigma=f(a,b)\\iint_Dg(x,y)\\mathrm{d}\\sigma$$"
   ]
  },
  {
   "cell_type": "markdown",
   "id": "72bda883-7a51-403c-9b26-968daf938bdf",
   "metadata": {},
   "source": [
    "**例 9.1** 区域$D=\\{(x,y)||x|+|y|\\leq 10\\}$, 积分估值 $$I=\\iint_D\\frac{\\mathrm{d}\\sigma}{100+\\cos^2x+\\sin^2y}$$"
   ]
  },
  {
   "cell_type": "markdown",
   "id": "fb3bd09e-de63-44f0-a99e-a3278bd2ce7c",
   "metadata": {},
   "source": [
    "使用中值定理$$I=\\frac{1}{100+\\cos^2a+\\sin^2b}\\mathrm{Area}(D)\\in\\left[\\frac{100}{102},1\\right]$$"
   ]
  },
  {
   "cell_type": "markdown",
   "id": "4548394b-2779-4a5f-820b-c297b2ee9677",
   "metadata": {},
   "source": [
    "**书后习题** [D03],<font color=red> [D04] 重点必会</font>, [D05]"
   ]
  },
  {
   "cell_type": "markdown",
   "id": "c275ee54-e2f9-4e5d-b3cc-1eb5daaff2e9",
   "metadata": {},
   "source": [
    "## **2. 二重积分的计算**"
   ]
  },
  {
   "cell_type": "markdown",
   "id": "9d36b8a0-9fbd-42c7-9933-5d28057a830f",
   "metadata": {},
   "source": [
    "### 1. **二元直角坐标**：取定方向切片，化为累次积分\n",
    "$$\\iint_Df(x,y)\\mathrm{d}\\sigma=\\int_a^b\\left[\\int^{\\phi_2({\\color{red}x})}_{\\phi_1({\\color{red}x})}f(x,y)\\mathrm{d}y\\right]\\mathrm{d}{\\color{red}x}$$\n",
    "$$\\iint_Df(x,y)\\mathrm{d}\\sigma=\\int_a^b\\left[\\int^{\\psi_2({\\color{blue}y})}_{\\psi_1({\\color{blue}y})}f(x,y)\\mathrm{d}x\\right]\\mathrm{d}{\\color{blue}y}$$\n",
    "技巧：选取**合适的**积分次序，可以极大地<font color=red>简化计算</font>！"
   ]
  },
  {
   "cell_type": "markdown",
   "id": "b70ae67b-1d0f-40c8-938e-1cfe3bf9e61f",
   "metadata": {
    "jp-MarkdownHeadingCollapsed": true
   },
   "source": [
    "**基础例题** [9.3] [9.4] <font color=red>**[9.5]**</font> (注意：选取错误方向甚至算不出结果)\n",
    "\n",
    "**解题步骤**：\n",
    "1. 观察区域、函数，选择合适方向\n",
    "2. 正确写出积分上下限\n",
    "3. 计算一元函数 **定积分**（回忆：不定积分——凑微分、代入换元、分部积分（反对幂指三）+两类函数库，定积分——注意利用对称性化简）\n",
    "\n",
    "**习题 [D07] [D08] [D09]**"
   ]
  },
  {
   "cell_type": "markdown",
   "id": "97b69690-4795-454d-89d5-4186a587ff65",
   "metadata": {},
   "source": [
    "**进阶例题** \n",
    "\n",
    "1. [9.6] [9.7] 交换积分次序（累次积分化为重积分，换方向化为累次积分）**难点**：画出积分区域，正确读出<font color=red>**切片上下界**</font>。\n",
    "\n",
    "**习题 [D10] [D11]**\n",
    "\n",
    "3. [9.8]，利用函数、积分区域的对称性。\n",
    "\n",
    "**习题 [D12] [D13]**\n",
    "\n",
    "4. [9.9]. 用二重积分的几何含义计算体积。"
   ]
  },
  {
   "cell_type": "markdown",
   "id": "eb20ce7b-2366-411d-8541-b1181f73f6df",
   "metadata": {},
   "source": [
    "### 3. **二元极坐标**：体积微元为 $r\\mathrm{d}r\\mathrm{d}\\theta$ "
   ]
  },
  {
   "cell_type": "markdown",
   "id": "f2208d0b-6a02-4bee-9e5f-dd82cb7b88f1",
   "metadata": {},
   "source": [
    "**基础例题**: [9.11] [9.12] [9.13] [9.14] \n",
    "**适用范围**: 有中心对称性，或有平方和适合使用三角换元。\n",
    "**解题步骤**：\n",
    "1. 观察区域、函数，选择合适的极点，化为累次积分。\n",
    "2. 正确写出极径的上下限。\n",
    "\n",
    "**习题 [D14] [D15]**\n",
    "\n",
    "4. 计算一元函数的定积分（注意利用**对称性化简**）。\n"
   ]
  },
  {
   "cell_type": "markdown",
   "id": "37990891-ea43-4be3-8560-fa5e83cf3ea7",
   "metadata": {},
   "source": [
    "**进阶例题** [9.15] **泊松积分**，直角坐标升维化为极坐标计算。（概率论中会经常使用，建议掌握）\n",
    "\n",
    "**习题 [D16]** <font color=red>重点必会</font>\n"
   ]
  },
  {
   "cell_type": "markdown",
   "id": "47ae2da4-5d03-4750-8e91-27445b7ebe8b",
   "metadata": {},
   "source": [
    "### 3. **变量代换**: 放大系数为偏导的行列式\n",
    "\n",
    "一元微分学中常用变量代换化简，若$g$是单调函数，则:$$\\int_{a}^b f(u)\\mathrm{d}u=\\int_{g^{-1}(a)}^{g^{-1}(b)} f(g(x))g'(x)\\mathrm{d}x$$多元函数似乎应该把$g'$换成偏导，但选哪个偏导呢？还是把他们相加？相乘？（答案：都不是，我们需要把偏导用行列式组合起来）\n",
    "\n",
    "**定理 9.2** 设$x=x(u,v),y=y(u,v)$ 将 $uOv$平面中区域$D'$ 一一变为$xOy$平面中区域$D$, 且行列式$$J=\\left|\\begin{array}{cc}u_x&u_y\\\\ v_x&v_y\\end{array}\\right|\\neq 0$$\n",
    "则$$\\int_Df(x,y)\\mathrm{d}x\\mathrm{d}y=\\iint_{D'}f(x(u,v),y(u,v))|J|\\mathrm{d}u\\mathrm{d}v$$\n",
    "\n",
    "**思考**：作为一元函数，我们为什么不加绝对值$$\\int_a^bf(u)\\mathrm{d}u=\\int_{g^{-1}(a)}^{g^{-1}(b)}f(g(x)){\\color{red}|}g'(x){\\color{red}|}\\mathrm{d}x$$\n",
    "**提示**：一元函数我们的黎曼和 $\\sum f(a_i)\\Delta x_i$ 和二元函数黎曼和 $\\sum f(a_i,b_i)\\Delta\\sigma_i$, 前者 $\\Delta x_i$ 可正可负，但面积微元都是正的。一元函数积分**上下限的定向**自动处理了符号问题，高维区域我们积分区域边界是曲线，没有所谓的上下限帮助我们处理符号。（但下一章我们会建立另一套理论来推广一元函数的边界\"定向\"）"
   ]
  },
  {
   "cell_type": "markdown",
   "id": "4bc02140-f589-4fac-aada-2c281c058d6a",
   "metadata": {},
   "source": [
    "**基础例题**：[9.17] [9.18]\n",
    "\n",
    "**解题步骤**：\n",
    "1. 正确写出变换前后的变量、画出区域\n",
    "2. 计算雅可比行列式，及其绝对值\n",
    "3. 代入计算二重积分\n",
    "\n",
    "**习题 [D17] [D18] [D19]** <font color=red>重点必会</font>\n"
   ]
  },
  {
   "cell_type": "markdown",
   "id": "75655b89-3167-4775-9f2c-81b9bf490e28",
   "metadata": {},
   "source": [
    "## **3. 三重积分的计算**"
   ]
  },
  {
   "cell_type": "markdown",
   "id": "e9612227-6d55-4114-8952-75ed259a41c1",
   "metadata": {},
   "source": [
    "### 1. **降维到二元**\n",
    "1. **柱线法**：坐标平面投影，化为二重积分，**例题 [9.19] [9.20] [9.21]**\n",
    "2. **截面法**：坐标轴投影，化为二重积分，**例题 [9.22] [9.23] [9.24]**\n",
    "\n",
    "\n",
    "**习题 [D20] [D24] [D25] [D30]** <font color=red>基础必会</font>"
   ]
  },
  {
   "cell_type": "markdown",
   "id": "67da1828-f829-4055-8965-9ac49b1f8c9b",
   "metadata": {},
   "source": [
    "### 2. **变量代换** \n",
    "1. **柱坐标**：计算其偏导行列式 $r$,\n",
    "> **例题 [9.25] [9.26]**\n",
    ">\n",
    "> **习题 [D26]** <font color=red>重点必会</font>\n",
    "\n",
    "3. **球坐标**：计算其偏导行列式 $r^2\\sin\\psi$,\n",
    "> **例题 [9.27] [9.28]**\n",
    ">\n",
    "> **习题 [D27]** <font color=red>重点必会</font>\n",
    "\n",
    "5. 根据积分区域、被积函数灵活换元\n",
    "> **例题[9.29] (椭球) [9.30] (一般)**\n",
    ">\n",
    "> **习题 [D28][D29]** <font color=red>重点必会</font>"
   ]
  },
  {
   "cell_type": "markdown",
   "id": "aa849e78",
   "metadata": {},
   "source": [
    "## **4. 重积分的应用**\n",
    "\n",
    "1. **曲面面积** $$S=\\iint_D\\sqrt{1+z_x^2+z_y^2}\\mathrm{d}x\\mathrm{d}y$$\n",
    "$$S=\\iint_D|r_u\\times r_v|\\mathrm{d}u\\mathrm{d}v$$\n",
    "\n",
    "> **例题**：[9.31] [9.32] [9.33] [9.34]\n",
    ">\n",
    "> **习题 [D32]** <font color=red>重点必会</font>\n",
    "\n",
    "3. **物理应用**：质心、引力 \n",
    " \n",
    "> **例题**：[9.35] [9.36] [9.37] [9.40]\n",
    "> \n",
    "> **习题 [D31] [D33] [D34] [D35] [D38]** \n"
   ]
  },
  {
   "cell_type": "markdown",
   "id": "eca5d4c8",
   "metadata": {},
   "source": [
    "# **例题精讲**"
   ]
  },
  {
   "cell_type": "markdown",
   "id": "9989ce80-8791-40a8-98e2-31567a2f51e1",
   "metadata": {},
   "source": [
    "#### 例 9.24, 计算\n",
    "$$\\iiint_D(x+y+z)^2\\mathrm{d}x\\mathrm{d}y\\mathrm{d}z$$\n",
    "其中$D$ 是椭球体$$\\frac{x^2}{a^2}+\\frac{y^2}{b^2}+\\frac{z^2}{c^2}\\leq 1$$"
   ]
  },
  {
   "cell_type": "markdown",
   "id": "f8090245-8d8b-4590-9496-0c3272e94a2f",
   "metadata": {},
   "source": [
    "#### 例 9.27，计算\n",
    "$$\\iiint_D\\sqrt{x^2+y^2+z^2}\\mathrm{d}V$$\n",
    "\n",
    "其中 $\\Omega$ 是由 $x^2+y^2+z^2=2z$ 与 $z=\\sqrt{x^2+y^2}$ 围成的包含 $z$ 轴部分的区域。"
   ]
  },
  {
   "cell_type": "markdown",
   "id": "a3b65d5a-9aa5-4ca8-9177-30077c75c4bc",
   "metadata": {},
   "source": [
    " "
   ]
  },
  {
   "cell_type": "code",
   "execution_count": null,
   "id": "ece0486c-58e7-42f9-a3ed-257a9aaabfd2",
   "metadata": {},
   "outputs": [],
   "source": []
  }
 ],
 "metadata": {
  "kernelspec": {
   "display_name": "Python 3 (ipykernel)",
   "language": "python",
   "name": "python3"
  },
  "language_info": {
   "codemirror_mode": {
    "name": "ipython",
    "version": 3
   },
   "file_extension": ".py",
   "mimetype": "text/x-python",
   "name": "python",
   "nbconvert_exporter": "python",
   "pygments_lexer": "ipython3",
   "version": "3.12.7"
  }
 },
 "nbformat": 4,
 "nbformat_minor": 5
}

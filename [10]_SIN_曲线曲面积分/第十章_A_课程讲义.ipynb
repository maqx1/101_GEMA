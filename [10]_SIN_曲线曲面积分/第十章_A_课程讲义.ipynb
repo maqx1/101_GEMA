{
 "cells": [
  {
   "cell_type": "markdown",
   "id": "1f6cbf28-54f8-4882-8371-4c86ab2f23a3",
   "metadata": {},
   "source": [
    "# **内容梳理** "
   ]
  },
  {
   "cell_type": "markdown",
   "id": "97305c79-7e05-41b8-b151-42b57e34cce7",
   "metadata": {},
   "source": [
    "### [a00] 第十章：《曲线积分和曲面积分》"
   ]
  },
  {
   "cell_type": "markdown",
   "id": "533daed5-113c-4183-841e-15683ba2432f",
   "metadata": {},
   "source": [
    "1. 第一类曲线积分、第一类曲面积分：参数化，乘弧元/面元，化为重积分（容易）。\n",
    "2. 第二类曲线积分、第二类曲面积分：参数化，化为重积分。用方向角、法面元建立与第一类积分的关系。\n",
    "3. Green公式：带边曲面的第二类曲面积分，如何化为其边界的曲线的第二类积分。第二类曲线积分何时与路径无关。Green 公式是平面上的Stokes公式。\n",
    "6. Gauss公式：带边区域的体积分，如何化为其边界的曲面的第二类积分（辅助概念：通量和散度），Stokes公式是曲面上的格林公式（辅助概念：环量和旋度）。"
   ]
  },
  {
   "cell_type": "markdown",
   "id": "c59eddc9-81c9-4053-a40f-5a5c3f7ffe66",
   "metadata": {},
   "source": [
    "### [a01] <font color=red>自测是否掌握曲线曲面积分：</font>\n",
    "\n",
    "往届高数学生自制视频：https://www.bilibili.com/video/BV1uzFjeHECd?p=2&spm_id_from=333.788.videopod.episodes"
   ]
  },
  {
   "cell_type": "markdown",
   "id": "b53e27fa-396b-49c3-8408-d1cdefa7ad2c",
   "metadata": {},
   "source": [
    "### [a02] “牛顿-莱布尼茨-格林-高斯-斯托克斯”公式\n",
    "1. 区间上的牛顿-莱布尼茨公式：区间上 “定向积分” =区间边界的 “定向积分”\n",
    "2. 曲线上的牛顿-莱布尼茨公式：曲线上 “定向积分” =曲线端点的 “定向积分”\n",
    "3. 平面区域上的格林公式：平面区域上的 “定向积分”=区域边界的 “定向积分”\n",
    "4. 曲面上的斯托克斯公式：曲面上的 “定向积分” = 曲面边界的 “定向积分”\n",
    "5. 空间区域上的高斯公式：空间区域上的 “定向积分”=区域边界的 “定向积分”\n",
    "6. 四维空间中的三维曲块：？\n",
    "7. <font color=blue>“微分形式”（Differential Form）的斯托克斯公式</font>"
   ]
  },
  {
   "cell_type": "markdown",
   "id": "0495d904-808f-4294-9e1d-8e22bb40b622",
   "metadata": {},
   "source": [
    "# **课本导读**"
   ]
  },
  {
   "cell_type": "markdown",
   "id": "507b38d9-055c-4058-a16a-84d2b0939df8",
   "metadata": {},
   "source": [
    "## **1. 第一类曲线、曲面积分（质量的积分、无向）**"
   ]
  },
  {
   "cell_type": "markdown",
   "id": "280e613e-124c-4de3-bba0-27b95046b5a0",
   "metadata": {},
   "source": [
    "### **1. 曲线积分**\n",
    "1. **思想**：划分、求和、取极限。模型：线的质量、质心。\n",
    "2. **术语**：积分路径、被积函数、弧长微元。\n",
    "3. **性质**：线性、区域可加、保序、中值定理。\n",
    "4. **计算**：$$\\int_Lf(s)\\mathrm{d}s=\\int_{a}^{b}f(\\mathbf{r}(t))|\\mathbf{r}'(t)|\\mathrm{d}t=\\int_{a}^{b}f(x(t),y(t),z(t))\\sqrt{x'(t)^2+y'(t)^2+z'(t)^2}\\mathrm{d}t$$\n",
    "5. **技巧**：选取合适参数化。**例 [10.2] [10.3]**\n"
   ]
  },
  {
   "cell_type": "markdown",
   "id": "7bb44d64-419f-4557-a0b7-7ded89da5f92",
   "metadata": {},
   "source": [
    "### **2. 曲面积分**\n",
    "1. **思想**：划分、求和、取极限。模型：面的质量、质心。\n",
    "2. **术语**：积分曲面、被积函数、面积微元。\n",
    "3. **性质**：线性、区域可加、保序、中值定理。\n",
    "4. **计算**：若曲面由参数方程$\\mathbf{r}(u,v)$ 给出，则$$\\int_Lf(x,y,z)\\mathrm{d}\\sigma=\\int_{a}^{b}f(\\mathbf{r}(u,v))|\\mathbf{r}_u(u,v)\\times \\mathbf{r}_v(u,v)|\\mathrm{d}u\\mathrm{d}v$$\n",
    "5. **技巧**：选取合适参数化+善用对称性**例 [10.5] [10.6] [10.7]**\n"
   ]
  },
  {
   "cell_type": "markdown",
   "id": "c275ee54-e2f9-4e5d-b3cc-1eb5daaff2e9",
   "metadata": {},
   "source": [
    "## **2. 第二类曲线、曲面积分（流量的积分、定向）**"
   ]
  },
  {
   "cell_type": "markdown",
   "id": "8e7dd593-6a8f-4325-b601-f388c290ce9f",
   "metadata": {},
   "source": [
    "### **1. 曲线积分**\n",
    "1. **思想**：划分、求和、取极限。模型：力做功。\n",
    "2. **术语**：被积的向量值函数、定向弧微分。\n",
    "3. **性质**：线性、区域可加。但**没有**保序、中值定理（思考：为什么）。\n",
    "4. **计算**：若曲线由参数方程 $\\mathbf{r}(t)=(x(t),y(t))$ 给出向量值函数的分量为$\\mathbf{f}=(f_1,f_2)$，则$$\\int_L\\mathbf{f}(x,y)\\cdot \\mathrm{d}\\mathbf{r}=\\int_Lf_1\\mathrm{d}x+f_2\\mathrm{d}y=\\int_L f_1\\cos\\alpha+f_2\\sin\\alpha\\mathrm{d}s$$\n",
    "$$\\int_L\\mathbf{f}(x,y,z)\\cdot \\mathrm{d}\\mathbf{r}=\\int_Lf_1\\mathrm{d}x+f_2\\mathrm{d}y+f_3\\mathrm{d}z=\\int_L f_1\\cos\\alpha+f_2\\cos\\beta+f_3\\cos\\gamma\\mathrm{d}s$$\n",
    "6. **技巧**：选取合适参数化**例 [10.8] [10.9] [10.10] [10.11] [10.12]**\n"
   ]
  },
  {
   "cell_type": "markdown",
   "id": "aa2789bd-03c8-425e-afa2-2d1da944b5a9",
   "metadata": {},
   "source": [
    "### **2. 曲面积分**\n",
    "1. **思想**：划分、求和、取极限。模型：通量、流量。\n",
    "2. **术语**：被积的向量值函数、定向弧微分。\n",
    "3. **性质**：线性、区域可加。但**没有**保序、中值定理（思考：为什么）。\n",
    "4. **计算**：若曲面由参数方程 $\\mathbf{r}(u,v)$ 给出，向量值函数的分量为$\\mathbf{f}=(f_1,f_2,f_3)$，则$$\\int_L\\mathbf{f}(x,y,z)\\cdot \\mathrm{d}\\mathbf{S},\\ \\ \\mathrm{d}S=|\\mathbf{r}_u\\times\\mathbf{r}_v|\\mathrm{d}u\\mathrm{d}v$$但需要指定曲面方向！\n",
    "6. **难点**：画图、判断定向，正确计算法面元**例 [10.13][10.14] [10.15] [10.16]**\n"
   ]
  },
  {
   "cell_type": "markdown",
   "id": "75655b89-3167-4775-9f2c-81b9bf490e28",
   "metadata": {},
   "source": [
    "## **3. 格林(Green)公式及其应用**"
   ]
  },
  {
   "cell_type": "markdown",
   "id": "cbf371e8-bc84-46d5-9992-9bc515a72a4f",
   "metadata": {},
   "source": [
    "1. 区域的边界与定向。\n",
    "2. 格林公式 $$\\oint_CP\\mathrm{d}x+Q\\mathrm{d}y=\\iint_D\\left(Q_x-P_y\\right)\\mathrm{d}x\\mathrm{d}y=\\iint_D\\left|\\begin{array}{cc}\\partial_x&\\partial_y\\\\ P&Q\\end{array}\\right|\\mathrm{d}x\\mathrm{d}y$$\n",
    "3. 技巧：添加辅助线，通过封闭区域积分计算曲线积分。\n",
    "4. **难点**：画图、判断定向，正确计算法面元**例 [10.17][10.18][10.19][10.20][10.21]**\n",
    "5. 凑微分，全微分方程（皇甫老师习题课整理过典型函数，$\\arctan(y/x)$ 诸如此类）"
   ]
  },
  {
   "cell_type": "markdown",
   "id": "aa849e78",
   "metadata": {},
   "source": [
    "## **4. 高斯(Gauss)公式和斯托克斯(Stokes)公式**\n",
    "1. 高斯公式$$\\unicode{8751}_LP\\mathrm{d}y+Q\\mathrm{d}x=\\iint_D (P_x+Q_y)\\mathrm{d}x\\mathrm{d}y$$\n",
    "$$\\unicode{8751}_SP\\mathrm{d}y\\mathrm{d}z+Q\\mathrm{d}z\\mathrm{d}x+R\\mathrm{d}x\\mathrm{d}y=\\iiint_\\Omega (P_x+Q_y+R_z)\\mathrm{d}x\\mathrm{d}y\\mathrm{d}z$$**例 [10.29][10.30][10.31]**\n",
    "\n",
    "2. 通量和散度\n",
    "\n",
    "3. 斯托克斯公式$$\\oint_CP\\mathrm{d}x+Q\\mathrm{d}y+R\\mathrm{d}z=\\iint_S\\left|\\begin{array}{ccc}\\mathrm{d}y\\mathrm{d}z&\\mathrm{d}z\\mathrm{d}x&\\mathrm{d}x\\mathrm{d}y\\\\ \\partial_x&\\partial_y&\\partial_z\\\\ P&Q&R\\end{array}\\right|$$**例 [10.34][10.35]**\n",
    "\n",
    "4. 环量和旋度\n"
   ]
  },
  {
   "cell_type": "markdown",
   "id": "eca5d4c8",
   "metadata": {},
   "source": [
    "# **例题精讲**"
   ]
  },
  {
   "cell_type": "code",
   "execution_count": null,
   "id": "4f80c8ac-90a9-48fa-ad78-a191755981f8",
   "metadata": {},
   "outputs": [],
   "source": []
  }
 ],
 "metadata": {
  "kernelspec": {
   "display_name": "Python 3 (ipykernel)",
   "language": "python",
   "name": "python3"
  },
  "language_info": {
   "codemirror_mode": {
    "name": "ipython",
    "version": 3
   },
   "file_extension": ".py",
   "mimetype": "text/x-python",
   "name": "python",
   "nbconvert_exporter": "python",
   "pygments_lexer": "ipython3",
   "version": "3.12.8"
  }
 },
 "nbformat": 4,
 "nbformat_minor": 5
}

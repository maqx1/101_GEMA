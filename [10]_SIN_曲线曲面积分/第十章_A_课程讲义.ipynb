{
 "cells": [
  {
   "cell_type": "markdown",
   "id": "1f6cbf28-54f8-4882-8371-4c86ab2f23a3",
   "metadata": {},
   "source": [
    "# **内容梳理** "
   ]
  },
  {
   "cell_type": "markdown",
   "id": "97305c79-7e05-41b8-b151-42b57e34cce7",
   "metadata": {},
   "source": [
    "### [a00] 第十章：《曲线积分和曲面积分》"
   ]
  },
  {
   "cell_type": "markdown",
   "id": "533daed5-113c-4183-841e-15683ba2432f",
   "metadata": {},
   "source": [
    "1. 第一类曲线积分、第一类曲面积分：参数化，乘弧元/面元，化为重积分（容易）。\n",
    "2. 第二类曲线积分、第二类曲面积分：参数化，化为重积分。用方向角、法面元建立与第一类积分的关系。\n",
    "3. Green公式：带边曲面的第二类曲面积分，如何化为其边界的曲线的第二类积分。第二类曲线积分何时与路径无关。Green 公式是平面上的Stokes公式。\n",
    "6. Gauss公式：带边区域的体积分，如何化为其边界的曲面的第二类积分（辅助概念：通量和散度），Stokes公式是曲面上的格林公式（辅助概念：环量和旋度）。"
   ]
  },
  {
   "cell_type": "markdown",
   "id": "c59eddc9-81c9-4053-a40f-5a5c3f7ffe66",
   "metadata": {},
   "source": [
    "### [a01] <font color=red>自测是否掌握曲线曲面积分：</font>\n",
    "\n",
    "往届高数学生自制视频：https://www.bilibili.com/video/BV1uzFjeHECd?p=2&spm_id_from=333.788.videopod.episodes"
   ]
  },
  {
   "cell_type": "markdown",
   "id": "b53e27fa-396b-49c3-8408-d1cdefa7ad2c",
   "metadata": {},
   "source": [
    "### [a02] “牛顿-莱布尼茨-格林-高斯-斯托克斯”公式\n",
    "1. 区间上的牛顿-莱布尼茨公式：区间上 “定向积分” =区间边界的 “定向积分”\n",
    "2. 曲线上的牛顿-莱布尼茨公式：曲线上 “定向积分” =曲线端点的 “定向积分”\n",
    "3. 平面区域上的格林公式：平面区域上的 “定向积分”=区域边界的 “定向积分”\n",
    "4. 曲面上的斯托克斯公式：曲面上的 “定向积分” = 曲面边界的 “定向积分”\n",
    "5. 空间区域上的高斯公式：空间区域上的 “定向积分”=区域边界的 “定向积分”\n",
    "6. 四维空间中的三维曲块：？\n",
    "7. <font color=blue>“微分形式”（Differential Form）的斯托克斯公式</font>"
   ]
  },
  {
   "cell_type": "markdown",
   "id": "0495d904-808f-4294-9e1d-8e22bb40b622",
   "metadata": {},
   "source": [
    "# **课本导读**"
   ]
  },
  {
   "cell_type": "markdown",
   "id": "507b38d9-055c-4058-a16a-84d2b0939df8",
   "metadata": {},
   "source": [
    "## **1. 第一类曲线、曲面积分（质量的积分、无向）**"
   ]
  },
  {
   "cell_type": "markdown",
   "id": "c275ee54-e2f9-4e5d-b3cc-1eb5daaff2e9",
   "metadata": {},
   "source": [
    "## **2. 第二类曲线、曲面积分（流量的积分、定向）**"
   ]
  },
  {
   "cell_type": "markdown",
   "id": "75655b89-3167-4775-9f2c-81b9bf490e28",
   "metadata": {},
   "source": [
    "## **3. 格林(Green)公式及其应用**"
   ]
  },
  {
   "cell_type": "markdown",
   "id": "aa849e78",
   "metadata": {},
   "source": [
    "## **4. 高斯(Gauss)公式和斯托克斯(Stokes)公式**"
   ]
  },
  {
   "cell_type": "markdown",
   "id": "eca5d4c8",
   "metadata": {},
   "source": [
    "# **例题精讲**"
   ]
  },
  {
   "cell_type": "code",
   "execution_count": null,
   "id": "4f80c8ac-90a9-48fa-ad78-a191755981f8",
   "metadata": {},
   "outputs": [],
   "source": []
  }
 ],
 "metadata": {
  "kernelspec": {
   "display_name": "Python 3 (ipykernel)",
   "language": "python",
   "name": "python3"
  },
  "language_info": {
   "codemirror_mode": {
    "name": "ipython",
    "version": 3
   },
   "file_extension": ".py",
   "mimetype": "text/x-python",
   "name": "python",
   "nbconvert_exporter": "python",
   "pygments_lexer": "ipython3",
   "version": "3.12.8"
  }
 },
 "nbformat": 4,
 "nbformat_minor": 5
}

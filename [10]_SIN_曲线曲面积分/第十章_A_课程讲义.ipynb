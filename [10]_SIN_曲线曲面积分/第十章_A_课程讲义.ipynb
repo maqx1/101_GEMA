{
 "cells": [
  {
   "cell_type": "markdown",
   "id": "1f6cbf28-54f8-4882-8371-4c86ab2f23a3",
   "metadata": {},
   "source": [
    "# **内容梳理** "
   ]
  },
  {
   "cell_type": "markdown",
   "id": "97305c79-7e05-41b8-b151-42b57e34cce7",
   "metadata": {},
   "source": [
    "### [a00] 第十章：《曲线积分和曲面积分》"
   ]
  },
  {
   "cell_type": "markdown",
   "id": "533daed5-113c-4183-841e-15683ba2432f",
   "metadata": {},
   "source": [
    "1. 第一类曲线积分、第一类曲面积分：参数化，乘弧元/面元，化为重积分（容易）。\n",
    "2. 第二类曲线积分、第二类曲面积分：参数化，化为重积分（注意**定向**）。用方向角、法面元化为与**第一类积分**。\n",
    "3. Green公式：带边曲面的第二类曲面积分，如何化为其边界的曲线的第二类积分。第二类曲线积分何时与路径无关。Green 公式是平面上的Stokes公式。\n",
    "6. Gauss公式：带边区域的体积分，如何化为其边界的曲面的第二类积分（辅助概念：通量和散度），Stokes公式是曲面上的格林公式（辅助概念：环量和旋度）。"
   ]
  },
  {
   "cell_type": "markdown",
   "id": "c59eddc9-81c9-4053-a40f-5a5c3f7ffe66",
   "metadata": {},
   "source": [
    "### [a01] <font color=red>自测是否掌握曲线曲面积分：</font>\n",
    "\n",
    "课本例题 **[10.13]**，明白如何判断第二类曲面积分的定向。"
   ]
  },
  {
   "cell_type": "markdown",
   "id": "b53e27fa-396b-49c3-8408-d1cdefa7ad2c",
   "metadata": {
    "jp-MarkdownHeadingCollapsed": true
   },
   "source": [
    "### [a02] “牛顿-莱布尼茨-格林-高斯-斯托克斯”公式"
   ]
  },
  {
   "cell_type": "markdown",
   "id": "c1d29ba0-f8bd-4e9c-824d-37481529c10e",
   "metadata": {},
   "source": [
    "1. 区间上的牛顿-莱布尼茨公式：区间上 “定向积分” =区间边界的 “定向积分”\n",
    "2. 曲线上的牛顿-莱布尼茨公式：曲线上 “定向积分” =曲线端点的 “定向积分”\n",
    "3. 平面区域上的格林公式：平面区域上的 “定向积分”=区域边界的 “定向积分”\n",
    "4. 曲面上的斯托克斯公式：曲面上的 “定向积分” = 曲面边界的 “定向积分”\n",
    "5. 空间区域上的高斯公式：空间区域上的 “定向积分”=区域边界的 “定向积分”\n",
    "6. 四维空间中的三维曲块：？\n",
    "7. <font color=blue>“微分形式”（Differential Form）的斯托克斯公式</font>"
   ]
  },
  {
   "cell_type": "markdown",
   "id": "0495d904-808f-4294-9e1d-8e22bb40b622",
   "metadata": {},
   "source": [
    "# **课本导读**"
   ]
  },
  {
   "cell_type": "markdown",
   "id": "507b38d9-055c-4058-a16a-84d2b0939df8",
   "metadata": {},
   "source": [
    "## **1. 第一类曲线、曲面积分（质量的积分、无向）**"
   ]
  },
  {
   "cell_type": "markdown",
   "id": "280e613e-124c-4de3-bba0-27b95046b5a0",
   "metadata": {},
   "source": [
    "### **1. 曲线积分**"
   ]
  },
  {
   "cell_type": "markdown",
   "id": "55d596b0-2dac-4f01-a8cc-3e1b377f6954",
   "metadata": {},
   "source": [
    "1. **思想**：划分、求和、取极限。模型：线的质量、质心。\n",
    "2. **术语**：积分路径、被积函数、弧长微元。\n",
    "3. **性质**：线性、区域可加、保序、中值定理。\n",
    "4. **计算**：$$\\int_Lf(s)\\mathrm{d}s=\\int_{a}^{b}f(\\mathbf{r}(t))|\\mathbf{r}'(t)|\\mathrm{d}t=\\int_{a}^{b}f(x(t),y(t),z(t))\\sqrt{x'(t)^2+y'(t)^2+z'(t)^2}\\mathrm{d}t$$\n",
    "5. **技巧**：选取合适<font color=red>参数化</font>。**例 [10.2] [10.3]**（空间曲线如果看不清：先投影后参数化）**[10.4]**\n"
   ]
  },
  {
   "cell_type": "markdown",
   "id": "bda54d8e-0058-4ebb-801b-56d8f91d541a",
   "metadata": {},
   "source": [
    "**书后习题**： **[E01]**(平面曲线)，**[E02]**（空间曲线），**[E04]**（变密度） **[E05]**（转动惯量）"
   ]
  },
  {
   "cell_type": "markdown",
   "id": "7bb44d64-419f-4557-a0b7-7ded89da5f92",
   "metadata": {},
   "source": [
    "### **2. 曲面积分**"
   ]
  },
  {
   "cell_type": "markdown",
   "id": "e5ce4147-874d-45c7-8d9d-87a22b974141",
   "metadata": {},
   "source": [
    "1. **思想**：划分、求和、取极限。模型：面的质量、质心。\n",
    "2. **术语**：积分曲面、被积函数、面积微元。\n",
    "3. **性质**：线性、区域可加、保序、中值定理。\n",
    "4. **计算**：若曲面由参数方程$\\mathbf{r}(u,v)$ 给出，则$$\\int_Sf(x,y,z)\\mathrm{d}\\sigma=\\iint_{D_{uv}}f(\\mathbf{r}(u,v))|\\mathbf{r}_u(u,v)\\times \\mathbf{r}_v(u,v)|\\mathrm{d}u\\mathrm{d}v$$\n",
    "   $$=\\int_{D_{uv}}f(\\mathbf{r}(u,v))\\sqrt{EG-F^2}\\mathrm{d}u\\mathrm{d}v$$\n",
    "特别地，若向$xoy$平面投影，以$x,y$为参数，则可写为   $$=\\int_{D_{xy}}f(x,y,z(x,y))\\sqrt{1+z_x^2+z_y^2}\\mathrm{d}x\\mathrm{d}y$$\n",
    "   \n",
    "6. **技巧**：选取合适参数化+善用对称性**例 [10.5] [10.6] [10.7]**\n"
   ]
  },
  {
   "cell_type": "markdown",
   "id": "5fc9693b-d286-499f-81b3-a5a1f5c8d5c7",
   "metadata": {},
   "source": [
    "**书后习题**: **[E06],[E07]**(直接投影)，**[E08]** （变密度求质量），**[E09]**（质心）\n"
   ]
  },
  {
   "cell_type": "markdown",
   "id": "c275ee54-e2f9-4e5d-b3cc-1eb5daaff2e9",
   "metadata": {},
   "source": [
    "## **2. 第二类曲线、曲面积分（流量的积分、定向）**"
   ]
  },
  {
   "cell_type": "markdown",
   "id": "8e7dd593-6a8f-4325-b601-f388c290ce9f",
   "metadata": {},
   "source": [
    "### **1. 曲线积分**"
   ]
  },
  {
   "cell_type": "markdown",
   "id": "8ff3214d-e809-4d3a-bc7b-39e926abbef7",
   "metadata": {},
   "source": [
    "1. **思想**：划分、求和、取极限。模型：力做功。\n",
    "2. **术语**：被积的向量值函数、定向弧微分。\n",
    "3. **性质**：线性、区域可加。但**没有**保序、中值定理（思考：为什么）。\n",
    "4. **计算**：若曲线由参数方程 $\\mathbf{r}(t)=(x(t),y(t))$ 给出向量值函数的分量为$\\mathbf{f}=(f_1,f_2)$，则$$\\int_L\\mathbf{f}(x,y)\\cdot \\mathrm{d}\\mathbf{r}=\n",
    "\\int_Lf_1\\cos\\alpha\\mathrm{d}s+f_2\\sin\\alpha\\mathrm{d}s= \\int_Lf_1\\mathrm{d}x+f_2\\mathrm{d}y=\\int_Lf_1x'(t)\\mathrm{d}t+f_2y'(t)\\mathrm{d}t$$ (为方便记忆，我们不妨称之为：第一类曲线积分的——**定义式、夹角式、分量式**———表达)\n",
    "\n",
    "$$\\int_L\\mathbf{f}(x,y,z)\\cdot \\mathrm{d}\\mathbf{r}=\\int_L f_1\\cos\\alpha+f_2\\cos\\beta+f_3\\cos\\gamma\\mathrm{d}s=\\int_Lf_1\\mathrm{d}x+f_2\\mathrm{d}y+f_3\\mathrm{d}z$$\n",
    "\n",
    "5. **微元**：统一记忆方法，只要记住定向弧的微元$$\\mathrm{d}\\mathbf{r}=(\\cos\\alpha,\\cos\\beta)\\mathrm{ds}=(\\mathrm{d}x,\\mathrm{d}y)$$\n",
    "6. **技巧**：选取合适参数化**例 [10.8] [10.9] [10.10] [10.11] [10.12]**\n"
   ]
  },
  {
   "cell_type": "markdown",
   "id": "a66fda67-04f3-4360-8887-174bf92cf796",
   "metadata": {},
   "source": [
    "书后习题：**[E10]**(第一类、第二类曲线积分转化)，**[E11],[E12]** （第二类曲线积分基础题），**[E13],[E14],[E15]**（变力做功）"
   ]
  },
  {
   "cell_type": "markdown",
   "id": "aa2789bd-03c8-425e-afa2-2d1da944b5a9",
   "metadata": {},
   "source": [
    "### **2. 曲面积分**"
   ]
  },
  {
   "cell_type": "markdown",
   "id": "a92e03df-05fe-4d6b-b792-715804c99abc",
   "metadata": {},
   "source": [
    "1. **思想**：划分、求和、取极限。模型：通量、流量。\n",
    "2. **术语**：被积的向量值函数、定向弧微分。\n",
    "3. **性质**：线性、区域可加。但**没有**保序、中值定理（思考：为什么）。\n",
    "4. **计算**：若曲面由参数方程 $\\mathbf{r}(u,v)$ 给出，向量值函数的分量为$\\mathbf{f}=(f_1,f_2,f_3)$，则$$\\iint_\\Sigma\\mathbf{f}(x,y,z)\\cdot \\mathrm{d}\\mathbf{S}=\\iint_\\Sigma\n",
    "f_1\\cos\\alpha\\mathrm{d}\\sigma+f_2\\cos\\beta\\mathrm{d}\\sigma+f_3\\cos\\gamma\\mathrm{d}\\sigma=\\iint_\\Sigma f_1\\mathrm{d}y\\mathrm{d}z+f_2\\mathrm{d}z\\mathrm{d}x+f_3\\mathrm{d}x\\mathrm{d}y$$$$=\\iint_{D_{uv}}\\left(f_1\\mathrm{det}\\left(\\begin{array}{cc}y_u&y_v\\\\z_u&z_v\\end{array}\\right)\\mathrm{d}u\\mathrm{d}v+f_2\\mathrm{det}\\left(\\begin{array}{cc}z_u&z_v\\\\x_u&x_v\\end{array}\\right)\\mathrm{d}u\\mathrm{d}v+f_3\\mathrm{det}\\left(\\begin{array}{cc}x_u&x_v\\\\y_u&y_v\\end{array}\\right)\\mathrm{d}u\\mathrm{d}v\\right)\\cdot{\\color{red}\\frac{\\det(r_u,r_v,o)}{|\\det(r_u,r_v,o)|}}$$\n",
    "<font color=blue>**难点**</font>有二：\n",
    "- 第二类曲面积分的计算有两种方法，（1）先通过夹角式变成第一类积分，再化为重积分；（2）直接使用参数换元公式。\n",
    "- 换元公式中的符号，意思是换元后，若标架$r_u,r_v,o$成为右手系，取$+1$, 左手系取$(-1)$。\n",
    "- 换元公式中的记号$o$是曲面的定向，解释如下：\n",
    "6. **定向**：\n",
    "我们称曲面片上一个**连续的单位法向量场**，为一个曲面片的定向，记为 $o_\\Sigma$。该向量场在$P$的向量，是$\\Sigma$在$P$的一个单位法向量。通常，我们只有确定了定向，才能谈论曲面积分。但通常人们讨论问题时给定定向，把记号中的定向省略$$\\iint_{(\\Sigma,o_\\Sigma)}\\Rightarrow \\iint_\\Sigma$$\n",
    "7. **微元**：统一记忆方法，只要记住定向面片的微元$$\\mathrm{d}\\mathbf{S}=\\mathbf{o}_\\Sigma\\mathrm{d}\\sigma=(\\cos\\alpha,\\cos\\beta,\\cos\\gamma)\\mathrm{d}\\sigma=(\\mathrm{d}y\\mathrm{d}z,\\mathrm{d}z\\mathrm{d}x,\\mathrm{d}x\\mathrm{d}y)$$思考：哪里体现了定向？提示：$\\cos(\\pi-\\alpha)=-\\cos \\alpha$\n",
    "8. **思考**：是否成立$$\\int_\\Sigma\\mathrm{d}x\\mathrm{d}y=\\int_\\Sigma\\mathrm{d}y\\mathrm{d}x?$$（答案见例题精讲）\n",
    "9. **难点**：画图、判断定向，正确计算法面元\n",
    "\n",
    "  **例 [10.13]（参数法，参数取xy平面投影，课本成为\"合一投影法\"）[10.14]（用定义式）[10.15]（分量式转定义式）[10.16]**\n"
   ]
  },
  {
   "cell_type": "markdown",
   "id": "8b92b4a1-7d35-47ed-a810-dc553b6a276a",
   "metadata": {},
   "source": [
    "**课本例题**: **[E16]**(第一类、第二类曲面积分的转化)，**[E17]**（第二类曲面积分的计算），**[E18]**（物理意义：定向流量），**[E19]**（计算面积，参考课本213）"
   ]
  },
  {
   "cell_type": "markdown",
   "id": "75655b89-3167-4775-9f2c-81b9bf490e28",
   "metadata": {},
   "source": [
    "## **3. 格林(Green)公式及其应用**"
   ]
  },
  {
   "cell_type": "markdown",
   "id": "cbf371e8-bc84-46d5-9992-9bc515a72a4f",
   "metadata": {},
   "source": [
    "1. 区域的边界与定向。\n",
    "2. 格林公式 $$\\oint_CP\\mathrm{d}x+Q\\mathrm{d}y=\\iint_D\\left(Q_x-P_y\\right)\\mathrm{d}x\\mathrm{d}y=\\iint_D\\left|\\begin{array}{cc}\\partial_x&\\partial_y\\\\ P&Q\\end{array}\\right|\\mathrm{d}x\\mathrm{d}y$$\n",
    "3. 技巧：添加辅助线，通过封闭区域积分计算曲线积分。\n",
    "4. **难点**：画图、判断定向，正确计算法面元**例 [10.17][10.18][10.19][10.20][10.21]**\n",
    "   \n",
    "   其中，特别注意<font color=red>**例题 [10.20]**</font>，需要根据曲线是否环绕向量场的奇点讨论。注意到向量场在 $(0,0)$ 处不连续。\n",
    "\n",
    "   这也是 **例题 [10.25]** 能够成立的原因：曲线没有绕过奇点$(0,0)$，所以积分与路径无关。没多绕一次，需要增加奇点处绕行导致的增量。\n",
    "\n",
    "6. 凑微分，全微分方程（皇甫老师习题课整理过典型函数，$\\arctan(y/x)$ 诸如此类）**例 [10.24],[10.25] (重点关注) ,[10.26],[10.27]**"
   ]
  },
  {
   "cell_type": "markdown",
   "id": "897cae18-c527-4869-b1d4-18a6f4bb2a78",
   "metadata": {},
   "source": [
    "**课本例题**: **[E20],[E21],[E27],[E28]** （用格林公式计算环路积分），**[E22],[E23],[E24],[E25]**（格林公式：积分的道路无关性）\n",
    "\n",
    "**[E26]** 积分因子法解微分方程。"
   ]
  },
  {
   "cell_type": "markdown",
   "id": "aa849e78",
   "metadata": {},
   "source": [
    "## **4. 高斯(Gauss)公式和斯托克斯(Stokes)公式**"
   ]
  },
  {
   "cell_type": "markdown",
   "id": "0d649970-eb6a-4248-a926-821402d3c427",
   "metadata": {},
   "source": [
    "1. 高斯公式\n",
    "$$\\unicode{8751}_SP\\mathrm{d}y\\mathrm{d}z+Q\\mathrm{d}z\\mathrm{d}x+R\\mathrm{d}x\\mathrm{d}y=\\iiint_\\Omega (P_x+Q_y+R_z)\\mathrm{d}x\\mathrm{d}y\\mathrm{d}z$$**例 [10.29][10.30][10.31]**\n",
    "\n",
    "**书后习题**: **[E29]**(高斯公式), **[E30]**（需要挖掉奇点的高斯公式）\n",
    "\n",
    "2. 通量和散度\n",
    "\n",
    "**书后习题**: **[E31]**（高斯公式算通量），**[E32]** 散度\n",
    "\n",
    "4. 斯托克斯公式$$\\oint_CP\\mathrm{d}x+Q\\mathrm{d}y+R\\mathrm{d}z=\\iint_S\\left|\\begin{array}{ccc}\\mathrm{d}y\\mathrm{d}z&\\mathrm{d}z\\mathrm{d}x&\\mathrm{d}x\\mathrm{d}y\\\\ \\partial_x&\\partial_y&\\partial_z\\\\ P&Q&R\\end{array}\\right|$$**例 [10.34][10.35]**\n",
    "\n",
    "**书后习题**: **[E34],[E35]**（斯托克斯公式计算）\n",
    "\n",
    "5. 环量和旋度\n",
    "\n",
    "**书后习题**：**[E36]**（向量场环量的计算），**[E37]**（向量场旋度的计算），**[E38]** （按定义展开偏导计算）\n"
   ]
  },
  {
   "cell_type": "markdown",
   "id": "eca5d4c8",
   "metadata": {},
   "source": [
    "# **例题精讲**"
   ]
  },
  {
   "cell_type": "markdown",
   "id": "b5e3180a-f7bb-4f6b-bbe3-b1b3c48999dd",
   "metadata": {},
   "source": [
    "### 1. 例题10.7，计算曲面积分"
   ]
  },
  {
   "cell_type": "markdown",
   "id": "72a17229-2a5a-4adb-bbaa-58af3becf792",
   "metadata": {},
   "source": [
    "$$I=\\iint_\\Sigma z\\mathrm{d}S,$$ 其中$\\Sigma$ 是螺旋面的一部分\n",
    "$$\\left\\{\\begin{array}{cl}\n",
    "x&=\\rho\\cos\\theta\\\\\n",
    "y&=\\rho\\sin\\theta\\\\\n",
    "z&=\\theta\\\\\n",
    "\\end{array}\n",
    "\\right.,\\ \\ (0\\leq\\rho\\leq a,0\\leq \\theta\\leq 2\\pi)$$"
   ]
  },
  {
   "cell_type": "code",
   "execution_count": 1,
   "id": "c4e2ad89-4e8d-49e2-bb83-6c100281cad6",
   "metadata": {},
   "outputs": [],
   "source": [
    "%matplotlib qt\n",
    "import numpy as np\n",
    "import matplotlib.pyplot as plt\n",
    "\n",
    "r = np.linspace(0,1,50)\n",
    "theta = np.linspace(0,2*np.pi,50)\n",
    "R,Theta=np.meshgrid(r,theta)\n",
    "\n",
    "X = R * np.cos(Theta)\n",
    "Y = R * np.sin(Theta)\n",
    "Z = Theta\n",
    "\n",
    "fig = plt.figure()\n",
    "ax = fig.add_subplot(111,projection=\"3d\")\n",
    "ax.plot_surface(X,Y,Z,cmap=\"viridis\")\n",
    "\n",
    "ax.view_init(elev=20, azim=-35)\n",
    "\n",
    "plt.show()\n"
   ]
  },
  {
   "cell_type": "markdown",
   "id": "a49da549-be36-4acd-abb7-b744a8f0a03a",
   "metadata": {},
   "source": [
    "由于 $r(\\rho,\\theta)=(\\rho\\cos\\theta,\\rho\\sin\\theta,\\theta)$, 因此\n",
    "$$\\left\\{\\begin{array}{rl}\n",
    "r_\\rho& = (\\cos\\theta,\\sin\\theta,0)\\\\\n",
    "r_\\theta&=(-\\rho\\sin\\theta,\\rho\\cos\\theta,1)\n",
    "\\end{array}\\right.$$\n",
    "$$EG-F^2=|r_\\rho|^2\\cdot|r_\\theta|^2-(r_\\rho\\cdot r_\\theta)^2$$\n",
    "$$=1+\\rho^2$$\n",
    "计算上注意是 $E\\times G-F^2$, 而不是 $E+G-F^2$, 也不是 $E\\times G-F$\n"
   ]
  },
  {
   "cell_type": "markdown",
   "id": "46e5b137-594d-4bc5-b0df-baab9a1c0419",
   "metadata": {},
   "source": [
    "于是$$I=\\iint_{[0,a]\\times[0,2\\pi]}\\theta\\sqrt{1+\\rho^2}\\mathrm{d}\\rho\\mathrm{d}\\theta=\\int_0^{2\\pi}\\theta\\mathrm{d}\\theta\\cdot\\int_0^{a}\\sqrt{1+\\rho^2}\\mathrm{d}\\rho$$"
   ]
  },
  {
   "cell_type": "markdown",
   "id": "3cdfb326-c525-45e0-944d-33573d505ef0",
   "metadata": {},
   "source": [
    "$$=2\\pi^2\\int_0^a\\sqrt{1+\\rho^2}\\mathrm{d}\\rho$$"
   ]
  },
  {
   "cell_type": "markdown",
   "id": "24aea60b-623f-49ef-bc89-b169c72f257c",
   "metadata": {},
   "source": [
    "我们用双曲三角换元: $\\rho=\\sinh u$, 则$$\\int_0^a\\sqrt{1+\\rho^2}\\mathrm{d}\\rho=\\int_0^{\\mathrm{arsh}(a)}\\mathrm{ch}^2(u)\\mathrm{d}u=\\int_0^{\\mathrm{arsh}(a)}\\frac{1+\\mathrm{ch}(2u)}{2}\\mathrm{d}u$$"
   ]
  },
  {
   "cell_type": "markdown",
   "id": "c284a194-4d33-4873-81fe-01ce2179dc82",
   "metadata": {},
   "source": [
    "$$=\\left(\\frac{1}{2}u+\\frac{1}{4}\\mathrm{sh}(2u)\\right)\\Big|_0^{\\mathrm{arsh}(a)}=\\left(\\frac{1}{2}u+\\frac{1}{2}\\mathrm{sh}(u)\\mathrm{ch}(u)\\right)\\Big|_0^{\\mathrm{arsh}(a)}=\\frac{1}{2}\\mathrm{arsh}(a)+\\frac{1}{2}a\\sqrt{1+a^2}$$"
   ]
  },
  {
   "cell_type": "markdown",
   "id": "4d3a6066-45b9-477b-8172-e16eba98e97f",
   "metadata": {},
   "source": [
    "### 2. 曲面的定向 "
   ]
  },
  {
   "cell_type": "markdown",
   "id": "17d82624-3ecf-4108-b960-aaaa408c72cb",
   "metadata": {},
   "source": [
    "我们考虑曲面 $\\Sigma\\colon x+y+z=1,0\\leq x,y,z$，定向取朝$z$正方向的单位法向量场。"
   ]
  },
  {
   "cell_type": "markdown",
   "id": "58a21d22-8b64-49e4-bc38-8699f3ee4779",
   "metadata": {},
   "source": [
    "我们用参数换元公式：\n",
    "1. 参数化取$r(x,y)=(x,y,1-x-y)$，则$r_x=(1,0,-1),r_y=(0,1,-1)$, 定向 $(1,1,1)$, 符号同$$\\det\\left(\\begin{array}{ccc}1&0&-1\\\\0&1&-1\\\\1&1&1\\end{array}\\right)=\\det\\left(\\begin{array}{ccc}1&0&-1\\\\0&1&-1\\\\0&1&2\\end{array}\\right)=3$$\n",
    "从而第二类曲面积分，等于二重积分：\n",
    "$${\\color{blue}\\iint_\\Sigma\\mathrm{d}x\\mathrm{d}y}=\\iint_{\\{x+y\\leq1,0\\leq x,y\\}}\\frac{3}{|3|}\\mathrm{d}x\\mathrm{d}y=\\iint_{\\{x+y\\leq1,0\\leq x,y\\}}\\mathrm{d}x\\mathrm{d}y$$\n",
    "2. 参数化取$r(x,y)=(x,y,1-x-y)$，则$r_x=(1,0,-1),r_y=(0,1,-1)$, 定向 $(1,1,1)$, 符号同$$\\det\\left(\\begin{array}{ccc}1&0&-1\\\\0&1&-1\\\\1&1&1\\end{array}\\right)=\\det\\left(\\begin{array}{ccc}1&0&-1\\\\0&1&-1\\\\0&1&2\\end{array}\\right)=3$$\n",
    "从而第二类曲面积分，等于二重积分：\n",
    "$${\\color{blue}\\iint_\\Sigma\\mathrm{d}y\\mathrm{d}x}=\\iint_{\\{x+y\\leq1,0\\leq x,y\\}}\\mathrm{det}\\left(\\begin{array}{cc}0&1\\\\1&0\\end{array}\\right)\\frac{3}{|3|}\\mathrm{d}x\\mathrm{d}y=-\\iint_{\\{x+y\\leq1,0\\leq x,y\\}}\\mathrm{d}x\\mathrm{d}y$$\n",
    "3. 参数化取$r(y,x)=(x,y,1-x-y)$，则$r_y=(0,1,-1),r_1=(1,0,-1)$, 定向 $(1,1,1)$, 符号同$$\\det\\left(\\begin{array}{ccc}0&1&-1\\\\1&0&-1\\\\1&1&1\\end{array}\\right)=-3$$\n",
    "从而第二类曲面积分，等于二重积分：\n",
    "$${\\color{blue}\\iint_\\Sigma\\mathrm{d}y\\mathrm{d}x}=\\iint_{\\{x+y\\leq1,0\\leq x,y\\}}\\mathrm{det}\\frac{-3}{|3|}\\mathrm{d}y\\mathrm{d}x=-\\iint_{\\{x+y\\leq1,0\\leq x,y\\}}\\mathrm{d}y\\mathrm{d}x$$"
   ]
  },
  {
   "cell_type": "markdown",
   "id": "12195ac4-9ac7-4045-8349-b12bc9a1dfd3",
   "metadata": {},
   "source": [
    "这里让人困惑的点在于，**重积分**、**第二类曲面积分的分量式**，采用了相同的记号$$\\iint_\\Sigma\\mathrm{d}x\\mathrm{d}y$$ $$\\iint_D\\mathrm{d}x\\mathrm{d}y$$\n",
    "但其定义完全不同，重积分直接化为累次积分计算，第二类曲面积分的分量式，有两种方法**计算**：\n",
    "\n",
    "1. 化为夹角式或定义式，成为第一类曲面积分、再化为重积分，但不能直接 “看着记号差不多，就当重积分计算”。\n",
    "2. 或者，在分量式下取参数化，通过参数化公式计算，其中需要特别注意符号（公式中标红）。"
   ]
  },
  {
   "cell_type": "markdown",
   "id": "2f4028e4-d069-4433-8e1d-c104fb32bf4b",
   "metadata": {},
   "source": [
    "以下我们用化为夹角式、变成第一类曲面积分计算："
   ]
  },
  {
   "cell_type": "markdown",
   "id": "5b3d3447-75a2-4c2b-80f4-67b79a6c4fe9",
   "metadata": {},
   "source": [
    "$$\\iint_\\Sigma\\mathrm{d}x\\mathrm{d}y=\\iint_\\Sigma (1,0,0)\\cdot\\mathrm{d}S=\\iint_\\Sigma (1,0,0)\\cdot\\frac{(1,1,1)}{\\sqrt{3}}\\mathrm{d}\\sigma$$$$=\\frac{1}{\\sqrt{3}}\\iint_\\Sigma \\mathrm{d}\\sigma=\\frac{1}{\\sqrt{3}}\\int_{0\\leq x+y\\leq 1,0\\leq x,y}\\sqrt{1+1+1}\\mathrm{d}x\\mathrm{d}y=\\int_{0\\leq x+y\\leq 1,0\\leq x,y}\\mathrm{d}x\\mathrm{d}y$$"
   ]
  },
  {
   "cell_type": "markdown",
   "id": "6f11ad18-cae2-40be-aee9-7f79ca735c8d",
   "metadata": {},
   "source": [
    "$$\\iint_\\Sigma\\mathrm{d}y\\mathrm{d}x{\\color{red}=}\\iint_\\Sigma (1,0,0)\\cdot\\mathrm{d}S=\\iint_\\Sigma (1,0,0)\\cdot\\frac{(1,1,1)}{\\sqrt{3}}\\mathrm{d}\\sigma$$$$=\\frac{1}{\\sqrt{3}}\\iint_\\Sigma \\mathrm{d}\\sigma=\\frac{1}{\\sqrt{3}}\\int_{0\\leq x+y\\leq 1,0\\leq x,y}\\sqrt{1+1+1}\\mathrm{d}x\\mathrm{d}y=\\int_{0\\leq x+y\\leq 1,0\\leq x,y}\\mathrm{d}x\\mathrm{d}y$$"
   ]
  },
  {
   "cell_type": "markdown",
   "id": "44aebc78-253f-4e1d-9895-634b59ae712e",
   "metadata": {},
   "source": [
    "这个计算错哪里了？错在第一步，在分量式公式中，我们甚至没有定义过 $$\\mathrm{d}y\\mathrm{d}x$$是什么。有同学可能认为$x,y,z$地位是对称的，把$x,y$“换一换”怎么就不能算？原因在于，我们谈论 $\\Sigma$ 定向的时候，是在空间中$x,y,z$标架中的，如果改变了$x,y,z$的次序，也要相应改变$\\Sigma$的定向！这有点像，镜面反射不保持角速度：一个拟时针旋转的陀螺，角速度朝上，可是镜面反射成顺时针旋转后，角速度朝下！"
   ]
  },
  {
   "cell_type": "markdown",
   "id": "c3860c87-91ab-41e9-bb91-ce32872e185b",
   "metadata": {},
   "source": [
    "为了方便起见，人们通常对第二类曲面积分采用记号$\\mathrm{d}x\\wedge\\mathrm{d}y$, 并使用约定：$\\cdots \\mathrm{d}x\\wedge\\mathrm{d}y\\cdots =-\\cdots \\mathrm{d}y\\wedge\\mathrm{d}x\\cdots $，这样可以清晰地区分重积分、第二类曲面积分。而且方便推广到任意维数（机器学习中数据的空间可以是高维的）。"
   ]
  },
  {
   "cell_type": "markdown",
   "id": "8de9b8c8-b233-4151-8a9c-4d765dc28a61",
   "metadata": {},
   "source": [
    "### 3. 例题 10.25"
   ]
  },
  {
   "cell_type": "markdown",
   "id": "24df05dd-ad29-4cc9-aea3-560c36387351",
   "metadata": {},
   "source": [
    "计算曲线积分$$I=\\int_C\\frac{x\\mathrm{d}y-y\\mathrm{d}x}{x^2+y^2}$$"
   ]
  },
  {
   "cell_type": "code",
   "execution_count": null,
   "id": "977f629a-2267-4826-8456-e216ccf5163c",
   "metadata": {},
   "outputs": [],
   "source": []
  }
 ],
 "metadata": {
  "kernelspec": {
   "display_name": "Python 3 (ipykernel)",
   "language": "python",
   "name": "python3"
  },
  "language_info": {
   "codemirror_mode": {
    "name": "ipython",
    "version": 3
   },
   "file_extension": ".py",
   "mimetype": "text/x-python",
   "name": "python",
   "nbconvert_exporter": "python",
   "pygments_lexer": "ipython3",
   "version": "3.12.7"
  }
 },
 "nbformat": 4,
 "nbformat_minor": 5
}

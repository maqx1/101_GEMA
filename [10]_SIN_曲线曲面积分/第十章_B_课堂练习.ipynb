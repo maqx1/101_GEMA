{
 "cells": [
  {
   "cell_type": "markdown",
   "id": "a88b28e0-af76-4d9c-903a-41402afc3c29",
   "metadata": {},
   "source": [
    "### 1. 使用格林公式注意奇点 [4254]\n",
    "$$\\oint_C\\frac{(x+y)\\mathrm{d}x-(x-y)\\mathrm{d}y}{x^2+y^2}$$其中$C$逆时针围绕$$x^4+y^4=1$$"
   ]
  },
  {
   "cell_type": "markdown",
   "id": "1f419a10-c5e0-4a72-93f8-cf98b6f342c6",
   "metadata": {},
   "source": [
    "### 2. 利用投影参数化 [4281]\n",
    "\n",
    "计算沿空间曲线的第二型曲线积分$$\\oint_C(y-z)\\mathrm{d}x+(z-x)\\mathrm{d}y+(x-y)\\mathrm{d}z$$其中$C$为 $x^2+y^2+z^2=a^2$ 与$y=x \\tan\\alpha $, $0<\\alpha<\\pi$ 且从$x$ 轴正向看为逆时针。"
   ]
  },
  {
   "cell_type": "markdown",
   "id": "eb007824-d7e0-465d-8670-4303e822ee7d",
   "metadata": {},
   "source": [
    "### 3. 用格林公式化简 [4272]\n",
    "1. 设 $$\\mathrm{d}z=\\frac{y\\mathrm{d}x-x\\mathrm{d}y}{3x^2-2xy+3y^2},$$ 求右半区域上的原函数$z$\n",
    "\n",
    "2. 计算积分 $$\\oint_{x^2+y^2=1}\\frac{y\\mathrm{d}x-x\\mathrm{d}y}{3x^2-2xy+3y^2}=\\oint_{3x^2-2xy+3y^2=1}y\\mathrm{d}x-x\\mathrm{d}y$$"
   ]
  },
  {
   "cell_type": "markdown",
   "id": "22b7f8e5-73b9-403b-aba7-eb967f819285",
   "metadata": {},
   "source": [
    "###  4. 被积函数为全微分 [4321]\n",
    "\n",
    "若 $X=ax+by,\\ Y=cx+dy$，且 $C$ 为包围坐标原点的简单封闭曲线 $ad-bc\\neq0$, 计算$$I=\\frac{1}{2\\pi}\\oint_C\\frac{X\\mathrm{d}Y-Y\\mathrm{d}X}{X^2+Y^2}$$"
   ]
  },
  {
   "cell_type": "markdown",
   "id": "dca72eb1-40f6-4187-afc3-bc60b4c18269",
   "metadata": {},
   "source": [
    "$$I=\\frac{ad-bc}{2\\pi}\\oint_C\\frac{x\\mathrm{d}y-y\\mathrm{d}x}{(ax+by)^2+(cx+dy)^2}$$"
   ]
  },
  {
   "cell_type": "markdown",
   "id": "138234a1-5725-40b3-bf37-856481dec630",
   "metadata": {},
   "source": [
    "用格林公式，考虑闭曲线$(ax+by)^2+(cx+dy)^2=\\epsilon^2$, 积分化简为\n",
    "$$I=\\frac{ad-bc}{2\\pi\\epsilon^2}\\oint_{C_\\epsilon}x\\mathrm{d}y-y\\mathrm{d}x$$"
   ]
  },
  {
   "cell_type": "markdown",
   "id": "61014a12-70b9-4780-94d1-69f21191bf90",
   "metadata": {},
   "source": [
    "在此使用格林公式$$I=\\frac{2(ad-bc)\n",
    "}{2\\pi\\epsilon^2}\\oint_{C_\\epsilon}\\mathrm{d}x\\mathrm{d}y$$"
   ]
  },
  {
   "cell_type": "markdown",
   "id": "fa098606-7abe-46fb-ad7a-0d5695472c0f",
   "metadata": {},
   "source": [
    "使用积分换元$$I=\\frac{ad-bc}{\\pi\\epsilon^2}\\int_{X^2+Y^2\\leq \\epsilon}\\frac{1}{|ad-bc|}\\mathrm{d}X\\mathrm{d}Y=\\mathrm{sgn}(ad-bc)$$"
   ]
  },
  {
   "cell_type": "markdown",
   "id": "ea5ca6cf-b4c8-4ceb-ae5f-f16401d7f5f1",
   "metadata": {},
   "source": [
    "### 5. 利用曲线积分算面积 [4311]\n",
    "\n",
    "$$x^3+y^3=3xy$$ 在第一象限的面积。参数化，极坐标。"
   ]
  },
  {
   "cell_type": "markdown",
   "id": "49844f97-d1f6-4d13-b6be-bd8a755461a6",
   "metadata": {},
   "source": [
    "### 6. 曲线积分的定义 [4323]\n",
    "计算$$\\oint_C x\\mathrm{cos}(\\mathbf{n},x)+y\\mathrm{cos}(\\mathbf{n},y)\\mathrm{d}s$$"
   ]
  },
  {
   "cell_type": "markdown",
   "id": "53a21008-6a00-4781-ac62-cb67eece962c",
   "metadata": {},
   "source": [
    "记 $C$ 的单位切向量为 $\\mathbf{n}$, 记 $\\mathbf{t}$ 为正向切向量，则$$I=\\oint_C[x\\cos(\\mathbf{t},y)-y\\cos(\\mathbf{t},x)]\\mathrm{d}s=\\oint_Cx\\mathrm{d}y-y\\mathrm{d}x=2|S|$$"
   ]
  },
  {
   "cell_type": "markdown",
   "id": "ca8dfcf7-a9e2-4f51-9a7d-7f3affcf46cd",
   "metadata": {},
   "source": [
    "### 7. 曲面积分（泊松公式）[4351]"
   ]
  },
  {
   "cell_type": "markdown",
   "id": "170144fa-b4a7-4b48-9a14-982b40e69654",
   "metadata": {},
   "source": [
    "$$\\iint_Sf(ax+by+cz)\\mathrm{d}S=2\\pi\\int_{-1}^1f(u\\sqrt{a^2+b^2+c^2})\\mathrm{d}u$$"
   ]
  },
  {
   "cell_type": "markdown",
   "id": "8a14faf5-fc16-4141-8a9f-759ec8ef1a83",
   "metadata": {},
   "source": [
    "其中 $S=\\{x^2+y^2+z^2=1\\}$"
   ]
  },
  {
   "cell_type": "markdown",
   "id": "8abe16f2-08f2-4bb3-b2d3-2215f7921c4d",
   "metadata": {},
   "source": [
    "提示 1：注意到$\\frac{ax+by+cz}{\\sqrt{a^2+b^2+c^2}}$为$(x,y,z)$到$ax+by+cz=0$的距离。"
   ]
  },
  {
   "cell_type": "markdown",
   "id": "f8044d2c-a5cd-45e8-b3cb-03193d5039c2",
   "metadata": {},
   "source": [
    "提示 2：球上高度角为 $\\psi$ 处的球台面积为 $2\\pi \\mathrm{d}h\\cdot \\sin\\psi\\cdot \\frac{1}{\\sin\\psi}=2\\pi\\mathrm{d}h$"
   ]
  },
  {
   "cell_type": "markdown",
   "id": "9a898c61-03df-4ac7-b3f4-09aba8ff472e",
   "metadata": {},
   "source": [
    "### 8. 第二型曲面积分 [4365]\n",
    "\n",
    "计算第二型曲面积分$$\\iint_S x\\mathrm{d}y\\mathrm{d}z+y\\mathrm{d}z\\mathrm{d}x+z\\mathrm{d}x\\mathrm{d}y$$ 其中$S$}球面$x^2+y^2+z^2=a^2$ 的外侧。 "
   ]
  },
  {
   "cell_type": "markdown",
   "id": "d0033e86-0bd1-478d-a676-041bb4601cbe",
   "metadata": {},
   "source": [
    "单位法向量为$(x/a,y/a,z/a)$, 因此由定义式写为$$\\frac{1}{a}\\iint_S(x^2+y^2+z^2)\\mathrm{d}S=4\\pi a^3$$"
   ]
  },
  {
   "cell_type": "markdown",
   "id": "68a6ac6c-f852-433e-9fe4-9f7546715514",
   "metadata": {},
   "source": [
    "类似习题：计算第二型曲面积分$$\\iint_S\\frac{\\mathrm{d}y\\mathrm{d}z}{x}+\\frac{\\mathrm{d}z\\mathrm{d}x}{y}+\\frac{\\mathrm{d}x\\mathrm{d}y}{z}$$\n",
    "其中$S=\\{x^2/a^2+y^2/b^2+z^2/c^2=1\\}$ 外侧。"
   ]
  },
  {
   "cell_type": "markdown",
   "id": "540108cb-aa84-43bf-8373-014ac0b5c368",
   "metadata": {},
   "source": [
    "$$\\mathbf{n}=\\frac{1}{\\sqrt{\\frac{x^2}{a^4}+\\frac{y^2}{b^4}+\\frac{z^2}{c^4}}}\\left(\\frac{x}{a^2},\\frac{y}{b^2},\\frac{z}{c^2}\\right)$$"
   ]
  },
  {
   "cell_type": "markdown",
   "id": "5cd43349-69ec-401b-aaed-6d576b42362f",
   "metadata": {},
   "source": [
    "$$I=\\left(\\frac{1}{a^2}+\\frac{1}{b^2}+\\frac{1}{c^2}\\right)\\iint_S\\frac{\\mathrm{d}S}{\\sqrt{\\frac{x^2}{a^4}+\\frac{y^2}{b^4}+\\frac{z^2}{c^4}}}$$"
   ]
  },
  {
   "cell_type": "markdown",
   "id": "f2bdc21e-59c9-4eb7-bd23-1bfd10973259",
   "metadata": {},
   "source": [
    "注意到$$\\frac{1}{\\sqrt{\\frac{x^2}{a^4}+\\frac{y^2}{b^4}+\\frac{z^2}{c^4}}}=\\frac{{\\frac{x^2}{a^2}+\\frac{y^2}{b^2}+\\frac{z^2}{c^2}}}{\\sqrt{\\frac{x^2}{a^4}+\\frac{y^2}{b^4}+\\frac{z^2}{c^4}}}=(x,y,z)\\cdot\\mathbf{n}$$"
   ]
  },
  {
   "cell_type": "markdown",
   "id": "ccd3028f-957f-405b-a4b0-f28f5467c38c",
   "metadata": {},
   "source": [
    "再次利用定义式$$I=\\left(\\frac{1}{a^2}+\\frac{1}{b^2}+\\frac{1}{c^2}\\right)\\iint_S (x,y,z)\\cdot\\mathbf{n}\\mathrm{d}S$$"
   ]
  },
  {
   "cell_type": "markdown",
   "id": "36cb1c3e-97e8-4502-8b63-8bdbae9569ec",
   "metadata": {},
   "source": [
    "转为分量式$$I=\\left(\\frac{1}{a^2}+\\frac{1}{b^2}+\\frac{1}{c^2}\\right)\\iint_S x\\mathrm{d}y\\mathrm{d}z+y\\mathrm{d}z\\mathrm{d}x+z\\mathrm{d}x\\mathrm{d}y$$"
   ]
  },
  {
   "cell_type": "markdown",
   "id": "770a7365-53c4-4c1d-97e6-0fe6b8d2a55c",
   "metadata": {},
   "source": [
    "使用高斯公式\n",
    "$$I=\\left(\\frac{1}{a^2}+\\frac{1}{b^2}+\\frac{1}{c^2}\\right)\\iiint_V3\\mathrm{d}x\\mathrm{d}y\\mathrm{d}z=\\left(\\frac{1}{a^2}+\\frac{1}{b^2}+\\frac{1}{c^2}\\right)\\cdot 4\\pi abc$$"
   ]
  },
  {
   "cell_type": "markdown",
   "id": "f912e28e-0f66-485c-afdd-bb4f3ac6f0c1",
   "metadata": {},
   "source": [
    "### 9. 斯托克斯公式 [4373]\n",
    "计算积分 $$\\oint_C(y^2-z^2)\\mathrm{d}x+(z^2-x^2)\\mathrm{d}y+(x^2-y^2)\\mathrm{d}z$$\n",
    "其中$C$是平面$$x+y+z=\\frac{3}{2}a$$截立方体$[0,a]\\times[0,a]\\times[0,a]$的边界，且从$ox$正向看，逆时针。"
   ]
  },
  {
   "cell_type": "code",
   "execution_count": 10,
   "id": "5e94c723-6d9b-4cec-a994-55c6d03e9c69",
   "metadata": {},
   "outputs": [
    {
     "data": {
      "image/png": "[encoded data removed]",
      "text/plain": [
       "<IPython.core.display.Image object>"
      ]
     },
     "execution_count": 10,
     "metadata": {
      "image/png": {
       "height": 400,
       "width": 300
      }
     },
     "output_type": "execute_result"
    }
   ],
   "source": [
    "from IPython.display import Image \n",
    "Image(filename=\"./stokes.png\",width=300,height=400)"
   ]
  },
  {
   "cell_type": "markdown",
   "id": "fc8d15d2-aa84-4071-ae82-d9c6987d9c53",
   "metadata": {},
   "source": [
    "### 10. 阿基米德浮力定律"
   ]
  },
  {
   "cell_type": "markdown",
   "id": "d7ad667f-c965-4f2c-a2ec-6990ffbb7c13",
   "metadata": {},
   "source": [
    "$$mg=\\iint_S \\rho gz\\ \\mathbf{n}\\mathrm{d}S$$\n",
    "化为分量式\n",
    "$$=\\iint_S \\rho gz \\mathrm{d}y\\mathrm{d}z+\\rho gz\\mathrm{d}z\\mathrm{d}x+\\rho gz\\mathrm{d}x\\mathrm{d}y$$\n",
    "使用高斯定律得到\n",
    "$$=0+0+\\iiint_V\\rho g\\mathrm{d}z\\mathrm{d}x\\mathrm{d}y=\\rho g V$$\n"
   ]
  },
  {
   "cell_type": "code",
   "execution_count": null,
   "id": "1df5f65a-8332-41a6-bf80-a8f56e108ecd",
   "metadata": {},
   "outputs": [],
   "source": []
  }
 ],
 "metadata": {
  "kernelspec": {
   "display_name": "Python 3 (ipykernel)",
   "language": "python",
   "name": "python3"
  },
  "language_info": {
   "codemirror_mode": {
    "name": "ipython",
    "version": 3
   },
   "file_extension": ".py",
   "mimetype": "text/x-python",
   "name": "python",
   "nbconvert_exporter": "python",
   "pygments_lexer": "ipython3",
   "version": "3.12.7"
  }
 },
 "nbformat": 4,
 "nbformat_minor": 5
}

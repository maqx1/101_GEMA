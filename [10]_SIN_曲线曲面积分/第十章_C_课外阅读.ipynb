{
 "cells": [
  {
   "cell_type": "markdown",
   "id": "18cd79ec-4cb5-481b-bdb7-75e33dc4d4a0",
   "metadata": {},
   "source": [
    "## **1. 微分形式 (Differential Forms)**"
   ]
  },
  {
   "cell_type": "markdown",
   "id": "6ae0252d-7eb1-4b7f-a684-af0a7e08c7e2",
   "metadata": {},
   "source": [
    "为了区分**第二类曲面积分** 与 **重积分**，我们曾引入记号 $\\mathrm{d}x\\wedge\\mathrm{d}y$，表示从 $\\mathrm{d}x$ 到 $\\mathrm{d}y$ 的定向平行四边形面元。\n",
    "\n",
    "1. 如果用 $\\mathrm{d}\\sigma$ 来表示重积分的面元，则对于重积分，我们有记号$$\\mathrm{d}x\\mathrm{d}y=\\mathrm{d}\\sigma=\\mathrm{d}y\\mathrm{d}x$$\n",
    "2. 如果用 $\\mathrm{d}{\\mathbf{S}}$ 来表示第二类曲面积分的定向面元，则有$$\\mathrm{d}\\mathbf{S}=\\mathbf{o}\\mathrm{d}\\sigma,$$\n",
    "其中$\\mathbf{o}$是由定向决定的单位法向量。（字母$\\mathbf{o}$代表“orientation”，很多课本也写作$\\mathbf{n}$,代表法方向 \"normal direction\"，但法方向有内外两个，通常用$$\\pm\\mathbf{n}$$来指代。但这样$\\pm$到底取$+,-$哪个有点含糊，我们用$\\mathbf{o}$明确地规定:连续地选取其中一个。）\n",
    "例如，如果考虑 $\\{z=0\\}\\subset\\mathbb{R}^3$ 的定向取$\\mathbf{o}=(0,0,1)$，则定向面元 $\\mathrm{d}\\mathbf{S}$\n",
    "$$ \\mathrm{d}\\mathbf{S}=(0,0,1)\\mathrm{d}x\\mathrm{d}y=(0,0,1)\\mathrm{d}y\\mathrm{d}x$$"
   ]
  },
  {
   "cell_type": "markdown",
   "id": "a0b8ccb7-7543-4df7-acd2-345e38ceb3ce",
   "metadata": {},
   "source": [
    "3. 好，我们回到第二类曲面积分的定义，\n",
    "   - 定义式$$\\iint_\\Sigma \\mathbf{f}\\cdot\\mathrm{d}\\mathbf{S}=\\iint_\\Sigma \\mathbf{f}\\cdot(\\mathbf{o}\\mathrm{d}\\sigma)=\\iint_\\Sigma (\\mathbf{f}\\cdot\\mathbf{o})\\mathrm{d}\\sigma$$\n",
    "   - 夹角式$$\\iint_\\Sigma (f_1\\mathbf{e}_1+f_2\\mathbf{e}_2+f_3\\mathbf{e}_3)\\cdot(o_1\\mathbf{e}_1+o_2\\mathbf{e}_2+o_3\\mathbf{e}_3)\\mathrm{d}\\sigma$$$$=\\iint_\\Sigma (f_1\\mathbf{e}_1+f_2\\mathbf{e}_2+f_3\\mathbf{e}_3)\\cdot(\\cos\\alpha\\mathbf{e}_1+\\cos\\beta\\mathbf{e}_2+\\cos\\gamma\\mathbf{e}_3)\\mathrm{d}\\sigma$$\n",
    "$$=\\iint_\\Sigma (f_1\\cos\\alpha+f_2\\cos\\beta+f_3\\cos\\gamma)\\mathrm{d}\\sigma$$\n",
    "   - 分量式 $$\\iint_\\Sigma (f_1\\cos\\alpha+f_2\\cos\\beta+f_3\\cos\\gamma)\\mathrm{d}\\sigma$$$$=\\iint_\\Sigma f_1{\\color{blue}\\cos\\alpha\\mathrm{d}\\sigma}+f_2{\\color{blue}\\cos\\beta\\mathrm{d}\\sigma}+f_3{\\color{blue}\\cos\\gamma\\mathrm{d}\\sigma}$$ $$=\\iint_\\Sigma f_1{\\color{blue}\\mathrm{d}y\\mathrm{d}z}+f_2{\\color{blue}\\mathrm{d}z\\mathrm{d}x}+f_3{\\color{blue}\\mathrm{d}x\\mathrm{d}y}$$"
   ]
  },
  {
   "cell_type": "markdown",
   "id": "cc20b186-8fc3-4b1e-af10-8d5cf484bb55",
   "metadata": {},
   "source": [
    "4. 在分量式中，我们定义记号 $\\mathrm{d}y\\mathrm{d}z$ 为 $\\mathbf{o}\\mathrm{d}\\sigma$ 在$x$方向的分量，换言之，我们记$$\\cos\\alpha\\mathrm{d}\\sigma$$为$$\\mathrm{d}y\\mathrm{d}z.$$ 这个记号容易与重积分的记号 $\\mathrm{d}y\\mathrm{d}z$ 混淆，因此我们不妨记 $$\\cos\\alpha\\mathrm{d}\\sigma$$ 为 $$\\mathrm{d}y\\wedge\\mathrm{d}z$$"
   ]
  },
  {
   "cell_type": "markdown",
   "id": "f5c749f5-1c87-4993-8fb1-40aff4206d7e",
   "metadata": {},
   "source": [
    "我们称这个形式记号为 “微分形式”。什么是微分形式？微分形式就是**为了积分而创造的**记号，它们是**计入夹角的面元分量**！"
   ]
  },
  {
   "cell_type": "markdown",
   "id": "63f9fa10-a2be-4a35-8c9e-c98f8db347c1",
   "metadata": {},
   "source": [
    "## **2. 微分形式的运算法则**"
   ]
  },
  {
   "cell_type": "markdown",
   "id": "84dd2a85-194f-48f6-94fb-9722f606b2f5",
   "metadata": {},
   "source": [
    "对于微分形式，我们引入以下运算法则：\n",
    "1. 反对称：$$\\mathrm{d}f\\wedge\\mathrm{d}g=-\\mathrm{d}g\\wedge\\mathrm{d}f$$\n",
    "\n",
    "2. 结合律：$$\\mathrm{d}h\\wedge(\\mathrm{d}f\\wedge\\mathrm{d}g)=(\\mathrm{d}h\\wedge \\mathrm{d}g)\\wedge\\mathrm{d}f$$"
   ]
  },
  {
   "cell_type": "markdown",
   "id": "c1fb2c34-f9ad-4d96-87d2-4c41a41fef3a",
   "metadata": {},
   "source": [
    "3. 变号莱布尼茨法则"
   ]
  },
  {
   "cell_type": "markdown",
   "id": "fd85b39f-c6af-4f2f-a2ae-f28bbc5337b1",
   "metadata": {},
   "source": [
    "$$\\mathrm{d}(a\\wedge b)=\\mathrm{d}a\\wedge b+(-1)a\\wedge\\mathrm{d}b$$"
   ]
  },
  {
   "cell_type": "markdown",
   "id": "615a60ef-fa5b-4da7-89cf-7b52700d3ea2",
   "metadata": {},
   "source": [
    "一般地，我们称含有 $n$ 个 $\\mathrm{d}a$ 做楔积得到的表达式为 $n$-形式。对于 $n_1$ 形式 $a$ , $n_2$ 形式 $b$ , 我们定义\n",
    "$$\\mathrm{d}(a\\wedge b)=\\mathrm{d}a\\wedge b+(-1)^{n_1}a\\wedge\\mathrm{d}b$$"
   ]
  },
  {
   "cell_type": "markdown",
   "id": "c5432c6c-0a64-4a10-8610-e85dcb267d70",
   "metadata": {},
   "source": [
    "4. 通过偏导的交换性+变号莱布尼茨法则，我们验证，微分两次为零$$\\mathrm{d}(\\mathrm{d}a)=0$$"
   ]
  },
  {
   "cell_type": "markdown",
   "id": "daaf725c-ecf7-4500-a2fe-602a5549166c",
   "metadata": {},
   "source": [
    "5. 我们定义微分形式的换元,我们称为 **“拉回”**（pullback），若有一一映射$$\\phi\\colon D\\subset\\mathbb{R}^2\\to \\Sigma\\subset\\mathbb{R}^3, (u,v)\\mapsto (x,y,z)$$\n",
    "  则换元得到$D$上的微分形式：$$\\phi^*(\\mathrm{d}x\\wedge\\mathrm{d}y)=\\mathrm{d}(x(u,v))\\wedge\\mathrm{d}(y(u,v))$$ "
   ]
  },
  {
   "cell_type": "markdown",
   "id": "b4b7c259-0d5e-4d54-a0ad-49c6b66916b0",
   "metadata": {},
   "source": [
    "## **3. 微分形式的换元公式**"
   ]
  },
  {
   "cell_type": "markdown",
   "id": "f170d93d-cc1e-4df7-b5ee-6a2fe2c0d714",
   "metadata": {},
   "source": [
    "$$\\iint_{(\\Sigma,o)}\\omega=\\iint_Df^*\\omega\\cdot \\frac{\\mathrm{det}(\\phi_u,\\phi_v,o)}{|\\mathrm{det}(\\phi_u,\\phi_v,o)|}$$"
   ]
  }
 ],
 "metadata": {
  "kernelspec": {
   "display_name": "Python 3 (ipykernel)",
   "language": "python",
   "name": "python3"
  },
  "language_info": {
   "codemirror_mode": {
    "name": "ipython",
    "version": 3
   },
   "file_extension": ".py",
   "mimetype": "text/x-python",
   "name": "python",
   "nbconvert_exporter": "python",
   "pygments_lexer": "ipython3",
   "version": "3.12.7"
  }
 },
 "nbformat": 4,
 "nbformat_minor": 5
}

{
 "cells": [
  {
   "cell_type": "markdown",
   "id": "f7db28ed-f912-4c35-b888-41e2fb98ee0c",
   "metadata": {},
   "source": [
    "https://www.bilibili.com/video/BV1KarSY8E8v/?share_source=copy_web"
   ]
  },
  {
   "cell_type": "markdown",
   "id": "552ad9d2-62c7-485b-87c5-74f12ff51b8d",
   "metadata": {},
   "source": [
    "1. 什么是git, GitHub，关系是什么？\n",
    "    1. git: 分布式版本管理系统，帮助我们记住每一次修改，随时回到任意一次版本。\n",
    "    2. GitHub: 代码托管平台，供他人免费使用。\n",
    "    3. 开发者在自己电脑安装git, 对自己代码进行管理。\n",
    "2. 准备工作\n",
    "    1. 安装git, 注册GitHub账号。\n",
    "    4. 关联git和GitHub.\n",
    "    5. 在git bash中执行： `git config --global user.name xxx`,`git config --global user.email xxx@yy.com` 声明自己的身份\n",
    "    6. HTTPS，SSH两种通讯方式，通常许安则SSH。生成公钥、私钥对。\n",
    "    7. 输入 `ssh-keygen -t rsa -C xxx@yy.com`\n",
    "    8. 直接回车保存到默认位置，主目录下`.SSH`文件夹，通讯时不需要密码，直接回车。\n",
    "    9. 进入主目录下`.ssh`，id_rsa 存放私钥，id_rsa.pub 公钥，需要把公钥配置到GitHub。\n",
    "    10. 键入 `cd .ssh/`, .ssh `ls`, .ssh `cat id_rsa.pub`打开公钥，全部复制内容。\n",
    "    11. 回到 GitHub，点击头像、设置、找到SSH and GPG keys选项。点击右上角添加ssh key。起名字复制，添加即可。\n",
    "    12. git bash 中执行 .ssh `ssh -T git@github.com` 验证是否可以连通。\n"
   ]
  },
  {
   "cell_type": "markdown",
   "id": "a42cb3a9-198f-449e-8987-5804952bea61",
   "metadata": {},
   "source": [
    "3. 接手项目，完成需求分析和系统设计后，进入开发阶段。\n",
    "    1. GitHub 上新建一个仓库。添加readme, gitignore, 选择开源协议。\n",
    "    2. 当前只有一个main分支。\n",
    "    3. 分支管理：\n",
    "        1. 开发者在自己分支开发\n",
    "        2. 本地测试后，合并到dev\n",
    "        3. push到GitHub上的dev分支\n",
    "        4. 发布到测试环境测试\n",
    "        5. 提交PR请求把dev合并到master。\n",
    "    4. GitHub 点击分支，新建分支，从master拉一个dev\n",
    "    5. 点击Code, 选择SSH协议，复制网址 `git@github.com:xxx/zz-git`\n",
    "    6. 进入项目文件夹，执行 git clone `git@github.com:xxx/zz-git`\n",
    "    7. cd 进入代码仓库"
   ]
  },
  {
   "cell_type": "markdown",
   "id": "fcc1dfc9-0c8a-4a51-a3d2-f7412a912043",
   "metadata": {},
   "source": [
    "4. git 工作原理\n",
    "    1. 仓库中有 .git 隐藏文件夹。git 文件夹中 index 暂存区。\n",
    "    2. git commit 一次将暂存文件传递到仓库。\n",
    "    3. 再 push 到 github"
   ]
  },
  {
   "cell_type": "markdown",
   "id": "38e5232e-fc4b-4e5c-8295-ea4175bcc4af",
   "metadata": {},
   "source": [
    "5. 文件有四种状态：\n",
    "    1. 工作区中新建文件：untracked\n",
    "    2. 修改工作区中文件：modified\n",
    "    3. git add 到暂存区：staged\n",
    "    4. git commit 提交：committed"
   ]
  },
  {
   "cell_type": "markdown",
   "id": "c1200567-3af4-4621-aefd-9f8862bc113e",
   "metadata": {},
   "source": [
    "6. 实践操作\n",
    "    1. 执行 git status 查看当前仓库状态，根据情况配置git ignore\n",
    "        1. 如果不希望带入某类文件，再 git ignore 中添加即可\n",
    "        2. git ignore 支持通配符 *.png\n",
    "    2. 执行 git switch -c dev, 在本地创建并切换到新分支\n",
    "    3. 执行 git switch -c zhangsan, 在本地创建并切换到新分支\n",
    "    4. 执行 git branch / git branch -a, 查看所有分支\n",
    "    5. 执行 git add . 添加到暂存区。\n",
    "    6. 执行 git commit -m \"www1\" zhangsan\n",
    "    7. 要合并分支，先切换到目标分支 git switch dev\n",
    "    8. 合并分支 git merge --no-ff -m \"www2\" zhangsan\n",
    "    9. 推送分支 git push -v origin dev\n",
    "    10. 测试后，点击 compare and pull request."
   ]
  },
  {
   "cell_type": "markdown",
   "id": "3518314d-6ec1-4e88-ac9a-d889bed6ab91",
   "metadata": {},
   "source": [
    "7. 版本回退\n",
    "    1. 修改后，查看 git status, 提示可以通过\n",
    "        1. git add 将文件提交到暂存区\n",
    "        2. git restore 丢弃工作区的改动\n",
    "        3. 如果已经执行了git add 加入暂存区，使用 git restore --staged 撤销 git add 暂存操作\n",
    "        4. 如果已经执行了git add, git commit，可以使用git reset 撤销\n",
    "            1. 执行 git log 查看 git commit 的 Hash 值，使用ID回退。\n",
    "            2. 执行 git reset --hard `commit ID`\n",
    "            3. 执行 git log\n",
    "        5. 如果想要回退已经push到 GitHub 上远程分支回退，只需要再重新push一次\n",
    "        6. 如果提示失败，加参数 git push --force -v origin dev"
   ]
  },
  {
   "cell_type": "markdown",
   "id": "f177b2b2-c84f-4cc5-8b04-e35d6b395310",
   "metadata": {},
   "source": [
    "8. 解决项目冲突\n",
    "    1. 甲乙开发，甲开发后已经merge到master,乙再提交就冲突了。远程仓库包含本地不存在的提交。\n",
    "    2. 执行 git pull，得知当前分支没有跟踪信息，这是因为没有指定本地dev，远程dev分支的链接。可以执行`branch --set-upstream-to-origin/dev dev` 分支dev设定为跟踪\"origin/dev\"。\n",
    "    3. 仍按报错，需要选择解决冲突的方式，merge, rebase, 取决于团队对提交历史的偏好。\n",
    "       1. `git config pull.rebase false` （merge） 合并\n",
    "       2. `git config pull.rebase true` （rebase） 变基\n",
    "       3. `git config pull.ff only` 仅快进\n",
    "\n",
    "       - merge: 把远程分支的更改合并到本地分支，创建新合并再提交，使用方法：`git pull --no-rebase`, git config 设定之后直接pull.\n",
    "       - rebase: 把本地提交移动到远程最新提交的后面，保留线性，但破坏历史。\n",
    "       - git pull = git fetch +merge\n",
    "    4. 冲突被双虚线分隔。提交代码先 git add 再 git commit\n",
    "    5. 回到 GitHub, 显示存在冲突，点击解决冲突即可。\n",
    "    6. 解决冲突的原理是一致的。\n"
   ]
  },
  {
   "cell_type": "markdown",
   "id": "eb8995c2-4101-43e9-9e7e-c45889b71e34",
   "metadata": {},
   "source": [
    "9. 临时紧急修复bug\n",
    "    1. git stash 可以暂存当前开发的内容，新建分支修复bug\n",
    "    2. git stash pup, 回复之前进度\n",
    "    3. 能不能不用 git stash? 不行，因为一个分支未提交的修改，对其他分支都是可见的。\n",
    "    4. git branch -d 删除bug分支"
   ]
  },
  {
   "cell_type": "markdown",
   "id": "b3d7cdb0-b1f1-4d81-b378-213859326cde",
   "metadata": {},
   "source": [
    "10. cherry-pick 挑选提交\n",
    "    1. git log 查看记录\n",
    "    2. git cherry-pick `commit ID`, 生成新的 commit\n",
    "    3. push 到 github，合并到 master"
   ]
  },
  {
   "cell_type": "markdown",
   "id": "f30803db-6efa-4fbf-b2ce-14a1957599a1",
   "metadata": {},
   "source": [
    "https://www.bilibili.com/video/BV1KarSY8E8v/?share_source=copy_web"
   ]
  },
  {
   "cell_type": "code",
   "execution_count": null,
   "id": "d24dbb63-a52a-40a0-a79a-ebcb26be9345",
   "metadata": {},
   "outputs": [],
   "source": []
  }
 ],
 "metadata": {
  "kernelspec": {
   "display_name": "Python 3 (ipykernel)",
   "language": "python",
   "name": "python3"
  },
  "language_info": {
   "codemirror_mode": {
    "name": "ipython",
    "version": 3
   },
   "file_extension": ".py",
   "mimetype": "text/x-python",
   "name": "python",
   "nbconvert_exporter": "python",
   "pygments_lexer": "ipython3",
   "version": "3.12.8"
  }
 },
 "nbformat": 4,
 "nbformat_minor": 5
}

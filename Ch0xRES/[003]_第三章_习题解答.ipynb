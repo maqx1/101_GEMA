{
 "cells": [
  {
   "cell_type": "markdown",
   "id": "12206cac-dc20-4f6a-9bec-c625129d4779",
   "metadata": {},
   "source": [
    "略"
   ]
  },
  {
   "cell_type": "markdown",
   "id": "72188d4f-e9d4-46ed-b3f1-8a3b179fb6ab",
   "metadata": {},
   "source": [
    "根据课本导读，明确方程的分类，绘制解题决策树。"
   ]
  },
  {
   "cell_type": "markdown",
   "id": "8c0091e5-3a90-414e-907b-39fd7536fa9e",
   "metadata": {
    "jp-MarkdownHeadingCollapsed": true
   },
   "source": [
    "阶数，线性，伯欧，专属技巧（一阶：分离变量+齐线分，高阶：三种降阶），高阶技巧"
   ]
  },
  {
   "cell_type": "markdown",
   "id": "3a2a87ab-c3c1-405a-8581-6061ef5267b3",
   "metadata": {},
   "source": [
    "### 1. 一阶：分离变量+积分因子+伯努利。"
   ]
  },
  {
   "cell_type": "markdown",
   "id": "a88c046c-2b00-4419-ae7b-47ba56582e8c",
   "metadata": {},
   "source": [
    "1. [S11] 是否为线性方程？若是，找到$P(x),Q(x)$,套公式。若否，继续\n",
    "3. [S12] 是伯努利方程吗？若否，继续\n",
    "2. [S13] 则是否可分离变量？或可化为分离变量？（齐次，线性，分式线性）\n",
    "4. [S14] 若都不行，颠倒一下$x,y$? `p.329, 例6.11`\n"
   ]
  },
  {
   "cell_type": "markdown",
   "id": "f2c941f9-9169-4c6c-9de2-becac392c25c",
   "metadata": {},
   "source": [
    "### 2. 高阶：三种降阶 + 线性常系数理论 + 欧拉方程。"
   ]
  },
  {
   "cell_type": "markdown",
   "id": "8b4503db-7baf-4ad8-b1c3-72f65a7ff7da",
   "metadata": {},
   "source": [
    "1. [S22] 是否线性常系数？齐次：特征方程法。非齐次：是否适用待定系数法？若否，继续\n",
    "2. [S23] 是欧拉方程吗？若否，继续\n",
    "3. [S21] 是否可降阶：直接积分，含$x$直接换$y'=p(x)$，不含$x$链导换$y'=p(y)$，若不可降阶，继续\n",
    "4. [S24] 若都不行，先猜一个解 $x^a,e^{bx},\\sin cx$，再用常数变易法，`p.337, 例6.19` [https://zhuanlan.zhihu.com/p/387631989 ]"
   ]
  },
  {
   "cell_type": "code",
   "execution_count": null,
   "id": "9e8b9b0b-b2cf-4762-96b4-343728b841d0",
   "metadata": {},
   "outputs": [],
   "source": []
  },
  {
   "cell_type": "markdown",
   "id": "1bb06b86-2344-4490-b207-fb45e2313755",
   "metadata": {},
   "source": [
    "# 第八章：多元函数微分学"
   ]
  },
  {
   "cell_type": "markdown",
   "id": "f40dcfc9-fa56-47d1-a3ca-0353ac9a8fb4",
   "metadata": {},
   "source": []
  }
 ],
 "metadata": {
  "kernelspec": {
   "display_name": "Python 3 (ipykernel)",
   "language": "python",
   "name": "python3"
  },
  "language_info": {
   "codemirror_mode": {
    "name": "ipython",
    "version": 3
   },
   "file_extension": ".py",
   "mimetype": "text/x-python",
   "name": "python",
   "nbconvert_exporter": "python",
   "pygments_lexer": "ipython3",
   "version": "3.12.8"
  }
 },
 "nbformat": 4,
 "nbformat_minor": 5
}

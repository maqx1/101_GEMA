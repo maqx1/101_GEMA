{
 "cells": [
  {
   "cell_type": "markdown",
   "id": "1f6cbf28-54f8-4882-8371-4c86ab2f23a3",
   "metadata": {
    "jp-MarkdownHeadingCollapsed": true
   },
   "source": [
    "# **内容梳理** "
   ]
  },
  {
   "cell_type": "markdown",
   "id": "97305c79-7e05-41b8-b151-42b57e34cce7",
   "metadata": {
    "jp-MarkdownHeadingCollapsed": true
   },
   "source": [
    "### [700] 第七章：《向量代数与空间解析几何》"
   ]
  },
  {
   "cell_type": "markdown",
   "id": "533daed5-113c-4183-841e-15683ba2432f",
   "metadata": {},
   "source": [
    "1. 空间坐标系：直角坐标、球坐标、柱坐标。\n",
    "2. 向量的线性运算：加减、数乘、向量值函数的求导。\n",
    "3. 向量的进阶乘法：数量积、向量积。\n",
    "4. 空间的平面与直线。\n",
    "5. 曲面与曲线：二次曲面、柱面、旋转面、锥面、空间曲线的投影，曲线曲面的参数化。\n"
   ]
  },
  {
   "cell_type": "markdown",
   "id": "c59eddc9-81c9-4053-a40f-5a5c3f7ffe66",
   "metadata": {
    "jp-MarkdownHeadingCollapsed": true
   },
   "source": [
    "### [701] <font color=red>自测是否掌握向量代数：</font>\n",
    "能用向量代数方法，熟练地计算出两条异面直线的公垂线。\n",
    "\n",
    "https://www.bilibili.com/video/BV1iT411k7sv/?spm_id_from=333.337.search-card.all.click\n",
    "\n",
    "往届高数学生自制视频：https://www.bilibili.com/video/BV1uzFjeHECd?p=2&spm_id_from=333.788.videopod.episodes"
   ]
  },
  {
   "cell_type": "markdown",
   "id": "0495d904-808f-4294-9e1d-8e22bb40b622",
   "metadata": {
    "jp-MarkdownHeadingCollapsed": true
   },
   "source": [
    "# **课本导读**"
   ]
  },
  {
   "cell_type": "markdown",
   "id": "507b38d9-055c-4058-a16a-84d2b0939df8",
   "metadata": {
    "jp-MarkdownHeadingCollapsed": true
   },
   "source": [
    "## **1. 空间直角坐标系**"
   ]
  },
  {
   "cell_type": "markdown",
   "id": "14eaa699-e0e3-49f8-938a-68770b50573b",
   "metadata": {
    "jp-MarkdownHeadingCollapsed": true
   },
   "source": [
    "1. 我们称三个向量$(x,y,z)$ 满足<font color=blue>右手法则</font>：若四指从 $x$ 正向转到 $y$ 轴时，拇指自然向 $z$ 。\n",
    "\n",
    "2. 柱坐标: $(r,\\theta,h)$, 球坐标：$(r,\\theta,\\phi)$ 及其定向。"
   ]
  },
  {
   "cell_type": "markdown",
   "id": "c275ee54-e2f9-4e5d-b3cc-1eb5daaff2e9",
   "metadata": {
    "jp-MarkdownHeadingCollapsed": true
   },
   "source": [
    "## **2. 向量及其线性运算**"
   ]
  },
  {
   "cell_type": "markdown",
   "id": "12cc03f1",
   "metadata": {},
   "source": [
    "1. 直观定义：向量是既有`大小`又有`方向`的量。\n",
    "\n",
    "    思考：`(16°26′47″N, 111°30′25″E)`是向量吗？\n",
    "\n",
    "2. **定义 7.1**：一个三元有序实数组 $(a,b,c)$ 称为一个三维向量。实数$a,b,c$称为其<font color=red>坐标分量</font>。\n",
    "\n",
    "3. **定义 7.2-3**：向量的加法、数乘（向量的平行）。\n",
    "\n",
    "4. **例 7.4** 定比分点公式，<font color=red>必会技巧</font>，理解如何快速推导。\n",
    "\n",
    "    书后习题：**[B03],[B05],[B06],[B07]**\n",
    "5. 向量的<font color=red>模长</font>定义为$|\\mathbf{a}|=\\sqrt{a_1^2+a_2^2+a_3^2}$, 其<font color=red>单位方向向量</font>为$$\\mathbf{e}_\\mathbf{a}=\\frac{\\mathbf{a}}{|\\mathbf{a}|}=\\left(\\frac{a_1}{\\sqrt{a_1^2+a_2^2+a_3^2}},\\frac{a_2}{\\sqrt{a_1^2+a_2^2+a_3^2}},\\frac{a_3}{\\sqrt{a_1^2+a_2^2+a_3^2}}\\right)$$我们记$x,y,z$方向单位向量为$$\\mathbf{e}_1=(1,0,0)=\\mathbf{i},\\ \\mathbf{e}_2=(0,1,0)=\\mathbf{j},\\ \\mathbf{e}_3=(0,0,1)=\\mathbf{k}.$$\n",
    "\n",
    "    书后习题：**[B01],[B02],[B04]**\n",
    "\n",
    "6. 对向量值函数，其导数仍然是一个向量，定义为 $$\\mathbf{a}'(t)=\\lim_{h\\to 0}\\frac{\\mathbf{a}(t+h)-\\mathbf{a}(t)}{h}$$\n",
    "**24秋，高数期中考**：$\\mathbf{r}''(t)=\\mathbf{c}_0$, 问 $\\mathbf{r}(t)$ 轨迹。"
   ]
  },
  {
   "cell_type": "markdown",
   "id": "75655b89-3167-4775-9f2c-81b9bf490e28",
   "metadata": {
    "jp-MarkdownHeadingCollapsed": true
   },
   "source": [
    "## **3. 向量的点积与叉积**"
   ]
  },
  {
   "cell_type": "markdown",
   "id": "4657b9e4",
   "metadata": {},
   "source": [
    "### **1. 点积**"
   ]
  },
  {
   "cell_type": "markdown",
   "id": "b8fec310",
   "metadata": {},
   "source": [
    "1. **定义 7.4** （点积的定义）向量$\\mathbf{a}=(a_1,a_2,a_3),\\mathbf{b}=(b_1,b_2,b_3)$, 定义其数量积为\n",
    "$$\\mathbf{a}\\cdot\\mathbf{b}=a_1b_1+a_2b_2+a_3b_3$$\n",
    "\n",
    "书后习题：**[B08]**"
   ]
  },
  {
   "cell_type": "markdown",
   "id": "f50ad5eb",
   "metadata": {},
   "source": [
    "2. **定理 7.1** （点积的几何意义）$$\\mathbf{a}\\cdot\\mathbf{b}=|\\mathbf{a}|\\cdot|\\mathbf{b}|\\cdot\\cos(\\widehat{\\mathbf{a,b}})$$\n",
    "我们乘向量<font color=red>垂直</font>或<font color=red>正交</font>，若其内积为零。\n",
    "\n",
    "书后习题：**[B09],[B10],[B11],[B15]**"
   ]
  },
  {
   "cell_type": "markdown",
   "id": "7a0647e4",
   "metadata": {},
   "source": [
    "3. **思考**：证明中用到了余弦定理，你还记得余弦定理是怎么证明的吗？"
   ]
  },
  {
   "cell_type": "markdown",
   "id": "fde6af2f",
   "metadata": {},
   "source": [
    "4. 若非零向量，与三个坐标轴的正向夹角为$\\alpha,\\beta,\\gamma$, 三个余弦值称为向量的<font color=red>方向余弦</font>.\n",
    "$$\\cos\\alpha=\\frac{a_1}{\\sqrt{a_1^2+a_2^2+a_3^2}}$$\n",
    "$$\\cos\\beta=\\frac{a_2}{\\sqrt{a_1^2+a_2^2+a_3^2}}$$\n",
    "$$\\cos\\gamma=\\frac{a_3}{\\sqrt{a_1^2+a_2^2+a_3^2}}$$ \n",
    "\n",
    "书后习题：**[B12],[B14]**\n",
    "\n",
    "5. **例7.9** 求向量$(2,-2,-1)$与三个坐标轴的夹角。 \n",
    "6. 称向量$\\mathbf{b}$ 在$\\mathbf{a}$上的<font color=red>投影向量</font>为 $$\\mathrm{proj}_{\\mathbf{a}}\\mathbf{b}=|\\mathbf{b}|{\\color{blue}\\cos(\\widehat{\\mathbf{a,b}})}\\cdot\\frac{\\mathbf{a}}{|\\mathbf{a}|}=|\\mathbf{b}|{\\color{blue}\\frac{(\\mathbf{a}\\cdot\\mathbf{b})}{|\\mathbf{a}||\\mathbf{b}|}}\\frac{\\mathbf{a}}{|\\mathbf{a}|}=\\frac{(\\mathbf{a}\\cdot\\mathbf{b})}{|\\mathbf{a}|^2}\\mathbf{a}$$\n",
    "\n",
    "书后习题：**[B13]**\n",
    "\n",
    "7. 验证<font color=red>点乘满足莱布尼茨公式</font> $$(\\mathbf{a}(t),\\mathbf{b}(t))'=(\\mathbf{a}'(t),\\mathbf{b}(t))+(\\mathbf{a}(t),\\mathbf{b}'(t))$$"
   ]
  },
  {
   "cell_type": "markdown",
   "id": "ae15225b",
   "metadata": {},
   "source": [
    "### **2. 叉积**"
   ]
  },
  {
   "cell_type": "markdown",
   "id": "04f324f6",
   "metadata": {},
   "source": [
    "1. **定义7.5** 向量$\\mathbf{a}=(a_1,a_2,a_3),\\mathbf{b}=(b_1,b_2,b_3)$，定义其<font color=red>叉积</font>为\n",
    "$$\\mathbf{a}\\times\\mathbf{b}=(a_2b_3-a_3b_2,a_3b_1-a_1b_3,a_1b_2-a_2b_1)$$\n",
    "$$\\mathbf{a}\\times\\mathbf{b}=\\left|\\begin{array}{ccc}\n",
    "\\mathbf{i}&\\mathbf{j}&\\mathbf{k}\\\\\n",
    "a_1&a_2&a_3\\\\\n",
    "b_1&b_2&b_3\\end{array}\\right|$$\n",
    "\n",
    "书后习题: **[B16]**"
   ]
  },
  {
   "cell_type": "markdown",
   "id": "1377238e",
   "metadata": {},
   "source": [
    "2. **定理 7.2(1)** 向量积公式$$|\\mathbf{a}\\times\\mathbf{b}|=|\\mathbf{a}|\\cdot|\\mathbf{b}|\\cdot\\sin(\\widehat{\\mathbf{a,b}})$$\n",
    "\n",
    "书后习题: **[B17],[B18]**"
   ]
  },
  {
   "cell_type": "markdown",
   "id": "af97daf6",
   "metadata": {},
   "source": [
    "3. **定理 7.2(2)** 向量积$\\mathbf{a\\times b}$同时垂直于$\\mathbf{a},\\mathbf{b}$，且方向$\\mathbf{a},\\mathbf{b},\\mathbf{a\\times b}$ 满足右手法则。"
   ]
  },
  {
   "cell_type": "markdown",
   "id": "0728e6de",
   "metadata": {},
   "source": [
    "4. **命题 7.4** $$\\mathbf{a}\\parallel\\mathbf{b}\\Leftrightarrow \\mathbf{a}\\times\\mathbf{b}=0$$\n",
    "\n",
    "书后习题: **[B19]**"
   ]
  },
  {
   "cell_type": "markdown",
   "id": "c730fb04",
   "metadata": {
    "vscode": {
     "languageId": "plaintext"
    }
   },
   "source": [
    "5. **定义7.6** 对向量 $\\mathbf{a,b,c}$, 称$$(\\mathbf{a}\\times\\mathbf{b})\\cdot\\mathbf{c}$$为其<font color=red>混合积</font>。混合积的意义是$(\\mathbf{a,b,c})$张成的平行六面体的<font color=red>有向体积</font>。<font color=blue>混合积中，括号可以省略吗？</font>\n",
    "\n",
    "书后习题: **[B20],[B21],[B22],[B23]**\n",
    "\n",
    "思考题：对任意实数$a_i,b_i,c_i$, 验证不等式\n",
    "$$\n",
    "\\left|\\begin{array}{ccc}\n",
    "a_1&a_2&a_3\\\\\n",
    "b_1&b_2&b_3\\\\ c_1&c_2&c_3 \\end{array}\\right|\\leq\\prod_{i=1}^3\\sqrt{a_i^2+b_i^2+c_i^2}$$"
   ]
  },
  {
   "cell_type": "markdown",
   "id": "2ff1f8c6",
   "metadata": {
    "vscode": {
     "languageId": "plaintext"
    }
   },
   "source": [
    "6. 验证<font color=red>叉积满足莱布尼茨公式</font>\n",
    "$$(\\mathbf{a}(t)\\times\\mathbf{b}(t))'=\\mathbf{a}'(t)\\times\\mathbf{b}(t)+\\mathbf{a}(t)\\times\\mathbf{b}'(t)$$"
   ]
  },
  {
   "cell_type": "markdown",
   "id": "60fe2022",
   "metadata": {
    "vscode": {
     "languageId": "plaintext"
    }
   },
   "source": [
    "7. 思考：混合积满足莱布尼茨公式吗？即：$(abc)'=a'bc+ab'c+abc'$\n",
    "\n",
    "$$(\\mathbf{a}(t)\\times\\mathbf{b}(t))\\cdot\\mathbf{c}(t)=(\\mathbf{a}'(t)\\times\\mathbf{b}(t))\\cdot\\mathbf{c}(t)+(\\mathbf{a}(t)\\times\\mathbf{b}'(t))\\cdot\\mathbf{c}(t)+(\\mathbf{a}(t)\\times\\mathbf{b}(t))\\cdot\\mathbf{c}'(t)$$\n",
    "\n",
    "如何验证，是否要展开这6*4=24项，求导计算后比较？如果不对，反例怎么举？"
   ]
  },
  {
   "cell_type": "markdown",
   "id": "aa849e78",
   "metadata": {},
   "source": [
    "## **4. 空间的平面和直线**"
   ]
  },
  {
   "cell_type": "markdown",
   "id": "067cc306",
   "metadata": {},
   "source": [
    "### **1. 平面方程**"
   ]
  },
  {
   "cell_type": "markdown",
   "id": "05dcc78a",
   "metadata": {},
   "source": [
    "1. 点法式 $$(\\mathbf{r}-\\mathbf{r}_0)\\cdot\\mathbf{n}=0$$\n",
    "2. 一般式 $$Ax+By+Cz=D$$\n",
    "3. 截距式 $$\\frac{x}{a}+\\frac{y}{b}+\\frac{z}{c}=1$$\n",
    "4. 标准式 $$\\mathbf{u}\\times \\mathbf{v}\\cdot(\\mathbf{x}-\\mathbf{x}_0)=0$$\n",
    "5. 三点式 $$(\\mathbf{x}_1-\\mathbf{x}_0)\\times (\\mathbf{x}_2-\\mathbf{x}_0)\\cdot(\\mathbf{x}-\\mathbf{x}_0)=0$$\n",
    "6. 参数式 $$\\mathbf{x}=s\\mathbf{v}_1+t\\mathbf{v}_2+\\mathbf{c}$$\n",
    "7. 平面束 $$\\lambda(A_1x+B_1y+C_1z+D_1)+\\mu(A_2x+B_2y+C_2z+D_2)=0$$"
   ]
  },
  {
   "cell_type": "markdown",
   "id": "a829c447",
   "metadata": {
    "vscode": {
     "languageId": "plaintext"
    }
   },
   "source": [
    "书后习题: **[B24],[B34],[B35]**"
   ]
  },
  {
   "cell_type": "markdown",
   "id": "a0507016",
   "metadata": {},
   "source": [
    "### **2.直线方程**"
   ]
  },
  {
   "cell_type": "markdown",
   "id": "0f19ce41",
   "metadata": {},
   "source": [
    "1. 参数式 $$\\mathbf{r}=\\mathbf{r}_0+t\\mathbf{v}$$\n",
    "2. 标准式 $$\\frac{x-x_0}{m}=\\frac{y-y_0}{n}=\\frac{z-z_0}{p}$$\n",
    "3. 两点式 $$\\frac{x-x_1}{x_2-x_1}=\\frac{y-y_1}{y_2-y_1}=\\frac{z-z_1}{z_2-z_1}$$\n",
    "4. 一般式 $$\\left\\{\n",
    "    \\begin{array}{cc}\n",
    "    A_1x+B_1y+C_1z+D_1=& 0 \\\\\n",
    "    A_2x+B_2y+C_2z+D_2=& 0 \n",
    "    \\end{array}\\right.$$"
   ]
  },
  {
   "cell_type": "markdown",
   "id": "73974bea",
   "metadata": {
    "vscode": {
     "languageId": "plaintext"
    }
   },
   "source": [
    "书后习题: **[B25],[B26]**"
   ]
  },
  {
   "cell_type": "markdown",
   "id": "a57407e4",
   "metadata": {},
   "source": [
    "### **3. 平面、直线、点的位置关系**\n",
    "\n",
    "1. 一点到平面的距离\n",
    "$$\\frac{Ax_0+By_0+Cz_0+D}{\\sqrt{A^2+B^2+C^2}}$$\n",
    "书后习题：**[B2701],[B2702],[B2703]**\n",
    "\n",
    "2. 平面与平面的夹角\n",
    "$$\\min\\{\\arccos(n_1\\cdot n_2),\\pi-\\arccos(n_1\\cdot n_2)\\}$$\n",
    "书后习题：**[B28]**\n",
    "\n",
    "3. 两条直线的夹角:\n",
    "\n",
    "书后习题：**[B29]**\n",
    "\n",
    "4. 两条直线的共面、平行：\n",
    "\n",
    "书后习题：**[B29]**\n",
    "\n",
    "5. 异面直线的公垂线 <font color=red>(较难，必会计算)</font > **例 7.25**\n",
    "\n",
    "6. 直线与平面的夹角：\n",
    "\n",
    "书后习题：**[B30]**\n",
    "\n",
    "7. 直线外一点的垂线  <font color=red>(较难，必会计算)</font > **例 7.26**\n",
    "\n",
    "书后习题：**[B31],[B32],[B33]**\n",
    "\n",
    "8. 直线到平面的投影  <font color=red>(较难，必会计算)</font > **例 7.27**\n",
    "\n",
    "9. 点到直线的距离  <font color=red>(较难，必会计算)</font > **例 7.28**\n",
    "\n",
    "书后习题：**[B36]**"
   ]
  },
  {
   "cell_type": "markdown",
   "id": "0d05f924",
   "metadata": {},
   "source": [
    "## **5. 曲面与曲线**"
   ]
  },
  {
   "cell_type": "markdown",
   "id": "f3501abb",
   "metadata": {
    "vscode": {
     "languageId": "plaintext"
    }
   },
   "source": [
    "### **1. 曲面与其方程**\n",
    "\n",
    "书后习题：**[B37],[B38]**"
   ]
  },
  {
   "cell_type": "markdown",
   "id": "475b3449",
   "metadata": {
    "vscode": {
     "languageId": "plaintext"
    }
   },
   "source": [
    "### **2. 二次曲面**\n",
    "\n",
    "书后习题：**[B39],[B40]**"
   ]
  },
  {
   "cell_type": "markdown",
   "id": "19b5280f",
   "metadata": {},
   "source": [
    "### **3. 柱面、旋转面、锥面** \n",
    "\n",
    "书后习题：**[B41],[B42],[B4501]**"
   ]
  },
  {
   "cell_type": "markdown",
   "id": "92eddde8",
   "metadata": {
    "vscode": {
     "languageId": "plaintext"
    }
   },
   "source": [
    "### **4. 空间曲线**\n",
    "\n",
    "书后习题：**[B43],[B46]**"
   ]
  },
  {
   "cell_type": "markdown",
   "id": "02b7c2ff",
   "metadata": {},
   "source": [
    "### **5. 空间曲线在平面上的投影**\n",
    "\n",
    "书后习题：**[B4502]**"
   ]
  },
  {
   "cell_type": "markdown",
   "id": "4891bd40",
   "metadata": {},
   "source": [
    "### **6.曲面的参数方程** "
   ]
  },
  {
   "cell_type": "markdown",
   "id": "d6d7bee8",
   "metadata": {},
   "source": [
    "书后习题：**[B47]**"
   ]
  },
  {
   "cell_type": "markdown",
   "id": "eca5d4c8",
   "metadata": {},
   "source": []
  }
 ],
 "metadata": {
  "kernelspec": {
   "display_name": "Python 3 (ipykernel)",
   "language": "python",
   "name": "python3"
  },
  "language_info": {
   "codemirror_mode": {
    "name": "ipython",
    "version": 3
   },
   "file_extension": ".py",
   "mimetype": "text/x-python",
   "name": "python",
   "nbconvert_exporter": "python",
   "pygments_lexer": "ipython3",
   "version": "3.12.8"
  }
 },
 "nbformat": 4,
 "nbformat_minor": 5
}

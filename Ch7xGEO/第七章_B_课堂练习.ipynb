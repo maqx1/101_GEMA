{
 "cells": [
  {
   "cell_type": "markdown",
   "id": "59bce6a1-eccc-4a86-8ca6-930d9d9fac5c",
   "metadata": {},
   "source": [
    "## 03月11日_课堂练习"
   ]
  },
  {
   "cell_type": "markdown",
   "id": "b8a96653-ad67-4541-a081-89ce7f221b1a",
   "metadata": {},
   "source": [
    "### 1. 自测：向量的点乘与叉乘"
   ]
  },
  {
   "cell_type": "markdown",
   "id": "2d68762d-53f7-4dac-a8cb-49d8ff94849e",
   "metadata": {},
   "source": [
    "1. 已知向量满足$|\\mathbf{a}|=11,|\\mathbf{b}|=23,|\\mathbf{a-b}|=30$, 求$|\\mathbf{a+b}|$"
   ]
  },
  {
   "cell_type": "markdown",
   "id": "3750c28c-72b8-4b17-a2b3-45c767e8cb2d",
   "metadata": {},
   "source": [
    "2. 已知空间三点$A(1,0,2), B(4,-1,0),C(2,2,1)$，求三角形$ABC$的面积。"
   ]
  },
  {
   "cell_type": "markdown",
   "id": "9c3d30f4-45ef-4a56-85e0-611ea7f2a7f9",
   "metadata": {},
   "source": [
    "3. 向量$\\mathbf{a}=(2,3,-1),$$\\mathbf{b}=(1,-1,3),$$\\mathbf{a}=(1,9,-11),$是否共面？"
   ]
  },
  {
   "cell_type": "markdown",
   "id": "58f66cf9-5449-4dda-915f-11b1f01696ae",
   "metadata": {},
   "source": [
    "4. 已知空间四点$A(2,1,-1),B(3,0,1),C(2,-1,3),D$为顶点的四面体体积为$5$,且$D$在$y$轴上，求$D$的坐标。"
   ]
  },
  {
   "cell_type": "markdown",
   "id": "26070227-99bc-4fe6-9273-b8673b2a3a27",
   "metadata": {},
   "source": [
    "### 2. 例题回顾"
   ]
  },
  {
   "cell_type": "markdown",
   "id": "cc810471-d1fb-41a5-b596-71dc8d946853",
   "metadata": {},
   "source": [
    "1. **[例7.4]** 设 $\\overrightarrow{OA}=(-2,-1,2),\\overrightarrow{OB}=(7,-4,-4)$, 向量 $\\mathbf{c}$ 与$\\overrightarrow{OA},\\overrightarrow{OB}$的角平分线平行，且$|\\mathbf{c}|=6\\sqrt{6}$, 求向量$\\mathbf{c}$."
   ]
  },
  {
   "cell_type": "markdown",
   "id": "e5109398-2740-451c-86a0-50005de7baa8",
   "metadata": {},
   "source": [
    "2. **[例 7.7]** 设空间三点$A(1,-1,1),B(-1,-5,3),C(3,1,1)$, 由点$C$向$AB$作垂线，求垂足$D$的坐标。（课本上给了定比分点法，有其他办法吗）"
   ]
  },
  {
   "cell_type": "markdown",
   "id": "a17778e2-6387-4846-8b09-3c1c452c3763",
   "metadata": {},
   "source": [
    "3. **[例 7.10]** 已知向量$\\mathbf{a}=(2,1,-1),\\mathbf{b}=(1,1,-1)$, 求$\\mathbf{b}$在$\\mathbf{a}$上的投影、投影向量。（<font color=red>重点</font>：记号$(\\mathbf{b})_{\\mathbf{a}}$, $\\mathbf{a}^0$, $\\mathrm{proj}_{\\mathbf{b}}\\mathbf{a}$都是什么含义？）"
   ]
  },
  {
   "cell_type": "markdown",
   "id": "cc27887a-07d3-43e9-8727-488be3133015",
   "metadata": {},
   "source": [
    "4. **[例 7.11]** 求同时垂直于$\\mathbf{a}=(2,1,-1),\\mathbf{b}=(1,0,-1)$的单位向量。(叉乘可得一个，但共有<font color=red>两个</font>！)"
   ]
  },
  {
   "cell_type": "markdown",
   "id": "e11cfd69-68de-4eb7-9e52-8840a94d57b7",
   "metadata": {},
   "source": [
    "### 3. 平面和直线"
   ]
  },
  {
   "cell_type": "markdown",
   "id": "64d90d6d-efbd-41ca-9d43-6dcf86529508",
   "metadata": {},
   "source": [
    "1. **[例 7.20]** 求过点$P(3,-1,5)$且与平面$\\pi_1\\colon 2x-y-5z-1$ 和$\\pi_2\\colon x-4z-3=0$ 均平行的直线的方程。（与平面的方向关系，转化到<font color=red>法向量</font>） "
   ]
  },
  {
   "cell_type": "markdown",
   "id": "b8c9fc3f-130c-4d39-b8a7-7d9495d5d5c2",
   "metadata": {},
   "source": [
    "2. **[例 7.21]** 将直线的一般式方程$L=\\left\\{\\begin{aligned}2x-3y+z-5&=0\\\\3x+y-2x-2&=0 \\end{aligned}\\right.$ 化为标准式方程、参数式方程。(重点：<font color=red>什么是</font>“标准式”，“参数式”, 一定要退回解三元一次方程组吗，还是可以用叉乘简化计算？)"
   ]
  },
  {
   "cell_type": "markdown",
   "id": "013abb5d-8ccf-45d2-99be-5a57f18c508b",
   "metadata": {},
   "source": [
    "3. **[例 7.22]** 求过平面$2x-y-2z+1=0$ 和$z+y+4z-2=0$的交线的平面，使其在$y,z$轴有相同的截距。（重点：<font color=red>平面束</font>方法，要不要先算出交线方程？）"
   ]
  },
  {
   "cell_type": "markdown",
   "id": "36bb95fe-8a18-4e22-b8c5-f08d263104ab",
   "metadata": {},
   "source": [
    "4. **思考**：为了使用平面束工具，需要知道直线的一般式方程。那么，从标准式出发，<font color=red>如何</font>获得一般式方程？ （提示：答案不唯一，令等式$=t$,消$t$，交叉相乘等等）"
   ]
  },
  {
   "cell_type": "markdown",
   "id": "7c581db4-448e-4c8a-81f8-f44ad709f267",
   "metadata": {},
   "source": [
    "5. **[例 7.23]** 求两平行平面$\\pi_1:4x-3y+12z-11=0,\\pi_2\\colon 4x-3y+12z+15=0$之间的距离。（思考：一定要写出$\\pi_1$上某点的具体坐标吗？）"
   ]
  },
  {
   "cell_type": "markdown",
   "id": "d4240bad-aa3e-4412-a1c9-3d5b597bb921",
   "metadata": {},
   "source": [
    "6. **[例 7.24]** 求过直线$L=\\left\\{\\begin{aligned}x+2z+1&=0\\\\x-y-z+1&=0\\end{aligned}\\right.$且与平面$x+y+2z-4=0$成$\\pi/3$夹角的平面。(重点：<font color=red>平面束</font>方法，有<font color=red>**两个**</font>)\n"
   ]
  },
  {
   "cell_type": "markdown",
   "id": "935c3ab5-9cbb-464a-8c0f-aa66b2d159fe",
   "metadata": {},
   "source": [
    "7. **[例 7.26]** 直线$l$过点$P(1,2,-2)$ 且与直线$l_1:\\frac{x+1}{2}=\\frac{y-3}{-1}=\\frac{z}{1}$ 垂直相交，求直线$l$的方程。（有其他办法吗？课本上为何这样做？）"
   ]
  },
  {
   "cell_type": "markdown",
   "id": "eb002a14-ac7b-4069-8f3e-e38992665d2f",
   "metadata": {},
   "source": [
    "8. **<font color=red>思考</font>**： 直线$l$过点$P(1,2,-2)$ 且与直线$l_1:\\frac{x+1}{2}=\\frac{y-3}{-1}=\\frac{z}{1}$ 距离为$1$, 夹角$\\pi/3$，求直线$l$的方程。(<font color=red>首先，这样的直线有几条0，1，2，3，4? 其次，你打算怎么表示这种直线？</font>)"
   ]
  },
  {
   "cell_type": "markdown",
   "id": "8651f1f5-ad60-4ed2-9d12-1bcc9d46e5af",
   "metadata": {},
   "source": [
    "9. **[例 7.27]** 已知直线$l\\colon\\frac{x-2}{1}=\\frac{y-4}{2}=\\frac{z-3}{1}$，平面$\\pi\\colon 2x+y-z-2=0$，求$l$在平面$\\pi$上的投影直线。（<font color=red>平面束</font>方法）"
   ]
  },
  {
   "cell_type": "markdown",
   "id": "26793885-bb1f-4b4d-87dc-047650febf06",
   "metadata": {},
   "source": [
    "10. **[例 7.28]** 求点$P(2,-1,3)$到直线$l=\\frac{x-2}{3}=\\frac{y+1}{4}=\\frac{z}{5}$的距离。（思考：如果直线用一般式给出，怎么求？）"
   ]
  },
  {
   "cell_type": "markdown",
   "id": "777fdffd-4466-481b-bc79-e1c56d966096",
   "metadata": {
    "jp-MarkdownHeadingCollapsed": true
   },
   "source": [
    "## 03月13日_课堂练习"
   ]
  },
  {
   "cell_type": "markdown",
   "id": "c9442764-3626-4bc3-9100-dde4376deae1",
   "metadata": {},
   "source": [
    "### 1. 选择题"
   ]
  },
  {
   "cell_type": "markdown",
   "id": "7711249f-dcbb-446e-91f6-c0364ce0718f",
   "metadata": {},
   "source": [
    "#### 1. 已知 $(\\mathbf{a}\\times\\mathbf{b})\\cdot\\mathbf{c}=2$ 则\n",
    "$$(\\mathbf{a}+\\mathbf{b})\\times(\\mathbf{b}+\\mathbf{c})]\\cdot(\\mathbf{c}+\\mathbf{a})=$$\n",
    "\n",
    "- (A) $$1$$\n",
    "- (B) $$-2$$\n",
    "- (C) $$-4$$\n",
    "- (D) $$4$$"
   ]
  },
  {
   "cell_type": "markdown",
   "id": "f6e5e4c0-a2f5-4ab1-877c-916ea32af13e",
   "metadata": {},
   "source": [
    "####  2. 已知$\\mathbf{a,b}$都是非零向量且非正交，若$|\\mathbf{a}|=1,|\\mathbf{b}|=2$, 且$\\mathbf{a-b},\\mathbf{a-2b}$正交，则$\\mathbf{a}$在$\\mathbf{b}$方向的投影长度$\\mathbf{a}_{\\mathbf{b}}$为\n",
    "- (A) $$2/3$$\n",
    "- (B) $$5/6$$\n",
    "- (C) $$3/2$$\n",
    "- (D) $$6/5$$"
   ]
  },
  {
   "cell_type": "markdown",
   "id": "79e9affa-d722-41a5-bedf-b2346f4b1bcb",
   "metadata": {},
   "source": [
    "#### 3. 平面 $2x+2y-z=1$ 与直线 $\\frac{x-2}{1}=\\frac{y-1}{2}=\\frac{z-2}{-2}$的夹角是\n",
    "\n",
    "- (A) $$\\arcsin\\frac{8}{9}$$\n",
    "- (B) $$\\arccos\\frac{8}{9}$$\n",
    "- (C) $$\\arcsin\\frac{4}{9}$$\n",
    "- (D) $$\\arccos\\frac{4}{9}$$"
   ]
  },
  {
   "cell_type": "markdown",
   "id": "4f642909-b293-4a3a-9f9e-3bebcf561bc7",
   "metadata": {},
   "source": [
    "#### 4. 点$(1,0,1)$到直线$\\left\\{\\begin{aligned}x-y=0\\\\ 3x-z=0\n",
    "\\end{aligned}\\right.$ 的距离$d=$\n",
    "\n",
    "- (A) $$\\frac{\\sqrt{66}}{11}$$\n",
    "- (B) $$\\frac{6}{11}$$\n",
    "- (C) $$\\frac{6\\sqrt{11}}{11}$$\n",
    "- (D) $$\\sqrt{6}$$"
   ]
  },
  {
   "cell_type": "markdown",
   "id": "ac4163b3-15ae-46ac-b0cd-ecb7ef4a4a8c",
   "metadata": {},
   "source": [
    "#### 5. 已知两条直线$$l_1:\\frac{x-1}{1}=\\frac{y-2}{0}=\\frac{z-3}{-1},$$$$l_2:\\frac{x+2}{2}=\\frac{y-1}{1}=\\frac{z}{1},$$则过$l_1$且平行于$l_2$的平面$\\pi$的法向量$\\mathbf{n}=$\n",
    "\n",
    "- (A) $$(-1,3,1)$$\n",
    "- (B) $$\\mathbf{i}-3\\mathbf{j}+\\mathbf{k}$$\n",
    "- (C) $$(-1,3,-1)$$\n",
    "- (D) $$\\mathbf{i}-3\\mathbf{j}-\\mathbf{k}$$"
   ]
  },
  {
   "cell_type": "markdown",
   "id": "24023cfe-3d2f-485b-a419-749640826729",
   "metadata": {},
   "source": [
    "#### 6. 以下四个方程中，表示旋转双叶双曲面的是\n",
    "\n",
    "- (A)$$4z=x^2+y^2$$\n",
    "- (B)$$x^2+y^2=4z^2+1$$\n",
    "- (C)$$x^2+y^2=4z^2-1$$\n",
    "- (D)$$x^2+y^2=4z^2$$"
   ]
  },
  {
   "cell_type": "markdown",
   "id": "e674a08f-0159-414c-a983-aa48aef72149",
   "metadata": {},
   "source": [
    "#### 7. 下列直线中，包含在平面 $x+y+z-3=0$ 中的是\n",
    "\n",
    "- (A)$$\\frac{x-1}{1}=\\frac{y+2}{-5}=\\frac{z-4}{4}$$\n",
    "- (B)$$\\frac{x+1}{1}=\\frac{y-1}{2}=\\frac{z+4}{4}$$\n",
    "- (C)$$\\frac{x-1}{1}=\\frac{y-1}{2}=\\frac{z-4}{4}$$\n",
    "- (D)$$\\frac{x-1}{1}=\\frac{y-1}{-1}=\\frac{z+4}{4}$$"
   ]
  },
  {
   "cell_type": "markdown",
   "id": "439efc55-2142-4b7a-b9b4-3b910c5ae285",
   "metadata": {},
   "source": [
    "#### 8. 点$(1,0,0)$关于平面$x+2y-z-7=0$对称点为\n",
    "\n",
    "- (A) $$(2,2,-1)$$\n",
    "- (B) $$(-1,6,-2)$$\n",
    "- (C) $$(-1,4,-6)$$\n",
    "- (D) $$(3,4,-2)$$"
   ]
  },
  {
   "cell_type": "markdown",
   "id": "8e9b1b40-ab3b-4e4c-8e18-4a7159286958",
   "metadata": {},
   "source": [
    "### 2. 填空题 "
   ]
  },
  {
   "cell_type": "markdown",
   "id": "8ffc9bbd-9c50-45fa-9dde-c851b3d4a680",
   "metadata": {},
   "source": [
    "#### 1. 若向量 $\\mathbf{x}$ 与$\\mathbf{a}=2\\mathbf{i}-\\mathbf{j}+2\\mathbf{k}$ 共线且满足$\\mathbf{a}\\cdot\\mathbf{x}=-18$, 则$\\mathbf{x}=\\underline{\\hspace{2cm}}$"
   ]
  },
  {
   "cell_type": "markdown",
   "id": "c5388192-b8ac-47e1-9ce8-f24612da3b5e",
   "metadata": {},
   "source": [
    "#### 2. 若直线$$\\frac{x-1}{1}=\\frac{y+1}{2}=\\frac{z-1}{\\lambda}$$与直线$$\\frac{x+1}{1}=\\frac{y-1}{1}=\\frac{z}{1}$$ 相交，则$\\lambda=\\underline{\\hspace{2cm}}$"
   ]
  },
  {
   "cell_type": "markdown",
   "id": "ebb51d74-5e3c-4361-a207-ed763c6b4201",
   "metadata": {},
   "source": [
    "#### 3. 一平面通过$y$ 轴，且点$(4,4,-2)$到该平面的距离等于$(4,4,-2)$到$z=0$的距离，则该平面方程为:$\\underline{\\hspace{2cm}}$"
   ]
  },
  {
   "cell_type": "markdown",
   "id": "2f396066-dedf-47e0-82a5-97f1cc1de9fe",
   "metadata": {},
   "source": [
    "#### 4. 直线$$l_1:\\frac{x-1}{-1}=\\frac{y}{-4}=\\frac{z+3}{1}$$ 和$$l_2:\\frac{x}{2}=\\frac{y+2}{-2}=\\frac{z}{-1}$$的夹角为$\\underline{\\hspace{2cm}}.$"
   ]
  },
  {
   "cell_type": "markdown",
   "id": "a8c8dcb5-981e-4bc9-abc4-b5be3f79263e",
   "metadata": {},
   "source": [
    "#### 5. 曲线 $\\left\\{\\begin{aligned}\n",
    "(x+2)^2-z^2=4\\\\\n",
    "(x-2)^2+y^2=4\n",
    "\\end{aligned}\\right.$ 在$yOz$坐标平面上的<font color=red>投影曲线</font>为$=\\underline{\\hspace{2cm}}.$"
   ]
  },
  {
   "cell_type": "markdown",
   "id": "c9489987-7f9d-451a-9433-8fa8dda1da7f",
   "metadata": {},
   "source": [
    "### 3. 计算题 "
   ]
  },
  {
   "cell_type": "markdown",
   "id": "57681bb2-6cc1-43fe-8039-70bed22a7d8b",
   "metadata": {},
   "source": [
    "#### 1. 已知平面$\\pi$ 过直线$$l_1:\\left\\{\\begin{aligned}x-y-2z+1&=0\\\\\n",
    "2y-2z+1&=0 \\end{aligned}\\right.$$且$\\pi$与直线$$\\frac{x}{-1}=\\frac{y+1}{1}=\\frac{z-2}{-1}$$ 的夹角为$\\arcsin\\frac{\\sqrt{6}}{3}$, 求平面$\\pi$的方程。"
   ]
  },
  {
   "cell_type": "markdown",
   "id": "522b8ab8-4664-4b8e-b7a3-0539846e83be",
   "metadata": {},
   "source": [
    "#### 2. 直线$$l_1:\\frac{x-4}{1}=\\frac{y-3}{-2}=\\frac{z-8}{1}$$上有一动点$P$, 直线 $$l_2:\\frac{x+1}{7}=\\frac{y+1}{-6}=\\frac{z+1}{6}$$ 上有两个动点$A,B$，且他们的距离为$|AB|=5$, 求三角形$APB$面积的最小值。"
   ]
  },
  {
   "cell_type": "markdown",
   "id": "4c9a78ea-4fb8-4d2b-987d-d55eecf3a399",
   "metadata": {},
   "source": [
    "#### 3. 设直线$\\frac{x}{0}=\\frac{y}{1}=\\frac{z}{1}$。动点$P(x,y,z)$到$l$的距离为$3$。（1）求动点轨迹方程，（2）若$P$在$xOy$平面上，且直线$OP$与$\\sqrt{3}x+\\sqrt{3}y+\\sqrt{2}z=\\sqrt{6}$夹角为$\\pi/3$, 求$P$的坐标。"
   ]
  },
  {
   "cell_type": "markdown",
   "id": "3bf6f0d6-3ffe-4ebc-8936-142132c3354b",
   "metadata": {},
   "source": [
    "#### 4. 已知直线 $l_1:\\left\\{\\begin{aligned}x+y&=0\\\\z+1&=0 \\end{aligned}\\right.$和 $l_2:\\left\\{\\begin{aligned}x-y&=0\\\\z-1&=0 \\end{aligned}\\right.$ （1）证明：$l_1,l_2$为异面直线，（2）求$l_1,l_2$的公垂线方程。"
   ]
  },
  {
   "cell_type": "markdown",
   "id": "a2965947-2871-44ee-a4d0-86fb77a89c27",
   "metadata": {},
   "source": [
    "#### 5. 求直线$$l_1:\\left\\{\\begin{aligned}x+2y-3z=2\\\\\n",
    "2x-y+z=3 \\end{aligned}\\right.$$在平面$z=1$上的投影直线$l$, 且求点$M_0(1,2,1)$到直线$l$的距离。"
   ]
  },
  {
   "cell_type": "markdown",
   "id": "17d41516-5139-4261-aae2-6548137f0adf",
   "metadata": {},
   "source": [
    "#### 6. 设$l_1:\\frac{x}{4}=\\frac{y}{1}=\\frac{z}{1}$, $l_2:\\left\\{\\begin{aligned}z-5x&=-6\\\\z-4y&=3\\end{aligned}\\right.$, $l_3:\\left\\{\\begin{aligned}y-2x&=3\\\\z-3y&=5\\end{aligned}\\right.，$求平行于直线$l_1$而分别于直线$l_2,l_3$相交的直线方程。"
   ]
  },
  {
   "cell_type": "markdown",
   "id": "7220934c-221d-424d-bf77-8f6af78d0709",
   "metadata": {},
   "source": [
    "<font color=red>注意</font>：这些题目，给足够长的时间，谁都能算出来，练习的目的是，找到快速、不容易出错的方法，自信地算出来。"
   ]
  },
  {
   "cell_type": "markdown",
   "id": "2ff785a7-f62a-4705-a0b8-8e3e869b2166",
   "metadata": {},
   "source": [
    "### 一、选择题"
   ]
  },
  {
   "cell_type": "markdown",
   "id": "f3410b09-1367-48ed-a665-2abb302520f9",
   "metadata": {},
   "source": [
    "#### 1. 微分方程 $y'=\\frac{y}{x}+\\tan\\frac{y}{x}$ 的通解为："
   ]
  },
  {
   "cell_type": "markdown",
   "id": "f3355e3a-3e28-4b60-b0f2-ef9792e00694",
   "metadata": {},
   "source": [
    "- (A) $$\\sin\\frac{y}{x}=Cx$$\n",
    "- (B) $$\\sin\\frac{y}{x}=\\frac{1}{Cx}$$\n",
    "- (C) $$\\sin\\frac{x}{y}=Cx$$\n",
    "- (D) $$\\sin\\frac{x}{y}=\\frac{1}{Cx}$$"
   ]
  },
  {
   "cell_type": "markdown",
   "id": "b10f31d1-140c-48c5-a3eb-a1570789a9ab",
   "metadata": {},
   "source": [
    "#### 2. 二阶微分方程$y''-2y'+y=2x$的通解具有的形式为"
   ]
  },
  {
   "cell_type": "markdown",
   "id": "c47981d2-75aa-4450-b631-ba5b1595e0ae",
   "metadata": {},
   "source": [
    "- (A) $$y=C_1\\sin x+C_2\\cos x+Ax$$\n",
    "- (B) $$y=C_1e^{-x}+C_2xe^{-x}+Ax$$\n",
    "- (C) $$y=C_1e^x+C_2xe^x+Ax+B$$\n",
    "- (D) $$y=C_1e^x+C_2xe^x+Ax$$"
   ]
  },
  {
   "cell_type": "markdown",
   "id": "3e6a663d-1d91-4348-b1f5-0dd536a19443",
   "metadata": {},
   "source": [
    "#### 3. 下列选项中，肯定不是某二阶常系数线性微分方程的一组解的是"
   ]
  },
  {
   "cell_type": "markdown",
   "id": "6d12d9fe-abb0-44f0-a35d-910907477fb8",
   "metadata": {},
   "source": [
    "- (A) $$e^x+x, x-2e^{-2x}, e^{-2x}+x$$\n",
    "\n",
    "- (B) $$e^x+xe^{-x},2xe^x+xe^{-x},xe^x+xe^{-x}$$\n",
    "\n",
    "- (C) $$e^x-x+1,2-x,e^x-x$$\n",
    "\n",
    "- (D) $$xe^x+x, xe^x-2e^{-x}, xe^x+2x+2e^{-x}$$"
   ]
  },
  {
   "cell_type": "markdown",
   "id": "a211cdee-05a4-4818-9e28-5b20ab389e36",
   "metadata": {},
   "source": [
    "#### 4. 设 $p,q$ 是常数，微分方程 $y''+py'+q=0$ 有以下两个解，求$p,q$ $$y_1(x)=e^{-3x},y_2(x)=(2x+1)e^{-3x}$$ "
   ]
  },
  {
   "cell_type": "markdown",
   "id": "7dab49ff-2ef0-4c31-aa5a-ea7e5e9ce612",
   "metadata": {},
   "source": [
    "- (A) $$p=6,q=9$$\n",
    "- (B) $$p=-6,q=9$$\n",
    "- (C) $$p=6,q=-9$$\n",
    "- (D) $$p=-6,q=-9$$"
   ]
  },
  {
   "cell_type": "markdown",
   "id": "e56adcd6-062c-4061-9c17-3ab08d1223b3",
   "metadata": {},
   "source": [
    "5. 设微分方程 $y'+p(x)y=q(x)$ 有以下两个解，求 $q(x)$\n",
    "  $$y=(1+x^2)^2-\\sqrt{1+x^2},\\ \\ \\ y=(1+x^2)^2+\\sqrt{1+x^2}.$$"
   ]
  },
  {
   "cell_type": "markdown",
   "id": "89ab3e81-9a97-458d-9074-0aae4b5ca8a5",
   "metadata": {},
   "source": [
    "### 二、填空题"
   ]
  },
  {
   "cell_type": "markdown",
   "id": "4a8d9326-dbdd-48eb-90f5-6f486c04c8a8",
   "metadata": {},
   "source": [
    "1. 设 $y_1=e^{2x}(\\sin x-1)$, $y_2=e^{2x}(\\sin x+2)$ 是一阶线性微分方程 $y'+P(x)y=Q(x)$ 的两个特解，则方程 $y'+P(x)y=0$ 的通解是 $y(x)=?$"
   ]
  },
  {
   "cell_type": "markdown",
   "id": "262efb4f-626e-4bb0-8226-8a927decd34b",
   "metadata": {},
   "source": [
    "2. 设 $y_1=e^{3x}-xe^{2x}, y_2=e^x-xe^{2x}, y_3=-xe^{2x}$ 是某二阶常系数线性非齐次微分方程的三个解，则方程的通解为 $y(x)=?$"
   ]
  },
  {
   "cell_type": "markdown",
   "id": "2c0c828f-5160-4bb1-9484-b4ee2ed6c9f4",
   "metadata": {},
   "source": [
    "3. 设微分方程 $y_1=e^x\\sin x, y_2=x$ 为某常系数齐次微分方程的两个特解，则该微分方程的最低阶数为？"
   ]
  },
  {
   "cell_type": "markdown",
   "id": "66e00c5b-98c9-4f85-802d-204e9a34c17a",
   "metadata": {},
   "source": [
    "4. 微分方程 $y'=\\frac{1}{(x+y)^2}$ 满足 $y(0)=1$的解为？"
   ]
  },
  {
   "cell_type": "markdown",
   "id": "06006499-129c-4ca5-a5d7-7a7c4bf733c5",
   "metadata": {},
   "source": [
    "5. 微分方程 $y'''-2y''+5y'=0$ 的通解为？"
   ]
  },
  {
   "cell_type": "markdown",
   "id": "bd020fe0-470c-4729-8245-92be99c17f01",
   "metadata": {},
   "source": [
    "### 三、解答题"
   ]
  },
  {
   "cell_type": "markdown",
   "id": "fdd9c9fa-2a84-4c8c-b3a0-68f468476c2c",
   "metadata": {},
   "source": [
    "1. 计算微分方程 $y'=\\frac{y}{3y^2-x}$ 的通解"
   ]
  },
  {
   "cell_type": "markdown",
   "id": "9911b492-84e8-4f7a-909a-ebe332d36f74",
   "metadata": {},
   "source": [
    "2. 设曲线 $y=y(x)$ 过点 $(1,2)$, 该曲线上任意一点 $P(x,y)$ 到$y$ 轴距离等于该处切线在$y$ 轴的截距， 求$y(x)$。"
   ]
  },
  {
   "cell_type": "markdown",
   "id": "6908e4bf-37e4-4320-b344-332958c64b08",
   "metadata": {},
   "source": [
    "3. 设连续函数 $f(x)$ 满足 $\\int_0^xf(t)\\mathrm{d}t+\\int_0^xtf(x-t)\\mathrm{d}t=\\sin x$, 求$f(x)$."
   ]
  },
  {
   "cell_type": "markdown",
   "id": "f63526c0-539f-4a30-9195-570ca68cac06",
   "metadata": {},
   "source": [
    "4. 求微分方程$y''+y=\\cos^2x$的一个特解$y=y(x)$，使得该特解表示的曲线在原点处与直线$y=x$相切。"
   ]
  },
  {
   "cell_type": "markdown",
   "id": "baf28469-525d-484e-894e-eecf34a32d49",
   "metadata": {},
   "source": [
    "5. 求二阶非齐次线性微分方程 $y''-2y'-3y=5e^{-x}+\\cos x$ 的通解。"
   ]
  },
  {
   "cell_type": "markdown",
   "id": "c5e45e30-5fb0-4cc3-8daa-87bb1d44ea67",
   "metadata": {},
   "source": [
    "6. 求欧拉方程 $x^2y''+2xy'-2y=0$ 满足 $y(1)=1,y'(1)=2$的解。"
   ]
  },
  {
   "cell_type": "markdown",
   "id": "aac93a8d-118d-4a94-8b1c-d2a607fecb9b",
   "metadata": {},
   "source": [
    "### 四、综合题"
   ]
  },
  {
   "cell_type": "markdown",
   "id": "f9c16e1a-0606-4ed1-9dfa-dc02aeb2ca14",
   "metadata": {
    "jp-MarkdownHeadingCollapsed": true
   },
   "source": [
    "#### 7. 设常数 $a<0$, 二阶可导函数$f(x)$ 满足 $f(x)=1+x+\\int_0^x(a-x+t)f(t)\\mathrm{d}t$，<font color=blue>（1）</font >求$f(x)$满足的二阶微分方程，<font color=blue>（2）</font> 求$\\lim_{x\\to+\\infty} f(x), \\lim_{x\\to+\\infty}f'(x)$，<font color=blue>（3）</font>计算广义积分 $\\int_0^{+\\infty}f(x)\\mathrm{d}x$"
   ]
  },
  {
   "cell_type": "markdown",
   "id": "b7025739-2f71-4f8e-a7fd-726135166a75",
   "metadata": {},
   "source": [
    "求导得$f''-af'+f=0$, 特征根由一元二次方程根与系数关系，满足$$\\lambda_1+\\lambda_2=a,\\lambda_1\\lambda_2=1$$\n",
    "如果两个根都是实数，则通解形如 $C_1e^{\\lambda_1x}+C_2e^{\\lambda_2x}$, 根据等式代入$x=0$可以求得$f(0)=0,f'(0)=a$, 因此$C_1+C_2=0,\\lambda_1C_1+\\lambda_2C_2=a$, 因此$\\lambda_1C_2+\\lambda_2C_1=-a$, 反常积分计算为$-\\frac{C_1}{\\lambda_1}-\\frac{C_2}{\\lambda_2}=-\\frac{C_1\\lambda_2+C_2\\lambda_1}{\\lambda_1\\lambda_2}=a$。如果是两个共轭复根，一样计算得到$a$。如果是重根，$a=-2$, $f(x)=axe^{-x}$反常积分为$a$。这是否是一个巧合？有没有更简单不需要分类讨论的计算方法（提示：使用$f$满足的的微分方程）。"
   ]
  },
  {
   "cell_type": "markdown",
   "id": "a0d816ef-6755-4816-b708-1f17c4852640",
   "metadata": {},
   "source": [
    "#### 8. 设常数 $a>0$, <font color=blue>（1）</font>求微分方程 $ay''-(1+(y')^2)^{3/2}=0$ 的通解，<font color=blue>（2）</font>证明：平面曲线为圆周的充分必要条件为：它的曲率半径为常数。曲率半径$r=\\frac{(1+(y')^2)^{3/2}}{|y''|}$"
   ]
  },
  {
   "cell_type": "markdown",
   "id": "e9cf0201-68b4-4495-80b3-5988a1b2e2f1",
   "metadata": {},
   "source": [
    "必要性容易。充分性即验证：满足曲率半径为常数的方程，一定是个圆。\n",
    "\n",
    "换元$y'=p(x)$, 则 $ap'=(1+p^2)^{3/2}$, 得到 $\\frac{\\mathrm{d}p}{(1+p^2)^{3/2}}=\\frac{\\mathrm{d}x}{a}$，积分: 我们换元 $p=\\tan u$, $\\mathrm{d}p=\\sec^2 u\\mathrm{d}u$，左边为$$\\frac{\\mathrm{d}p}{(1+p^2)^{3/2}}=\\frac{\\sec^2 u}{\\sec^3u}\\mathrm{d}u=\\cos u\\mathrm{d}u=\\mathrm{d}\\sin u$$两边积分得到 $\\sin u=\\frac{x}{a}+C$ 即$\\frac{p}{\\sqrt{1+p^2}}=\\frac{x}{a}+C$，$\\frac{p^2}{1+p^2}=(\\frac{x}{a}+C)^2$, $p^2=\\frac{(x/a+C)^2}{1-(x/a+C)^2}$, $\\frac{\\mathrm{d}y}{\\mathrm{d}x}=\\frac{(x/a+C)}{\\sqrt{1-(x/a+C)^2}}$, $$\\mathrm{d}(y/a)=\\frac{(x/a+C)\\mathrm{d}(x/a)}{\\sqrt{1-(x/a+C)^2}}=\\mathrm{d}\\sqrt{1-(x/a+C)^2}$$\n",
    "积分平方即得 $(y/a-C_1)^2+(x/a+C)^2=1$, 圆的方程，本题难点在`自信地计算积分`。"
   ]
  },
  {
   "cell_type": "code",
   "execution_count": null,
   "id": "6b907df6-217f-443d-b887-9ff3a465a8fa",
   "metadata": {},
   "outputs": [],
   "source": []
  }
 ],
 "metadata": {
  "kernelspec": {
   "display_name": "Python 3 (ipykernel)",
   "language": "python",
   "name": "python3"
  },
  "language_info": {
   "codemirror_mode": {
    "name": "ipython",
    "version": 3
   },
   "file_extension": ".py",
   "mimetype": "text/x-python",
   "name": "python",
   "nbconvert_exporter": "python",
   "pygments_lexer": "ipython3",
   "version": "3.12.8"
  }
 },
 "nbformat": 4,
 "nbformat_minor": 5
}

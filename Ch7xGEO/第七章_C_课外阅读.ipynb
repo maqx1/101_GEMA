{
 "cells": [
  {
   "cell_type": "markdown",
   "id": "2b4bbd9d-aed5-4b59-9602-0560996d2ea8",
   "metadata": {},
   "source": [
    "DOI: 10.21037/jtd.2020.02.64\n",
    "\n",
    "http://www.nhc.gov.cn/xcs/yqtb/list_gzbd.shtml"
   ]
  },
  {
   "cell_type": "markdown",
   "id": "9aaa7163-c56f-4c0b-9de4-992ab9af0944",
   "metadata": {},
   "source": [
    "1. 疾病传染模型S,I,R, 其中S易感者（Suspectible）,I患病者（Infectious）,R康复者（Recovered），其变化满足以下规律\n",
    "   $$S\\xrightarrow{\\beta SI} I\\xrightarrow{\\mu I} R$$\n",
    "   $$\\left\\{\\begin{aligned}\n",
    "               \\frac{\\mathrm{d}S}{\\mathrm{d}t}&=-\\beta SI \\\\\n",
    "               \\frac{\\mathrm{d}I}{\\mathrm{d}t}&=\\beta SI -\\mu I\\\\\n",
    "               \\frac{\\mathrm{d}R}{\\mathrm{d}t}&=\\mu I\n",
    "            \\end{aligned}\\right.$$\n",
    "2. 疾病传染模型S,E,I,R, 其中E为无症状感染者（Exposed）,其变化满足以下规律\n",
    "   $$S\\xrightarrow{\\beta SI} E\\xrightarrow{\\delta E} I\\xrightarrow{\\mu I} R$$\n",
    "   $$\\left\\{\\begin{aligned}\n",
    "               \\frac{\\mathrm{d}S}{\\mathrm{d}t}&=-\\beta SI{\\color{red}-\\beta_2 SE}\\\\\n",
    "               \\frac{\\mathrm{d}E}{\\mathrm{d}t}&=\\beta SI-\\delta E {\\color{red}+\\beta_2SE}\\\\\n",
    "               \\frac{\\mathrm{d}I}{\\mathrm{d}t}&=\\delta E -\\mu I\\\\\n",
    "               \\frac{\\mathrm{d}R}{\\mathrm{d}t}&=\\mu I\n",
    "            \\end{aligned}\\right.$$"
   ]
  },
  {
   "cell_type": "markdown",
   "id": "b6ff8920-a565-47e1-8a98-181094cadd51",
   "metadata": {},
   "source": [
    "3. 若疫情叠加了春运，如何将人口的迁徙纳入模型？\n",
    "$$S\\xrightarrow{?}E\\xrightarrow{\\delta E}I\\xrightarrow{\\mu I}R$$"
   ]
  },
  {
   "cell_type": "markdown",
   "id": "fcdeeb49-f8fa-4441-a21a-c467ffab3548",
   "metadata": {},
   "source": [
    "4. 我们假设该地随时间 $t$ 的人口输入、输出数量为 $A(t),B(t)$ ，这可以在 https://qianxi.baidu.com 上根据往年数据找到，可认为是已知函数。"
   ]
  },
  {
   "cell_type": "markdown",
   "id": "7260744f-d59a-4a45-b2b8-63ff7c68fd82",
   "metadata": {},
   "source": [
    "5. 假设感染者、治愈者短期内不参与旅行，因此流动人口由未感染、潜伏者 $S,E$ 组成，其中 $E$ 占比为 $P$, 如果假设核酸检测才可旅行，而$P$即为核算检测失误率，是一个固定常数，那么\n",
    "   1. 迁入未感染者 $S_{in}=A(t)(1-P)$\n",
    "   2. 迁出未感染者 $S_{out}=B(t)(1-P)$\n",
    "   3. 迁入无症状感染者 $E_{in}=A(t)P$\n",
    "   4. 迁出无症状感染者 $E_{out}=B(t)P$\n",
    "   得到方程\n",
    "   $$S\\xrightarrow{\\beta SI} E\\xrightarrow{\\delta E} I\\xrightarrow{\\mu I} R$$\n",
    "   $$\\left\\{\\begin{aligned}\n",
    "               \\frac{\\mathrm{d}S}{\\mathrm{d}t}&=-\\beta SI{\\color{red}-\\beta_2 SE}+(\\color{blue}S_{in}-S_{out})\\\\\n",
    "               \\frac{\\mathrm{d}E}{\\mathrm{d}t}&=\\beta SI-\\delta E {\\color{red}+\\beta_2SE}+(\\color{blue}E_{in}-E_{out})\\\\\n",
    "               \\frac{\\mathrm{d}I}{\\mathrm{d}t}&=\\delta E -\\mu I\\\\\n",
    "               \\frac{\\mathrm{d}R}{\\mathrm{d}t}&=\\mu I\n",
    "            \\end{aligned}\\right.$$"
   ]
  },
  {
   "cell_type": "markdown",
   "id": "a564eeca-2330-4ff0-b249-6d5ae0795781",
   "metadata": {
    "jp-MarkdownHeadingCollapsed": true
   },
   "source": [
    "- 焦散曲线的历史：https://galileo-unbound.blog/2021/02/28/casual-caustics-and-the-optics-of-rays/\n",
    "- 马克杯中的光影：https://www.zhihu.com/question/449718769/answers/updated\n",
    "- 更精细的建模：https://github.com/BetaGem/Games/blob/main/cylinder.py\n",
    "- 焦散曲线：https://mathworld.wolfram.com/Catacaustic.html"
   ]
  },
  {
   "cell_type": "markdown",
   "id": "3f34a68f-57e6-4c3d-b2a2-d3be93abccc6",
   "metadata": {},
   "source": [
    "考虑单位圆周，设内侧镀有镜面，且假设光线只反射一次后，其强度便衰减至肉眼难以辨识。我们在$(1,0)$出放置点光源，求反射光在圆内的包络线。"
   ]
  },
  {
   "cell_type": "markdown",
   "id": "4f89275b-5a8e-4c46-a1f7-5b6e8d62cbc9",
   "metadata": {},
   "source": [
    "设光发出后的首个反射点坐标为$(\\cos \\theta,\\sin\\theta)$，则二次反射点坐标为$(\\cos 2\\theta,\\sin 2\\theta)$, 因此反射光方程为\n",
    "$$\\frac{y-\\sin\\theta}{x-\\cos\\theta}=\\frac{y-\\sin 2\\theta}{x-\\cos 2\\theta}$$\n",
    "上述方程展开，\n",
    "$$x(\\sin2\\theta-\\sin\\theta)+y(\\cos\\theta-\\cos 2\\theta)=\\sin\\theta$$\n",
    "\n",
    "该等式关于$\\theta$求导得 (<font color=blue>思考：为什么可以这样做？提示：包络，顾名思义，固定$x$时，$y$取极值 + 导数的几何含义。</font>)\n",
    "$$x(2\\cos2\\theta-\\cos\\theta)+y(-\\sin\\theta+2\\sin 2\\theta)=\\cos\\theta$$\n",
    "\n",
    "联立解得$x=\\frac{2\\cos\\theta+\\cos2\\theta}{3},y=\\frac{2\\sin\\theta+\\sin2\\theta}{3}$"
   ]
  },
  {
   "cell_type": "code",
   "execution_count": 8,
   "id": "80a9fc0b-8f72-4c40-bd17-a92cca95e82e",
   "metadata": {},
   "outputs": [
    {
     "data": {
      "image/png": "[encoded data removed]",
      "text/plain": [
       "<Figure size 400x400 with 1 Axes>"
      ]
     },
     "metadata": {},
     "output_type": "display_data"
    }
   ],
   "source": [
    "import numpy as np\n",
    "import matplotlib.pyplot as plt\n",
    "\n",
    "t = np.linspace(0,10,300)\n",
    "x = (2*np.cos(t)+np.cos(2*t))/3\n",
    "y = (2*np.sin(t)+np.sin(2*t))/3\n",
    "a1 = np.cos(t)\n",
    "a2 = np.sin(t)\n",
    "plt.figure(figsize=(4,4))\n",
    "plt.plot(x,y)\n",
    "plt.plot(a1,a2)\n",
    "plt.show()"
   ]
  },
  {
   "cell_type": "markdown",
   "id": "46a30ffe-26fc-422d-ada9-60b15808c1ea",
   "metadata": {},
   "source": [
    "解方程 $$\\frac{\\mathrm{d}^2x}{\\mathrm{d}t^2}=f(x)$$"
   ]
  },
  {
   "cell_type": "markdown",
   "id": "966ef9e9-d0fd-4486-b1d2-59239acccf9a",
   "metadata": {},
   "source": [
    "这个方程不显含$t$, 因此采用链导换元，令$\\frac{\\mathrm{d}x}{\\mathrm{d}t}=v$，则$\\frac{\\mathrm{d}v}{\\mathrm{d}t}=f(x)$\n",
    "$$\\frac{\\mathrm{d}v}{\\mathrm{d}x}\\frac{\\mathrm{d}x}{\\mathrm{d}t}=f(x)$$\n",
    "$$v\\frac{\\mathrm{d}v}{\\mathrm{d}x}=f(x)$$\n",
    "$$\\frac{1}{2}v^2+C= F(x)$$\n",
    "$$v=\\pm\\sqrt{2F(x)-C}$$\n",
    "$$\\frac{\\mathrm{d}x}{\\mathrm{d}t}=\\pm\\sqrt{2F(x)-C}$$\n",
    "$$\\frac{\\mathrm{d}x}{\\pm\\sqrt{2F(x)-C}}=\\mathrm{d}t$$\n",
    "$$t=\\int\\frac{\\mathrm{d}x}{\\pm\\sqrt{2F(x)-C}}+C_2$$"
   ]
  },
  {
   "cell_type": "markdown",
   "id": "d928b190-4805-4d1c-808b-4aae98f2e9db",
   "metadata": {},
   "source": [
    "对单摆，若$x$是摆动角度，则 $f(x)=-a^2\\sin x$, $F(x)=a^2\\cos x-C$, $$t=\\pm\\int\\frac{\\mathrm{d}x}{\\sqrt{2a^2\\cos x-C_1}}+C_2$$"
   ]
  },
  {
   "cell_type": "markdown",
   "id": "440d1b80-7322-4189-8d4a-096dea7ad5fc",
   "metadata": {},
   "source": [
    "这个方程解不出来，中学时，我们的办法是进行近似$f(x)=-a^2x$, 得到$F(x)=-\\frac{a^2x^2}{2}$, $C_1=-c^2<0$\n",
    " $$t=\\int\\frac{\\mathrm{d}x}{\\sqrt{c^2-a^2x^2}}+C_2=\\frac{1}{a}\\arcsin\\frac{ax}{c}+C_2$$\n",
    "$$x=\\frac{c}{a}\\sin(at+D)$$"
   ]
  },
  {
   "cell_type": "markdown",
   "id": "f3c1a5a7-615f-4d0b-8860-e005eed0137a",
   "metadata": {},
   "source": [
    "如果我们一定要研究大幅度的单摆，不必进一步研究椭圆积分。事实上，写到$\\frac{1}{2}v^2+C=F(x)$即可停笔，作出“位移-速度”图即可看到物理图像。\n",
    "\n",
    "注意到，对于二阶方程，位移-速度这两个初值，已经完全决定了系统的演化，因此位移-速度图包含了关于方程演化的所有信息。"
   ]
  },
  {
   "cell_type": "markdown",
   "id": "e46a81b3-a7f1-48d2-9c5d-f38e9bddc4bc",
   "metadata": {},
   "source": [
    "我们解方程时发现 $y'=\\sqrt{|y|}$, 这个一阶方程的通解无法由一个参数给出。事实上，高阶方程也有类似的现象： $y''=\\sqrt{|y|}$ 给定初值的解不唯一。\n",
    "\n",
    "如果想象$y''$是加速度，力与$\\sqrt{|y|}$成正比，一同推导后，我们找到了对应的具体物理图像：从半立方抛物线 $-r^{3/2}$ 穹顶上滚下小球的运动方程。\n",
    "\n",
    "力学可以用微分方程刻画，那么微分方程的解不唯一，是否说明了这个世界不是“决定论”的？\n",
    "\n",
    "有哪些你觉得特别有意思的物理学悖论？ - 贾明子的回答 - 知乎 https://www.zhihu.com/question/397610640/answer/2617547404"
   ]
  },
  {
   "cell_type": "markdown",
   "id": "3d34b27c-f85c-460d-828b-4e095a6e3772",
   "metadata": {},
   "source": [
    "## 1. 双重外积公式\n",
    "\n",
    "$$(\\mathbf{a}\\times\\mathbf{b})\\times\\mathbf{c}=(\\mathbf{a},\\mathbf{c})\\mathbf{b}-(\\mathbf{b},\\mathbf{c})\\mathbf{a}$$"
   ]
  },
  {
   "cell_type": "markdown",
   "id": "46c12f5c-cda2-45f5-8289-448db598261a",
   "metadata": {},
   "source": [
    "1. $(\\mathbf{a}\\times\\mathbf{b})\\times\\mathbf{c}$ 一定与 $\\mathbf{a}\\times \\mathbf{b}$ 垂直，因此可表示为 $\\mathbf{a},\\mathbf{b}$ 的线性组合。"
   ]
  },
  {
   "cell_type": "markdown",
   "id": "e6294142-4260-4f46-a9df-5a482b5b288f",
   "metadata": {},
   "source": [
    "2. 因此不妨设 $(\\mathbf{a}\\times\\mathbf{b})\\times\\mathbf{c}=x\\mathbf{a}+y\\mathbf{b}$"
   ]
  },
  {
   "cell_type": "markdown",
   "id": "71bd3f2d-d7db-4742-ad5f-51e0363d2975",
   "metadata": {},
   "source": [
    "3. 两边同时与 $\\mathbf{c}$ 点乘，得知 $x(\\mathbf{a},\\mathbf{c})+y(\\mathbf{b},\\mathbf{c})=0$, 因此 $$\\frac{x}{y}=-\\frac{(\\mathbf{b},\\mathbf{c})}{(\\mathbf{a},\\mathbf{c})}.$$"
   ]
  },
  {
   "cell_type": "markdown",
   "id": "a0361c3d-d0fe-496a-bf98-c6ecd9912869",
   "metadata": {},
   "source": [
    "4. 因此 $(\\mathbf{a}\\times\\mathbf{b})\\times\\mathbf{c}=k((\\mathbf{a},\\mathbf{c})\\mathbf{b}-(\\mathbf{b},\\mathbf{c})\\mathbf{a})$"
   ]
  },
  {
   "cell_type": "markdown",
   "id": "54020a7c-21f5-4616-88f3-4f6f8a370395",
   "metadata": {},
   "source": [
    "5. 思考：如何进一步得到上述 $k=1$ ？"
   ]
  },
  {
   "cell_type": "markdown",
   "id": "734e64d4-c299-4538-8338-8c694599a180",
   "metadata": {},
   "source": [
    "## 2. 柯西-比涅恒等式\n",
    "$$(\\mathbf{a}\\times\\mathbf{b})\\cdot(\\mathbf{c}\\times\\mathbf{d})=(\\mathbf{a},\\mathbf{c})(\\mathbf{b},\\mathbf{d})-(\\mathbf{a},\\mathbf{d})(\\mathbf{b},\\mathbf{c})$$"
   ]
  },
  {
   "cell_type": "markdown",
   "id": "03f82550-50da-44ab-afdf-7d96d78d2032",
   "metadata": {},
   "source": [
    "1. 根据混合积性质，有 $$(\\mathbf{a}\\times\\mathbf{b})\\cdot{\\color{red}(\\mathbf{c}\\times\\mathbf{d})}=({\\color{red}(\\mathbf{c}\\times\\mathbf{d})\\color{red}}\\times\\mathbf{a})\\cdot\\mathbf{b}$$"
   ]
  },
  {
   "cell_type": "markdown",
   "id": "1a3d6441-13f2-479c-9db7-4d38f52fe2ae",
   "metadata": {},
   "source": [
    "2. 代入双重外积公式，你得到什么？"
   ]
  },
  {
   "cell_type": "markdown",
   "id": "acc7c41d-1fa7-4788-b4b3-35aced7af8a1",
   "metadata": {},
   "source": [
    "## 3. 拉格朗日恒等式"
   ]
  },
  {
   "cell_type": "markdown",
   "id": "7bfdbeed-4c1a-4fba-976c-4728b8e91e14",
   "metadata": {},
   "source": [
    "$$|\\mathbf{a}\\times\\mathbf{b}|^2=|\\mathbf{a}|^2|\\mathbf{b}|^2-(\\mathbf{a},\\mathbf{b})^2$$"
   ]
  },
  {
   "cell_type": "markdown",
   "id": "0d08346c-539f-4941-8792-905a0704bf1a",
   "metadata": {},
   "source": [
    "1. 思考：除了课本上的展开计算，能不能通过上述恒等式更简洁地推导？"
   ]
  },
  {
   "cell_type": "markdown",
   "id": "9fd6e053-50f9-4943-a9af-2c628b1a53fd",
   "metadata": {},
   "source": [
    "## 4. 雅可比恒等式\n",
    "$$(\\mathbf{a}\\times\\mathbf{b})\\times\\mathbf{c}+(\\mathbf{b}\\times\\mathbf{c})\\times\\mathbf{a}+(\\mathbf{c}\\times\\mathbf{a})\\times\\mathbf{b}=0$$"
   ]
  },
  {
   "cell_type": "markdown",
   "id": "1a72803a-d5a1-4fcf-8cd6-d55a4dd8bd8a",
   "metadata": {},
   "source": [
    "1. 思考：如何证明？"
   ]
  },
  {
   "cell_type": "markdown",
   "id": "e698cfc5-f96b-4bf7-9fab-d20017f6a7c4",
   "metadata": {},
   "source": [
    "## 5. 矢量四重积 "
   ]
  },
  {
   "cell_type": "markdown",
   "id": "75f542de-ef9b-463e-9027-29a5412e6edd",
   "metadata": {},
   "source": [
    "$$(\\mathbf{a}\\times\\mathbf{b})\\times(\\mathbf{c}\\times\\mathbf{d})=(\\mathbf{a},\\mathbf{b},\\mathbf{d})\\mathbf{c}-(\\mathbf{a},\\mathbf{b},\\mathbf{c})\\mathbf{d}$$\n",
    "$$(\\mathbf{a}\\times\\mathbf{b})\\times(\\mathbf{c}\\times\\mathbf{d})=(\\mathbf{a},\\mathbf{c},\\mathbf{d})\\mathbf{b}-(\\mathbf{b},\\mathbf{c},\\mathbf{d})\\mathbf{a}$$"
   ]
  },
  {
   "cell_type": "markdown",
   "id": "f77b46ff-4bcf-4551-ab13-a486f3b74a36",
   "metadata": {},
   "source": [
    "1. 思考：如何证明？"
   ]
  },
  {
   "cell_type": "markdown",
   "id": "02e9e976-2804-4b44-a97a-472d65362bfa",
   "metadata": {},
   "source": [
    "2. 比较等式右端，得到 $$\\mathbf{d}=\\frac{(\\mathbf{d,b,c})}{(\\mathbf{a,b,c})}\\mathbf{a}+\\frac{(\\mathbf{d,c,a})}{(\\mathbf{a,b,c})}\\mathbf{b}+\\frac{(\\mathbf{d,a,b})}{(\\mathbf{a,b,c})}\\mathbf{c}$$\n",
    "   这个等式有什么含义？与Cramer法则有何联系？"
   ]
  },
  {
   "cell_type": "markdown",
   "id": "84710fca-d673-4d83-9b83-c353ea2055b9",
   "metadata": {},
   "source": [
    "## 6. 微分算子的矢量操作（较难）"
   ]
  },
  {
   "cell_type": "markdown",
   "id": "55c0d691-0a4d-44c5-8c63-cc74d78f6325",
   "metadata": {},
   "source": [
    "1. 我们记符号向量 $\\nabla=(\\partial_1,\\partial_2,\\partial_3)$。"
   ]
  },
  {
   "attachments": {},
   "cell_type": "markdown",
   "id": "b27f4793-642c-4331-8521-2e949fad2f25",
   "metadata": {},
   "source": [
    "2. 对于向量值函数 $\\mathbf{a}=(a_1,a_2,a_3)$, 其中 $a_1,a_2,a_3$都是关于$x,y,z$的函数，记\n",
    "    $$\\nabla\\cdot \\mathbf{a}=\\partial_1a_1+\\partial_2a_2+\\partial_3a_3$$\n",
    "       $$\\nabla\\times \\mathbf{a}=(\\partial_2a_3-\\partial_3a_2,\\partial_3a_1-\\partial_1a_3,\\partial_1a_2-\\partial_2a_1)$$\n",
    "   \n",
    "4. 我们定义非点乘、非叉乘的<font color=blue>“依次求导”</font> $$\\nabla\\mathbf{a}=(\\partial_1a_1,\\partial_2a_2,\\partial_3a_3)$$对于函数$f$, 我们记向量 $\\mathbf{f}=(f,f,f)$, 并定义$\\nabla f=\\nabla \\mathbf{f}$。所以$\\nabla$既可以直接作用在（函）数上，也可以作用在向量（值函数）上，都得到向量值函数。\n",
    "\n",
    "4. 稍作小结，$\\nabla\\cdot$ 把向量变成数，$\\nabla\\times$ 把向量变成向量，$\\nabla$ 把向量变成向量，把数也变成向量。"
   ]
  },
  {
   "cell_type": "markdown",
   "id": "74a89c3a-dc04-4d19-817d-fa8f08732e30",
   "metadata": {},
   "source": [
    "5. “依次求导”满足莱布尼茨法则\n",
    "      $$\\nabla(ab)=(\\nabla a) b+a(\\nabla b)$$\n",
    "   $$\\nabla(\\mathbf{a\\cdot b})=\\nabla \\mathbf{a}\\cdot  \\mathbf{b}+\\mathbf{a}\\cdot \\nabla \\mathbf{b}$$\n",
    "      $$\\nabla(\\mathbf{a\\times b})=(\\nabla\\mathbf{a})\\times\\mathbf{b}+\\mathbf{a}\\times(\\nabla \\mathbf{b})$$\n",
    "      $$\\nabla(\\mathbf{a} b)=(\\nabla\\mathbf{a})b+\\mathbf{a}\\cdot(\\nabla b)$$\n",
    "      "
   ]
  },
  {
   "cell_type": "markdown",
   "id": "aabedcb6-5565-4a01-ac07-07d54ba90f26",
   "metadata": {},
   "source": [
    "6. 算子点乘满足以下法则（你能看出其规律吗？）\n",
    "   $$\\nabla\\cdot (\\mathbf{a}b)=(\\nabla\\mathbf{a})b+\\mathbf{a}\\cdot(\\nabla b)$$\n",
    "\n",
    "   $$\\nabla\\cdot (\\mathbf{a\\times b})=(\\nabla\\times\\mathbf{a})\\cdot\\mathbf{b}-\\mathbf{a}\\cdot(\\nabla\\times\\mathbf{b})$$\n",
    "7. 算子叉乘满足以下法则（你能看出其规律吗？）\n",
    "   $$\\nabla\\times(\\mathbf{a}b)=(\\nabla\\times \\mathbf{a})b -\\mathbf{a}\\times\\nabla b$$\n",
    "   $$\\nabla\\times(\\mathbf{a\\times b})=((\\nabla\\mathbf{a})\\cdot\\mathbf{b}-\\mathbf{a}\\cdot(\\nabla\\mathbf{b}))-((\\nabla\\cdot\\mathbf{a})\\mathbf{b}-\\mathbf{a}(\\nabla\\cdot\\mathbf{b}))$$"
   ]
  },
  {
   "cell_type": "markdown",
   "id": "0dc274ce-df65-4604-9e16-3c24f0af93f9",
   "metadata": {},
   "source": [
    "<font color=red> https://zhuanlan.zhihu.com/p/52834609</font>"
   ]
  },
  {
   "cell_type": "markdown",
   "id": "49888476-9392-4744-872d-7893abc62dd0",
   "metadata": {},
   "source": [
    "8. 以上是算子的一阶导，对于算子二阶导，我们有\n",
    "   $$\\nabla\\cdot(\\nabla\\times \\mathbf{a})=0$$\n",
    "   $$\\nabla\\times(\\nabla a)=0$$\n",
    "   但请注意第二个算式一般不成立：$$\\nabla\\times(\\nabla \\mathbf{a})=\\nabla\\times(\\partial_1a_1,\\partial_2a_2,\\partial_3a_3)$$\n",
    "   $$=(\\partial_{23}a_3-\\partial_{32}a_2,...)\\neq\\mathbf{0}$$"
   ]
  }
 ],
 "metadata": {
  "kernelspec": {
   "display_name": "Python 3 (ipykernel)",
   "language": "python",
   "name": "python3"
  },
  "language_info": {
   "codemirror_mode": {
    "name": "ipython",
    "version": 3
   },
   "file_extension": ".py",
   "mimetype": "text/x-python",
   "name": "python",
   "nbconvert_exporter": "python",
   "pygments_lexer": "ipython3",
   "version": "3.12.8"
  }
 },
 "nbformat": 4,
 "nbformat_minor": 5
}

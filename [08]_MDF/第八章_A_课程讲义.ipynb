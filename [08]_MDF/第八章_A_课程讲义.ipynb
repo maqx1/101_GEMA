{
 "cells": [
  {
   "cell_type": "markdown",
   "id": "1f6cbf28-54f8-4882-8371-4c86ab2f23a3",
   "metadata": {},
   "source": [
    "# **内容梳理** "
   ]
  },
  {
   "cell_type": "markdown",
   "id": "97305c79-7e05-41b8-b151-42b57e34cce7",
   "metadata": {
    "jp-MarkdownHeadingCollapsed": true
   },
   "source": [
    "### [800] 第八章：《多元函数的微分学》"
   ]
  },
  {
   "cell_type": "markdown",
   "id": "533daed5-113c-4183-841e-15683ba2432f",
   "metadata": {},
   "source": [
    "1. 空间坐标系：直角坐标、球坐标、柱坐标。\n",
    "2. 向量的线性运算：加减、数乘、向量值函数的求导。\n",
    "3. 向量的进阶乘法：数量积、向量积。\n",
    "4. 空间的平面与直线。\n",
    "5. 曲面与曲线：二次曲面、柱面、旋转面、锥面、空间曲线的投影，曲线曲面的参数化。\n"
   ]
  },
  {
   "cell_type": "markdown",
   "id": "c59eddc9-81c9-4053-a40f-5a5c3f7ffe66",
   "metadata": {
    "jp-MarkdownHeadingCollapsed": true
   },
   "source": [
    "### [801] <font color=red>自测是否掌握多元函数微分学：</font>\n",
    "1. 能计算球坐标下的拉普拉斯算子。\n",
    "2. 能用拉格朗日乘子法证明平均值不等式。\n",
    "3. 能举例说明累次极限和重极限的区别。\n",
    "\n",
    "往届高数学生自制视频：https://www.bilibili.com/video/BV1uzFjeHECd?p=2&spm_id_from=333.788.videopod.episodes"
   ]
  },
  {
   "cell_type": "markdown",
   "id": "0495d904-808f-4294-9e1d-8e22bb40b622",
   "metadata": {},
   "source": [
    "# **课本导读**"
   ]
  },
  {
   "cell_type": "markdown",
   "id": "507b38d9-055c-4058-a16a-84d2b0939df8",
   "metadata": {},
   "source": [
    "## **1. 空间直角坐标系**"
   ]
  },
  {
   "cell_type": "markdown",
   "id": "eca5d4c8",
   "metadata": {},
   "source": [
    "# **例题精讲**"
   ]
  },
  {
   "cell_type": "markdown",
   "id": "e57fa4d1-27c6-427d-b966-5abbb99030a4",
   "metadata": {},
   "source": [
    "## 1. **[p.24]** （点到平面的距离）"
   ]
  },
  {
   "cell_type": "markdown",
   "id": "0e904d39-5640-460e-9a31-d0ba6e09d7b9",
   "metadata": {},
   "source": [
    "设 $P(x_0,y_0,z_0)$ 是平面 $Ax+By+Cz+D=0$外一点。求点到平面的距离。"
   ]
  },
  {
   "cell_type": "markdown",
   "id": "83c62fe3-467d-4c7a-9ff8-89a6a2687839",
   "metadata": {},
   "source": [
    "1. 最简单的想法，求出垂足$Q$坐标，再计算两点之间的距离。但垂足如何求？"
   ]
  },
  {
   "cell_type": "markdown",
   "id": "9798ffb2-d4de-4390-8828-f5b57bf32be7",
   "metadata": {},
   "source": [
    "2. 垂足点坐标满足 $(x,y,\\frac{-D-Ax-By}{C})$，则$\\overrightarrow{PQ}=(x-x_0,y-y_0,\\frac{-D-Ax-By}{C}-z_0)$垂直于$Ax+By+Cz+D=0$, 即$\\overrightarrow{PQ}$ 平行于法向量。似乎计算量太大了。"
   ]
  },
  {
   "cell_type": "markdown",
   "id": "461e0b9e-a5cb-491d-b248-1b1e822eda3e",
   "metadata": {},
   "source": [
    "3. 换一个思路：距离即为$\\overrightarrow{PQ}$到法方向的投影（向量点积时引入的$\\overrightarrow{PQ}_{\\mathbf{n}}$）！"
   ]
  },
  {
   "cell_type": "markdown",
   "id": "672ca4bc-70f1-49ae-86e7-5b71989a440a",
   "metadata": {},
   "source": [
    "4. 代入计算（思考：还记最左端是怎么来的吗）$$\\frac{\\overrightarrow{PQ}\\cdot\\mathbf{n}}{|\\mathbf{n}|}=\\frac{A(x-x_0)+B(y-y_0)+C(\\frac{D-Ax-By}{C}-z_0)}{\\sqrt{A^2+B^2+C^2}}=\\frac{-Ax_0-By_0-Cz_0-D}{\\sqrt{A^2+B^2+C^2}}$$"
   ]
  },
  {
   "cell_type": "markdown",
   "id": "2071afb4-2200-4633-bd84-1b1141dcd50f",
   "metadata": {},
   "source": [
    "5. 为什么这里多了负号？因为法向量有两个方向。但我们只关心距离，加绝对值即可。"
   ]
  },
  {
   "cell_type": "markdown",
   "id": "dcaa3db8-9d6b-4f78-b8b1-9fa93692d969",
   "metadata": {},
   "source": [
    "## 2. **例题 7.25** (异面直线)\n",
    "\n",
    "直线$$l_1: \\frac{x+1}{1}=\\frac{y}{1}=\\frac{z-1}{2}, l_2\\colon\\frac{x}{1}=\\frac{y+1}{3}=\\frac{z-2}{4}$$\n",
    "\n",
    "- （1）验证$l_1,l_2$异面\n",
    "- （2）求$l_1,l_2$夹角\n",
    "- （3）求$l_1,l_2$距离\n",
    "- （4）求$l_1,l_2$公垂线方程"
   ]
  },
  {
   "cell_type": "markdown",
   "id": "08443e43-ebf6-4982-9eff-d0e22497c376",
   "metadata": {},
   "source": [
    "这题难点在第四问，直线方程有四种表达形式，我们希望用哪种形式表达？"
   ]
  },
  {
   "cell_type": "markdown",
   "id": "80ac353f-201b-44e9-bbc7-5551e30df5d8",
   "metadata": {},
   "source": [
    "1. 如果用两点式，我们希望知道该直线上两个点，最简单的选取就是交点。每个交点由一个参数确定，两点差向量与$l_1,l_2$垂直，给出两个方程，正好确定两个交点的参数。"
   ]
  },
  {
   "cell_type": "markdown",
   "id": "6d604a34-0a37-4765-9d95-0c9cf2359df8",
   "metadata": {},
   "source": [
    "2. 如果用一般式，我们最好已经知道一些过这个直线的平面的信息，但是很可惜我们没有。因此该问题乍一看不适合用一般式表达。"
   ]
  },
  {
   "cell_type": "markdown",
   "id": "99072b2f-dcd1-4653-b8af-b19a5e287947",
   "metadata": {},
   "source": [
    "3. 如果用参数式（或标准式），我们已经知道直线上一点，只需要知道该直线的方向。设方向为$(m,n,p)$，要解三个未知元，好像比两点式更复杂！"
   ]
  },
  {
   "cell_type": "markdown",
   "id": "0ee3481a-7f22-48d1-af54-9151993123fe",
   "metadata": {},
   "source": [
    "4. 课本上给出的解法比较巧妙，（1）首先容易确定该直线方向，（2）其此，假设这条直线已经找到，根据共面直接写出一般式方程：\n",
    "   1. 计算公垂线方向 $\\mathbf{n}=\\mathbf{v}_1\\times \\mathbf{v}_2$\n",
    "   2. 计算第一个平面 $(\\mathbf{x}-\\mathbf{r}_1,\\mathbf{v}_1,\\mathbf{n})=0$\n",
    "   3. 计算第二个平面 $(\\mathbf{x}-\\mathbf{r}_2,\\mathbf{v}_2,\\mathbf{n})=0$"
   ]
  },
  {
   "cell_type": "markdown",
   "id": "820cb4f8-1ef4-46af-8bba-5735dbdcbce9",
   "metadata": {},
   "source": [
    "## 3. **思考**：求所有直线$l$，满足以下四个条件：\n",
    "- 与$l_1$夹角$\\pi/4$, 距离为$2$,\n",
    "- 与$l_2$夹角$\\pi/3$, 距离为$1$  "
   ]
  },
  {
   "cell_type": "code",
   "execution_count": null,
   "id": "4f80c8ac-90a9-48fa-ad78-a191755981f8",
   "metadata": {},
   "outputs": [],
   "source": []
  }
 ],
 "metadata": {
  "kernelspec": {
   "display_name": "Python 3 (ipykernel)",
   "language": "python",
   "name": "python3"
  },
  "language_info": {
   "codemirror_mode": {
    "name": "ipython",
    "version": 3
   },
   "file_extension": ".py",
   "mimetype": "text/x-python",
   "name": "python",
   "nbconvert_exporter": "python",
   "pygments_lexer": "ipython3",
   "version": "3.12.8"
  }
 },
 "nbformat": 4,
 "nbformat_minor": 5
}

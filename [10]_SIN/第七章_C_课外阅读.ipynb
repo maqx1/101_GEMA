{
 "cells": [
  {
   "cell_type": "markdown",
   "id": "3d34b27c-f85c-460d-828b-4e095a6e3772",
   "metadata": {},
   "source": [
    "## 1. 双重外积公式\n",
    "\n",
    "$$(\\mathbf{a}\\times\\mathbf{b})\\times\\mathbf{c}=(\\mathbf{a},\\mathbf{c})\\mathbf{b}-(\\mathbf{b},\\mathbf{c})\\mathbf{a}$$"
   ]
  },
  {
   "cell_type": "markdown",
   "id": "46c12f5c-cda2-45f5-8289-448db598261a",
   "metadata": {},
   "source": [
    "1. $(\\mathbf{a}\\times\\mathbf{b})\\times\\mathbf{c}$ 一定与 $\\mathbf{a}\\times \\mathbf{b}$ 垂直，因此可表示为 $\\mathbf{a},\\mathbf{b}$ 的线性组合。"
   ]
  },
  {
   "cell_type": "markdown",
   "id": "e6294142-4260-4f46-a9df-5a482b5b288f",
   "metadata": {},
   "source": [
    "2. 因此不妨设 $(\\mathbf{a}\\times\\mathbf{b})\\times\\mathbf{c}=x\\mathbf{a}+y\\mathbf{b}$"
   ]
  },
  {
   "cell_type": "markdown",
   "id": "71bd3f2d-d7db-4742-ad5f-51e0363d2975",
   "metadata": {},
   "source": [
    "3. 两边同时与 $\\mathbf{c}$ 点乘，得知 $x(\\mathbf{a},\\mathbf{c})+y(\\mathbf{b},\\mathbf{c})=0$, 因此 $$\\frac{x}{y}=-\\frac{(\\mathbf{b},\\mathbf{c})}{(\\mathbf{a},\\mathbf{c})}.$$"
   ]
  },
  {
   "cell_type": "markdown",
   "id": "a0361c3d-d0fe-496a-bf98-c6ecd9912869",
   "metadata": {},
   "source": [
    "4. 因此 $(\\mathbf{a}\\times\\mathbf{b})\\times\\mathbf{c}=k((\\mathbf{a},\\mathbf{c})\\mathbf{b}-(\\mathbf{b},\\mathbf{c})\\mathbf{a})$"
   ]
  },
  {
   "cell_type": "markdown",
   "id": "54020a7c-21f5-4616-88f3-4f6f8a370395",
   "metadata": {},
   "source": [
    "5. 思考：如何进一步得到上述 $k=1$ ？"
   ]
  },
  {
   "cell_type": "markdown",
   "id": "734e64d4-c299-4538-8338-8c694599a180",
   "metadata": {},
   "source": [
    "## 2. 柯西-比涅恒等式\n",
    "$$(\\mathbf{a}\\times\\mathbf{b})\\cdot(\\mathbf{c}\\times\\mathbf{d})=(\\mathbf{a},\\mathbf{c})(\\mathbf{b},\\mathbf{d})-(\\mathbf{a},\\mathbf{d})(\\mathbf{b},\\mathbf{c})$$"
   ]
  },
  {
   "cell_type": "markdown",
   "id": "03f82550-50da-44ab-afdf-7d96d78d2032",
   "metadata": {},
   "source": [
    "1. 根据混合积性质，有 $$(\\mathbf{a}\\times\\mathbf{b})\\cdot{\\color{red}(\\mathbf{c}\\times\\mathbf{d})}=({\\color{red}(\\mathbf{c}\\times\\mathbf{d})\\color{red}}\\times\\mathbf{a})\\cdot\\mathbf{b}$$"
   ]
  },
  {
   "cell_type": "markdown",
   "id": "1a3d6441-13f2-479c-9db7-4d38f52fe2ae",
   "metadata": {},
   "source": [
    "2. 代入双重外积公式，你得到什么？"
   ]
  },
  {
   "cell_type": "markdown",
   "id": "acc7c41d-1fa7-4788-b4b3-35aced7af8a1",
   "metadata": {},
   "source": [
    "## 3. 拉格朗日恒等式"
   ]
  },
  {
   "cell_type": "markdown",
   "id": "7bfdbeed-4c1a-4fba-976c-4728b8e91e14",
   "metadata": {},
   "source": [
    "$$|\\mathbf{a}\\times\\mathbf{b}|^2=|\\mathbf{a}|^2|\\mathbf{b}|^2-(\\mathbf{a},\\mathbf{b})^2$$"
   ]
  },
  {
   "cell_type": "markdown",
   "id": "0d08346c-539f-4941-8792-905a0704bf1a",
   "metadata": {},
   "source": [
    "1. 思考：除了课本上的展开计算，能不能通过上述恒等式更简洁地推导？"
   ]
  },
  {
   "cell_type": "markdown",
   "id": "9fd6e053-50f9-4943-a9af-2c628b1a53fd",
   "metadata": {},
   "source": [
    "## 4. 雅可比恒等式\n",
    "$$(\\mathbf{a}\\times\\mathbf{b})\\times\\mathbf{c}+(\\mathbf{b}\\times\\mathbf{c})\\times\\mathbf{a}+(\\mathbf{c}\\times\\mathbf{a})\\times\\mathbf{b}=0$$"
   ]
  },
  {
   "cell_type": "markdown",
   "id": "1a72803a-d5a1-4fcf-8cd6-d55a4dd8bd8a",
   "metadata": {},
   "source": [
    "1. 思考：如何证明？"
   ]
  },
  {
   "cell_type": "markdown",
   "id": "e698cfc5-f96b-4bf7-9fab-d20017f6a7c4",
   "metadata": {},
   "source": [
    "## 5. 矢量四重积 "
   ]
  },
  {
   "cell_type": "markdown",
   "id": "75f542de-ef9b-463e-9027-29a5412e6edd",
   "metadata": {},
   "source": [
    "$$(\\mathbf{a}\\times\\mathbf{b})\\times(\\mathbf{c}\\times\\mathbf{d})=(\\mathbf{a},\\mathbf{b},\\mathbf{d})\\mathbf{c}-(\\mathbf{a},\\mathbf{b},\\mathbf{c})\\mathbf{d}$$\n",
    "$$(\\mathbf{a}\\times\\mathbf{b})\\times(\\mathbf{c}\\times\\mathbf{d})=(\\mathbf{a},\\mathbf{c},\\mathbf{d})\\mathbf{b}-(\\mathbf{b},\\mathbf{c},\\mathbf{d})\\mathbf{a}$$"
   ]
  },
  {
   "cell_type": "markdown",
   "id": "f77b46ff-4bcf-4551-ab13-a486f3b74a36",
   "metadata": {},
   "source": [
    "1. 思考：如何证明？"
   ]
  },
  {
   "cell_type": "markdown",
   "id": "02e9e976-2804-4b44-a97a-472d65362bfa",
   "metadata": {},
   "source": [
    "2. 比较等式右端，得到 $$\\mathbf{d}=\\frac{(\\mathbf{d,b,c})}{(\\mathbf{a,b,c})}\\mathbf{a}+\\frac{(\\mathbf{d,c,a})}{(\\mathbf{a,b,c})}\\mathbf{b}+\\frac{(\\mathbf{d,a,b})}{(\\mathbf{a,b,c})}\\mathbf{c}$$\n",
    "   这个等式有什么含义？与Cramer法则有何联系？"
   ]
  },
  {
   "cell_type": "markdown",
   "id": "84710fca-d673-4d83-9b83-c353ea2055b9",
   "metadata": {},
   "source": [
    "## 6. 微分算子的矢量操作（较难）"
   ]
  },
  {
   "cell_type": "markdown",
   "id": "55c0d691-0a4d-44c5-8c63-cc74d78f6325",
   "metadata": {},
   "source": [
    "1. 我们记符号向量 $\\nabla=(\\partial_1,\\partial_2,\\partial_3)$。"
   ]
  },
  {
   "attachments": {},
   "cell_type": "markdown",
   "id": "b27f4793-642c-4331-8521-2e949fad2f25",
   "metadata": {},
   "source": [
    "2. 对于向量值函数 $\\mathbf{a}=(a_1,a_2,a_3)$, 其中 $a_1,a_2,a_3$都是关于$x,y,z$的函数，记\n",
    "    $$\\nabla\\cdot \\mathbf{a}=\\partial_1a_1+\\partial_2a_2+\\partial_3a_3$$\n",
    "       $$\\nabla\\times \\mathbf{a}=(\\partial_2a_3-\\partial_3a_2,\\partial_3a_1-\\partial_1a_3,\\partial_1a_2-\\partial_2a_1)$$\n",
    "   \n",
    "4. 我们定义非点乘、非叉乘的<font color=blue>“依次求导”</font> $$\\nabla\\mathbf{a}=(\\partial_1a_1,\\partial_2a_2,\\partial_3a_3)$$对于函数$f$, 我们记向量 $\\mathbf{f}=(f,f,f)$, 并定义$\\nabla f=\\nabla \\mathbf{f}$。所以$\\nabla$既可以直接作用在（函）数上，也可以作用在向量（值函数）上，都得到向量值函数。\n",
    "\n",
    "4. 稍作小结，$\\nabla\\cdot$ 把向量变成数，$\\nabla\\times$ 把向量变成向量，$\\nabla$ 把向量变成向量，把数也变成向量。"
   ]
  },
  {
   "cell_type": "markdown",
   "id": "74a89c3a-dc04-4d19-817d-fa8f08732e30",
   "metadata": {},
   "source": [
    "5. “依次求导”满足莱布尼茨法则\n",
    "      $$\\nabla(ab)=(\\nabla a) b+a(\\nabla b)$$\n",
    "   $$\\nabla(\\mathbf{a\\cdot b})=\\nabla \\mathbf{a}\\cdot  \\mathbf{b}+\\mathbf{a}\\cdot \\nabla \\mathbf{b}$$\n",
    "      $$\\nabla(\\mathbf{a\\times b})=(\\nabla\\mathbf{a})\\times\\mathbf{b}+\\mathbf{a}\\times(\\nabla \\mathbf{b})$$\n",
    "      $$\\nabla(\\mathbf{a} b)=(\\nabla\\mathbf{a})b+\\mathbf{a}\\cdot(\\nabla b)$$\n",
    "      "
   ]
  },
  {
   "cell_type": "markdown",
   "id": "aabedcb6-5565-4a01-ac07-07d54ba90f26",
   "metadata": {},
   "source": [
    "6. 算子点乘满足以下法则（你能看出其规律吗？）\n",
    "   $$\\nabla\\cdot (\\mathbf{a}b)=(\\nabla\\mathbf{a})b+\\mathbf{a}\\cdot(\\nabla b)$$\n",
    "\n",
    "   $$\\nabla\\cdot (\\mathbf{a\\times b})=(\\nabla\\times\\mathbf{a})\\cdot\\mathbf{b}-\\mathbf{a}\\cdot(\\nabla\\times\\mathbf{b})$$\n",
    "7. 算子叉乘满足以下法则（你能看出其规律吗？）\n",
    "   $$\\nabla\\times(\\mathbf{a}b)=(\\nabla\\times \\mathbf{a})b -\\mathbf{a}\\times\\nabla b$$\n",
    "   $$\\nabla\\times(\\mathbf{a\\times b})=((\\nabla\\mathbf{a})\\cdot\\mathbf{b}-\\mathbf{a}\\cdot(\\nabla\\mathbf{b}))-((\\nabla\\cdot\\mathbf{a})\\mathbf{b}-\\mathbf{a}(\\nabla\\cdot\\mathbf{b}))$$"
   ]
  },
  {
   "cell_type": "markdown",
   "id": "0dc274ce-df65-4604-9e16-3c24f0af93f9",
   "metadata": {},
   "source": [
    "<font color=red> https://zhuanlan.zhihu.com/p/52834609</font>"
   ]
  },
  {
   "cell_type": "markdown",
   "id": "49888476-9392-4744-872d-7893abc62dd0",
   "metadata": {},
   "source": [
    "8. 以上是算子的一阶导，对于算子二阶导，我们有\n",
    "   $$\\nabla\\cdot(\\nabla\\times \\mathbf{a})=0$$\n",
    "   $$\\nabla\\times(\\nabla a)=0$$\n",
    "   但请注意第二个算式一般不成立：$$\\nabla\\times(\\nabla \\mathbf{a})=\\nabla\\times(\\partial_1a_1,\\partial_2a_2,\\partial_3a_3)$$\n",
    "   $$=(\\partial_{23}a_3-\\partial_{32}a_2,...)\\neq\\mathbf{0}$$"
   ]
  }
 ],
 "metadata": {
  "kernelspec": {
   "display_name": "Python 3 (ipykernel)",
   "language": "python",
   "name": "python3"
  },
  "language_info": {
   "codemirror_mode": {
    "name": "ipython",
    "version": 3
   },
   "file_extension": ".py",
   "mimetype": "text/x-python",
   "name": "python",
   "nbconvert_exporter": "python",
   "pygments_lexer": "ipython3",
   "version": "3.12.8"
  }
 },
 "nbformat": 4,
 "nbformat_minor": 5
}

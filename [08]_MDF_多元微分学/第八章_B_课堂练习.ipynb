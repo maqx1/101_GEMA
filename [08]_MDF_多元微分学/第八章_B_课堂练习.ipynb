{
 "cells": [
  {
   "cell_type": "markdown",
   "id": "59bce6a1-eccc-4a86-8ca6-930d9d9fac5c",
   "metadata": {},
   "source": [
    "## 03月25日_课堂练习"
   ]
  },
  {
   "cell_type": "markdown",
   "id": "b8a96653-ad67-4541-a081-89ce7f221b1a",
   "metadata": {},
   "source": [
    "### 1. 自测：多元函数的极限与连续性"
   ]
  },
  {
   "cell_type": "markdown",
   "id": "66522f43-e5ef-4cab-82f9-a9a15087048d",
   "metadata": {},
   "source": [
    "1. 当$(x,y)\\to(0,0)$时，以下极限是否存在\n",
    "   - $$\\frac{xy}{\\sqrt{x+y+1}-1}$$\n",
    "   - $$\\frac{x^2y^2}{x^2+y^6}$$"
   ]
  },
  {
   "cell_type": "markdown",
   "id": "da166b85-71c8-46f8-93bd-4f6d39dceb75",
   "metadata": {},
   "source": [
    "2. 设$$f(x,y)=\\left\\{\\begin{array}{rc}x\\sin \\frac{1}{y}+y\\sin\\frac{1}{x},&\\ xy\\neq 0\\\\\n",
    "0,&\\ xy=0\\end{array}\\right.$$\n",
    "问函数\n",
    "- 在 $(0,0)$ 的极限是否存在？\n",
    "- 在 $(0,0)$ 的两个累次极限是否存在？\n"
   ]
  },
  {
   "cell_type": "markdown",
   "id": "f864b5f0-514e-4d76-8652-46bd942df7fc",
   "metadata": {},
   "source": [
    "3. 下列极限是否存在，若存在，请计算\n",
    "   - 标准解法 $$\\lim_{(x,y)\\to(0,0)}\\frac{\\ln(1+\\sin 2(x^2+y^2))}{x^2+y^2}$$\n",
    "   - 指数降幂 $$\\lim_{(x,y)\\to(0,0)}(x^2+y^2)^{2x^2y^2}$$\n",
    "   - 夹逼性质 $$\\lim_{x\\to+\\infty,y\\to+\\infty}(x^2+y^2)e^{-x-y}$$"
   ]
  },
  {
   "cell_type": "markdown",
   "id": "538920c0-d91f-427a-a6f4-74e9f838b472",
   "metadata": {},
   "source": [
    "4. 问下列函数在$(0,0)$极限是否存在\n",
    "   - $$\\frac{x^3-xy^2}{x^2+y^2}$$\n",
    "   - $$\\frac{x^3-y^2}{x^2+y^2}$$\n",
    "   - \n",
    "- 问下列函数在$(0,0)$极限是否存在\n",
    "   - 提示：根据出问题的“临界点”找趋近轨线 $$\\lim_{(x,y)\\to(0,0)}\\frac{e^{-\\frac{1}{x^2}-\\frac{1}{y}}}{x^2}$$"
   ]
  },
  {
   "cell_type": "markdown",
   "id": "ecbe71e1-1321-4816-93d6-db232247aaf8",
   "metadata": {},
   "source": [
    "5. 以下累次极限是否存在，若是，请求值 $\\lim_{x\\to 0+}\\left(\\lim_{y\\to +\\infty}f(x,y)\\right)$, $\\lim_{y\\to +\\infty}\\left(\\lim_{x\\to 0+}f(x,y)\\right)$ $$f(x,y)=\\frac{y}{1+xy}-\\frac{1-y\\sin\\frac{\\pi x}{y}}{\\arctan x}$$"
   ]
  },
  {
   "cell_type": "markdown",
   "id": "efbdf124-7f62-41d5-a9e3-637ab1056646",
   "metadata": {},
   "source": [
    "### 2. 自测：多元函数的偏导数\n"
   ]
  },
  {
   "cell_type": "markdown",
   "id": "a7d314c0-f54e-48f1-91d2-6f5ba6f7421d",
   "metadata": {},
   "source": [
    "1. 求 $\\frac{\\partial u}{\\partial x}$, $\\frac{\\partial x}{\\partial u}$ $$u=z^{(x^y)}$$"
   ]
  },
  {
   "cell_type": "markdown",
   "id": "1ecc56d6-a73f-4ce1-b72f-4420b36257e1",
   "metadata": {},
   "source": [
    "- $\\left(\\ln u=x^y\\ln z \\right)\\Rightarrow\\left( \\frac{1}{u}=yx^{y-1}\\cdot\\frac{\\partial x}{\\partial u}\\cdot\\ln z\\right)\\Rightarrow\\left(\\frac{1}{u\\cdot yx^{y-1}\\cdot \\ln z}=\\frac{\\partial x}{\\partial u}\\right)$"
   ]
  },
  {
   "cell_type": "markdown",
   "id": "a4f8499f-10a7-4284-a8b0-f34309ed37f4",
   "metadata": {},
   "source": [
    "2. <font color=red>**简便算法**</font>：设$$f(x,y)=x\\arctan (x+y)+\\sin (yx^x)\\ln(1+x^2+y^2)$$ 求$f'_x(0,0)$"
   ]
  },
  {
   "cell_type": "markdown",
   "id": "6810968e-1681-4483-a351-0bc8ff24dd82",
   "metadata": {},
   "source": [
    "求定点偏导数的值，由偏导数的<font color=red>**定义**</font>，可以先代入$y$再计算！"
   ]
  },
  {
   "cell_type": "markdown",
   "id": "eed7bcb3-3b56-49c4-a350-533589652bc9",
   "metadata": {},
   "source": [
    "3. 求 $$f(x,y)=y\\arctan \\frac{1}{\\sqrt{x^2+y^2}}$$ 在$(0,0)$的连续性，可偏导性，<font color=red>可微性</font>。\n",
    "   可微性解题步骤：\n",
    "   - 1. 先由偏导求出线性增量，\n",
    "   - 2. 将函数与线性部分的差$\\epsilon$与距离$\\sqrt{x^2+y^2}$的比值取极限，转化为函数极限问题。"
   ]
  },
  {
   "cell_type": "markdown",
   "id": "777fdffd-4466-481b-bc79-e1c56d966096",
   "metadata": {},
   "source": [
    "## 03月27日_课堂练习"
   ]
  },
  {
   "cell_type": "markdown",
   "id": "eadeb1fa-e72f-4faa-9dea-32d559d62f0b",
   "metadata": {},
   "source": [
    "1. 已知二元函数$f(x,y)$满足$$f_{xx}''(x,y)=3x^2y,\\ f_x'(0,y)=\\cos y,\\ f(0,y)=\\sin y$$\n",
    "   求$f(x,y)$。（提示：对于固定 $y$ ,解常微分方程得到常数 $C$, 当 $C$ 变动时，得到什么？$y$ 的函数【皇甫老师上周习题课：例6】）"
   ]
  },
  {
   "cell_type": "markdown",
   "id": "2ed67c4e-23a6-4a23-9ddc-77c1275448c5",
   "metadata": {},
   "source": [
    "2. 已知二元函数$f(x,y)$ 满足$$f'_x(x,y)=-\\sin y+\\frac{1}{1-xy},\\ f(0,y)=2\\sin y+y^2$$求$f(x,y)$"
   ]
  },
  {
   "cell_type": "markdown",
   "id": "2a7b563e-c79b-419b-9c41-390fed0d0c29",
   "metadata": {},
   "source": [
    "3. 设 $f$ 是光滑函数 $$u=f(\\ln \\sqrt{x^2+y^2})$$且满足方程$$u''_{xx}+u''_{yy}=(x^2+y^2)^{3/2}$$求$f$"
   ]
  },
  {
   "cell_type": "markdown",
   "id": "a6b2a432-e9a2-4922-bfc1-a7761e8e6186",
   "metadata": {},
   "source": [
    "4. 设$f$是光滑函数$$u=f(\\sqrt{x^2+y^2+z^2})$$若$$u''_{xx}+u''_{yy}+u''_{zz}=0$$且$f(1)=-1,f'(1)=1$求$f$."
   ]
  },
  {
   "cell_type": "markdown",
   "id": "1e809b67-8f4a-4a1a-a8df-21a9e8a3f1a6",
   "metadata": {},
   "source": [
    "## 04月01日_课堂练习"
   ]
  },
  {
   "cell_type": "markdown",
   "id": "044f11ad-1f58-4435-80be-3a0077e5b678",
   "metadata": {
    "jp-MarkdownHeadingCollapsed": true
   },
   "source": [
    "#### 1. 设 $u=f(x,y,z)$, $g(\\sin x, e^y,z)=0$,$y=x^3$, 其中 $f,g$ 光滑，且$\\frac{\\partial g}{\\partial z}\\neq 0$, 求$\\frac{\\mathrm{d}u}{\\mathrm{d}x}$"
   ]
  },
  {
   "cell_type": "markdown",
   "id": "227ce39c-034b-4186-9a8f-83ceeba30a46",
   "metadata": {},
   "source": [
    "- 思考：题目最后写错了吗？为什么是$$\\frac{\\mathrm{d}u}{\\mathrm{d}x}$$而不是$$\\frac{\\partial u}{\\partial x}?$$"
   ]
  },
  {
   "cell_type": "markdown",
   "id": "2a178179-4163-487e-8418-a00e820e9740",
   "metadata": {},
   "source": [
    "- 为理解问题，我们画出函数关系图$$u\\leftarrow (x,y,z),\\ y\\leftarrow x,\\ \\ (g?)$$"
   ]
  },
  {
   "cell_type": "markdown",
   "id": "4d3d8246-07f2-4060-83a9-509584844d6d",
   "metadata": {},
   "source": [
    "- 我们知道$g$的约束，让$x,y,z$两个可以退出剩下一个，再结合$y\\leftarrow x$，我们得到$u\\leftarrow x$."
   ]
  },
  {
   "cell_type": "markdown",
   "id": "7a9658cc-b8fc-4e5a-8c4a-b031c35f4dfc",
   "metadata": {
    "jp-MarkdownHeadingCollapsed": true
   },
   "source": [
    "#### 2. 已知函数 $z=z(x,y)$ 由方程 $x^2+y^2+h^2(z)=1$ 确定，其中$h$光滑，且$h\\neq0,h'\\neq0$, 求$z''_{xy}$"
   ]
  },
  {
   "cell_type": "markdown",
   "id": "2ebafe95-de08-4a16-a325-4b84b2aad0bb",
   "metadata": {},
   "source": [
    "- 先对$y$求导得到$$2y+2h(z)h'(z)z'_y=0$$"
   ]
  },
  {
   "cell_type": "markdown",
   "id": "c5cc2903-b646-4c5e-aaab-98b2fde2735d",
   "metadata": {},
   "source": [
    "- 整理得到$$z'_y=-\\frac{y}{h(z)h'(z)}$$"
   ]
  },
  {
   "cell_type": "markdown",
   "id": "13d88be7-e978-4b7b-ac6f-775c24f9ec94",
   "metadata": {},
   "source": [
    "- 再次求导得到$$z''_{xy}=-\\frac{0-yh'(z)z'_xh'(z)-yh(z)h''(z)z'_x}{(h(z)h'(z))^2}=\\frac{[h'(z)]^2+h(z)h''(z)}{(h(z)h'(z))^2}yz'_x$$"
   ]
  },
  {
   "cell_type": "markdown",
   "id": "be2931e0-2391-49ef-b139-eed624b08775",
   "metadata": {},
   "source": [
    "- 注意，这个结果不令人满意，因为$z$是由$x,y,h$唯一确定的，因此表达式中<font color=red>不应该</font>再含有$z$!\n",
    "- 思考：如何用$x,y,h$表示$z_x'$?"
   ]
  },
  {
   "cell_type": "markdown",
   "id": "7d0a2703-29a4-48af-a48c-5f43bd932851",
   "metadata": {
    "jp-MarkdownHeadingCollapsed": true
   },
   "source": [
    "#### 3. 设 $z=z(x,y)$ 由连续偏导数（思考：这是什么意思？），证明$z=f(x/y)$ 的充分必要条件是$$x\\frac{\\partial z}{\\partial x}+y\\frac{\\partial{z}}{\\partial y}=0$$"
   ]
  },
  {
   "cell_type": "markdown",
   "id": "ebaf4475-8ca7-46f9-9f1a-15ec1f5f2619",
   "metadata": {},
   "source": [
    "- 我们希望把$z$表示为$x/y,y$的函数，在证明关于$y$的偏导为$0$，那么$z$就是关于$x/y$的函数了。问题是：<font color=red>怎么把话说清楚</font>？"
   ]
  },
  {
   "cell_type": "markdown",
   "id": "a0bd5ef0-2119-43f1-8b90-3d575634940f",
   "metadata": {},
   "source": [
    "- 画函数结构图：$z\\leftarrow x,y\\leftarrow u,v$, 其中$u=x/y,v=y$"
   ]
  },
  {
   "cell_type": "markdown",
   "id": "06b6d145-821a-402f-91eb-b99bcfa10828",
   "metadata": {},
   "source": [
    "  代入$f_v=0$, 得到$f_y+f_u\\frac{x}{y^2}=0$,再代入$f_u=yf_x$得到$$f_y+f_x\\frac{x}{y}=0$$"
   ]
  },
  {
   "cell_type": "markdown",
   "id": "d0cf45ef-7733-459c-aff9-9c2a24506301",
   "metadata": {},
   "source": [
    "- 那么所求等价条件即为$f_v=0$，我们套用方程变量代换方法：\n",
    "  - 第一步，准备步骤：终变$(x,y)$对初变$(u,v)$, $x=uv,y=v$\n",
    "  $$x_u=v,y_u=0,x_v=u,y_v=1$$\n",
    "  - 第二步：终变表初函$$f(u,v)=f(x/y,y)$$\n",
    "  - 第三步：初函链初变$$f_u=f_xx_u+f_yy_u,\\ \\ f_v=f_xx_v+f_yy_v$$\n",
    "  - 第四步：初变全不见\n",
    "    - 先把第一步的换元代入 $$f_u=f_xv,\\ \\ f_v=f_xu+f_y$$\n",
    "    - 再把变量换元代数 $$f_u=f_xy,\\ \\ f_v=f_xx/y+f_y$$\n",
    "    - 要等价变形的方程，即第二个方程$f_v=0$变成$$xf_x+yf_y=0$$"
   ]
  },
  {
   "cell_type": "markdown",
   "id": "4c4a2ced-2040-4eac-bc30-7f29c82a60b9",
   "metadata": {},
   "source": [
    "这个问题中，需要明确$u,v$是初始变量，而$x,y$是需要得到的变量。因为我们要把\"$f$是$u$的函数，与$v$无关\"翻译成条件$f_v=0$，这是我们推理的起始点。\n",
    "\n",
    "而不是说，题干里有什么，什么就说初始变量。"
   ]
  },
  {
   "cell_type": "markdown",
   "id": "968ef0c4-5700-46e6-af06-26d5c08e3dea",
   "metadata": {
    "jp-MarkdownHeadingCollapsed": true
   },
   "source": [
    "#### 4. 如果定义在 $\\mathbb{R}^3$ 上的三元函数 $f(x,y,z)$ 满足：对于任意$(x,y,z)$以及正实数$t$, $$f(tx,ty,tz)=t^nf(x,y,z)$$则称$f$是$n$次齐次函数，证明三元光滑函数是$n$次齐次函数的充要条件是$$xf_x+yf_y+zf_z=nf$$"
   ]
  },
  {
   "cell_type": "markdown",
   "id": "00d2053a-eb85-4b3e-ac71-84ab201fb60e",
   "metadata": {},
   "source": [
    "- 我们注意到，问题等价于$\\frac{f(x,y,z)}{z^n}=f(x/z,y/z)$与$z$无关。"
   ]
  },
  {
   "cell_type": "markdown",
   "id": "8c9eb481-3fe1-4e66-8d91-e17796dee628",
   "metadata": {},
   "source": [
    "- 初始变量就是$u=x/z,v=y/z,w=z$, 初始函数$\\frac{f(u,v,w)}{w^n}$，给定条件为 $f_w=0$\n",
    "- 作为练习，请重复上题步骤对方程进行变量代换。"
   ]
  },
  {
   "cell_type": "markdown",
   "id": "ef347d1e-15ae-4947-a046-c837e13845e5",
   "metadata": {
    "jp-MarkdownHeadingCollapsed": true
   },
   "source": [
    "#### 5. 引入新变量 $u=x-at,v=x+at$ 解波动方程 $$z''_{tt}=a^2z''_{xx}, (a>0)$$"
   ]
  },
  {
   "cell_type": "markdown",
   "id": "afdff427-4c65-48ee-9f22-fda5aabdd337",
   "metadata": {},
   "source": [
    "- 这道题目初始变量就说$x,t$, 终变量是$u,v$\n",
    "  - 第一步，终变对初变$$u_x=1,v_x=1,u_t=-a,v_t=a$$\n",
    "  - 第二步，终变表初函$$z(x,t)=z\\left(\\frac{u+v}{2},\\frac{v-u}{2a}\\right)$$\n",
    "  - 第三步，初函链初变$$z_x=z_uu_x+z_vv_x,\\ z_t=z_uu_t+z_vv_t$$整理得到$$z_x=z_u+z_v,\\ z_t=-az_u+az_v$$继续链式法则$$z_{xx}=z_{uu}u_x+z_{vu}v_x+z_{uv}u_x+z_{vv}v_x,\\ \\ z_{tt}=-az_{uu}u_t-az_{vu}v_t+az_{uv}u_t+az_{vv}v_t$$整理得到\n",
    "$$z_{xx}=z_{uu}+2z_{vu}+z_{vv},\\ z_{tt}=a^2z_{uu}-2a^2z_{vu}+a^2z_{vv}$$\n",
    "  - 第四步，初变全不见$$z''_{tt}=a^2z''_{xx}$$代入得到$$z_{vu}=0$$对$v$积分得到$z_u=f(u)$, 再积分得到$$z=\\int f(u)+C(v)=\\phi(u)+\\psi(v)$$\n",
    "  - 最后变量回代得到$$z(x,y)=\\phi(x-at)+\\psi(x+at)$$这个解有什么含义（提示：一维波动方程）"
   ]
  },
  {
   "cell_type": "markdown",
   "id": "f2313ae0-c8e6-49f5-b1dc-7bf3137d915c",
   "metadata": {},
   "source": [
    "#### 6. 求方程在第一象限的光滑解：已知方程 $$x^2z''_{xx}+y^2z_{yy}=0$$ 做变换 $u=xy,v=x/y$ 变为 $$\\frac{z''_{vu}}{z'_v}=\\frac{1}{2u}$$"
   ]
  },
  {
   "cell_type": "markdown",
   "id": "a397e86c-5924-4472-a9d7-c7f0d20215d9",
   "metadata": {},
   "source": [
    "- 令$w=z'_v$, 则$$w'/w=\\frac{1}{2u},$$ 积分得 $$\\ln w=\\frac{1}{2}\\ln u+C,$$ 整理得 $$w=C(v)\\sqrt{u}.$$\n",
    "- $z_v'=C(v)\\sqrt{u}$，再积分得 $$z=\\sqrt{u}\\int C(v)+D(u)$$其中$C,D$任取。例如$C=1,D=2e^u$ 得到 $z=v\\sqrt{u}+2e^u=\\sqrt{x^3/y}+2e^{xy}$"
   ]
  },
  {
   "cell_type": "markdown",
   "id": "b6e08f08-bca3-48bf-ad76-0f8944c8cb2d",
   "metadata": {},
   "source": [
    "#### 7. 用变换$x=u,y=\\frac{u}{1+uv},z=\\frac{u}{1+uw}$对方程换元表示为未知量$w$的方程$$x^2z_x+y^2z_y=z^2$$"
   ]
  },
  {
   "cell_type": "markdown",
   "id": "3cb13ef6-eca0-458c-8aa1-c1f5f1542144",
   "metadata": {},
   "source": [
    "初始变量是$x,y,z$, 终变量是$$u=x,v=\\frac{1}{y}-\\frac{1}{x},w=\\frac{1}{z}-\\frac{1}{x}$$"
   ]
  },
  {
   "cell_type": "markdown",
   "id": "f4bc829b-4d7a-4bb0-aeef-64ba08a0ff67",
   "metadata": {},
   "source": [
    "1. 终变对初变，这里似乎有九项，全写出来有点多，我们也可以先列个表，待会儿要用哪个再算哪个\n",
    "   $$u_x=1\\ \\ \\ u_y=0\\ \\ \\ u_z=0$$$$v_x=\\frac{1}{x^2}\\ \\ \\ v_y=-\\frac{1}{y^2}\\ \\ \\ v_z=0$$$$w_x=\\frac{1}{x^2}\\ \\ \\ w_y=0\\ \\ \\ w_z=-\\frac{1}{z^2}$$"
   ]
  },
  {
   "cell_type": "markdown",
   "id": "d0dde45f-5758-48c5-9f3c-af8ea233d146",
   "metadata": {},
   "source": [
    "2. 终变表初函，先用初始变量表示终函数$$z(x,y,z)=z(u,v,w)$$"
   ]
  },
  {
   "cell_type": "markdown",
   "id": "5758ca84-2057-489e-ac3c-fc250c43d78a",
   "metadata": {},
   "source": [
    "3. 初函链初变，$$z_x=z_uu_x+z_vv_x+z_ww_x$$$$z_y=z_uu_y+z_vv_y+z_ww_y$$"
   ]
  },
  {
   "cell_type": "markdown",
   "id": "bc2f8f86-4d69-4885-998f-54c84be4580e",
   "metadata": {},
   "source": [
    "4. 初变全不见,\n",
    " - 为计算我们只需要前两列，代入得到$$z_x=z_u+z_v\\frac{1}{x^2}+z_w\\frac{1}{x^2}, z_y=-z_v\\frac{1}{y^2}$$\n",
    " - 步骤一代入原方程得到$$x^2z_u+z_w=z^2$$\n",
    " - 再把变量回代$$u^2z_u+z_w=\\frac{u^2}{(1+uw)^2}$$"
   ]
  },
  {
   "cell_type": "markdown",
   "id": "dd561d2f-9321-4f87-b469-589369e80eec",
   "metadata": {},
   "source": [
    "**思考**：好像不太对，方程变换后变复杂了，问题出在哪里了？请回顾上述步骤。"
   ]
  },
  {
   "cell_type": "markdown",
   "id": "9e7a4528-54ab-4ce0-b784-5b4754d89a47",
   "metadata": {},
   "source": [
    "### 问题出在第一步，没有分清<font color=red>**到底谁是变量**</font>。"
   ]
  },
  {
   "cell_type": "markdown",
   "id": "2c0cacb5-0243-4f90-9c66-43d609fe9295",
   "metadata": {},
   "source": [
    "表达式 $x=u,y=\\frac{u}{1+uv},z=\\frac{u}{1+uw}$ 很容易让人认为，原变量$x,y,z$换成了变量$u,v,w$，但且慢，看方程是一个关于$x,y$的方程，**知量是$z$**! 第三个表达式$z=\\frac{u}{1+uw}$ 只是告诉我们$w=\\frac{1}{z(x,y)}-\\frac{1}{x}$，是一个新的关于$x,y$的函数！"
   ]
  },
  {
   "cell_type": "markdown",
   "id": "61ec227c-74bd-4979-a190-357956059cdf",
   "metadata": {},
   "source": [
    "- 我们重新整理初始变量$x,y$, 终变量$u,v$, 初始函数$z$，终函数$w(u,v)=\\frac{1}{z(u,v)}-\\frac{1}{u}$"
   ]
  },
  {
   "cell_type": "markdown",
   "id": "4fa59f4f-6a0f-4782-9d13-aa920b82c309",
   "metadata": {},
   "source": [
    "- 第一步：终变对初变$$u_x=1\\ \\ \\ u_y=0$$$$v_x=\\frac{1}{x^2}\\ \\ \\ v_y=-\\frac{1}{y^2}$$\n",
    "  "
   ]
  },
  {
   "cell_type": "markdown",
   "id": "17d0e9f3-6102-4d05-9bbd-155c515bcf69",
   "metadata": {},
   "source": [
    "- 第二步：终变表初函 $z=z(u,v)$\n",
    "  $$z=\\frac{u}{1+uw(u,v)}$$"
   ]
  },
  {
   "cell_type": "markdown",
   "id": "bb8ad670-8004-4005-b3c9-9982190706f0",
   "metadata": {},
   "source": [
    "- 第三步：初函链初变 $$z_x=z_uu_x+z_vv_x,\\ \\ z_y=z_uu_y+z_vv_y$$\n",
    " $$z_x=\\frac{1+uw-u(w+uw'_u)}{(1+uw)^2}\\cdot1+\\frac{-u^2w'_v}{(1+uw)^2}\\frac{1}{x^2}$$ $$z_y=\\frac{u^2w'_v}{(1+uw)^2}\\frac{1}{y^2}$$"
   ]
  },
  {
   "cell_type": "markdown",
   "id": "ae658eb0-6fb7-4fc0-a045-a904cadfc5dd",
   "metadata": {},
   "source": [
    "- 第四步：初变全不见$$x^2z'_{x}+y^2z'_{y}=z^2$$"
   ]
  },
  {
   "cell_type": "markdown",
   "id": "44ea3872-7a95-4c23-9e83-da006103c177",
   "metadata": {},
   "source": [
    "$$x^2\\frac{1+uw-u(w+uw'_u)}{(1+uw)^2}=\\frac{u^2}{(1+uw)^2}$$"
   ]
  },
  {
   "cell_type": "markdown",
   "id": "983d25ca-93fa-4ba2-b170-767f42e4ca83",
   "metadata": {},
   "source": [
    "$$w'_u=0$$"
   ]
  },
  {
   "cell_type": "markdown",
   "id": "18322d59-3cf2-4288-9405-1727b3292861",
   "metadata": {},
   "source": [
    "从而$w=f(v)$, 进一步解得原偏微分方程 $$z(x,y)=\\frac{x}{1+xf(\\frac{1}{y}-\\frac{1}{x})}$$"
   ]
  },
  {
   "cell_type": "markdown",
   "id": "f52fbc81-f13f-4bb1-8d4b-455491454c16",
   "metadata": {},
   "source": [
    "**思考**: 如果$(u,v),(x,y)$是隐函数关系，不能用明确表达式反解出，怎么办？（提示：一样办，因为隐函数关系虽然用初等函数写不出来，但仍然是被唯一固定的。）"
   ]
  },
  {
   "cell_type": "code",
   "execution_count": null,
   "id": "15e0c7b0-18ef-4425-82d2-67e26f45e0e8",
   "metadata": {},
   "outputs": [],
   "source": []
  }
 ],
 "metadata": {
  "kernelspec": {
   "display_name": "Python 3 (ipykernel)",
   "language": "python",
   "name": "python3"
  },
  "language_info": {
   "codemirror_mode": {
    "name": "ipython",
    "version": 3
   },
   "file_extension": ".py",
   "mimetype": "text/x-python",
   "name": "python",
   "nbconvert_exporter": "python",
   "pygments_lexer": "ipython3",
   "version": "3.12.8"
  }
 },
 "nbformat": 4,
 "nbformat_minor": 5
}

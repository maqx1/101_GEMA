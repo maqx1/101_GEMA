{
 "cells": [
  {
   "cell_type": "markdown",
   "id": "59bce6a1-eccc-4a86-8ca6-930d9d9fac5c",
   "metadata": {},
   "source": [
    "## 03月25日_课堂练习"
   ]
  },
  {
   "cell_type": "markdown",
   "id": "b8a96653-ad67-4541-a081-89ce7f221b1a",
   "metadata": {},
   "source": [
    "### 1. 自测：多元函数的极限与连续性"
   ]
  },
  {
   "cell_type": "markdown",
   "id": "66522f43-e5ef-4cab-82f9-a9a15087048d",
   "metadata": {},
   "source": [
    "1. 当$(x,y)\\to(0,0)$时，以下极限是否存在\n",
    "   - $$\\frac{xy}{\\sqrt{x+y+1}-1}$$\n",
    "   - $$\\frac{x^2y^2}{x^2+y^6}$$"
   ]
  },
  {
   "cell_type": "markdown",
   "id": "da166b85-71c8-46f8-93bd-4f6d39dceb75",
   "metadata": {},
   "source": [
    "2. 设$$f(x,y)=\\left\\{\\begin{array}{rc}x\\sin \\frac{1}{y}+y\\sin\\frac{1}{x},&\\ xy\\neq 0\\\\\n",
    "0,&\\ xy=0\\end{array}\\right.$$\n",
    "问函数\n",
    "- 在 $(0,0)$ 的极限是否存在？\n",
    "- 在 $(0,0)$ 的两个累次极限是否存在？\n"
   ]
  },
  {
   "cell_type": "markdown",
   "id": "f864b5f0-514e-4d76-8652-46bd942df7fc",
   "metadata": {},
   "source": [
    "3. 下列极限是否存在，若存在，请计算\n",
    "   - 标准解法 $$\\lim_{(x,y)\\to(0,0)}\\frac{\\ln(1+\\sin 2(x^2+y^2))}{x^2+y^2}$$\n",
    "   - 指数降幂 $$\\lim_{(x,y)\\to(0,0)}(x^2+y^2)^{2x^2y^2}$$\n",
    "   - 夹逼性质 $$\\lim_{x\\to+\\infty,y\\to+\\infty}(x^2+y^2)e^{-x-y}$$"
   ]
  },
  {
   "cell_type": "markdown",
   "id": "538920c0-d91f-427a-a6f4-74e9f838b472",
   "metadata": {},
   "source": [
    "4. 问下列函数在$(0,0)$极限是否存在\n",
    "   - $$\\frac{x^3-xy^2}{x^2+y^2}$$\n",
    "   - $$\\frac{x^3-y^2}{x^2+y^2}$$\n",
    "   - 根据出问题的“临界点”找趋近轨线 $$\\frac{e^{-\\frac{1}{x^2}-\\frac{1}{y}}}{x^2}$$"
   ]
  },
  {
   "cell_type": "markdown",
   "id": "ecbe71e1-1321-4816-93d6-db232247aaf8",
   "metadata": {},
   "source": [
    "5. 以下累次极限是否存在，若是，请求值 $\\lim_{x\\to 0+}\\left(\\lim_{y\\to +\\infty}f(x,y)\\right)$, $\\lim_{y\\to +\\infty}\\left(\\lim_{x\\to 0+}f(x,y)\\right)$ $$f(x,y)=\\frac{y}{1+xy}-\\frac{1-y\\sin\\frac{\\pi x}{y}}{\\arctan x}$$"
   ]
  },
  {
   "cell_type": "markdown",
   "id": "efbdf124-7f62-41d5-a9e3-637ab1056646",
   "metadata": {},
   "source": [
    "### 2. 自测：多元函数的偏导数\n"
   ]
  },
  {
   "cell_type": "markdown",
   "id": "a7d314c0-f54e-48f1-91d2-6f5ba6f7421d",
   "metadata": {},
   "source": [
    "1. 求 $\\frac{\\partial u}{\\partial x}$, $\\frac{\\partial x}{\\partial u}$ $$u=z^{(x^y)}$$"
   ]
  },
  {
   "cell_type": "markdown",
   "id": "1ecc56d6-a73f-4ce1-b72f-4420b36257e1",
   "metadata": {},
   "source": [
    "- $\\left(\\ln u=x^y\\ln z \\right)\\Rightarrow\\left( \\frac{1}{u}=yx^{y-1}\\cdot\\frac{\\partial x}{\\partial u}\\cdot\\ln z\\right)\\Rightarrow\\left(\\frac{1}{u\\cdot yx^{y-1}\\cdot \\ln z}=\\frac{\\partial x}{\\partial u}\\right)$"
   ]
  },
  {
   "cell_type": "markdown",
   "id": "a4f8499f-10a7-4284-a8b0-f34309ed37f4",
   "metadata": {},
   "source": [
    "2. <font color=red>**简便算法**</font>：设$$f(x,y)=x\\arctan (x+y)+\\sin (yx^x)\\ln(1+x^2+y^2)$$ 求$f'_x(0,0)$"
   ]
  },
  {
   "cell_type": "markdown",
   "id": "6810968e-1681-4483-a351-0bc8ff24dd82",
   "metadata": {},
   "source": [
    "求定点偏导数的值，由偏导数的<font color=red>**定义**</font>，可以先代入$y$再计算！"
   ]
  },
  {
   "cell_type": "markdown",
   "id": "eed7bcb3-3b56-49c4-a350-533589652bc9",
   "metadata": {},
   "source": [
    "3. 求 $$f(x,y)=y\\arctan \\frac{1}{\\sqrt{x^2+y^2}}$$ 在$(0,0)$的连续性，可偏导性，<font color=red>可微性</font>。\n",
    "   可微性解题步骤：\n",
    "   - 1. 先由偏导求出线性增量，\n",
    "   - 2. 将函数与线性部分的差$\\epsilon$与距离$\\sqrt{x^2+y^2}$的比值取极限，转化为函数极限问题。"
   ]
  },
  {
   "cell_type": "markdown",
   "id": "777fdffd-4466-481b-bc79-e1c56d966096",
   "metadata": {},
   "source": [
    "## 03月27日_课堂练习"
   ]
  },
  {
   "cell_type": "markdown",
   "id": "eadeb1fa-e72f-4faa-9dea-32d559d62f0b",
   "metadata": {},
   "source": [
    "1. 已知二元函数$f(x,y)$满足$$f_{xx}''(x,y)=3x^2y,\\ f_x'(0,y)=\\cos y,\\ f(0,y)=\\sin y$$\n",
    "   求$f(x,y)$。（提示：对于固定 $y$ ,解常微分方程得到常数 $C$, 当 $C$ 变动时，得到什么？$y$ 的函数）"
   ]
  },
  {
   "cell_type": "markdown",
   "id": "2ed67c4e-23a6-4a23-9ddc-77c1275448c5",
   "metadata": {},
   "source": [
    "2. 已知二元函数$f(x,y)$ 满足$$f'_x(x,y)=-\\sin y+\\frac{1}{1-xy},\\ f(0,y)=2\\sin y+y^2$$求$f(x,y)$"
   ]
  },
  {
   "cell_type": "markdown",
   "id": "2a7b563e-c79b-419b-9c41-390fed0d0c29",
   "metadata": {},
   "source": [
    "3. 设 $f$ 是光滑函数 $$u=f(\\ln \\sqrt{x^2+y^2})$$且满足方程$$u''_{xx}+u''_{yy}=(x^2+y^2)^{3/2}$$求$f$"
   ]
  },
  {
   "cell_type": "markdown",
   "id": "a6b2a432-e9a2-4922-bfc1-a7761e8e6186",
   "metadata": {},
   "source": [
    "4. 设$f$是光滑函数$$u=f(\\sqrt{x^2+y^2+z^2})$$若$$u''_{xx}+u''_{yy}+u''_{zz}=0$$且$f(1)=-1,f'(1)=1$求$f$."
   ]
  },
  {
   "cell_type": "markdown",
   "id": "1e809b67-8f4a-4a1a-a8df-21a9e8a3f1a6",
   "metadata": {},
   "source": [
    "## 04月01日_课堂练习"
   ]
  },
  {
   "cell_type": "markdown",
   "id": "c9442764-3626-4bc3-9100-dde4376deae1",
   "metadata": {},
   "source": [
    "### 1. 选择题"
   ]
  },
  {
   "cell_type": "markdown",
   "id": "7711249f-dcbb-446e-91f6-c0364ce0718f",
   "metadata": {
    "jp-MarkdownHeadingCollapsed": true
   },
   "source": [
    "#### 1. 已知 $(\\mathbf{a}\\times\\mathbf{b})\\cdot\\mathbf{c}=2$ 则\n",
    "$$[(\\mathbf{a}+\\mathbf{b})\\times(\\mathbf{b}+\\mathbf{c})]\\cdot(\\mathbf{c}+\\mathbf{a})=$$\n",
    "\n",
    "- (A) $$1$$\n",
    "- (B) $$-2$$\n",
    "- (C) $$-4$$\n",
    "- (D) $$4$$"
   ]
  },
  {
   "cell_type": "markdown",
   "id": "f6e5e4c0-a2f5-4ab1-877c-916ea32af13e",
   "metadata": {},
   "source": [
    "####  2. 已知$\\mathbf{a,b}$都是非零向量且非正交，若$|\\mathbf{a}|=1,|\\mathbf{b}|=2$, 且$\\mathbf{a-b},\\mathbf{a-2b}$正交，则$\\mathbf{a}$在$\\mathbf{b}$方向的投影长度$\\mathbf{a}_{\\mathbf{b}}$为\n",
    "- (A) $$2/3$$\n",
    "- (B) $$5/6$$\n",
    "- (C) $$3/2$$\n",
    "- (D) $$6/5$$"
   ]
  },
  {
   "cell_type": "markdown",
   "id": "79e9affa-d722-41a5-bedf-b2346f4b1bcb",
   "metadata": {},
   "source": [
    "#### 3. 平面 $2x+2y-z=1$ 与直线 $\\frac{x-2}{1}=\\frac{y-1}{2}=\\frac{z-2}{-2}$的夹角是\n",
    "\n",
    "- (A) $$\\arcsin\\frac{8}{9}$$\n",
    "- (B) $$\\arccos\\frac{8}{9}$$\n",
    "- (C) $$\\arcsin\\frac{4}{9}$$\n",
    "- (D) $$\\arccos\\frac{4}{9}$$"
   ]
  },
  {
   "cell_type": "markdown",
   "id": "4f642909-b293-4a3a-9f9e-3bebcf561bc7",
   "metadata": {},
   "source": [
    "#### 4. 点$(1,0,1)$到直线$\\left\\{\\begin{aligned}x-y=0\\\\ 3x-z=0\n",
    "\\end{aligned}\\right.$ 的距离$d=$\n",
    "\n",
    "- (A) $$\\frac{\\sqrt{66}}{11}$$\n",
    "- (B) $$\\frac{6}{11}$$\n",
    "- (C) $$\\frac{6\\sqrt{11}}{11}$$\n",
    "- (D) $$\\sqrt{6}$$"
   ]
  },
  {
   "cell_type": "markdown",
   "id": "ac4163b3-15ae-46ac-b0cd-ecb7ef4a4a8c",
   "metadata": {},
   "source": [
    "#### 5. 已知两条直线$$l_1:\\frac{x-1}{1}=\\frac{y-2}{0}=\\frac{z-3}{-1},$$$$l_2:\\frac{x+2}{2}=\\frac{y-1}{1}=\\frac{z}{1},$$则过$l_1$且平行于$l_2$的平面$\\pi$的法向量$\\mathbf{n}=$\n",
    "\n",
    "- (A) $$(-1,3,1)$$\n",
    "- (B) $$\\mathbf{i}-3\\mathbf{j}+\\mathbf{k}$$\n",
    "- (C) $$(-1,3,-1)$$\n",
    "- (D) $$\\mathbf{i}-3\\mathbf{j}-\\mathbf{k}$$"
   ]
  },
  {
   "cell_type": "markdown",
   "id": "24023cfe-3d2f-485b-a419-749640826729",
   "metadata": {},
   "source": [
    "#### 6. 以下四个方程中，表示旋转双叶双曲面的是\n",
    "\n",
    "- (A)$$4z=x^2+y^2$$\n",
    "- (B)$$x^2+y^2=4z^2+1$$\n",
    "- (C)$$x^2+y^2=4z^2-1$$\n",
    "- (D)$$x^2+y^2=4z^2$$"
   ]
  },
  {
   "cell_type": "markdown",
   "id": "e674a08f-0159-414c-a983-aa48aef72149",
   "metadata": {},
   "source": [
    "#### 7. 下列直线中，包含在平面 $x+y+z-3=0$ 中的是\n",
    "\n",
    "- (A)$$\\frac{x-1}{1}=\\frac{y+2}{-5}=\\frac{z-4}{4}$$\n",
    "- (B)$$\\frac{x+1}{1}=\\frac{y-1}{2}=\\frac{z+4}{4}$$\n",
    "- (C)$$\\frac{x-1}{1}=\\frac{y-1}{2}=\\frac{z-4}{4}$$\n",
    "- (D)$$\\frac{x-1}{1}=\\frac{y-1}{-1}=\\frac{z+4}{4}$$"
   ]
  },
  {
   "cell_type": "markdown",
   "id": "439efc55-2142-4b7a-b9b4-3b910c5ae285",
   "metadata": {},
   "source": [
    "#### 8. 点$(1,0,0)$关于平面$x+2y-z-7=0$对称点为\n",
    "\n",
    "- (A) $$(2,2,-1)$$\n",
    "- (B) $$(-1,6,-2)$$\n",
    "- (C) $$(-1,4,-6)$$\n",
    "- (D) $$(3,4,-2)$$"
   ]
  },
  {
   "cell_type": "markdown",
   "id": "8e9b1b40-ab3b-4e4c-8e18-4a7159286958",
   "metadata": {},
   "source": [
    "### 2. 填空题 "
   ]
  },
  {
   "cell_type": "markdown",
   "id": "8ffc9bbd-9c50-45fa-9dde-c851b3d4a680",
   "metadata": {},
   "source": [
    "#### 1. 若向量 $\\mathbf{x}$ 与$\\mathbf{a}=2\\mathbf{i}-\\mathbf{j}+2\\mathbf{k}$ 共线且满足$\\mathbf{a}\\cdot\\mathbf{x}=-18$, 则$\\mathbf{x}=\\underline{\\hspace{2cm}}$"
   ]
  },
  {
   "cell_type": "markdown",
   "id": "c5388192-b8ac-47e1-9ce8-f24612da3b5e",
   "metadata": {},
   "source": [
    "#### 2. 若直线$$\\frac{x-1}{1}=\\frac{y+1}{2}=\\frac{z-1}{\\lambda}$$与直线$$\\frac{x+1}{1}=\\frac{y-1}{1}=\\frac{z}{1}$$ 相交，则$\\lambda=\\underline{\\hspace{2cm}}$"
   ]
  },
  {
   "cell_type": "markdown",
   "id": "ebb51d74-5e3c-4361-a207-ed763c6b4201",
   "metadata": {},
   "source": [
    "#### 3. 一平面通过$y$ 轴，且点$(4,4,-2)$到该平面的距离等于$(4,4,-2)$到$z=0$的距离，则该平面方程为:$\\underline{\\hspace{2cm}}$"
   ]
  },
  {
   "cell_type": "markdown",
   "id": "2f396066-dedf-47e0-82a5-97f1cc1de9fe",
   "metadata": {},
   "source": [
    "#### 4. 直线$$l_1:\\frac{x-1}{-1}=\\frac{y}{-4}=\\frac{z+3}{1}$$ 和$$l_2:\\frac{x}{2}=\\frac{y+2}{-2}=\\frac{z}{-1}$$的夹角为$\\underline{\\hspace{2cm}}.$"
   ]
  },
  {
   "cell_type": "markdown",
   "id": "a8c8dcb5-981e-4bc9-abc4-b5be3f79263e",
   "metadata": {},
   "source": [
    "#### 5. 曲线 $\\left\\{\\begin{aligned}\n",
    "(x+2)^2-z^2=4\\\\\n",
    "(x-2)^2+y^2=4\n",
    "\\end{aligned}\\right.$ 在$yOz$坐标平面上的<font color=red>投影曲线</font>为$=\\underline{\\hspace{2cm}}.$"
   ]
  },
  {
   "cell_type": "markdown",
   "id": "c9489987-7f9d-451a-9433-8fa8dda1da7f",
   "metadata": {},
   "source": [
    "### 3. 计算题 "
   ]
  },
  {
   "cell_type": "markdown",
   "id": "57681bb2-6cc1-43fe-8039-70bed22a7d8b",
   "metadata": {},
   "source": [
    "#### 1. 已知平面$\\pi$ 过直线$$l_1:\\left\\{\\begin{aligned}x-y-2z+1&=0\\\\\n",
    "2y-2z+1&=0 \\end{aligned}\\right.$$且$\\pi$与直线$$\\frac{x}{-1}=\\frac{y+1}{1}=\\frac{z-2}{-1}$$ 的夹角为$\\arcsin\\frac{\\sqrt{6}}{3}$, 求平面$\\pi$的方程。"
   ]
  },
  {
   "cell_type": "markdown",
   "id": "522b8ab8-4664-4b8e-b7a3-0539846e83be",
   "metadata": {},
   "source": [
    "#### 2. 直线$$l_1:\\frac{x-4}{1}=\\frac{y-3}{-2}=\\frac{z-8}{1}$$上有一动点$P$, 直线 $$l_2:\\frac{x+1}{7}=\\frac{y+1}{-6}=\\frac{z+1}{6}$$ 上有两个动点$A,B$，且他们的距离为$|AB|=5$, 求三角形$APB$面积的最小值。"
   ]
  },
  {
   "cell_type": "markdown",
   "id": "4c9a78ea-4fb8-4d2b-987d-d55eecf3a399",
   "metadata": {},
   "source": [
    "#### 3. 设直线$\\frac{x}{0}=\\frac{y}{1}=\\frac{z}{1}$。动点$P(x,y,z)$到$l$的距离为$3$。（1）求动点轨迹方程，（2）若$P$在$xOy$平面上，且直线$OP$与$\\sqrt{3}x+\\sqrt{3}y+\\sqrt{2}z=\\sqrt{6}$夹角为$\\pi/3$, 求$P$的坐标。"
   ]
  },
  {
   "cell_type": "markdown",
   "id": "3bf6f0d6-3ffe-4ebc-8936-142132c3354b",
   "metadata": {},
   "source": [
    "#### 4. 已知直线 $l_1:\\left\\{\\begin{aligned}x+y&=0\\\\z+1&=0 \\end{aligned}\\right.$和 $l_2:\\left\\{\\begin{aligned}x-y&=0\\\\z-1&=0 \\end{aligned}\\right.$ （1）证明：$l_1,l_2$为异面直线，（2）求$l_1,l_2$的公垂线方程。"
   ]
  },
  {
   "cell_type": "markdown",
   "id": "a2965947-2871-44ee-a4d0-86fb77a89c27",
   "metadata": {},
   "source": [
    "#### 5. 求直线$$l_1:\\left\\{\\begin{aligned}x+2y-3z=2\\\\\n",
    "2x-y+z=3 \\end{aligned}\\right.$$在平面$z=1$上的投影直线$l$, 且求点$M_0(1,2,1)$到直线$l$的距离。"
   ]
  },
  {
   "cell_type": "markdown",
   "id": "17d41516-5139-4261-aae2-6548137f0adf",
   "metadata": {},
   "source": [
    "#### 6. 设$l_1:\\frac{x}{4}=\\frac{y}{1}=\\frac{z}{1}$, $l_2:\\left\\{\\begin{aligned}z-5x&=-6\\\\z-4y&=3\\end{aligned}\\right.$, $l_3:\\left\\{\\begin{aligned}y-2x&=3\\\\z-3y&=5\\end{aligned}\\right.，$求平行于直线$l_1$而分别于直线$l_2,l_3$相交的直线方程。"
   ]
  },
  {
   "cell_type": "markdown",
   "id": "7220934c-221d-424d-bf77-8f6af78d0709",
   "metadata": {},
   "source": [
    "<font color=red>注意</font>：这些题目，给足够长的时间，谁都能算出来，练习的目的是，找到快速、不容易出错的方法，自信地算出来。"
   ]
  }
 ],
 "metadata": {
  "kernelspec": {
   "display_name": "Python 3 (ipykernel)",
   "language": "python",
   "name": "python3"
  },
  "language_info": {
   "codemirror_mode": {
    "name": "ipython",
    "version": 3
   },
   "file_extension": ".py",
   "mimetype": "text/x-python",
   "name": "python",
   "nbconvert_exporter": "python",
   "pygments_lexer": "ipython3",
   "version": "3.12.8"
  }
 },
 "nbformat": 4,
 "nbformat_minor": 5
}

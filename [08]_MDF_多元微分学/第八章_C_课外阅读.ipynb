{
 "cells": [
  {
   "cell_type": "markdown",
   "id": "3d34b27c-f85c-460d-828b-4e095a6e3772",
   "metadata": {},
   "source": [
    "## 1. 可微映射的雅可比矩阵"
   ]
  },
  {
   "cell_type": "markdown",
   "id": "6e512db3-ecb2-4bb3-be8e-b5e7ed6af085",
   "metadata": {},
   "source": [
    "参考 [金路、徐惠平]高等数学同步辅导与复习提高（第三版） 5.4 节。"
   ]
  },
  {
   "cell_type": "markdown",
   "id": "b1a61e8c-4e86-4e7d-8391-0b47a3d130b7",
   "metadata": {},
   "source": [
    "## 2. 与机器学习的关系"
   ]
  },
  {
   "cell_type": "code",
   "execution_count": null,
   "id": "bef83ba7-4591-4a0a-ba73-72669726a220",
   "metadata": {},
   "outputs": [],
   "source": []
  }
 ],
 "metadata": {
  "kernelspec": {
   "display_name": "Python 3 (ipykernel)",
   "language": "python",
   "name": "python3"
  },
  "language_info": {
   "codemirror_mode": {
    "name": "ipython",
    "version": 3
   },
   "file_extension": ".py",
   "mimetype": "text/x-python",
   "name": "python",
   "nbconvert_exporter": "python",
   "pygments_lexer": "ipython3",
   "version": "3.12.0"
  }
 },
 "nbformat": 4,
 "nbformat_minor": 5
}

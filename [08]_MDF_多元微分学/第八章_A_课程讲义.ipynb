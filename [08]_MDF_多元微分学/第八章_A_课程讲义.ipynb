{
 "cells": [
  {
   "cell_type": "markdown",
   "id": "1f6cbf28-54f8-4882-8371-4c86ab2f23a3",
   "metadata": {},
   "source": [
    "# **内容梳理** "
   ]
  },
  {
   "cell_type": "markdown",
   "id": "97305c79-7e05-41b8-b151-42b57e34cce7",
   "metadata": {},
   "source": [
    "### [800] 第八章：《多元函数的微分学》"
   ]
  },
  {
   "cell_type": "markdown",
   "id": "1ae66db8-ab8a-4581-a610-721b644c703b",
   "metadata": {},
   "source": [
    "#### 一：代数部分（8.1-8.5）"
   ]
  },
  {
   "cell_type": "markdown",
   "id": "533daed5-113c-4183-841e-15683ba2432f",
   "metadata": {},
   "source": [
    "1. 多元函数的基本概念：$n$ 维空间的距离，（去心）$\\delta$-邻域，内点、外点、边界点。开集、闭集、开区域（连通的开集）、闭区域（连通的闭集是闭区域吗？）。\n",
    "2. 多元函数的极限与连续性：$\\epsilon-\\delta$ 语言描述重极限，连续性：极限=值，连续函数的性质（有界、最值、介值）。<font color=red>新内容</font>：重极限与累次极限的区别。\n",
    "3. 偏导数：偏导数的定义——差商的极限，高阶偏导。<font color=red>新内容</font>，难点：偏导数记号的含义。\n",
    "4. 全微分及其应用：微分的定义——与线性函数的差为距离的小量。<font color=red>新内容</font>，难点：可微、可偏导的关系。全微分作切平面，用于估算。\n",
    "6. 多元复合函数的微分法则：链导法则。<font color=red>新内容</font>，难点：明确哪些变量是中间变量。偏导数、全导数的概念辨析。<font color=red>难点</font>：隐函数存在定理的陈述，充分非必要性。<font color=red>重点</font>：线性逼近的思想，求偏导后解线性方程组。"
   ]
  },
  {
   "cell_type": "markdown",
   "id": "4c39f452-6a1d-4829-bf14-cebf317f35a6",
   "metadata": {},
   "source": [
    "#### 二：几何部分（8.6-8.9）"
   ]
  },
  {
   "cell_type": "markdown",
   "id": "a22076e8-f3ed-45c7-8f58-24f0b2cda145",
   "metadata": {},
   "source": [
    "6. 方向导数与梯度：方向导数的定义，<font color=red>重点</font>：与偏导数、方向角的关系。函数（数量场）在一点的梯度向量，梯度向量连成梯度场。<font color=red>梯度几何含义</font>：数量场下降最快的方向。\n",
    "7. 多元微分学在几何中的应用：空间曲线一点处：切线、法平面。曲面一点处：切平面、法线。法向量连续变化：光滑曲面。\n",
    "8. 二元泰勒公式与多元函数的极值：二元函数的泰勒展开，极值点的充分条件（一元函数的“二阶导”判别法升级多元函数的“二次型”判别法）。\n",
    "9. 条件极值——拉格朗日乘数法：<font color=red>重点</font>：理解其几何意义。严格来说，一般需要进一步判断驻点的局部性质，但若有唯一可能极值点，可以直接使用。"
   ]
  },
  {
   "cell_type": "markdown",
   "id": "c59eddc9-81c9-4053-a40f-5a5c3f7ffe66",
   "metadata": {
    "jp-MarkdownHeadingCollapsed": true
   },
   "source": [
    "### [801] <font color=red>代数部分最重要的一件事：</font>\n",
    "\n",
    "对多个变量的表达式，根据问题要求<font color=red>**识别未知量、参数**</font> （**例题 8.8**），对未知量给定排序。\n",
    "- 一元函数：给定表达式，变量没得好选。\n",
    "- 多元函数：同一个表达式，选不同的未知量，得不同的多元函数！"
   ]
  },
  {
   "cell_type": "markdown",
   "id": "91ed0c5d-6db4-4f7b-a9c8-0140663b6926",
   "metadata": {},
   "source": [
    "因此，对每个记号，需要明确到底是谁的函数。\n",
    "\n",
    "理想状态下，同一个表达式，如果选取的变量不同，最好用不同的字母表示。\n",
    "\n",
    "但现实生活中，<font color=red>为了节省表达资源，人们很少区分</font>，由此导致的<font color=red>混淆</font>，是本章的难点。\n",
    "\n",
    "- 例如 $f(x,y)=x-y$, 则$\\frac{\\partial f}{\\partial x}=1$。\n",
    "  如果令 $X=x,Y=x-y$, 则$f(X,Y)=Y$, 从而$\\frac{\\partial f}{\\partial X}=0$，那么 $f=f,X=x,0\\neq 1$问题出在哪里？\n",
    "  \n",
    "- 这里的记号 $f$ 产生了混淆，第一个函数把两个变量相加，第二个函数只取第一个变量，这是两个不同的函数，但是它们用了同一个记号。\n",
    " "
   ]
  },
  {
   "cell_type": "markdown",
   "id": "ced8a8e2-d4f4-4537-afed-eb55b68dc036",
   "metadata": {
    "jp-MarkdownHeadingCollapsed": true
   },
   "source": [
    "### [802] <font color=red>几何部分最重要的一件事：</font>\n",
    "\n",
    "理解：梯度是函数下降最快的方向。"
   ]
  },
  {
   "cell_type": "markdown",
   "id": "0495d904-808f-4294-9e1d-8e22bb40b622",
   "metadata": {},
   "source": [
    "# **课本导读**"
   ]
  },
  {
   "cell_type": "markdown",
   "id": "507b38d9-055c-4058-a16a-84d2b0939df8",
   "metadata": {},
   "source": [
    "## **1. 多元函数的基本概念**"
   ]
  },
  {
   "cell_type": "markdown",
   "id": "3ebb81d6-5bca-4acf-96ad-d611a718248f",
   "metadata": {},
   "source": [
    "### 1. 多元函数的表达式、定义域"
   ]
  },
  {
   "cell_type": "markdown",
   "id": "cd88ff1d-5164-4afd-96ea-98e36355fc03",
   "metadata": {},
   "source": [
    "   **书后习题:** **[C01],[C02],[C03],[C04],[C05]**\n",
    "\n",
    "  拿到多元函数表达式，需要\n",
    "  1. 正确识别其未知元、参数，\n",
    "  2. 之后的所有书写，都固定对未知元的排序（如同解线性方程组，写增广系数矩阵）"
   ]
  },
  {
   "cell_type": "markdown",
   "id": "bb14b823-8621-4744-8dcf-0158591c267b",
   "metadata": {},
   "source": [
    "### 2. $n$-维空间中的距离、邻域、开闭集、连通性 "
   ]
  },
  {
   "cell_type": "markdown",
   "id": "c89923b3-8d41-43b8-b2ea-13ddb804fd19",
   "metadata": {},
   "source": [
    "这部分内容多是概念性，书后没有配备相应例题，能不看课本自行复述红字概念即可。"
   ]
  },
  {
   "cell_type": "markdown",
   "id": "c649b0a1-6699-4a52-a535-d50c0b839b93",
   "metadata": {},
   "source": [
    "1. 多维空间 $\\mathbb{R}^n$ 中，我们称定义两点 $P=(x_1,\\cdots,x_n), Q=(y_1,\\cdots,y_n)$的距离为$$d(P,Q)=\\sqrt{(x_1-y_1)^2+\\cdots+(x_n-y_n)^2}$$"
   ]
  },
  {
   "cell_type": "markdown",
   "id": "c9ae74af-857e-4362-b288-5cc29f03c698",
   "metadata": {},
   "source": [
    "2. 有了距离，我们可以考虑点的远近，称 $$U(P_0,\\delta)=\\{P|P\\in\\mathbb{R}^n, d(P,P_0)<\\delta\\}$$ 为点 $P_0$ 的<font color=red> $\\delta$-邻域</font>。称 $\\overset{\\circ}{U}(P_0,\\delta)=U(P_0,\\delta)-\\{P_0\\}$ 为 $P_0$ 的<font color=red>去心 $\\delta$-邻域</font>。"
   ]
  },
  {
   "cell_type": "markdown",
   "id": "3bd35a89-6985-4191-9b6c-0028324995e0",
   "metadata": {},
   "source": [
    "3. 回忆一元函数的情况，我们是为什么引入这两个概念？（答案：谈论数列极限、谈论函数极限）"
   ]
  },
  {
   "cell_type": "markdown",
   "id": "044eaf95-aa28-4583-a56f-56b222c96c9d",
   "metadata": {},
   "source": [
    "4. 对集合 $E\\subset\\mathbb{R}^n$, 我们称 $P_0$ 是 $E$ 的\n",
    "   - 内点，若存在$\\delta>0$，使得 $U(P_0,\\delta)\\subset E$\n",
    "   - 外点，若存在$\\delta>0$，使得 $U(P_0,\\delta)\\subset E$\n",
    "   - 边界点，若任意$\\delta>0$，成立 $U(P_0,\\delta)\\cap E\\neq\\emptyset$ 且 $U(P_0,\\delta)\\cap E^c\\neq\\emptyset$"
   ]
  },
  {
   "cell_type": "markdown",
   "id": "b8340981-c9db-4253-abd8-381d40159fea",
   "metadata": {},
   "source": [
    "逻辑小练习：用上学期我们第一节课学的 “命题的否定形式”，证明一个点 $P$ 不是内点，则一定是外点或边界点。\n"
   ]
  },
  {
   "cell_type": "markdown",
   "id": "6435692d-e268-4c2e-ab90-4518a47e2846",
   "metadata": {},
   "source": [
    "5. 我们称一个集合 $E$ 是<font color=red>$\\mathbb{R}^3$ 中的开集</font>，若其中任意一点都是内点。\n",
    "6. 我们称一个集合 $E$ 是<font color=red>$\\mathbb{R}^3$ 中的闭集</font>，若它的补集$E^c=\\mathbb{R}^3-E$是$\\mathbb{R}^3$中的开集。\n",
    "7. 我们称 $E$ 的所有边界点构成的集合为其<font color=red>边界</font>，记为$\\partial E$。\n",
    "  - 思考：对$E=\\mathbb{Q}^3\\subset\\mathbb{R}^3$，它的内点、外点、边界点都是什么？"
   ]
  },
  {
   "cell_type": "markdown",
   "id": "9bae2218-8cd2-4a88-8a6f-c1ced5c4a632",
   "metadata": {},
   "source": [
    "8. 我们称集合$E\\subset\\mathbb{R}^n$是<font color=red>连通</font>的，若$E$中任意两点，可以用$E$中有限段折线连接。\n",
    "9. 我们称联通的开集为<font color=red>区域</font>。\n",
    "10. 我们称区域及其边界的并，为闭<font color=red>区域</font>。\n",
    "    - 思考：闭区域是否为闭集及其边界点的并？（反例？）"
   ]
  },
  {
   "cell_type": "markdown",
   "id": "209f88ba-86a3-4769-8910-1952f7273b4c",
   "metadata": {},
   "source": [
    "13. 我们称$E$是$\\mathbb{R}^n$中的有界集，若存在$M>0$, 使得$E\\subset U(\\mathbf{0},M)$\n",
    "    - 思考：如何通过“命题的否定形式”描述无界集？"
   ]
  },
  {
   "cell_type": "markdown",
   "id": "e0adf20d-82c4-43a8-b493-ab583df80702",
   "metadata": {},
   "source": [
    "## **2. 多元函数的极限与连续性**"
   ]
  },
  {
   "cell_type": "markdown",
   "id": "687d6504-d49e-4a8f-b94a-041e984ed6bc",
   "metadata": {
    "jp-MarkdownHeadingCollapsed": true
   },
   "source": [
    "### 1. 二元极限"
   ]
  },
  {
   "cell_type": "markdown",
   "id": "8ac4bd9c-d636-47d1-8f83-09b97ee4d084",
   "metadata": {},
   "source": [
    "1. 设二元函数 $f\\colon \\overset{\\circ}{U}(P_0,\\delta)\\to\\mathbb{R}$,\n",
    "> 若存在数$A$, 使对任意$\\epsilon>0$, 存在$\\delta>0$, 当 $P\\in \\overset{\\circ}{U}(P_0,\\delta)$时，$|f(P)-A|<\\epsilon$，\n",
    "\n",
    "则称$P\\to P_0$时，$f(x,y)$的<font color=red>二重极限</font>为$A$，或$f(x,y)$在$P_0$处收敛于$A$, 记为$$\\lim_{(x,y)\\to(x_0,y_0)}f(x,y)=A$$"
   ]
  },
  {
   "cell_type": "markdown",
   "id": "b4910140-4a9f-4268-b368-4ecda82c86f2",
   "metadata": {},
   "source": [
    "2. **例题8.2**, 用两个初等极限、夹逼定理求极限。<font color=red>必会例题</font>\n",
    "3. **例题8.3**, 通过寻找趋于一点的点列，证明极限不存在。<font color=red>必会例题</font>\n",
    "    - 难点在于寻找何使的点列，可能时固定斜率的直线，也可能是抛物线逼近，需要根据题目特征观察。\n",
    "4. **例题8.4**, 观察函数特征找反例，通常试用$y=ax,ax^2$足够了。<font color=red>必会例题</font>\n",
    "5. **思考**：讨论$$\\frac{(x\\ln |x|)^2(\\sin y\\ln y)}{(x\\ln |x|)^4+(y\\ln|y|)^2}$$在$(0,0)$附近的极限是否存在？\n",
    "6. 可以证明， “二元极限存在当且仅当沿着任何路径的一元极限都存在且相等”，程度较好的同学可以思考怎么说清楚（提示：反证法，命题的否定形式）。"
   ]
  },
  {
   "cell_type": "markdown",
   "id": "1c109cbb-68c7-4557-a1f9-45409f91d4c1",
   "metadata": {},
   "source": [
    "**书后习题: [C07],[C08]** \n",
    "\n",
    "解题技巧：如果要证明极限存在，但是看不出来，可以用<font color=red>极坐标换元</font> $x=r\\cos\\theta,y=r\\sin\\theta$"
   ]
  },
  {
   "cell_type": "markdown",
   "id": "9a163150-c4bc-4f53-b281-777a2c7cca94",
   "metadata": {
    "jp-MarkdownHeadingCollapsed": true
   },
   "source": [
    "### 2. 累次极限 "
   ]
  },
  {
   "cell_type": "markdown",
   "id": "bdf3a45d-2993-46ea-97b9-e6bea956d72b",
   "metadata": {},
   "source": [
    "我们可以（1）先固定分量$x$，对$y$求极限，（2）再对$y$求极限。称为累次极限。\n",
    "- 如果二重极限存在，那么累次极限一定存在。（为什么？因为累次极限只是取了一种特殊的折线路径。）\n",
    "- 但累次极限存在，不能说明二重极限存在。（为什么？还是因为累次极限只是取了一种特殊的折线路径。）\n",
    "- 找一个累次极限存在，但二元极限不存在的具体例子。（例题 8.4）"
   ]
  },
  {
   "cell_type": "markdown",
   "id": "b12bdf5d-6b11-401b-97c0-e8d66530233d",
   "metadata": {
    "jp-MarkdownHeadingCollapsed": true
   },
   "source": [
    "### 3. 连续性（极限=值）"
   ]
  },
  {
   "cell_type": "markdown",
   "id": "dd4a9f51-e1a1-4d2a-bd7d-c24eeebe1f85",
   "metadata": {},
   "source": [
    " 1. **例题 8.5** 函数极限的计算，<font color=red>必会例题</font>"
   ]
  },
  {
   "cell_type": "markdown",
   "id": "f8adbd61-1dff-40ea-aff2-6343347273e4",
   "metadata": {},
   "source": [
    "**书后习题: [C07],[C08],[C补02]**"
   ]
  },
  {
   "cell_type": "markdown",
   "id": "57485207-1748-4a97-86d5-287da216f93e",
   "metadata": {},
   "source": [
    "### 4. 连续函数的整体性质"
   ]
  },
  {
   "cell_type": "markdown",
   "id": "518fa664-177e-4efa-b948-d2cc17023903",
   "metadata": {},
   "source": [
    "课本没有配备例题，\n",
    "1. （对基础同学的要求）能类比一元函数，理解其内容，并自行叙述即可。\n",
    "2. （对程度较好的同学）思考：定理的<font color=red>条件</font>如果<font color=red>不满足</font>，如何构造<font color=red>反例</font>？（例如，有界非闭集上的连续函数一定有界吗？）\n",
    "   - 有界性定理：有界闭集上的连续函数一定有界。\n",
    "   - 最值定理：有界闭集上的连续函数一定取到最大值。\n",
    "   - 零点存在定理：连通集$E$上的连续函数，若$f(P_1)<0,f(P_2)>0$，则一定存在$P_3\\in E$使得$f(P_3)=0$\n",
    "   - 介值定理: 思考如何叙述？"
   ]
  },
  {
   "cell_type": "markdown",
   "id": "2b699e25-fe73-4913-8102-45071abd5f8e",
   "metadata": {},
   "source": [
    "## **3. 偏导数**"
   ]
  },
  {
   "cell_type": "markdown",
   "id": "e9c60641-82d6-4ac4-9c8e-9270fc989fa1",
   "metadata": {},
   "source": [
    "### 1. 偏导数的概念"
   ]
  },
  {
   "cell_type": "markdown",
   "id": "f2c68e6a-46eb-45b3-a0b4-fc6ae6aeeb59",
   "metadata": {},
   "source": [
    "1. 对多元函数 $f(x,y)$ 我们首先对它的变量排序。如同对线性方程组，我们为写出增广系数矩阵，也需要对位置变量排序。\n",
    "2. 我们定义$f(x,y)$它关于第$1$个分量$x$的偏导数为$$\\partial_1f(x,y)=f_x(x,y)=\\frac{\\partial f}{\\partial x}(x,y)=\\lim_{h\\to 0}\\frac{f(x+h,y)-f(x,y)}{h}$$\n",
    "3. **例题 8.6, 8.7, 8.8** <font color=red>必会例题</font>\n",
    "$$u=x^{\\frac{z}{y}},\\ \\frac{\\partial u}{\\partial x},\\frac{\\partial u}{\\partial y},\\frac{\\partial u}{\\partial z}=?$$   "
   ]
  },
  {
   "cell_type": "markdown",
   "id": "02d3abb2-4007-40d6-8436-7a99a7bc3eb5",
   "metadata": {},
   "source": [
    "**书后习题[C9],[C10]**"
   ]
  },
  {
   "cell_type": "markdown",
   "id": "465c88e9-8354-476b-a6b3-5ffa7c6857b6",
   "metadata": {},
   "source": [
    "### 2. 二元函数偏导数的几何意义"
   ]
  },
  {
   "cell_type": "markdown",
   "id": "71375ab0-bdcd-4ef5-af1d-5b6787d47b16",
   "metadata": {},
   "source": [
    "固定其它变元，化为一元函数的导数。·"
   ]
  },
  {
   "cell_type": "markdown",
   "id": "ec128b31-46fa-4e95-b833-e651751189f5",
   "metadata": {},
   "source": [
    "**书后习题[C11]**"
   ]
  },
  {
   "cell_type": "markdown",
   "id": "30bbc526-9785-4d40-8192-fcccd9c3263e",
   "metadata": {},
   "source": [
    "### 3. 高阶偏导数"
   ]
  },
  {
   "cell_type": "markdown",
   "id": "ecdddfa5-a146-4967-9b14-bed17ef0ab37",
   "metadata": {},
   "source": [
    "#### 1. 高阶偏导数：\n",
    "   - 定义：对偏导数再求偏导，可以对不同的变元求，称为混合偏导数\n",
    "   - 问题：混合偏导数，先后顺序不同，结果一般不同！\n",
    "     \n",
    "     **例 8.10** <font color=red>必会计算</font> 根据定义（差商的极限），通过多元函数的极限计算偏导数。\n",
    "   - **定理 8.1**：若两个混合偏导数$f_{xy}(x,y),f_{yx}(x,y)$在$P$ 都连续，则值相等$$f_{xy}(P)=f_{yx}(P).$$"
   ]
  },
  {
   "cell_type": "markdown",
   "id": "d6f131a9-06d6-4389-a737-822b3cac2836",
   "metadata": {},
   "source": [
    " - 这类问题本质上是 <font color=blue>“极限是否可以交换”</font>\n",
    "   - 我们在上一章已经看到累次极限不能交换\n",
    "   - 上学期“函数项级数求和”，一个技巧是级数“逐项求导、积分”，级数是部分和的极限，求导、积分也都是极限，因此技巧的内核就是“极限的可交换性”，\n",
    "   - 我们课本中的结论是：<font color=red>对幂级数</font>，在<font color=red>收敛半径内</font>，求导、积分、部分和取极限可以<font color=red>任意交换</font>。\n",
    "   - Fourier 级数的 Dirichelet 定理是否也是类似的“极限能否交换”问题？（Hint: 是，但要满足Dirichlet定理的条件：分段单调）\n",
    "   - 含参变量积分求导为什么要换元，使得积分号内不含参才能算？是因为一般积分和求导，这两种极限不能交换。\n",
    "   - 虽然我们没有讲证明，但“极限的交换性”，是推动“微积分”发展为“数学分析”的核心问题。"
   ]
  },
  {
   "cell_type": "markdown",
   "id": "05f7153b-579c-4aed-9f4a-054cf230eaa4",
   "metadata": {},
   "source": [
    "2. 高阶偏导数的计算：**例 8.11** <font color=red>必会计算</font>\n",
    "\n",
    "**书后习题[C12],[C13],[C14]**"
   ]
  },
  {
   "cell_type": "markdown",
   "id": "35ba5aa0-89b7-41ef-b5b2-2f8260e88bf1",
   "metadata": {},
   "source": [
    "## **4. 全微分及其应用**"
   ]
  },
  {
   "cell_type": "markdown",
   "id": "73f21dfd-1ee5-4af6-9542-7bc96105a503",
   "metadata": {},
   "source": [
    "### 1. 全微分的概念"
   ]
  },
  {
   "cell_type": "markdown",
   "id": "dc6b7df8-a0e1-4463-9ad5-884ebebf5544",
   "metadata": {},
   "source": [
    "1. 设函数$f(x,y)$在$P(x_0,y_0)$某邻域内有定义，若它在$P_0(x_0,y_0)$处的*函数全增量*可以表示为\n",
    "$$f(x_0+h,y_0+k)-f(x_0,y_0)=Ah+Bk+o(\\sqrt{h^2+k^2})$$\n",
    "则我们称函数 $f$ 在 $P_0(x_0,y_0)$ 可微，称 $Ah+Bk$ 为 $f$ 在 $P(x_0,y_0)$ 处关于*全变量增量*$(h,k)$的<font color=red>全微分</font>。"
   ]
  },
  {
   "cell_type": "markdown",
   "id": "5c3d8d1f-808d-4361-b70f-1f5fda959d39",
   "metadata": {},
   "source": [
    "**书后习题[C15],[C16]**"
   ]
  },
  {
   "cell_type": "markdown",
   "id": "549c9ff6-2f59-491e-8057-1c20f3a55cfc",
   "metadata": {},
   "source": [
    "### 2. 可微与可偏导的关系"
   ]
  },
  {
   "cell_type": "markdown",
   "id": "1925c825-3c58-45b0-8e1a-ff4c2ae6f2df",
   "metadata": {},
   "source": [
    "1. **定理 8.2** 若 $f$ 在一点 $(x_0,y_0)$ <font color=red>可微</font>，即可写为$$f(x_0+h,y_0+k)-f(x_0,y_0)=Ah+Bk+o(\\sqrt{h^2+k^2})$$\n",
    "   则$f$的一阶偏导数存在，且上述常数由偏导数唯一决定 $f_x(x_0,y_0)=A,f_y(x_0,y_0)=B$。通常我们把$h,k$ 记为$\\mathrm{d}x,\\mathrm{d}y$\n",
    "\n",
    "**例题 8.12，8.13** <font color=red>必会例题</font> 求全微分就是求偏导数后，再组合起来。其中重点是正确识别有哪些变量。\n",
    "\n",
    "2. **定理 8.3** 若函数的两个一阶偏导数都在 $(x_0,y_0)$ 连续，则它在该点可微。（证明略）\n",
    "\n",
    "3. **<font color=red>概念图谱</font>**：偏导数连续$\\Rightarrow $ 可微$\\Rightarrow \\left\\{\\begin{array}{cc}连续\\\\ 可偏导\\end{array}\\right.$"
   ]
  },
  {
   "cell_type": "markdown",
   "id": "e73c9af4-29ac-4ee6-a8cb-20804803b663",
   "metadata": {},
   "source": [
    "### 3. 二元函数全微分的几何意义："
   ]
  },
  {
   "cell_type": "markdown",
   "id": "5f2ee339-db6d-4673-924b-7ff3484a0f21",
   "metadata": {
    "jp-MarkdownHeadingCollapsed": true
   },
   "source": [
    "1. $f(x_0,y_0)+\\mathrm{d}f$ 即为曲面在$(x_0,y_0)$的“切平面”方程。\n",
    "\n",
    "**书后习题[C17]** \n",
    "\n",
    "2. 用切平面近似原来函数估值\n",
    "3. 我们用这个公式来证明若$z=z(x,y)$则有\n",
    "   $$\\frac{\\partial x}{\\partial y}\\frac{\\partial y}{\\partial z}\\frac{\\partial z}{\\partial x}=-1$$\n",
    "事实上若$w=w(x,y,z)$，则有$$\\frac{\\partial x}{\\partial y}\\frac{\\partial y}{\\partial z}\\frac{\\partial z}{\\partial w}\\frac{\\partial w}{\\partial x}=1$$\n",
    "\n",
    "- 首先，固定常数项后，偏导数就是切平面的系数。\n",
    "- 偏导数是差商的极限，因此可以忽略高阶小量，对切平面函数关系求偏导。\n",
    "- 不妨设切平面方程为$$Ax+By+Cz+D=0$$\n",
    "    - 为了求出$x_y$, 我们把$x$看作$y,z$的函数，因此关于$y$求偏导时$z$是常数，$$Ax_y+B=0\\Rightarrow x_y=-B/A$$\n",
    "    - 为了求出$y_z$, 我们把$y$看作$z,x$的函数，因此关于$z$求偏导时$x$是常数，$$By_z+C=0\\Rightarrow y_z=-C/B$$\n",
    "    - 为了求出$z_x$, 我们把$z$看作$x,y$的函数，因此关于$x$求偏导时$y$是常数，$$A+Cz_x=0\\Rightarrow z_x=-C/A$$\n",
    "\n",
    "4. 上述等式相乘即得所需等式。 "
   ]
  },
  {
   "cell_type": "markdown",
   "id": "fc49bf3e-bcb3-460c-80c2-404d91bcb18f",
   "metadata": {},
   "source": [
    "## **5. 多元复合函数的微分法** "
   ]
  },
  {
   "cell_type": "markdown",
   "id": "794c9bc1-2ff2-4e9b-b2ad-1df3b901e3f0",
   "metadata": {},
   "source": [
    "### 1. 复合函数的偏导（画函数结构图）"
   ]
  },
  {
   "cell_type": "markdown",
   "id": "f407bded-4542-4a94-ab36-6e788e9bc209",
   "metadata": {},
   "source": [
    "1. **定理 8.4** 设$u(x,y),v(x,y)$在$(x,y)$附近有一阶偏导数，函数 $z=f(u,v)$ 在 $(u(x,y),v(x,y))$ 处可微，则\n",
    "   $$\\frac{\\partial z}{\\partial x}=\\frac{\\partial z}{\\partial u}\\cdot \\frac{\\partial u}{\\partial x}+\\frac{\\partial z}{\\partial v}\\cdot \\frac{\\partial v}{\\partial x}$$\n",
    "   $$\\frac{\\partial z}{\\partial y}=\\frac{\\partial z}{\\partial u}\\cdot \\frac{\\partial u}{\\partial y}+\\frac{\\partial z}{\\partial v}\\cdot \\frac{\\partial v}{\\partial y}$$\n",
    "   - 这里值得注意的是，课本引入了符号 $z$代替$f$, 思考：如果写$$\\frac{\\partial f}{\\partial x}=\\frac{\\partial f}{\\partial u}\\cdot \\frac{\\partial u}{\\partial x}+\\frac{\\partial f}{\\partial v}\\cdot \\frac{\\partial v}{\\partial x}$$\n",
    "   会有什么问题？\n",
    "   - 注意，这里的$f$既可以作为$u,v$的函数，又可以作为$x,y$的函数，课本用$z,f$区分了开来。\n",
    "   - 例如 $f(u,v)=u+v$, $u(x,y)=x^2, v(x,y)=y^3$, 则$$f(u(x,y),v(x,y))=x^2+y^3$$ 课本把这个以$x,y$为变量的函数，记为了$z(x,y)=x^2+y^3$. 它和 $f$ 用同一个表达式，但是变量不同。\n",
    "   - 简化记号，可以直接写$$z_{x}=f_uu_x+f_vv_x$$ $$z_{y}=f_uu_y+f_vv_y$$\n",
    "   - **基础例题<font color=red> **必会**</font>[例8.16]，[例8.17]，[例8.18]，[例8.19]，[例8.20]**，按定义求算即可，画<font color=red>函数变量的结构图</font>。**书后习题[C21][C22][C28]**\n",
    "   - **进阶例题<font color=red>必会**</font>[例8.21]，[例8.22]，[例8.23]** 技巧：数字下标简化记号，以及需要自己设定中间变量。**书后习题[C23][C24][C27][C30]**\n",
    "   - **高阶例题<font color=red>重点必会**</font> \n",
    "       - **<font color=red>[例8.24]</font>** 对目标函数求偏导，再反解链式法则的线性方程。\n",
    "       - **<font color=red>[例8.25]</font>** 分析函数的结构，微分方程的换元\n",
    "   \\begin{CD}\n",
    "   w@>>>z@>>>(x,y)@>>>(u,v)\\\\\n",
    "   \\end{CD}\n",
    "   - **<font color=blue>思考</font>**：如何证明链式法则？（提示：用微分的定义，线性部分的复合中，自然看到了矩阵的乘法。）\n",
    "     **<font color=red>书后习题[C25][C26][C29][C31][C32]</font>**"
   ]
  },
  {
   "cell_type": "markdown",
   "id": "89d1e2f0-2bcd-4c34-b843-3186fa63c202",
   "metadata": {},
   "source": [
    "### 2. 一阶微分的形式不变性（辅助求偏导）"
   ]
  },
  {
   "cell_type": "markdown",
   "id": "eea3d158-b928-4af7-8e40-91c766500bc3",
   "metadata": {},
   "source": [
    "1. 定理陈述：在二元函数中$f(u,v)$, 不论$u,v$是中间变量，还是初始变量，都有$\\mathrm{d}f=f_u\\mathrm{d}u+f_v\\mathrm{d}v$\n",
    "2. 该定理可以辅助进行偏导计算 [**课本例题 8.26**] <font color=red> 必会例题 </font>\n",
    "3. 本质上一阶微分的形式不变性“**打包了**”求导的链式法则。\n",
    "\n",
    "**书后习题[C33],[C34]**"
   ]
  },
  {
   "cell_type": "markdown",
   "id": "abe7368c-e1fa-4592-b2e9-ca6c039f1f2b",
   "metadata": {},
   "source": [
    "### 3. 隐函数的偏导数（重点必会）"
   ]
  },
  {
   "cell_type": "markdown",
   "id": "6c0a05df-468e-43f3-a0bb-386391b41f76",
   "metadata": {},
   "source": [
    "记忆抽象公式时，把所有隐函数关系**当作线性关系**来推导。对等式求偏微分得到线性关系，<font color=red>**化为线性方程组**</font>求解。\n",
    "\n",
    "1. 隐函数存在定理（一个二元函数）：\n",
    "> 设函数 $F(x,y)$ 在$(0,0)$ 某邻域内又连续偏导数，且$F(0,0)=0$,$$F_y(0,0)\\neq 0$$ 则方程$F(x,y)=0$在$(0,0)$附近确定了唯一的函数$y=y(x)$，使得$F(x,y(x))=0$, 且$$\\frac{\\mathrm{d}y}{\\mathrm{d}x}=-\\frac{F_x(x,y)}{F_y(x,y)}.$$\n",
    "\n",
    "    **思考**：如果存在$y$满足$F(x,y(x))=0$, 一定能推出$F_y'(0,0)\\neq 0$吗？"
   ]
  },
  {
   "cell_type": "markdown",
   "id": "d5543a97-da68-4556-bded-56a3866a3cf7",
   "metadata": {},
   "source": [
    "2. 隐函数存在定理（一个三元函数）：\n",
    "> 设函数$F(x,y,z)$在点$P(0,0,0)$邻域内有连续的偏导数且$F(0,0,0)=0$, $F_z(0,0,0)\\neq0$, 则方程$F(x,y,z)=0$在$P$的某邻域内唯一确定函数$z=z(x,y)$满足$F(x,y,z(x,,y))=0$且$$z_x=-\\frac{F_x}{F_z},\\ z_y=-\\frac{F_y}{F_z}$$"
   ]
  },
  {
   "cell_type": "markdown",
   "id": "81b5f607-898b-42c7-b6c6-cb124b10e6a3",
   "metadata": {},
   "source": [
    "3. 隐函数存在定理（两个四元函数）\n",
    "> 给定方程组$$\\left\\{\\begin{array}{cc}F(x,y,u,v)=0\\\\ G(x,y,u,v)=0\\end{array}\\right.$$在等式两端求对$x$求偏导得到\n",
    ">$$\\left\\{\\begin{array}{cc}F_x+{\\color{red}F_u}u_x+{\\color{red}F_v}v_x=0\\\\ G_x+{\\color{red}G_u}u_x+{\\color{red}G_v}v_x=0\\end{array}\\right.$$\n",
    "> 当系数矩阵可逆时（雅可比行列式非零）可以把$u,v$写为$x,y$的函数$u=u(x,y),v=v(x,y)$，其偏导数$u_x,v_x$满足相应公式。\n",
    "> 在等式两端求对$y$求偏导得到\n",
    ">$$\\left\\{\\begin{array}{cc}F_y+{\\color{red}F_u}u_y+{\\color{red}F_v}v_y=0\\\\ G_y+{\\color{red}G_u}u_y+{\\color{red}G_v}v_y=0\\end{array}\\right.$$\n",
    "> 当系数矩阵可逆时（雅可比行列式非零）可以把$u,v$写为$x,y$的函数$u=u(x,y),v=v(x,y)$，其偏导数$u_y,v_y$满足相应公式。"
   ]
  },
  {
   "cell_type": "markdown",
   "id": "29625a98-81d8-457a-9b8b-db68b0f377b6",
   "metadata": {},
   "source": [
    "3. 课本例题 <font color=red>**必会例题**</font>\n",
    "   - **[p.85, 8.28]** 一个三元函数， **书后习题[C3901]**(两个三元函数)**[C35][C36]**\n",
    "   - **[p.85, 8.39]** 一个两元函数，\n",
    "   - **[p.85, 8.39]** 一个两元函数，高阶导（注意，偏导数本身也是函数）**书后习题[C37][C38]**\n",
    "   - **[p.86, 8.31]** 两个四元函数，**书后习题[C3902][C3903][C3904]**"
   ]
  },
  {
   "cell_type": "markdown",
   "id": "f40303ca-703e-47db-b17b-0793de3988ad",
   "metadata": {},
   "source": [
    "## **6. 方向导数与梯度**  "
   ]
  },
  {
   "cell_type": "markdown",
   "id": "12dac7c6-f9cd-41aa-85a9-b53cbfc2a38e",
   "metadata": {},
   "source": [
    "### 1. 方向导数 "
   ]
  },
  {
   "cell_type": "markdown",
   "id": "77411f11-25a1-4df4-ad97-8cdb54e90e4a",
   "metadata": {},
   "source": [
    "1. 偏导数给出坐标方向的变化率，但实际生活中，我们需要考虑一般方向。\n",
    "2. **定义 8.6**：设函数 $f$ 在 $P_0$ 邻域内有定义，$\\mathbf{v}$为非零向量，称$f$沿$\\mathbf{v}$的方向导数为$$\\frac{\\partial f}{\\partial \\mathbf{v}}=\\lim_{t\\to 0}\\frac{f(P_0+{\\color{red}t\\mathbf{v}})-f(P_0)}{|{\\color{red}t\\mathbf{v}}|}$$\n",
    "3. **定理 8.7**：方向导数可以用偏导数表示 (证明：加一项、减一项)$$f_{\\mathbf{v}}=(f_x,f_y)\\cdot\\frac{\\mathbf{i}}{|\\mathbf{v}|}=f_x\\cos(\\mathbf{v},\\mathbf{i})+f_y\\cos(\\mathbf{v},\\mathbf{j})$$\n",
    " $$f_{\\mathbf{v}}(x,y,z)=(f_x,f_y,f_z)\\cdot\\frac{\\mathbf{v}}{|\\mathbf{v}|}=f_x\\cos(\\mathbf{v},\\mathbf{i})+f_y\\cos(\\mathbf{v},\\mathbf{j})+f_z\\cos(\\mathbf{v},\\mathbf{k})$$"
   ]
  },
  {
   "cell_type": "markdown",
   "id": "a93e0213-24c6-4cd1-8c60-927ff2c1541c",
   "metadata": {},
   "source": [
    "4. **例题 8.32** 二次函数的方向导数 <font color=red>必会例题</font>"
   ]
  },
  {
   "cell_type": "markdown",
   "id": "98a1c683-64af-4fde-ab1e-d5a4fc00f82a",
   "metadata": {},
   "source": [
    "**书后习题[C40]**"
   ]
  },
  {
   "cell_type": "markdown",
   "id": "823ce15b-de7a-4323-81ba-5f8cd841a076",
   "metadata": {},
   "source": [
    "### 2. 梯度 "
   ]
  },
  {
   "cell_type": "markdown",
   "id": "0bae4d37-1386-4cec-9c4e-17e88befb76a",
   "metadata": {},
   "source": [
    "1. 我们看到偏导数组成的向量作为整体，出现在方向导数的公式中，我们引入\n",
    "   \n",
    "   **定义 8.7** 若函数$f(x,y,z)$在一点可微，我们称向量$(f_x,f_y,f_z)$为其在该点的梯度向量，简称梯度，记为$\\nabla f$\n",
    "\n",
    "\n",
    "   那么方向导数最大，当且仅当求导方向$\\mathbf{v}$与梯度$\\nabla f$重合。"
   ]
  },
  {
   "cell_type": "markdown",
   "id": "616a7464-cd37-4f40-9eb8-0f214bc23abe",
   "metadata": {},
   "source": [
    "- **例题8.33** 函数（山坡）沿着一点的最大、最小方向导数。<font color=red>必会例题</font>\n",
    "\n",
    "**书后习题[C41],[C42][C43]**"
   ]
  },
  {
   "cell_type": "markdown",
   "id": "13676d4d-b108-4d0e-ae02-b983abd93c53",
   "metadata": {},
   "source": [
    "2. 依赖于空间位置的物理量，连成的物理量全体，称为物理量的场。\n",
    "    - 数量场：温度、压强。可以定义其梯度场。梯度场是向量场。\n",
    "    - 向量场：速度、流量。<font color=red>**思考**</font>：向量场一定是数量场的梯度场吗？（提示：数量场绕闭合圆周的总变化率0）"
   ]
  },
  {
   "cell_type": "markdown",
   "id": "49784423-249f-456b-b67e-b62f6eb8085f",
   "metadata": {},
   "source": [
    "\n",
    "- **例题8.34** 库伦势场的梯度 <font color=red>必会例题</font>，思考如何求 $U(\\mathbf{r})=\\frac{1}{|\\mathbf{r}|^5}$的梯度"
   ]
  },
  {
   "cell_type": "markdown",
   "id": "259165b2-1d04-4e2f-b861-d2c9c34f050c",
   "metadata": {},
   "source": [
    "## **7. 多元微分学在几何中的应用** "
   ]
  },
  {
   "cell_type": "markdown",
   "id": "2c8801df-a2be-4b1c-804b-26ad5098ecf9",
   "metadata": {},
   "source": [
    "1. 空间曲线的切线、法平面\n",
    "   $$L_{t_0}\\colon\\ \\mathbf{r}=\\mathbf{r}(t_0)+t\\mathbf{r}'(t_0)$$\n",
    "   $$N_{t_0}\\colon\\ \\mathbf{r}'(t_0)\\cdot(\\mathbf{r}-\\mathbf{r}(t_0))=0$$\n",
    "      - **例题8.35** 螺旋线上一点切线和$z$轴夹角为定角。<font color=red>必会例题</font>\n",
    "      - **例题8.36** Viviani曲线的切线、法平面。<font color=red>必会例题</font>\n",
    "\n",
    "**书后习题[C44],[C45]**\n",
    "\n",
    "3. 曲面的切平面与法线\n",
    "$$T_{P_0}:\\ \\mathbf{r}=\\mathbf{r}(P_0)+t\\nabla F$$\n",
    "    $$N_{P_0}:\\ \\nabla F\\cdot(\\mathbf{r}-\\mathbf{r}_0)=0$$\n",
    "   - **例题8.36** 柱面一点的切平面、法线。<font color=red>必会例题</font>\n",
    "\n",
    "**书后习题[C46],[C47]**（曲面的切平面怎么求？提示：设切点坐标）**[C48],[C49]**\n"
   ]
  },
  {
   "cell_type": "markdown",
   "id": "1b2ac9f0-dfea-466f-8f84-028005ac1b79",
   "metadata": {},
   "source": [
    "## **8. 二元泰勒公式与多元函数的极值**"
   ]
  },
  {
   "cell_type": "markdown",
   "id": "3b13e1ec-9879-4c05-9dbd-0d7395d24a0b",
   "metadata": {},
   "source": [
    "1. 二元函数泰勒公式\n",
    "   \n",
    "   **定理8.8** 在$(0,0)$附近$$f(x,y)=f(0,0)+\\sum_{k=1}^n\\frac{1}{k!}\\left(x\\partial_x+y\\partial_y\\right)f+R_n$$\n",
    "$$R_n=\\frac{1}{(n+1)!}\\left(x\\partial_x+y\\partial_y\\right)^{n+1}f|_{\\theta x,\\theta y}$$\n",
    "3. 定理推导\n",
    "   - 一元函数泰勒公式$F(t)=f(tx,ty)$, 则$$F(1)=F(0)+F'(0)+\\cdots+\\frac{1}{(n+1)!}F^{(n+1)}(\\theta)$$\n",
    "   - 复合函数微分法则$$F'(t)=xf_x+yf_y=(x\\partial_x+y\\partial_y)f$$\n",
    "4. 二元函数极值\n",
    "   - 设二元函数在一点取得极值，且函数可微，则$f_x=f_y=0$，任何方向导数也为$0$。\n",
    "   - 二元函数驻点极值，一个充分条件是矩阵$\\left[\\begin{array}{cc}f_{xx}&f_{xy}\\\\f_{xy}&f_{yy}\\end{array}\\right]$正定，即$f_{xx}>0$, $f_{xx}f_{yy}-f_{xy}^2>0$"
   ]
  },
  {
   "cell_type": "markdown",
   "id": "8527d018-9804-48e3-9ba9-0b927e3b5bba",
   "metadata": {},
   "source": [
    "- **例题8.38** 写出泰勒公式<font color=red>必会例题</font>\n",
    "- **例题8.39** 二元函数极值<font color=red>必会例题</font>\n",
    "- **例题8.40** 二元函数最值（考虑边界）<font color=red>必会例题</font>\n",
    "- **例题8.41，8.42，8.43** 二元函数极值，最小二乘法。<font color=red>必会例题</font>"
   ]
  },
  {
   "cell_type": "markdown",
   "id": "e2e2ee5d-831f-449d-af52-fedd903c68e1",
   "metadata": {},
   "source": [
    "**书后习题[C50],[C51],[C52]** (可以用三角函数设坐标，无约束，也可以用平面坐标，有约束。)**[C53]**"
   ]
  },
  {
   "cell_type": "markdown",
   "id": "c6d52ec3-8603-4ac7-a253-5586d777350a",
   "metadata": {},
   "source": [
    "## **9. 条件极值——拉格朗日乘数法**"
   ]
  },
  {
   "cell_type": "markdown",
   "id": "4f952a90-1b52-4d6f-886e-04c48bf2a928",
   "metadata": {},
   "source": [
    "1. 求函数$f$在约束条件$g$下的条件极值。其存在的必要非充分条件是<font color=red>**等值面和约束面相切**</font>：$$\\left\\{\\begin{array}{cc}\\nabla f=\\lambda \\nabla g \\\\ g(x,y,z)=0\\end{array}\\right.$$\n",
    "2. 预处理：通常为了简化计算，需要对约束条件、目标函数作等价处理（如距离换为距离平方）\n",
    "3. 如果乘数法解出只有一个“可能的极值点”，那么这个可能的极值点就是极值点。但一般不能判断，因为约束条件为$0=0$，就<font color=red>划归到</font>之前的非条件极值，梯度面等值面相切为极值点的必要非充分条件。"
   ]
  },
  {
   "cell_type": "markdown",
   "id": "e97d1c04-448e-4b02-98b4-a6d6d77e995c",
   "metadata": {},
   "source": [
    "- **例8.44** 抛物面上到定点最近的点（**思考**：椭球面呢？有什么不一样的）<font color=red>必会例题</font>\n",
    "- **例8.45** 带边区域最大最小值 <font color=red>必会例题</font>\n",
    "- **例8.46** 椭球面切棱锥的最小体积（方程组的代数化简）。"
   ]
  },
  {
   "cell_type": "markdown",
   "id": "56f4d6ff-bd76-41f6-a7ab-2847728649df",
   "metadata": {},
   "source": [
    "**书后习题[C54][C55][C56][C57][C58]**"
   ]
  },
  {
   "cell_type": "markdown",
   "id": "eca5d4c8",
   "metadata": {},
   "source": [
    "# **例题精讲**"
   ]
  },
  {
   "cell_type": "markdown",
   "id": "e742b24f-5dd3-4a88-8852-ba971257d832",
   "metadata": {},
   "source": [
    "### **例题 8.8** \n",
    "\n",
    "<font color=red>必会例题</font> 理想气体的<font color=blue>体积</font> $V$, <font color=blue>压强</font> $p$, <font color=blue>温度</font> $T$, <font color=green>气体分子摩尔数 $n$</font>，<font color=green>玻尔兹曼常数 $k_B$</font> 满足状态方程$$pV=nk_BT$$\n",
    "验证公式$$\\frac{\\partial p}{\\partial V}\\cdot\\frac{\\partial V}{\\partial T}\\cdot\\frac{\\partial T}{\\partial p}=-1$$\n",
    "\n",
    "- 这个公式可能会让同学感到困惑。为什么偏导消出来一个$-1$？\n",
    "- 让我们代入一个具体的场景，假设实验时间为 $x$, 控制气体物质的量 $n$ 不变，让压强，体积，温度按照时间的函数来变化$$p=nx,V=k_bx,T=x^2$$\n",
    "则$$\\frac{\\mathrm{d}p}{\\mathrm{d}V}\\cdot\\frac{\\mathrm{d}V}{\\mathrm{d}T}\\cdot \\frac{\\mathrm{d}T}{\\mathrm{d}p}=\\frac{n}{k_B}\\cdot\\frac{k_B}{2x}\\cdot\\frac{2x}{n}=1$$\n",
    "诶，为什么又变成了$+1$?\n",
    "- 首先，我们没有给过偏导“消去律”。但我们有“微分”相消，但其原理是，微分代表<font color=blue>变化量的线性部分</font>，变化量本身消去，高阶小量根据极限的运算律消去。\n",
    "- 那么问题是什么，请阅读课本例题8.8的题干：**把 $p,V,T$ 中任何一个变量看作另两个变量的函数**, 我们把 $nk_B$ 记为 $R$\n",
    "  - 因此，$p$ 的含义是二元函数 $p(V,T)=R\\frac{T}{V}$, 它关于 $V$ 求偏导得到 $$\\frac{\\partial p}{\\partial V}=-R\\frac{T}{V^2}$$\n",
    "  - 同样，$V$ 的含义是二元函数 $V(p,T)=R\\frac{T}{p}$, 它关于 $T$ 求偏导得到 $$\\frac{\\partial V}{\\partial T}=R\\frac{1}{p}$$\n",
    "  - 最后，$T$ 的含义是二元函数 $T(p,V)=\\frac{pV}{R}$, 它关于 $p$ 求偏导得到 $$\\frac{\\partial V}{\\partial T}=\\frac{p}{R}$$\n",
    "  - 综上，相乘得到$$\\frac{\\partial p}{\\partial V}\\cdot\\frac{\\partial V}{\\partial T}\\cdot\\frac{\\partial T}{\\partial p}=-R\\frac{T}{V^2}\\cdot\\frac{R}{p}\\cdot\\frac{V}{R}=-\\frac{RT}{pV}=-1$$\n",
    "  - <font color=red>**思考**</font>：若某开放容器内气体的温度，体积，压强满足 $$2^pT^V=3+p^2\\sin V$$是否仍然成立$$\\frac{\\partial p}{\\partial V}\\cdot\\frac{\\partial V}{\\partial T}\\cdot\\frac{\\partial T}{\\partial p}=-1?$$\n",
    "  学习全微分的几何意义后，我们就可以完满回答此问题。"
   ]
  },
  {
   "cell_type": "markdown",
   "id": "ab6f565a-ec0a-42a5-b214-1ed55d778c1e",
   "metadata": {},
   "source": [
    "### **例题 8.25**\n",
    "\n",
    "设 $z=z(x,y)$ 满足方程 $y\\frac{\\partial^2z}{\\partial y^2}+2\\frac{\\partial z}{\\partial y}=0$, 令$w=xz-y$, 在变换$u=\\frac{x}{y},v=x$下，请将方程$$y\\frac{\\partial^2 z}{\\partial y^2}+2\\frac{\\partial z}{\\partial y}=0$$ 表示为$w$关于$u,v$的方程。"
   ]
  },
  {
   "cell_type": "markdown",
   "id": "45b92d52-ec3b-4c24-b22a-2048763430e9",
   "metadata": {},
   "source": [
    "1. 列出所有字母标号\n",
    "   - $z$\n",
    "   - $x$\n",
    "   - $y$\n",
    "   - $w$\n",
    "   - $u$\n",
    "   - $v$"
   ]
  },
  {
   "cell_type": "markdown",
   "id": "d3658ce1-f26e-4bf5-9162-1ee0292f3d58",
   "metadata": {},
   "source": [
    "  2. 解释字母标号的函数、变量关系。\n",
    "   - $z$: $x,y$ 的函数\n",
    "   - $x$: $z(x,y)$ 的变量\n",
    "   - $y$: $z(x,y)$ 的变量\n",
    "   - $w$: $x,y,z$的函数，$u,v$的函数。\n",
    "   - $u$: $x,y$ 的函数\n",
    "   - $v$: $x,y$ 的函数"
   ]
  },
  {
   "cell_type": "markdown",
   "id": "bc71d1fb-54d5-4126-bd41-723f74ead413",
   "metadata": {},
   "source": [
    "注：\n",
    "- 但凡 $n$ 个字母有一个函数关系，可以认为这 $n$ 个自由度被一个约束绑定，大致表明其中 $n-1$ 个自由度，因此其中$n-1$个变量可以大致决定剩下的变量。\n",
    "- 例如 $z$ 是 $x,y$ 的函数，可以大致认为 $x$ 能表示为 $z,y$ 的函数，$y$ 可表示为 $z,x$ 的函数，$z$ 可表示为 $x,y$ 的函数。（学习了隐函数定理后会更加明晰这一点）"
   ]
  },
  {
   "cell_type": "markdown",
   "id": "0f44fb1c-f03e-4163-b9b0-34a62facadd1",
   "metadata": {},
   "source": [
    "3. 问题是把 $w$ 视为 $u,v$ 的函数，改写方程。由于$w$本身是$x,y,z$的函数，而$z$是$x,y$的函数，因此$w$是$x,y$的函数，而$x,y$和$u,v$可以互相表示。因此，我们明确了$w$ 如何作为$u,v$的函数, $w(u,v)=vz(v,v/u)-v/u$\n",
    "4. 为了利用条件，我们需要反向出发，方程中有关于$z$关于$y$的偏导，因此我们需要计算$z$关于$y$的偏导,用 $w,u,v$ 和 $u,v$ 表示"
   ]
  },
  {
   "cell_type": "markdown",
   "id": "bd603af8-6a5f-4d21-b76d-a346cd7048fb",
   "metadata": {},
   "source": [
    "### 解题步骤：（终变对初变（求导）、终变表初函、初函链初变、初变全不见）\n",
    "\n",
    "1. <font color=red>步骤一</font> 求出终变量关于初变量的偏导，并用终变量表示出\n",
    "   - $u_x = \\frac{1}{y}=\\frac{u}{v}$\n",
    "   - $u_y = -\\frac{x}{y^2}=-\\frac{u^2}{v}$\n",
    "   - $v_x = 1$\n",
    "   - $v_y = 0$\n",
    "2. <font color=red>步骤二</font> 把初函数函数用终变量、终函数$w,u,v$表达 $$z=\\frac{w(u,v)+v/u}{v}=\\frac{w(u,v)}{v}+\\frac{1}{u}$$\n",
    "3. <font color=red>步骤三</font> 把初函数对初变量求导，视终变量为中间变量 $$z_y=z_uu_y+z_vv_y=\\left(\\frac{w_u}{v}-\\frac{1}{u^2}\\right)\\left(-\\frac{u^2}{v}\\right)+ 0=\\frac{1}{v}-w_u\\frac{u^2}{v^2}$$\n",
    "   $$z_{yy}=(z_y)_uu_y+(z_y)_vv_y=\\left(-w_{uu}\\frac{u^2}{v^2}-w_u\\frac{2u}{v^2}\\right)\\frac{-u^2}{v}+0=w_{uu}\\frac{u^4}{v^3}+2w_u\\frac{u^3}{v^3}$$"
   ]
  },
  {
   "cell_type": "markdown",
   "id": "baad26df-96bb-4e2c-b8e4-5ecb3a33490d",
   "metadata": {},
   "source": [
    "3. <font color=red>步骤四</font> 回代原方程、整理：得到 $$\\frac{v}{u}\\left(w_{uu}\\frac{u^4}{v^3}+2w_u\\frac{u^3}{v^3}\\right)+2\\left(\\frac{1}{v}-w_u\\frac{u^2}{v^2}\\right)=0$$\n",
    "$$w_{uu}\\frac{u^3}{v^2}+2\\frac{1}{v}=0$$即$$u^3w_{uu}+2v=0$$"
   ]
  },
  {
   "cell_type": "markdown",
   "id": "80d692b1-56b1-4ec7-bd94-6bb6f0ad778e",
   "metadata": {},
   "source": [
    "**思考**：如何将上述方程表示为 $w$ 关于 $u,x$ 的方程？"
   ]
  },
  {
   "cell_type": "markdown",
   "id": "89f4884a-a0b8-4e6e-ad7a-a61814d7b371",
   "metadata": {},
   "source": [
    "**思考**：课本上的办法，对$z_y=-\\frac{1}{y^2}w_u+\\frac{1}{x}$求$y$的偏导，这里 $w_u$ 到底算不算 $y$ 的函数呢？怎么算呢？"
   ]
  },
  {
   "cell_type": "markdown",
   "id": "75d1072c-4670-4802-ab11-74c2a8fde37c",
   "metadata": {},
   "source": [
    "课本的办法直接对关系求导，计算快，但是需要头脑非常清楚，谁是谁的变量。我们的办法分了三个步骤比较繁琐，但是，只要你能分清谁是（初函数、初变量），谁是（终函数、终变量），就保证你能做出来。"
   ]
  },
  {
   "cell_type": "code",
   "execution_count": null,
   "id": "eb3ca41f-4974-48bc-bda3-556985f33dc0",
   "metadata": {},
   "outputs": [],
   "source": []
  }
 ],
 "metadata": {
  "kernelspec": {
   "display_name": "Python 3 (ipykernel)",
   "language": "python",
   "name": "python3"
  },
  "language_info": {
   "codemirror_mode": {
    "name": "ipython",
    "version": 3
   },
   "file_extension": ".py",
   "mimetype": "text/x-python",
   "name": "python",
   "nbconvert_exporter": "python",
   "pygments_lexer": "ipython3",
   "version": "3.10.14"
  }
 },
 "nbformat": 4,
 "nbformat_minor": 5
}

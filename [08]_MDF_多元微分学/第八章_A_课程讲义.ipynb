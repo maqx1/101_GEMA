{
 "cells": [
  {
   "cell_type": "markdown",
   "id": "1f6cbf28-54f8-4882-8371-4c86ab2f23a3",
   "metadata": {},
   "source": [
    "# **内容梳理** "
   ]
  },
  {
   "cell_type": "markdown",
   "id": "97305c79-7e05-41b8-b151-42b57e34cce7",
   "metadata": {},
   "source": [
    "### [800] 第八章：《多元函数的微分学》"
   ]
  },
  {
   "cell_type": "markdown",
   "id": "533daed5-113c-4183-841e-15683ba2432f",
   "metadata": {},
   "source": [
    "1. 多元函数的基本概念：$n$ 维空间的距离，（去心）$\\delta$-邻域，内点、外点、边界点。开集、闭集、开区域（连通的开集）、闭区域（连通的闭集是闭区域吗？）。\n",
    "2. 多元函数的极限与连续性：$\\epsilon-\\delta$ 语言描述重极限，连续性：极限=值，连续函数的性质（有界、最值、介值）。<font color=red>新内容</font>：重极限与累次极限的区别。\n",
    "3. 偏导数：偏导数的定义——差商的极限，高阶偏导。<font color=red>新内容</font>，难点：偏导数记号的含义。\n",
    "4. 全微分及其应用：微分的定义——与线性函数的差为距离的小量。<font color=red>新内容</font>，难点：可微、可偏导的关系。用全微分估算。\n",
    "5. 多元复合函数的微分法则：链导法则。<font color=red>新内容</font>，难点：明确哪些变量是中间变量。偏导数、全导数的概念辨析。<font color=red>重大难点</font>：隐函数求偏导，隐函数存在定理。<font color=red>重重重点</font>：雅可比行列式的计算及几何含义。\n",
    "6. 方向导数与梯度：方向导数的定义，<font color=red>重点</font>：与偏导数、方向角的关系。函数（数量场）在一点的梯度向量，梯度向量连成梯度场。<font color=red>梯度几何含义</font>：数量场下降最快的方向。\n",
    "7. 多元微分学在几何中的应用：空间曲线一点处：切线、法平面。曲面一点处：切平面、法线。法向量连续变化：光滑曲面。\n",
    "8. 二元泰勒公式与多元函数的极值：二元函数的泰勒展开，极值点的充分条件（一元函数的“二阶导”判别法升级多元函数的“二次型”判别法）。\n",
    "9. 条件极值——拉格朗日乘数法：<font color=red>重点</font>：理解其几何意义。严格来说，一般需要进一步判断驻点的局部性质，但若有唯一可能极值点，可以直接使用。"
   ]
  },
  {
   "cell_type": "markdown",
   "id": "c59eddc9-81c9-4053-a40f-5a5c3f7ffe66",
   "metadata": {
    "jp-MarkdownHeadingCollapsed": true
   },
   "source": [
    "### [801] <font color=red>自测是否掌握多元函数微分学：</font>\n",
    "1. 能举例说明累次极限和重极限的区别。\n",
    "2. 能计算球坐标下的拉普拉斯算子。\n",
    "3. 能用拉格朗日乘子法证明平均值不等式。\n",
    "\n",
    "往届高数学生自制视频：https://www.bilibili.com/video/BV1uzFjeHECd?p=2&spm_id_from=333.788.videopod.episodes"
   ]
  },
  {
   "cell_type": "markdown",
   "id": "0495d904-808f-4294-9e1d-8e22bb40b622",
   "metadata": {},
   "source": [
    "# **课本导读**"
   ]
  },
  {
   "cell_type": "markdown",
   "id": "507b38d9-055c-4058-a16a-84d2b0939df8",
   "metadata": {},
   "source": [
    "## **1. 空间直角坐标系**"
   ]
  },
  {
   "cell_type": "markdown",
   "id": "e0adf20d-82c4-43a8-b493-ab583df80702",
   "metadata": {},
   "source": [
    "## **2. 多元函数的极限与连续性**"
   ]
  },
  {
   "cell_type": "markdown",
   "id": "2b699e25-fe73-4913-8102-45071abd5f8e",
   "metadata": {},
   "source": [
    "## **3. 偏导数**"
   ]
  },
  {
   "cell_type": "markdown",
   "id": "35ba5aa0-89b7-41ef-b5b2-2f8260e88bf1",
   "metadata": {},
   "source": [
    "## **4. 全微分及其应用**"
   ]
  },
  {
   "cell_type": "markdown",
   "id": "fc49bf3e-bcb3-460c-80c2-404d91bcb18f",
   "metadata": {},
   "source": [
    "## **5. 多元复合函数的微分法** "
   ]
  },
  {
   "cell_type": "markdown",
   "id": "f40303ca-703e-47db-b17b-0793de3988ad",
   "metadata": {},
   "source": [
    "## **6. 方向导数与梯度**  "
   ]
  },
  {
   "cell_type": "markdown",
   "id": "259165b2-1d04-4e2f-b861-d2c9c34f050c",
   "metadata": {},
   "source": [
    "## **7. 多元微分学在几何中的应用** "
   ]
  },
  {
   "cell_type": "markdown",
   "id": "1b2ac9f0-dfea-466f-8f84-028005ac1b79",
   "metadata": {},
   "source": [
    "## **8. 二元泰勒公式与多元函数的极值**"
   ]
  },
  {
   "cell_type": "markdown",
   "id": "c6d52ec3-8603-4ac7-a253-5586d777350a",
   "metadata": {},
   "source": [
    "## **9. 条件极值——拉格朗日乘数法**"
   ]
  },
  {
   "cell_type": "markdown",
   "id": "eca5d4c8",
   "metadata": {},
   "source": [
    "# **例题精讲**"
   ]
  },
  {
   "cell_type": "code",
   "execution_count": null,
   "id": "4f80c8ac-90a9-48fa-ad78-a191755981f8",
   "metadata": {},
   "outputs": [],
   "source": []
  }
 ],
 "metadata": {
  "kernelspec": {
   "display_name": "Python 3 (ipykernel)",
   "language": "python",
   "name": "python3"
  },
  "language_info": {
   "codemirror_mode": {
    "name": "ipython",
    "version": 3
   },
   "file_extension": ".py",
   "mimetype": "text/x-python",
   "name": "python",
   "nbconvert_exporter": "python",
   "pygments_lexer": "ipython3",
   "version": "3.12.8"
  }
 },
 "nbformat": 4,
 "nbformat_minor": 5
}

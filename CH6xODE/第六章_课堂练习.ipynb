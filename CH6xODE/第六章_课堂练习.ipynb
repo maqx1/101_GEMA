{
 "cells": [
  {
   "cell_type": "markdown",
   "id": "59bce6a1-eccc-4a86-8ca6-930d9d9fac5c",
   "metadata": {
    "jp-MarkdownHeadingCollapsed": true
   },
   "source": [
    "## 02月25日_课堂练习"
   ]
  },
  {
   "cell_type": "markdown",
   "id": "b8a96653-ad67-4541-a081-89ce7f221b1a",
   "metadata": {
    "jp-MarkdownHeadingCollapsed": true
   },
   "source": [
    "### 1. 以下微分方程是否能用6.2节所学解答？"
   ]
  },
  {
   "cell_type": "markdown",
   "id": "b784b60c-ca62-44bd-86a8-28e4713211b1",
   "metadata": {},
   "source": [
    "作为初学者，<font color=blue>第一步</font>：正确判断能不能做，如何做，<font color=blue>第二步</font>：高效，熟练地计算。本次课堂练习关注第一步。"
   ]
  },
  {
   "cell_type": "markdown",
   "id": "008f1207-a4b3-4f36-82d5-61c453875133",
   "metadata": {},
   "source": [
    "1. $$\\frac{\\mathrm{d}y}{\\mathrm{d}x}+2y=xe^{-x}$$"
   ]
  },
  {
   "cell_type": "markdown",
   "id": "b70c398b-01a8-4f81-a49e-eef8b581b3ed",
   "metadata": {},
   "source": [
    "2. $$\\frac{\\mathrm{d}y}{\\mathrm{d}x}+y\\tan x=\\sin 2x$$"
   ]
  },
  {
   "cell_type": "markdown",
   "id": "07592bef-3818-42ea-a718-9b95ed6ef880",
   "metadata": {},
   "source": [
    "3. $$x\\frac{\\mathrm{d}y}{\\mathrm{d}x}+2y=\\sin x,\\hspace{1cm}y(\\pi)=\\frac{1}{\\pi}$$"
   ]
  },
  {
   "cell_type": "markdown",
   "id": "a05415fe-9723-479e-be34-dfeb0e8afd18",
   "metadata": {},
   "source": [
    "4. $$\\frac{\\mathrm{d}y}{\\mathrm{d}x}=\\frac{x^2+y^2}{2y}$$"
   ]
  },
  {
   "cell_type": "markdown",
   "id": "0f8605b1-faaf-487f-9869-d55ac75f243b",
   "metadata": {},
   "source": [
    "5. $$\\frac{\\mathrm{d}y}{\\mathrm{d}x}=\\frac{y}{x+y^2}$$"
   ]
  },
  {
   "cell_type": "markdown",
   "id": "82cc90c5-e28e-467c-9bb0-e327e07f31eb",
   "metadata": {},
   "source": [
    "6. $$3xy^2\\frac{\\mathrm{d}y}{\\mathrm{d}x}+y^3+x^3=0$$"
   ]
  },
  {
   "cell_type": "markdown",
   "id": "b8b9fc45-8a1f-4cb5-b35a-36ee9b822f51",
   "metadata": {},
   "source": [
    "7. $$\\frac{\\mathrm{d}y}{\\mathrm{d}x}=\\frac{1}{\\cos y}+x\\tan y$$"
   ]
  },
  {
   "cell_type": "markdown",
   "id": "6eb0a1f5-65bf-402c-8bac-a1a43df50abb",
   "metadata": {
    "jp-MarkdownHeadingCollapsed": true
   },
   "source": [
    "### 2. 以下微分方程是否能用6.2节所学解答？"
   ]
  },
  {
   "cell_type": "markdown",
   "id": "241a146f-df5d-40db-aa84-acecb8df906a",
   "metadata": {},
   "source": [
    "1. $$\\frac{\\mathrm{d}y}{\\mathrm{d}x}=\\cos (y-x)$$"
   ]
  },
  {
   "cell_type": "markdown",
   "id": "0e8d45f9-0ae5-4054-b02b-46724755c21f",
   "metadata": {},
   "source": [
    "2. $$\\frac{\\mathrm{d}y}{\\mathrm{d}x}=\\frac{xy^2+\\sin x}{2y}$$"
   ]
  },
  {
   "cell_type": "markdown",
   "id": "03955566-ac82-413d-968b-10be826a6f3c",
   "metadata": {},
   "source": [
    "3. $$\\frac{\\mathrm{d}x}{\\mathrm{d}y}=\\cos\\left(\\frac{1}{x+y}\\right)$$"
   ]
  },
  {
   "cell_type": "markdown",
   "id": "672c2978-d571-4108-be37-29b4d20416fb",
   "metadata": {},
   "source": [
    "4. $$\\frac{\\mathrm{d}y}{\\mathrm{d}x}+ay^2=bx^m$$"
   ]
  },
  {
   "cell_type": "markdown",
   "id": "6b7829aa-3971-4f72-96ef-18847b7aec37",
   "metadata": {},
   "source": [
    "5. $$\\frac{\\mathrm{d}y}{\\mathrm{d}x}=x^3y^3-xy$$"
   ]
  },
  {
   "cell_type": "markdown",
   "id": "8250b624-c481-4417-8e53-5d4a8a0be479",
   "metadata": {},
   "source": [
    "6. $$\\frac{\\mathrm{d}y}{\\mathrm{d}x}=\\frac{x+2y+1}{2x+4y-1}$$"
   ]
  },
  {
   "cell_type": "markdown",
   "id": "7f0139a5-cac2-40a9-bbfc-5f330fde2df2",
   "metadata": {},
   "source": [
    "7. $$\\frac{\\mathrm{d}y}{\\mathrm{d}x}=\\frac{2y-x+5}{2x-y-4}$$"
   ]
  },
  {
   "cell_type": "markdown",
   "id": "b6cf0995-7756-469e-8952-7793f13342f7",
   "metadata": {},
   "source": [
    "8. $$(3uv+v^2)\\mathrm{d}u+(u^2+uv)\\mathrm{d}v=0$$"
   ]
  },
  {
   "cell_type": "markdown",
   "id": "e7c3e304-13b7-4867-aeaa-139bfca2eae5",
   "metadata": {},
   "source": [
    "9. $$(x^2+y^2+3)\\frac{\\mathrm{d}y}{\\mathrm{d}x}=2x(2y-\\frac{x^2}{y})$$ "
   ]
  },
  {
   "cell_type": "markdown",
   "id": "e72c907b-946e-4d12-9f40-012c2e224933",
   "metadata": {},
   "source": [
    "`提示：整理得 $(x^2+y^2+3)\\mathrm{d}y^2=2\\mathrm{d}x^2(2y^2-x^2)$`"
   ]
  },
  {
   "cell_type": "markdown",
   "id": "26ed4317-ccb6-4893-b3ef-afc93ae02927",
   "metadata": {},
   "source": [
    "10. $$\\frac{\\mathrm{d}y}{\\mathrm{d}x}=\\frac{2x^3+3xy^2-7x}{3x^2y+2y^3-8y}$$"
   ]
  },
  {
   "cell_type": "markdown",
   "id": "2d68762d-53f7-4dac-a8cb-49d8ff94849e",
   "metadata": {},
   "source": [
    "11. $$(x^3y-2y^2)\\mathrm{d}x+x^4\\mathrm{d}y=0$$"
   ]
  },
  {
   "cell_type": "markdown",
   "id": "777fdffd-4466-481b-bc79-e1c56d966096",
   "metadata": {},
   "source": [
    "## 02月27日_课堂练习"
   ]
  },
  {
   "cell_type": "markdown",
   "id": "55cd4ce5-38a7-479e-993b-7ad19508c7ca",
   "metadata": {
    "jp-MarkdownHeadingCollapsed": true
   },
   "source": [
    "### 1. 求解方程 $$\\frac{\\mathrm{d}x}{\\mathrm{d}t}=\\frac{x}{t+x^3}$$"
   ]
  },
  {
   "cell_type": "markdown",
   "id": "79947f13-19c0-4ff5-aee4-a19204c3500c",
   "metadata": {},
   "source": [
    "细节：如何去掉绝对值号？分段，每段确定$C_i$，再通过连接处的条件，得到$C_i$关系。"
   ]
  },
  {
   "cell_type": "markdown",
   "id": "6acb4e4e-0d6d-4f67-be18-1d1a49610ffa",
   "metadata": {},
   "source": [
    "$\\frac{\\mathrm{d}t}{\\mathrm{d}x}=x^2+\\frac{t}{x}$, $\\frac{\\mathrm{d}t}{\\mathrm{d}x}-\\frac{t}{x}=x^2$, $P(x)=-\\frac{1}{x},Q(x)=x^2$, $\\int P=-\\ln|x|$, 当$x\\neq0$时，通解为$e^{-\\int P}(\\int Qe^{\\int P}+C)=|x|\\left(\\int x^2\\frac{1}{|x|}+C\\right)=\\frac{x^3}{2}+C|x|$\n",
    "\n",
    "$$t=\\left\\{\\begin{aligned}\n",
    "            \\frac{x^3}{2}+C_1x, &\\ \\  x>0\\\\\n",
    "            \\frac{x^3}{2}-C_2x, &\\ \\  x<0\n",
    "            \\end{aligned}\\right.$$\n",
    "我们希望解在$x=0$可导，因此 $C_1=-C_2$，综上解为 $t=\\frac{x^3}{2}+Cx$"
   ]
  },
  {
   "cell_type": "code",
   "execution_count": 116,
   "id": "f11b0844-44e8-4887-8dd3-c3a4aadd5e79",
   "metadata": {},
   "outputs": [
    {
     "data": {
      "image/png": "[encoded data removed]",
      "text/plain": [
       "<Figure size 600x600 with 1 Axes>"
      ]
     },
     "metadata": {},
     "output_type": "display_data"
    }
   ],
   "source": [
    "import numpy as np\n",
    "import matplotlib.pyplot as plt\n",
    "\n",
    "x = np.linspace(-5,5,20)\n",
    "y = np.linspace(-5,5,20)\n",
    "X, Y = np.meshgrid(x,y)\n",
    "\n",
    "U = X+Y**3\n",
    "V = Y\n",
    "\n",
    "W = np.sqrt(U*U+V*V)\n",
    "U = U/W\n",
    "V = V/W\n",
    "\n",
    "c1= 0.4\n",
    "a1 = np.linspace(0,1.5,20)\n",
    "b1 = a1**3/2+c1*a1\n",
    "\n",
    "c2=1.6\n",
    "a2 = np.linspace(-1.5,0,20)\n",
    "b2 = a2**3/2+c2*a2\n",
    "\n",
    "plt.figure(figsize=(6,6))\n",
    "plt.quiver(X,Y,U,V,W,cmap=\"viridis\", headwidth=1.6)\n",
    "#plt.quiver(X,Y,-U,-V,W,cmap=\"viridis\")\n",
    "plt.plot(b1,a1)\n",
    "plt.plot(b2,a2)\n",
    "\n",
    "plt.show()"
   ]
  },
  {
   "cell_type": "markdown",
   "id": "8f2eb303-eae9-408c-aba9-9f769d9644c8",
   "metadata": {
    "jp-MarkdownHeadingCollapsed": true
   },
   "source": [
    "### 2. 求解方程 $$\\frac{\\mathrm{d}y}{\\mathrm{d}x}=\\sqrt{|y|}$$"
   ]
  },
  {
   "cell_type": "markdown",
   "id": "7711249f-dcbb-446e-91f6-c0364ce0718f",
   "metadata": {},
   "source": [
    "当 $y>0$ 时，$\\frac{\\mathrm{d}y}{\\sqrt{y}}=\\mathrm{d}x$, $2\\sqrt{y}=x+C$, $y=\\left(\\frac{x+C}{2}\\right)^2$"
   ]
  },
  {
   "cell_type": "markdown",
   "id": "dbf25bf5-1723-4a2c-a006-e29bec56ffd0",
   "metadata": {},
   "source": [
    "当 $y<0$ 时，$\\frac{\\mathrm{d}y}{\\sqrt{-y}}=\\mathrm{d}x$, $2\\sqrt{-y}=-x+C_2$, $y=-\\left(\\frac{-x+C_2}{2}\\right)^2$"
   ]
  },
  {
   "cell_type": "code",
   "execution_count": 3,
   "id": "935b3662-387e-43d9-8732-35da0ba6cbc3",
   "metadata": {},
   "outputs": [
    {
     "data": {
      "image/png": "[encoded data removed]",
      "text/plain": [
       "<Figure size 600x600 with 1 Axes>"
      ]
     },
     "metadata": {},
     "output_type": "display_data"
    }
   ],
   "source": [
    "import numpy as np\n",
    "import matplotlib.pyplot as plt\n",
    "\n",
    "x = np.linspace(-5,5,20)\n",
    "y = np.linspace(-5,5,20)\n",
    "X, Y = np.meshgrid(x,y)\n",
    "\n",
    "U = np.ones_like(X)\n",
    "V = np.sqrt(np.abs(Y)) \n",
    "\n",
    "W = np.sqrt(U*U+V*V)\n",
    "U = U/W\n",
    "V = V/W\n",
    "\n",
    "plt.figure(figsize=(6,6))\n",
    "plt.quiver(X,Y,U,V,W,cmap=\"viridis\")\n",
    "\n",
    "\n",
    "a=-1\n",
    "b=0 \n",
    "\n",
    "x1 = np.linspace(-5,a,20)\n",
    "y1 = -((x1-a)/2)**2\n",
    "\n",
    "x2 = np.linspace(b,5,20)\n",
    "y2 = ((x2-b)/2)**2\n",
    "\n",
    "x3 = np.linspace(a,b,20)\n",
    "y3 = x3-x3\n",
    "\n",
    "plt.plot(x1,y1)\n",
    "plt.plot(x2,y2)\n",
    "plt.plot(x3,y3)\n",
    "\n",
    "plt.show()"
   ]
  },
  {
   "cell_type": "markdown",
   "id": "f1807934-5796-478e-bee3-9b97c403ede7",
   "metadata": {},
   "source": [
    "方程的通解一般未必唯一，上述一阶方程的解，可以有两个独立的参数。\n",
    "$$y=\\left\\{\\begin{array}{cc}\n",
    "            -\\left(\\frac{x-C_1}{2}\\right)^2,\\ \\ &x\\in(-\\infty,C_1)\\\\\n",
    "            0,\\ \\ &x\\in(C_1,C_2)\\\\\n",
    "            \\left(\\frac{x-C_2}{2}\\right)^2,\\ \\ &x\\in(C_2,+\\infty)\n",
    "           \\end{array}\\right.$$"
   ]
  },
  {
   "cell_type": "markdown",
   "id": "f17bf3a0-e8bf-4a2a-a906-b4791808f08f",
   "metadata": {
    "jp-MarkdownHeadingCollapsed": true
   },
   "source": [
    "### 3. 求解方程$$y''-y'-2y=0$$"
   ]
  },
  {
   "cell_type": "markdown",
   "id": "8ac699f8-2f51-4231-9a94-1172d2b9f458",
   "metadata": {},
   "source": [
    "回忆：二阶微分方程只含有 $x,y,y',y''$, 因此$y''$可以表示为$x,y,y'$的关系式。\n",
    "- $y''=f(y,y')$\n",
    "- $y''=f(x,y')$\n",
    "- $y''=f(x,y)$\n",
    "- $y''=f(x,y,y')$\n"
   ]
  },
  {
   "cell_type": "markdown",
   "id": "45ec22ea-8268-4b1d-8423-612e67f44fb9",
   "metadata": {},
   "source": [
    "我们令 $y'=p(y)$, 上式转化为 $$p\\frac{\\mathrm{d}p}{\\mathrm{d}y}-p-2y=0$$"
   ]
  },
  {
   "cell_type": "markdown",
   "id": "c5f069f1-c142-4a50-a8b8-fe63bdd3623e",
   "metadata": {},
   "source": [
    "这是一个齐次方程$$\\frac{\\mathrm{d}p}{\\mathrm{d}y}=1+2\\frac{y}{p}$$"
   ]
  },
  {
   "cell_type": "markdown",
   "id": "9d279f0d-eadc-4b6a-be68-53159844647b",
   "metadata": {},
   "source": [
    "我们令 $u=\\frac{p}{y}$, $p=uy$, $\\frac{\\mathrm{d}p}{\\mathrm{d}y}=u+y\\frac{\\mathrm{d}u}{\\mathrm{d}y}$, $$y\\frac{\\mathrm{d}u}{\\mathrm{d}y}=1+\\frac{2}{u}-u$$"
   ]
  },
  {
   "cell_type": "markdown",
   "id": "4d143fce-e081-4f0b-8102-b3c00ada6336",
   "metadata": {},
   "source": [
    "$$\\frac{u\\mathrm{d}u}{2+u-u^2}=\\frac{\\mathrm{d}y}{y}$$"
   ]
  },
  {
   "cell_type": "markdown",
   "id": "832b6b81-dc43-42e0-8fd1-47ff12ff5a4f",
   "metadata": {},
   "source": [
    "$$\\frac{2(1+u)-(2-u)}{(2-u)(1+u)}\\mathrm{d}u=\\frac{3\\mathrm{d}y}{y}$$"
   ]
  },
  {
   "cell_type": "markdown",
   "id": "c73a2f18-e4ed-4bc9-b0d3-4de3c6bdd5d7",
   "metadata": {},
   "source": [
    "$$\\left(\\frac{2}{2-u}-\\frac{1}{1+u}\\right)\\mathrm{d}u=3\\frac{\\mathrm{d}y}{y}$$"
   ]
  },
  {
   "cell_type": "markdown",
   "id": "2b06d685-c03f-4f20-93e1-25b377ec61c2",
   "metadata": {},
   "source": [
    "$$2\\ln(|2-u|)-\\ln(|1+u|)=3\\ln|y|$$"
   ]
  },
  {
   "cell_type": "markdown",
   "id": "6a1e8ec8-9e11-4465-93e8-c0cbe2c989d0",
   "metadata": {},
   "source": [
    "$$\\frac{2}{3}\\ln|p-2y|+\\frac{1}{3}\\ln|p+y|=C$$"
   ]
  },
  {
   "cell_type": "markdown",
   "id": "071e79be-415e-4a69-9a6e-59daa1b86e66",
   "metadata": {},
   "source": [
    "$$(p-2y)^2(p+y)=C$$\n",
    "$$(y'-2y)^2(y'+y)=C$$"
   ]
  },
  {
   "cell_type": "markdown",
   "id": "dad9d4f9-d4c2-42f1-9e7d-0a8cb222cbb6",
   "metadata": {},
   "source": [
    "解到这一步，我们看不出有什么简单的办法，但似乎告诉我们 $z=y'+y$可以看作一个整体，原方程变为$$\\frac{\\mathrm{d}z}{\\mathrm{d}x}-2z=0\\Rightarrow z=Ce^{2x}$$\n",
    "$$y'+y=Ce^{2x}\\Rightarrow y=e^{-x}(\\int Ce^{2x}e^{x}+C_2)=C_1e^{2x}+C_2e^{-x}$$"
   ]
  },
  {
   "cell_type": "markdown",
   "id": "cebf0320-4d6a-4315-bb60-d47bc34a3f54",
   "metadata": {},
   "source": [
    "这里的$2,-1$恰好是$y''-y'-2y=0$特征方程的两个根，在6.5节，我们讨论了常系数常微分方程组的解法，包括特征值是复数、有重根的情况。\n",
    "\n",
    "这里的特征方程，也是线性代数中矩阵的特征方程，有兴趣的同学自行思考是哪个矩阵（`提示：把高阶方程转化为一阶方程组`，参考资料：`丁同仁《常微分方程》`。）"
   ]
  },
  {
   "cell_type": "markdown",
   "id": "fea3a092-0eca-4348-9e30-983c610ed4fe",
   "metadata": {},
   "source": [
    "### 4. 常系数线性微分方程的解（齐次）"
   ]
  },
  {
   "cell_type": "markdown",
   "id": "ec923855-e312-4d15-8ee1-c288bb8a0595",
   "metadata": {},
   "source": [
    "1. 不同实根 $$y''-2y'-3y=0$$"
   ]
  },
  {
   "cell_type": "markdown",
   "id": "148eacbc-bd87-45e2-a671-03388ec344c8",
   "metadata": {},
   "source": [
    "2. 共轭复根 $$y''-2y'+3y=0$$"
   ]
  },
  {
   "cell_type": "markdown",
   "id": "5caafd17-c912-4288-83ad-c4b5cecd137c",
   "metadata": {},
   "source": [
    "3. 重实根 $$y''-4y'+4y=0$$"
   ]
  },
  {
   "cell_type": "markdown",
   "id": "9ce64d3f-6449-4279-bbaf-2abf7c44cf2d",
   "metadata": {},
   "source": [
    "4. 高重根 $$y'''-3y''+3y'-y=0$$"
   ]
  },
  {
   "cell_type": "markdown",
   "id": "cc1ef46c-d29b-42c7-ad90-54fe097fff3d",
   "metadata": {},
   "source": [
    "5. 重共轭根\n",
    " $$y''''+2y'''+3y''+2y'+y=0$$"
   ]
  },
  {
   "cell_type": "markdown",
   "id": "69a61124-8963-4c90-bea4-24730d96d119",
   "metadata": {},
   "source": [
    "### 5. 常系数线性常微分方程（非齐次） "
   ]
  },
  {
   "cell_type": "markdown",
   "id": "dfc68b2a-54cc-4050-8716-e8277c99db30",
   "metadata": {},
   "source": [
    "1. 非齐次项 $f(x)=P(x)e^{ax}$"
   ]
  },
  {
   "cell_type": "markdown",
   "id": "8177d269-1c12-41af-9454-c6f91ec01e16",
   "metadata": {},
   "source": [
    "2. 非齐次项 $f(x)=(P(x)\\sin bx+Q(x)\\cos bx)e^{ax}$"
   ]
  },
  {
   "cell_type": "markdown",
   "id": "02a087fd-72f5-4047-b4ac-54e9141d26a8",
   "metadata": {},
   "source": [
    "3. 混合情况 $f(x)= f_1(x)+f_2(x)$"
   ]
  },
  {
   "cell_type": "markdown",
   "id": "9d984136-989f-4390-9e33-a3ce321ba963",
   "metadata": {},
   "source": [
    "首先从非齐次项读出三个数：\n",
    "- 指数部分$\\lambda = a+bi$,\n",
    "- $\\lambda$ 在特征方程中的重数$k$\n",
    "- 多项式部分 $P,Q$ 的最高次数$m$"
   ]
  },
  {
   "cell_type": "markdown",
   "id": "558f4c5f-deca-4891-8bd6-21e1542151fa",
   "metadata": {},
   "source": [
    "再根据三个数，写出特解的形式，待定系数求算即可，其中$A_m$ 表示小于等于$m$次的多项式。\n",
    "- $y=x^k\\cdot A_m(x)\\cdot e^{ax}$\n",
    "- $y=x^k\\cdot (A_m(x)\\sin bx+ B_m(x)\\cos bx)\\cdot e^{ax}$"
   ]
  },
  {
   "cell_type": "markdown",
   "id": "9f720d18-8cbb-4352-89d6-6372f2bd5bec",
   "metadata": {},
   "source": [
    "### 6. 变系数线性常微分方程（齐次） "
   ]
  },
  {
   "cell_type": "markdown",
   "id": "ed74a7a9-5840-466c-9122-ff5be4a56b3a",
   "metadata": {},
   "source": [
    "1. 一般解不出"
   ]
  },
  {
   "cell_type": "markdown",
   "id": "49b754a1-0f93-48d0-bf50-f7d5ad76e910",
   "metadata": {},
   "source": [
    "2. 但如果能猜出一个解$y_1$，可以得到通解\n",
    "   $$y''+p(x)y'+q(x)=0$$\n",
    "   $$y=C_1\\cdot y_1(x)+C_2\\cdot y_1(x)\\int^x\\frac{1}{y_1^2(s)}e^{-\\int^s p}\\mathrm{d}s$$"
   ]
  },
  {
   "cell_type": "markdown",
   "id": "41a191c8-a35c-4023-806e-965e3c1e89e9",
   "metadata": {},
   "source": [
    "### 7. 变系数线性常微分方程（非齐次）"
   ]
  },
  {
   "cell_type": "markdown",
   "id": "6a22d59f-9aff-466d-8fa3-21601e3ddf0c",
   "metadata": {},
   "source": [
    "1. 先看齐次，如果齐次没法解，就解不出。"
   ]
  },
  {
   "cell_type": "markdown",
   "id": "1f66c51a-a3c9-4303-8acd-bfc893d78f97",
   "metadata": {},
   "source": [
    "2. 如果齐次有线性无关解 $$y_1,y_2$$ 那么通解可以写为\n",
    "$$y=C_1\\cdot y_1(x)+C_2\\cdot y_2(x)+\\int^x\\frac{y_1(s)y_2({\\color{red}x})-y_1({\\color{red}x})y_2(s)}{y_1(s)y_2'(s)-y_2(s)y_1'(s)}f(s)\\mathrm{d}s$$"
   ]
  },
  {
   "cell_type": "markdown",
   "id": "4e5df6cd-5c5a-4a51-98ca-2fd9b4188cd9",
   "metadata": {
    "jp-MarkdownHeadingCollapsed": true
   },
   "source": [
    "## 03月04日_课堂练习 "
   ]
  },
  {
   "cell_type": "markdown",
   "id": "2ff785a7-f62a-4705-a0b8-8e3e869b2166",
   "metadata": {},
   "source": [
    "### 一、选择题"
   ]
  },
  {
   "cell_type": "markdown",
   "id": "f3410b09-1367-48ed-a665-2abb302520f9",
   "metadata": {},
   "source": [
    "#### 1. 微分方程 $y'=\\frac{y}{x}+\\tan\\frac{y}{x}$ 的通解为："
   ]
  },
  {
   "cell_type": "markdown",
   "id": "f3355e3a-3e28-4b60-b0f2-ef9792e00694",
   "metadata": {},
   "source": [
    "- (A) $$\\sin\\frac{y}{x}=Cx$$\n",
    "- (B) $$\\sin\\frac{y}{x}=\\frac{1}{Cx}$$\n",
    "- (C) $$\\sin\\frac{x}{y}=Cx$$\n",
    "- (D) $$\\sin\\frac{x}{y}=\\frac{1}{Cx}$$"
   ]
  },
  {
   "cell_type": "markdown",
   "id": "b10f31d1-140c-48c5-a3eb-a1570789a9ab",
   "metadata": {},
   "source": [
    "#### 2. 二阶微分方程$y''-2y'+y=2x$的通解具有的形式为"
   ]
  },
  {
   "cell_type": "markdown",
   "id": "c47981d2-75aa-4450-b631-ba5b1595e0ae",
   "metadata": {},
   "source": [
    "- (A) $$y=C_1\\sin x+C_2\\cos x+Ax$$\n",
    "- (B) $$y=C_1e^{-x}+C_2xe^{-x}+Ax$$\n",
    "- (C) $$y=C_1e^x+C_2xe^x+Ax+B$$\n",
    "- (D) $$y=C_1e^x+C_2xe^x+Ax$$"
   ]
  },
  {
   "cell_type": "markdown",
   "id": "3e6a663d-1d91-4348-b1f5-0dd536a19443",
   "metadata": {},
   "source": [
    "#### 3. 下列选项中，肯定不是某二阶常系数线性微分方程的一组解的是"
   ]
  },
  {
   "cell_type": "markdown",
   "id": "6d12d9fe-abb0-44f0-a35d-910907477fb8",
   "metadata": {},
   "source": [
    "- (A) $$e^x+x, x-2e^{-2x}, e^{-2x}+x$$\n",
    "\n",
    "- (B) $$e^x+xe^{-x},2xe^x+xe^{-x},xe^x+xe^{-x}$$\n",
    "\n",
    "- (C) $$e^x-x+1,2-x,e^x-x$$\n",
    "\n",
    "- (D) $$xe^x+x, xe^x-2e^{-x}, xe^x+2x+2e^{-x}$$"
   ]
  },
  {
   "cell_type": "markdown",
   "id": "a211cdee-05a4-4818-9e28-5b20ab389e36",
   "metadata": {},
   "source": [
    "#### 4. 设 $p,q$ 是常数，微分方程 $y''+py'+q=0$ 有以下两个解，求$p,q$ $$y_1(x)=e^{-3x},y_2(x)=(2x+1)e^{-3x}$$ "
   ]
  },
  {
   "cell_type": "markdown",
   "id": "7dab49ff-2ef0-4c31-aa5a-ea7e5e9ce612",
   "metadata": {},
   "source": [
    "- (A) $$p=6,q=9$$\n",
    "- (B) $$p=-6,q=9$$\n",
    "- (C) $$p=6,q=-9$$\n",
    "- (D) $$p=-6,q=-9$$"
   ]
  },
  {
   "cell_type": "markdown",
   "id": "e56adcd6-062c-4061-9c17-3ab08d1223b3",
   "metadata": {},
   "source": [
    "5. 设微分方程 $y'+p(x)y=q(x)$ 有以下两个解，求 $q(x)$\n",
    "  $$y=(1+x^2)^2-\\sqrt{1+x^2},\\ \\ \\ y=(1+x^2)^2+\\sqrt{1+x^2}.$$"
   ]
  },
  {
   "cell_type": "markdown",
   "id": "89ab3e81-9a97-458d-9074-0aae4b5ca8a5",
   "metadata": {},
   "source": [
    "### 二、填空题"
   ]
  },
  {
   "cell_type": "markdown",
   "id": "4a8d9326-dbdd-48eb-90f5-6f486c04c8a8",
   "metadata": {},
   "source": [
    "1. 设 $y_1=e^{2x}(\\sin x-1)$, $y_2=e^{2x}(\\sin x+2)$ 是一阶线性微分方程 $y'+P(x)y=Q(x)$ 的两个特解，则方程 $y'+P(x)y=0$ 的通解是 $y(x)=?$"
   ]
  },
  {
   "cell_type": "markdown",
   "id": "262efb4f-626e-4bb0-8226-8a927decd34b",
   "metadata": {},
   "source": [
    "2. 设 $y_1=e^{3x}-xe^{2x}, y_2=e^x-xe^{2x}, y_3=-xe^{2x}$ 是某二阶常系数线性非齐次微分方程的三个解，则方程的通解为 $y(x)=?$"
   ]
  },
  {
   "cell_type": "markdown",
   "id": "2c0c828f-5160-4bb1-9484-b4ee2ed6c9f4",
   "metadata": {},
   "source": [
    "3. 设微分方程 $y_1=e^x\\sin x, y_2=x$ 为某常系数齐次微分方程的两个特解，则该微分方程的最低阶数为？"
   ]
  },
  {
   "cell_type": "markdown",
   "id": "66e00c5b-98c9-4f85-802d-204e9a34c17a",
   "metadata": {},
   "source": [
    "4. 微分方程 $y'=\\frac{1}{(x+y)^2}$ 满足 $y(0)=1$的解为？"
   ]
  },
  {
   "cell_type": "markdown",
   "id": "06006499-129c-4ca5-a5d7-7a7c4bf733c5",
   "metadata": {},
   "source": [
    "5. 微分方程 $y'''-2y''+5y'=0$ 的通解为？"
   ]
  },
  {
   "cell_type": "markdown",
   "id": "bd020fe0-470c-4729-8245-92be99c17f01",
   "metadata": {},
   "source": [
    "### 三、解答题"
   ]
  },
  {
   "cell_type": "markdown",
   "id": "fdd9c9fa-2a84-4c8c-b3a0-68f468476c2c",
   "metadata": {},
   "source": [
    "1. 计算微分方程 $y'=\\frac{y}{3y^2-x}$ 的通解"
   ]
  },
  {
   "cell_type": "markdown",
   "id": "9911b492-84e8-4f7a-909a-ebe332d36f74",
   "metadata": {},
   "source": [
    "2. 设曲线 $y=y(x)$ 过点 $(1,2)$, 该曲线上任意一点 $P(x,y)$ 到$y$ 轴距离等于该处切线在$y$ 轴的截距， 求$y(x)$。"
   ]
  },
  {
   "cell_type": "markdown",
   "id": "6908e4bf-37e4-4320-b344-332958c64b08",
   "metadata": {},
   "source": [
    "3. 设连续函数 $f(x)$ 满足 $\\int_0^xf(t)\\mathrm{d}t+\\int_0^xtf(x-t)\\mathrm{d}t=\\sin x$, 求$f(x)$."
   ]
  },
  {
   "cell_type": "markdown",
   "id": "f63526c0-539f-4a30-9195-570ca68cac06",
   "metadata": {},
   "source": [
    "4. 求微分方程$y''+y=\\cos^2x$的一个特解$y=y(x)$，使得该特解表示的曲线在原点处与直线$y=x$相切。"
   ]
  },
  {
   "cell_type": "markdown",
   "id": "baf28469-525d-484e-894e-eecf34a32d49",
   "metadata": {},
   "source": [
    "5. 求二阶非齐次线性微分方程 $y''-2y'-3y=5e^{-x}+\\cos x$ 的通解。"
   ]
  },
  {
   "cell_type": "markdown",
   "id": "c5e45e30-5fb0-4cc3-8daa-87bb1d44ea67",
   "metadata": {},
   "source": [
    "6. 求欧拉方程 $x^2y''+2xy'-2y=0$ 满足 $y(1)=1,y'(1)=2$的解。"
   ]
  },
  {
   "cell_type": "markdown",
   "id": "aac93a8d-118d-4a94-8b1c-d2a607fecb9b",
   "metadata": {},
   "source": [
    "### 四、综合题"
   ]
  },
  {
   "cell_type": "markdown",
   "id": "f9c16e1a-0606-4ed1-9dfa-dc02aeb2ca14",
   "metadata": {
    "jp-MarkdownHeadingCollapsed": true
   },
   "source": [
    "#### 7. 设常数 $a<0$, 二阶可导函数$f(x)$ 满足 $f(x)=1+x+\\int_0^x(a-x+t)f(t)\\mathrm{d}t$，<font color=blue>（1）</font >求$f(x)$满足的二阶微分方程，<font color=blue>（2）</font> 求$\\lim_{x\\to+\\infty} f(x), \\lim_{x\\to+\\infty}f'(x)$，<font color=blue>（3）</font>计算广义积分 $\\int_0^{+\\infty}f(x)\\mathrm{d}x$"
   ]
  },
  {
   "cell_type": "markdown",
   "id": "b7025739-2f71-4f8e-a7fd-726135166a75",
   "metadata": {},
   "source": [
    "求导得$f''-af'+f=0$, 特征根由一元二次方程根与系数关系，满足$$\\lambda_1+\\lambda_2=a,\\lambda_1\\lambda_2=1$$\n",
    "如果两个根都是实数，则通解形如 $C_1e^{\\lambda_1x}+C_2e^{\\lambda_2x}$, 根据等式代入$x=0$可以求得$f(0)=0,f'(0)=a$, 因此$C_1+C_2=0,\\lambda_1C_1+\\lambda_2C_2=a$, 因此$\\lambda_1C_2+\\lambda_2C_1=-a$, 反常积分计算为$-\\frac{C_1}{\\lambda_1}-\\frac{C_2}{\\lambda_2}=-\\frac{C_1\\lambda_2+C_2\\lambda_1}{\\lambda_1\\lambda_2}=a$。如果是两个共轭复根，一样计算得到$a$。如果是重根，$a=-2$, $f(x)=axe^{-x}$反常积分为$a$。"
   ]
  },
  {
   "cell_type": "markdown",
   "id": "a0d816ef-6755-4816-b708-1f17c4852640",
   "metadata": {},
   "source": [
    "#### 8. 设常数 $a>0$, <font color=blue>（1）</font>求微分方程 $ay''-(1+(y')^2)^{3/2}=0$ 的通解，<font color=blue>（2）</font>证明：平面曲线为圆周的充分必要条件为：它的曲率半径为常数。曲率半径$r=\\frac{(1+(y')^2)^{3/2}}{|y''|}$"
   ]
  },
  {
   "cell_type": "markdown",
   "id": "e9cf0201-68b4-4495-80b3-5988a1b2e2f1",
   "metadata": {},
   "source": [
    "必要性容易。充分性即验证：满足曲率半径为常数的方程，一定是个圆。\n",
    "\n",
    "换元$y'=p(x)$, 则 $ap'=(1+p^2)^{3/2}$, 得到 $\\frac{\\mathrm{d}p}{(1+p^2)^{3/2}}=\\frac{\\mathrm{d}x}{a}$，积分: 我们换元 $p=\\tan u$, $\\mathrm{d}p=\\sec^2 u\\mathrm{d}u$，左边为$$\\frac{\\mathrm{d}p}{(1+p^2)^{3/2}}=\\frac{\\sec^2 u}{\\sec^3u}\\mathrm{d}u=\\cos u\\mathrm{d}u=\\mathrm{d}\\sin u$$两边积分得到 $\\sin u=\\frac{x}{a}+C$ 即$\\frac{p}{\\sqrt{1+p^2}}=\\frac{x}{a}+C$，$\\frac{p^2}{1+p^2}=(\\frac{x}{a}+C)^2$, $p^2=\\frac{(x/a+C)^2}{1-(x/a+C)^2}$, $\\frac{\\mathrm{d}y}{\\mathrm{d}x}=\\frac{(x/a+C)}{\\sqrt{1-(x/a+C)^2}}$, $$\\mathrm{d}(y/a)=\\frac{(x/a+C)\\mathrm{d}(x/a)}{\\sqrt{1-(x/a+C)^2}}=\\mathrm{d}\\sqrt{1-(x/a+C)^2}$$\n",
    "积分平方即得 $(y/a-C_1)^2+(x/a+C)^2=1$, 圆的方程，本题难点在`自信地计算积分`。"
   ]
  },
  {
   "cell_type": "code",
   "execution_count": null,
   "id": "6b907df6-217f-443d-b887-9ff3a465a8fa",
   "metadata": {},
   "outputs": [],
   "source": []
  }
 ],
 "metadata": {
  "kernelspec": {
   "display_name": "Python 3 (ipykernel)",
   "language": "python",
   "name": "python3"
  },
  "language_info": {
   "codemirror_mode": {
    "name": "ipython",
    "version": 3
   },
   "file_extension": ".py",
   "mimetype": "text/x-python",
   "name": "python",
   "nbconvert_exporter": "python",
   "pygments_lexer": "ipython3",
   "version": "3.12.8"
  }
 },
 "nbformat": 4,
 "nbformat_minor": 5
}

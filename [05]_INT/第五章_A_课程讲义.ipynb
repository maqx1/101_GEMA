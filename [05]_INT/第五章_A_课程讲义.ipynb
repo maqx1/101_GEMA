{
 "cells": [
  {
   "cell_type": "markdown",
   "id": "1f6cbf28-54f8-4882-8371-4c86ab2f23a3",
   "metadata": {},
   "source": [
    "# **内容梳理** "
   ]
  },
  {
   "cell_type": "markdown",
   "id": "97305c79-7e05-41b8-b151-42b57e34cce7",
   "metadata": {},
   "source": [
    "### [500] 第五章：《积分》"
   ]
  },
  {
   "cell_type": "markdown",
   "id": "533daed5-113c-4183-841e-15683ba2432f",
   "metadata": {},
   "source": [
    "1. 定积分的概念：划分、求和、取极限。\n",
    "2. 定积分的性质：线性性、区间可加性、不等式、积分中值定理。\n",
    "3. 微积分基本定理：原函数与变上限积分，牛顿-莱布尼茨公式。\n",
    "4. 不定积分：积分表，换元法（凑微分、代入），分部积分（反对幂指三），两类函数库（部分分式分解+万能代换）。\n",
    "5. 定积分的计算：定积分换元，利用积分隐藏的对称性。\n",
    "6. 定积分的应用：微元法。\n",
    "7. 反常积分：判断反常点的散敛性。（挂一科就不是三好学生了）"
   ]
  },
  {
   "cell_type": "markdown",
   "id": "c59eddc9-81c9-4053-a40f-5a5c3f7ffe66",
   "metadata": {
    "jp-MarkdownHeadingCollapsed": true
   },
   "source": [
    "### [501] <font color=red>自测是否掌握积分：</font>"
   ]
  },
  {
   "cell_type": "markdown",
   "id": "0495d904-808f-4294-9e1d-8e22bb40b622",
   "metadata": {},
   "source": [
    "# **课本导读**"
   ]
  },
  {
   "cell_type": "markdown",
   "id": "507b38d9-055c-4058-a16a-84d2b0939df8",
   "metadata": {},
   "source": [
    "## **1. 定积分的概念**"
   ]
  },
  {
   "cell_type": "markdown",
   "id": "c275ee54-e2f9-4e5d-b3cc-1eb5daaff2e9",
   "metadata": {},
   "source": [
    "## **2. 定积分的性质**"
   ]
  },
  {
   "cell_type": "markdown",
   "id": "75655b89-3167-4775-9f2c-81b9bf490e28",
   "metadata": {},
   "source": [
    "## **3. 微积分基本定理**"
   ]
  },
  {
   "cell_type": "markdown",
   "id": "aa849e78",
   "metadata": {},
   "source": [
    "## **4. 不定积分**"
   ]
  },
  {
   "cell_type": "markdown",
   "id": "8052826a-0e93-425a-91df-04651373ee6c",
   "metadata": {},
   "source": [
    "## **5. 定积分的计算**"
   ]
  },
  {
   "cell_type": "markdown",
   "id": "78f4fb2a-1e4a-4595-9ed2-29aeefa713f3",
   "metadata": {},
   "source": [
    "## **6. 定积分的应用**  "
   ]
  },
  {
   "cell_type": "markdown",
   "id": "7d4b0d83-2430-459a-81d4-7fb9affeefe0",
   "metadata": {},
   "source": [
    "## **7. 反常积分**"
   ]
  },
  {
   "cell_type": "markdown",
   "id": "eca5d4c8",
   "metadata": {},
   "source": [
    "# **例题精讲**"
   ]
  },
  {
   "cell_type": "code",
   "execution_count": null,
   "id": "4f80c8ac-90a9-48fa-ad78-a191755981f8",
   "metadata": {},
   "outputs": [],
   "source": []
  }
 ],
 "metadata": {
  "kernelspec": {
   "display_name": "Python 3 (ipykernel)",
   "language": "python",
   "name": "python3"
  },
  "language_info": {
   "codemirror_mode": {
    "name": "ipython",
    "version": 3
   },
   "file_extension": ".py",
   "mimetype": "text/x-python",
   "name": "python",
   "nbconvert_exporter": "python",
   "pygments_lexer": "ipython3",
   "version": "3.12.8"
  }
 },
 "nbformat": 4,
 "nbformat_minor": 5
}
